{
 "cells": [
  {
   "cell_type": "code",
   "execution_count": 1,
   "metadata": {},
   "outputs": [],
   "source": [
    "import pandas as pd\n",
    "import yfinance as yf\n",
    "import numpy as np\n",
    "import matplotlib.pyplot as plt\n",
    "import pandas_datareader as pdr\n",
    "import datetime\n",
    "import statsmodels.api as sm"
   ]
  },
  {
   "cell_type": "code",
   "execution_count": null,
   "metadata": {},
   "outputs": [],
   "source": [
    "# Set the start date for the data\n",
    "start_date = '2000-01-01'\n",
    "# Set the end date as the current date\n",
    "end_date = datetime.datetime.now().strftime('%Y-%m-%d')\n",
    "# Fetch the M2 money supply data from FRED using pandas data reader\n",
    "M2 = pdr.DataReader('M2SL', 'fred', start_date, end_date)\n",
    "# Fetch the Money Market funds data from FRED using pandas data reader\n",
    "df = pdr.DataReader('MMMFFAQ027S', 'fred', start_date, end_date)\n",
    "\n",
    "# Create subplots\n",
    "fig, (ax1, ax2) = plt.subplots(2, 1, figsize=(10, 8))\n",
    "# Plotting the M2 money supply data as a line graph\n",
    "ax1.plot(M2.index, M2['M2SL'] / 1000)\n",
    "ax1.set_title(\"Supply of US Dollars from 2000 to now\")\n",
    "ax1.set_xlabel(\"Year\")\n",
    "ax1.set_ylabel(\"Supply (trillions)\")\n",
    "ax1.tick_params(axis='x', rotation=45)\n",
    "# Plotting the Money Market funds data as a line graph\n",
    "ax2.plot(df.index, df['MMMFFAQ027S'] / 1000000)\n",
    "ax2.set_title(\"Money Market funds from 2000 to now\")\n",
    "ax2.set_xlabel(\"Year\")\n",
    "ax2.set_ylabel(\"Supply (trillions)\")\n",
    "ax2.tick_params(axis='x', rotation=45)\n",
    "# Adjust layout for better readability\n",
    "plt.tight_layout()\n",
    "plt.show()"
   ]
  }
 ],
 "metadata": {
  "kernelspec": {
   "display_name": "Python 3",
   "language": "python",
   "name": "python3"
  },
  "language_info": {
   "codemirror_mode": {
    "name": "ipython",
    "version": 3
   },
   "file_extension": ".py",
   "mimetype": "text/x-python",
   "name": "python",
   "nbconvert_exporter": "python",
   "pygments_lexer": "ipython3",
   "version": "3.10.4"
  }
 },
 "nbformat": 4,
 "nbformat_minor": 2
}
