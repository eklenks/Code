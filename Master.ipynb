{
 "cells": [
  {
   "cell_type": "code",
   "execution_count": 5,
   "metadata": {},
   "outputs": [
    {
     "name": "stdout",
     "output_type": "stream",
     "text": [
      "European Option: <QuantLib.QuantLib.VanillaOption; proxy of <Swig Object of type 'ext::shared_ptr< VanillaOption > *' at 0x00000284A2362310> >\n",
      "American Option: <QuantLib.QuantLib.VanillaOption; proxy of <Swig Object of type 'ext::shared_ptr< VanillaOption > *' at 0x00000284A2362370> >\n",
      "Bermudan Option: <QuantLib.QuantLib.VanillaOption; proxy of <Swig Object of type 'ext::shared_ptr< VanillaOption > *' at 0x00000284A2362400> >\n",
      "Binary Option: <QuantLib.QuantLib.VanillaOption; proxy of <Swig Object of type 'ext::shared_ptr< VanillaOption > *' at 0x00000284A23622B0> >\n"
     ]
    }
   ],
   "source": [
    "import QuantLib as ql\n",
    "\n",
    "def Initialize(self):\n",
    "    self.SetStartDate(2017, 1, 1)   # Set Start Date\n",
    "    self.SetEndDate(2017, 6, 30)    # Set End Date\n",
    "    self.SetCash(50000)             # Set Strategy Cash\n",
    "    equity = self.AddEquity(\"GOOG\") # Add the underlying stock: Google\n",
    "    option = self.AddOption(\"GOOG\") # Add the option corresponding to underlying stock\n",
    "    def Initialize(self):\n",
    "        self.SetStartDate(2017, 1, 1)   # Set Start Date\n",
    "        self.SetEndDate(2017, 6, 30)    # Set End Date\n",
    "        self.SetCash(50000)             # Set Strategy Cash\n",
    "        equity = self.AddEquity(\"GOOG\") # Add the underlying stock: Google\n",
    "        option = self.AddOption(\"GOOG\") # Add the option corresponding to underlying stock\n",
    "        self.symbol = option.Symbol\n",
    "\n",
    "    # Define today's date\n",
    "    today = ql.Date.todaysDate()\n",
    "    ql.Settings.instance().evaluationDate = today\n",
    "\n",
    "    # Define option parameters\n",
    "    strike = 100.0\n",
    "    maturity = ql.Date(15, 6, 2025)\n",
    "    option_type = ql.Option.Call\n",
    "\n",
    "    # Define payoffs\n",
    "    payoff = ql.PlainVanillaPayoff(option_type, strike)\n",
    "    binaryPayoff = ql.CashOrNothingPayoff(option_type, strike, 1)\n",
    "\n",
    "    # Define exercise types\n",
    "    europeanExercise = ql.EuropeanExercise(maturity)\n",
    "    americanExercise = ql.AmericanExercise(today, maturity)\n",
    "    bermudanExercise = ql.BermudanExercise([ql.Date(15, 6, 2024), ql.Date(15, 6, 2025)])\n",
    "\n",
    "    # Instantiate options\n",
    "    europeanOption = ql.VanillaOption(payoff, europeanExercise)\n",
    "    americanOption = ql.VanillaOption(payoff, americanExercise)\n",
    "    bermudanOption = ql.VanillaOption(payoff, bermudanExercise)\n",
    "    binaryOption = ql.VanillaOption(binaryPayoff, europeanExercise)\n",
    "\n",
    "    # Output the options for verification\n",
    "    print(\"European Option:\", europeanOption)\n",
    "    print(\"American Option:\", americanOption)\n",
    "    print(\"Bermudan Option:\", bermudanOption)\n",
    "    print(\"Binary Option:\", binaryOption)\n",
    "\n",
    "# Define today's date\n",
    "today = ql.Date.todaysDate()\n",
    "ql.Settings.instance().evaluationDate = today\n",
    "\n",
    "# Define option parameters\n",
    "strike = 100.0\n",
    "maturity = ql.Date(15, 6, 2025)\n",
    "option_type = ql.Option.Call\n",
    "\n",
    "# Define payoffs\n",
    "payoff = ql.PlainVanillaPayoff(option_type, strike)\n",
    "binaryPayoff = ql.CashOrNothingPayoff(option_type, strike, 1)\n",
    "\n",
    "# Define exercise types\n",
    "europeanExercise = ql.EuropeanExercise(maturity)\n",
    "americanExercise = ql.AmericanExercise(today, maturity)\n",
    "bermudanExercise = ql.BermudanExercise([ql.Date(15, 6, 2024), ql.Date(15, 6, 2025)])\n",
    "\n",
    "# Instantiate options\n",
    "europeanOption = ql.VanillaOption(payoff, europeanExercise)\n",
    "americanOption = ql.VanillaOption(payoff, americanExercise)\n",
    "bermudanOption = ql.VanillaOption(payoff, bermudanExercise)\n",
    "binaryOption = ql.VanillaOption(binaryPayoff, europeanExercise)\n",
    "\n",
    "# Output the options for verification\n",
    "print(\"European Option:\", europeanOption)\n",
    "print(\"American Option:\", americanOption)\n",
    "print(\"Bermudan Option:\", bermudanOption)\n",
    "print(\"Binary Option:\", binaryOption)"
   ]
  }
 ],
 "metadata": {
  "kernelspec": {
   "display_name": "Python 3",
   "language": "python",
   "name": "python3"
  },
  "language_info": {
   "codemirror_mode": {
    "name": "ipython",
    "version": 3
   },
   "file_extension": ".py",
   "mimetype": "text/x-python",
   "name": "python",
   "nbconvert_exporter": "python",
   "pygments_lexer": "ipython3",
   "version": "3.10.4"
  }
 },
 "nbformat": 4,
 "nbformat_minor": 2
}
