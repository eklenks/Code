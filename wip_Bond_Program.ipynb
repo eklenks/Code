{
 "cells": [
  {
   "cell_type": "markdown",
   "metadata": {},
   "source": [
    "# Projecting Bond Rates\n",
    "\n",
    "Interest rates for any currency are primarily set by its Central Bank. In Canada, the Bank carries out monetary policy by influencing short term interest rates. \n",
    "\n",
    "The BoC can adjust the overnight rate on 8 fixed dates each year. On those dates, they can either lower, hold, or raise their key policy rate. \n",
    "\n",
    "We start with a theoretical model that can project the expected changes to this short term rate."
   ]
  },
  {
   "cell_type": "code",
   "execution_count": 5,
   "metadata": {},
   "outputs": [
    {
     "ename": "ModuleNotFoundError",
     "evalue": "No module named 'nasdaqdata_link'",
     "output_type": "error",
     "traceback": [
      "\u001b[1;31m---------------------------------------------------------------------------\u001b[0m",
      "\u001b[1;31mModuleNotFoundError\u001b[0m                       Traceback (most recent call last)",
      "Cell \u001b[1;32mIn[5], line 7\u001b[0m\n\u001b[0;32m      5\u001b[0m \u001b[38;5;28;01mimport\u001b[39;00m \u001b[38;5;21;01mpandas\u001b[39;00m \u001b[38;5;28;01mas\u001b[39;00m \u001b[38;5;21;01mpd\u001b[39;00m\n\u001b[0;32m      6\u001b[0m \u001b[38;5;28;01mimport\u001b[39;00m \u001b[38;5;21;01mdatetime\u001b[39;00m \u001b[38;5;28;01mas\u001b[39;00m \u001b[38;5;21;01mdt\u001b[39;00m\n\u001b[1;32m----> 7\u001b[0m \u001b[38;5;28;01mimport\u001b[39;00m \u001b[38;5;21;01mnasdaqdata_link\u001b[39;00m\n\u001b[0;32m      9\u001b[0m \u001b[38;5;66;03m# Step 3: Set your API key (if required)\u001b[39;00m\n\u001b[0;32m     10\u001b[0m \u001b[38;5;66;03m# nasdaqdata_link.ApiConfig.api_key = 'YOUR_API_KEY'\u001b[39;00m\n\u001b[0;32m     11\u001b[0m \n\u001b[0;32m     12\u001b[0m \u001b[38;5;66;03m# Step 4: Define the time period\u001b[39;00m\n\u001b[0;32m     13\u001b[0m start_date \u001b[38;5;241m=\u001b[39m \u001b[38;5;124m'\u001b[39m\u001b[38;5;124m1999-01-01\u001b[39m\u001b[38;5;124m'\u001b[39m\n",
      "\u001b[1;31mModuleNotFoundError\u001b[0m: No module named 'nasdaqdata_link'"
     ]
    }
   ],
   "source": [
    "# Step 1: Install necessary libraries\n",
    "# !pip install nasdaqdata-link\n",
    "\n",
    "# Step 2: Import libraries\n",
    "import pandas as pd\n",
    "import datetime as dt\n",
    "import nasdaqdata_link\n",
    "\n",
    "# Step 3: Set your API key (if required)\n",
    "# nasdaqdata_link.ApiConfig.api_key = 'YOUR_API_KEY'\n",
    "\n",
    "# Step 4: Define the time period\n",
    "start_date = '1999-01-01'\n",
    "end_date = dt.datetime.now().strftime('%Y-%m-%d')\n",
    "\n",
    "# Step 5: Fetch data from Nasdaq Data Link\n",
    "# The Nasdaq Data Link code for the Bank of Canada overnight rate is 'BOC/V122530'\n",
    "data = nasdaqdata_link.get('BOC/V122530', start_date=start_date, end_date=end_date)\n",
    "\n",
    "# Step 6: Display the data\n",
    "print(data.head())\n",
    "print(data.tail())"
   ]
  }
 ],
 "metadata": {
  "kernelspec": {
   "display_name": "Python 3",
   "language": "python",
   "name": "python3"
  },
  "language_info": {
   "codemirror_mode": {
    "name": "ipython",
    "version": 3
   },
   "file_extension": ".py",
   "mimetype": "text/x-python",
   "name": "python",
   "nbconvert_exporter": "python",
   "pygments_lexer": "ipython3",
   "version": "3.10.4"
  }
 },
 "nbformat": 4,
 "nbformat_minor": 2
}
