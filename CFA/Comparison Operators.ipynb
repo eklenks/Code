{
 "cells": [
  {
   "cell_type": "code",
   "execution_count": 1,
   "metadata": {
    "colab": {
     "base_uri": "https://localhost:8080/"
    },
    "executionInfo": {
     "elapsed": 337,
     "status": "ok",
     "timestamp": 1606262662398,
     "user": {
      "displayName": "Stemplicity",
      "photoUrl": "https://lh3.googleusercontent.com/a-/AOh14Gj2vCFt-bD5mPBhUWX0QA6xiBgoXQXtwUm2jgjaCg=s64",
      "userId": "10668071569687886186"
     },
     "user_tz": 300
    },
    "id": "o9VtOcrKtCc1",
    "outputId": "45f01177-ae85-49f7-a4b9-d5597b66f211"
   },
   "outputs": [
    {
     "name": "stdout",
     "output_type": "stream",
     "text": [
      "True\n"
     ]
    }
   ],
   "source": [
    "# Comparison Operator output could be \"True\" or \"False\"\n",
    "# Let's assume that we want to compare two companies revenue: Company A and Company B\n",
    "# Let's cover equal '==' comparison operator first\n",
    "# It's simply a question: \"Is revenue_A equals to revenue_B or not?\"\n",
    "# \"True\" output means condition is satisfied \n",
    "# \"False\" output means condition is not satisfied (condition is not true) \n",
    "revenue_A = 1000\n",
    "revenue_B = 1000\n",
    "# Compare revenue for company A to B \n",
    "print(revenue_A == revenue_B)"
   ]
  },
  {
   "cell_type": "code",
   "execution_count": 2,
   "metadata": {
    "colab": {
     "base_uri": "https://localhost:8080/"
    },
    "executionInfo": {
     "elapsed": 413,
     "status": "ok",
     "timestamp": 1606262667427,
     "user": {
      "displayName": "Stemplicity",
      "photoUrl": "https://lh3.googleusercontent.com/a-/AOh14Gj2vCFt-bD5mPBhUWX0QA6xiBgoXQXtwUm2jgjaCg=s64",
      "userId": "10668071569687886186"
     },
     "user_tz": 300
    },
    "id": "l48NWuCztX5G",
    "outputId": "99aa6eda-c5a2-4761-a819-90ebe87a13e1"
   },
   "outputs": [
    {
     "data": {
      "text/plain": [
       "True"
      ]
     },
     "execution_count": 2,
     "metadata": {},
     "output_type": "execute_result"
    }
   ],
   "source": [
    "# Greater than or equal operator '>='\n",
    "revenue_A = 5000\n",
    "revenue_B = 1000\n",
    "revenue_A >= revenue_B"
   ]
  },
  {
   "cell_type": "code",
   "execution_count": 5,
   "metadata": {
    "colab": {
     "base_uri": "https://localhost:8080/"
    },
    "executionInfo": {
     "elapsed": 258,
     "status": "ok",
     "timestamp": 1606262718470,
     "user": {
      "displayName": "Stemplicity",
      "photoUrl": "https://lh3.googleusercontent.com/a-/AOh14Gj2vCFt-bD5mPBhUWX0QA6xiBgoXQXtwUm2jgjaCg=s64",
      "userId": "10668071569687886186"
     },
     "user_tz": 300
    },
    "id": "WI6k596Xtlcc",
    "outputId": "a1ed61e0-2d8f-475e-f894-b10156d75b62"
   },
   "outputs": [
    {
     "data": {
      "text/plain": [
       "False"
      ]
     },
     "execution_count": 5,
     "metadata": {},
     "output_type": "execute_result"
    }
   ],
   "source": [
    "# Not equal comparison operator is defined as follows: '!='\n",
    "revenue_A = 1000\n",
    "revenue_B = 1000\n",
    "revenue_A != revenue_B"
   ]
  },
  {
   "cell_type": "code",
   "execution_count": 6,
   "metadata": {},
   "outputs": [
    {
     "name": "stdout",
     "output_type": "stream",
     "text": [
      "False\n",
      "True\n",
      "True\n",
      "False\n"
     ]
    }
   ],
   "source": [
    "revenue_A = 2500\n",
    "revenue_B = 2000\n",
    "\n",
    "print(revenue_A == revenue_B) \n",
    "print(revenue_A != revenue_B) \n",
    "print(revenue_A > revenue_B)\n",
    "print(revenue_A < revenue_B) "
   ]
  }
 ],
 "metadata": {
  "colab": {
   "authorship_tag": "ABX9TyPQjXBMWDmlAuukB8UVgh4y",
   "collapsed_sections": [],
   "name": "Copy of Python 101 - Comparison, Logical Operators, Conditional Statements.ipynb",
   "provenance": [
    {
     "file_id": "1WasLW3SbRIlR4J26PqBW3caTvLYncSfE",
     "timestamp": 1606282645322
    }
   ]
  },
  "kernelspec": {
   "display_name": "Python 3 (ipykernel)",
   "language": "python",
   "name": "python3"
  },
  "language_info": {
   "codemirror_mode": {
    "name": "ipython",
    "version": 3
   },
   "file_extension": ".py",
   "mimetype": "text/x-python",
   "name": "python",
   "nbconvert_exporter": "python",
   "pygments_lexer": "ipython3",
   "version": "3.10.4"
  }
 },
 "nbformat": 4,
 "nbformat_minor": 1
}
