{
 "cells": [
  {
   "cell_type": "code",
   "execution_count": 1,
   "metadata": {
    "colab": {
     "base_uri": "https://localhost:8080/",
     "height": 35
    },
    "executionInfo": {
     "elapsed": 324,
     "status": "ok",
     "timestamp": 1599882261931,
     "user": {
      "displayName": "Stemplicity",
      "photoUrl": "https://lh3.googleusercontent.com/a-/AOh14Gj2vCFt-bD5mPBhUWX0QA6xiBgoXQXtwUm2jgjaCg=s64",
      "userId": "10668071569687886186"
     },
     "user_tz": 240
    },
    "id": "rDjVcbLd6xJf",
    "outputId": "aad018a2-e48e-415e-ff06-309350512c12"
   },
   "outputs": [
    {
     "data": {
      "text/plain": [
       "'Hello & Welcome to Python Programming Fundamentals Course!'"
      ]
     },
     "execution_count": 1,
     "metadata": {},
     "output_type": "execute_result"
    }
   ],
   "source": [
    "# A string in Python is a sequence of characters\n",
    "# String can be enclosed by either double or single quotation marks\n",
    "welcome_message = \"Hello & Welcome to Python Programming Fundamentals Course!\"\n",
    "welcome_message"
   ]
  },
  {
   "cell_type": "code",
   "execution_count": 2,
   "metadata": {
    "colab": {
     "base_uri": "https://localhost:8080/",
     "height": 34
    },
    "executionInfo": {
     "elapsed": 263,
     "status": "ok",
     "timestamp": 1599882264599,
     "user": {
      "displayName": "Stemplicity",
      "photoUrl": "https://lh3.googleusercontent.com/a-/AOh14Gj2vCFt-bD5mPBhUWX0QA6xiBgoXQXtwUm2jgjaCg=s64",
      "userId": "10668071569687886186"
     },
     "user_tz": 240
    },
    "id": "_UN8zNOJ60ud",
    "outputId": "c8bb9ddd-36b9-4aa0-bc62-7f2246f19a30"
   },
   "outputs": [
    {
     "data": {
      "text/plain": [
       "str"
      ]
     },
     "execution_count": 2,
     "metadata": {},
     "output_type": "execute_result"
    }
   ],
   "source": [
    "# Let's obtain the datatype\n",
    "type(welcome_message)"
   ]
  },
  {
   "cell_type": "code",
   "execution_count": 3,
   "metadata": {},
   "outputs": [
    {
     "data": {
      "text/plain": [
       "'HELLO & WELCOME TO PYTHON PROGRAMMING FUNDAMENTALS COURSE!'"
      ]
     },
     "execution_count": 3,
     "metadata": {},
     "output_type": "execute_result"
    }
   ],
   "source": [
    "# The .upper() method is used to convert the string into uppercase\n",
    "welcome_message.upper()"
   ]
  },
  {
   "cell_type": "code",
   "execution_count": 4,
   "metadata": {},
   "outputs": [
    {
     "data": {
      "text/plain": [
       "['Hello',\n",
       " '&',\n",
       " 'Welcome',\n",
       " 'to',\n",
       " 'Python',\n",
       " 'Programming',\n",
       " 'Fundamentals',\n",
       " 'Course!']"
      ]
     },
     "execution_count": 4,
     "metadata": {},
     "output_type": "execute_result"
    }
   ],
   "source": [
    "# The .split() method is used to divide up the string into words \n",
    "# The output from the .split() method is a list which is denoted by square bracket - []\n",
    "words = welcome_message.split()\n",
    "words"
   ]
  },
  {
   "cell_type": "code",
   "execution_count": 5,
   "metadata": {},
   "outputs": [
    {
     "data": {
      "text/plain": [
       "list"
      ]
     },
     "execution_count": 5,
     "metadata": {},
     "output_type": "execute_result"
    }
   ],
   "source": [
    "# Note that you split the string into words that are listed in a Python list\n",
    "# Let's confirm the datatype!\n",
    "type(words)"
   ]
  },
  {
   "cell_type": "code",
   "execution_count": 6,
   "metadata": {},
   "outputs": [
    {
     "data": {
      "text/plain": [
       "['Hello ', ' Welcome to Python Programming Fundamentals Course!']"
      ]
     },
     "execution_count": 6,
     "metadata": {},
     "output_type": "execute_result"
    }
   ],
   "source": [
    "# You can specify which letter could be used to perform the split\n",
    "words = welcome_message.split('&')\n",
    "words"
   ]
  },
  {
   "cell_type": "code",
   "execution_count": 7,
   "metadata": {
    "colab": {
     "base_uri": "https://localhost:8080/",
     "height": 35
    },
    "executionInfo": {
     "elapsed": 243,
     "status": "ok",
     "timestamp": 1599882384629,
     "user": {
      "displayName": "Stemplicity",
      "photoUrl": "https://lh3.googleusercontent.com/a-/AOh14Gj2vCFt-bD5mPBhUWX0QA6xiBgoXQXtwUm2jgjaCg=s64",
      "userId": "10668071569687886186"
     },
     "user_tz": 240
    },
    "id": "2r3aHdjn60wz",
    "outputId": "688fff5c-0c40-4e88-97e4-995a0374ca1c"
   },
   "outputs": [
    {
     "data": {
      "text/plain": [
       "'SarahDavid'"
      ]
     },
     "execution_count": 7,
     "metadata": {},
     "output_type": "execute_result"
    }
   ],
   "source": [
    "# Combining two strings together (Let's combine the first and last name of an investor)\n",
    "first_name = \"Sarah\" \n",
    "last_name = \"David\"\n",
    "full_name = first_name + last_name\n",
    "full_name"
   ]
  },
  {
   "cell_type": "code",
   "execution_count": 8,
   "metadata": {
    "colab": {
     "base_uri": "https://localhost:8080/",
     "height": 35
    },
    "executionInfo": {
     "elapsed": 257,
     "status": "ok",
     "timestamp": 1599882396201,
     "user": {
      "displayName": "Stemplicity",
      "photoUrl": "https://lh3.googleusercontent.com/a-/AOh14Gj2vCFt-bD5mPBhUWX0QA6xiBgoXQXtwUm2jgjaCg=s64",
      "userId": "10668071569687886186"
     },
     "user_tz": 240
    },
    "id": "8DZ5JbeX601H",
    "outputId": "7b69fb30-47d6-454f-d575-4a2152fe0e4b"
   },
   "outputs": [
    {
     "data": {
      "text/plain": [
       "'Sarah David'"
      ]
     },
     "execution_count": 8,
     "metadata": {},
     "output_type": "execute_result"
    }
   ],
   "source": [
    "# You can combine both strings together and add spaces in between\n",
    "full_name = first_name + \" \" + last_name\n",
    "full_name"
   ]
  },
  {
   "cell_type": "markdown",
   "metadata": {
    "id": "OlonkaQNGdsP"
   },
   "source": [
    "# PRACTICE OPPORTUNITY SOLUTION"
   ]
  },
  {
   "cell_type": "markdown",
   "metadata": {},
   "source": [
    "**PRACTICE OPPORTUNITY SOLUTION:**\n",
    "- **Assume that you work at a bank and you have been tasked to develop a Python code that asks clients to provide their feedback regarding the bank service and break their input into individual words. Write a Python code that performs the following tasks:** \n",
    "    - **1. Prompt client to enter his/her feedback regarding the service and obtains their input** \n",
    "    - **2. Split the client input into words and print them to the screen**\n",
    "    - **3. Test your code using 3 different user inputs**\n",
    "    - **4. Expand your code to request the user to enter his/her email address. The code should prompt clients requesting his/her e-mail and then extracts the user first name only (Note that the e-mail format is as follows: firstname.lastname@gmail.com)**\n"
   ]
  },
  {
   "cell_type": "code",
   "execution_count": 9,
   "metadata": {
    "id": "6C17ix5xpr4p"
   },
   "outputs": [
    {
     "name": "stdout",
     "output_type": "stream",
     "text": [
      "Here are the list of words you entered: ['']\n"
     ]
    }
   ],
   "source": [
    "# The code will get the user input and split it into words separated by space \" \"\n",
    "feedback = input(\"Welcome to the bank, What did we do at the bank today?\")\n",
    "words = feedback.split(\" \")\n",
    "print(\"Here are the list of words you entered:\", words)"
   ]
  },
  {
   "cell_type": "code",
   "execution_count": 10,
   "metadata": {
    "id": "0P41ds4zNrKl"
   },
   "outputs": [
    {
     "data": {
      "text/plain": [
       "['sdvvdsv', 'dna.com']"
      ]
     },
     "execution_count": 10,
     "metadata": {},
     "output_type": "execute_result"
    }
   ],
   "source": [
    "# The code will ask the user to enter their e-mail address \n",
    "# Note that you will need to do two splits, one on the @ and the second split on the '.'\n",
    "email = input(\"Please enter your e-mail address:\")\n",
    "output = email.split('@')\n",
    "output"
   ]
  },
  {
   "cell_type": "code",
   "execution_count": 11,
   "metadata": {},
   "outputs": [
    {
     "data": {
      "text/plain": [
       "'sdvvdsv'"
      ]
     },
     "execution_count": 11,
     "metadata": {},
     "output_type": "execute_result"
    }
   ],
   "source": [
    "# Now we are only interested in the first element in the list with index 0\n",
    "output[0]"
   ]
  },
  {
   "cell_type": "code",
   "execution_count": 12,
   "metadata": {
    "scrolled": true
   },
   "outputs": [
    {
     "name": "stdout",
     "output_type": "stream",
     "text": [
      "sdvvdsv\n"
     ]
    }
   ],
   "source": [
    "# We will perform the split on the first list element only\n",
    "name = output[0].split('.')\n",
    "print(name[0])"
   ]
  }
 ],
 "metadata": {
  "colab": {
   "collapsed_sections": [],
   "name": "Copy of Python 101 - Data Types.ipynb",
   "provenance": [
    {
     "file_id": "1Drw77jGsA-hV9XX83Iep9W2c-uihkm1N",
     "timestamp": 1606282613687
    }
   ]
  },
  "kernelspec": {
   "display_name": "Python 3 (ipykernel)",
   "language": "python",
   "name": "python3"
  },
  "language_info": {
   "codemirror_mode": {
    "name": "ipython",
    "version": 3
   },
   "file_extension": ".py",
   "mimetype": "text/x-python",
   "name": "python",
   "nbconvert_exporter": "python",
   "pygments_lexer": "ipython3",
   "version": "3.10.4"
  }
 },
 "nbformat": 4,
 "nbformat_minor": 1
}
