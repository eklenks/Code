{
 "cells": [
  {
   "cell_type": "code",
   "execution_count": 1,
   "metadata": {
    "colab": {
     "base_uri": "https://localhost:8080/"
    },
    "executionInfo": {
     "elapsed": 441,
     "status": "ok",
     "timestamp": 1606264070219,
     "user": {
      "displayName": "Stemplicity",
      "photoUrl": "https://lh3.googleusercontent.com/a-/AOh14Gj2vCFt-bD5mPBhUWX0QA6xiBgoXQXtwUm2jgjaCg=s64",
      "userId": "10668071569687886186"
     },
     "user_tz": 300
    },
    "id": "F27HZd8a60zD",
    "outputId": "e695993c-c1e6-4807-faf4-346fc47928c8"
   },
   "outputs": [
    {
     "data": {
      "text/plain": [
       "['Apple', 'Samsung', 'Alibaba', 'Novo Nordisk', 'Naspers']"
      ]
     },
     "execution_count": 1,
     "metadata": {},
     "output_type": "execute_result"
    }
   ],
   "source": [
    "# In Python, a list is a collection of items that are ordered and have specific index \n",
    "# A list is defined using square brackets [], we separate elements in a list by commas \n",
    "# A list can have items with various datatypes such as integers, floats, or strings\n",
    "# Let's define a list of U.S., European, Asian and African companies \n",
    "\n",
    "my_companies = ['Apple', 'Samsung', 'Alibaba', 'Novo Nordisk', 'Naspers']\n",
    "my_companies"
   ]
  },
  {
   "cell_type": "code",
   "execution_count": 2,
   "metadata": {
    "colab": {
     "base_uri": "https://localhost:8080/"
    },
    "executionInfo": {
     "elapsed": 474,
     "status": "ok",
     "timestamp": 1606264071595,
     "user": {
      "displayName": "Stemplicity",
      "photoUrl": "https://lh3.googleusercontent.com/a-/AOh14Gj2vCFt-bD5mPBhUWX0QA6xiBgoXQXtwUm2jgjaCg=s64",
      "userId": "10668071569687886186"
     },
     "user_tz": 300
    },
    "id": "AeHE6akU70RX",
    "outputId": "37b532a0-3a04-4c5a-acef-9fdbdcf2eaef"
   },
   "outputs": [
    {
     "data": {
      "text/plain": [
       "list"
      ]
     },
     "execution_count": 2,
     "metadata": {},
     "output_type": "execute_result"
    }
   ],
   "source": [
    "# Obtain the datatype for our list\n",
    "# Remember that we now know the following types: integers, floats, strings, and lists\n",
    "type(my_companies)"
   ]
  },
  {
   "cell_type": "code",
   "execution_count": 3,
   "metadata": {},
   "outputs": [
    {
     "data": {
      "text/plain": [
       "[365.81, 240, 109, 22.4, 5.9]"
      ]
     },
     "execution_count": 3,
     "metadata": {},
     "output_type": "execute_result"
    }
   ],
   "source": [
    "# You can also have a list with integers and floating points \n",
    "# Let's obtain a list containing revenues of the previously mentioned companies in 2021 [in billions] \n",
    "# Note that we now have a mix of datatypes (integers and floats) in one list (numbers are approximated)\n",
    "my_companies_revenues = [365.81, 240, 109, 22.4, 5.9]\n",
    "my_companies_revenues"
   ]
  },
  {
   "cell_type": "code",
   "execution_count": 4,
   "metadata": {
    "colab": {
     "base_uri": "https://localhost:8080/",
     "height": 35
    },
    "executionInfo": {
     "elapsed": 324,
     "status": "ok",
     "timestamp": 1606264079589,
     "user": {
      "displayName": "Stemplicity",
      "photoUrl": "https://lh3.googleusercontent.com/a-/AOh14Gj2vCFt-bD5mPBhUWX0QA6xiBgoXQXtwUm2jgjaCg=s64",
      "userId": "10668071569687886186"
     },
     "user_tz": 300
    },
    "id": "XZZiMb2c70f6",
    "outputId": "0a5bfb6c-dd9e-4166-c0d2-7e7e73a562e4"
   },
   "outputs": [
    {
     "data": {
      "text/plain": [
       "'Apple'"
      ]
     },
     "execution_count": 4,
     "metadata": {},
     "output_type": "execute_result"
    }
   ],
   "source": [
    "# We use indexing to access specific elements in the list \n",
    "# Note that the first element in the list has an index of 0 (little confusing but you'll get used to it!)\n",
    "my_companies = ['Apple', 'Samsung', 'Alibaba', 'Novo Nordisk', 'Naspers']\n",
    "my_companies[0]"
   ]
  },
  {
   "cell_type": "code",
   "execution_count": 5,
   "metadata": {
    "colab": {
     "base_uri": "https://localhost:8080/"
    },
    "executionInfo": {
     "elapsed": 356,
     "status": "ok",
     "timestamp": 1606264082367,
     "user": {
      "displayName": "Stemplicity",
      "photoUrl": "https://lh3.googleusercontent.com/a-/AOh14Gj2vCFt-bD5mPBhUWX0QA6xiBgoXQXtwUm2jgjaCg=s64",
      "userId": "10668071569687886186"
     },
     "user_tz": 300
    },
    "id": "-Bw1wI_h70dw",
    "outputId": "66a0f802-9b82-49b3-b369-9c786ba8cb7e"
   },
   "outputs": [
    {
     "data": {
      "text/plain": [
       "['Samsung', 'Alibaba', 'Novo Nordisk']"
      ]
     },
     "execution_count": 5,
     "metadata": {},
     "output_type": "execute_result"
    }
   ],
   "source": [
    "# We can use list slicing to obtain more than one element from a list \n",
    "# Obtain elements starting from index 1 up to and not including element with index 4  \n",
    "my_companies[1:4]"
   ]
  },
  {
   "cell_type": "code",
   "execution_count": 6,
   "metadata": {
    "colab": {
     "base_uri": "https://localhost:8080/"
    },
    "executionInfo": {
     "elapsed": 326,
     "status": "ok",
     "timestamp": 1606264086515,
     "user": {
      "displayName": "Stemplicity",
      "photoUrl": "https://lh3.googleusercontent.com/a-/AOh14Gj2vCFt-bD5mPBhUWX0QA6xiBgoXQXtwUm2jgjaCg=s64",
      "userId": "10668071569687886186"
     },
     "user_tz": 300
    },
    "id": "VGsNNIpn9ILB",
    "outputId": "a051ada2-b115-4cfc-df7c-087fc27b4857"
   },
   "outputs": [
    {
     "data": {
      "text/plain": [
       "['Alibaba', 'Novo Nordisk', 'Naspers']"
      ]
     },
     "execution_count": 6,
     "metadata": {},
     "output_type": "execute_result"
    }
   ],
   "source": [
    "# Obtain elements starting from index 2 to end\n",
    "my_companies[2:]"
   ]
  },
  {
   "cell_type": "code",
   "execution_count": 7,
   "metadata": {
    "colab": {
     "base_uri": "https://localhost:8080/"
    },
    "executionInfo": {
     "elapsed": 344,
     "status": "ok",
     "timestamp": 1606264091025,
     "user": {
      "displayName": "Stemplicity",
      "photoUrl": "https://lh3.googleusercontent.com/a-/AOh14Gj2vCFt-bD5mPBhUWX0QA6xiBgoXQXtwUm2jgjaCg=s64",
      "userId": "10668071569687886186"
     },
     "user_tz": 300
    },
    "id": "W0Z8oCAC9IJL",
    "outputId": "7388beb4-4e93-43ca-ee7f-fee7c204137b"
   },
   "outputs": [
    {
     "data": {
      "text/plain": [
       "['Apple', 'Samsung', 'Alibaba', 'Novo Nordisk', 'Naspers']"
      ]
     },
     "execution_count": 7,
     "metadata": {},
     "output_type": "execute_result"
    }
   ],
   "source": [
    "# Print out all elements start to end\n",
    "my_companies[:]"
   ]
  },
  {
   "cell_type": "code",
   "execution_count": 8,
   "metadata": {
    "colab": {
     "base_uri": "https://localhost:8080/"
    },
    "executionInfo": {
     "elapsed": 381,
     "status": "ok",
     "timestamp": 1606264093557,
     "user": {
      "displayName": "Stemplicity",
      "photoUrl": "https://lh3.googleusercontent.com/a-/AOh14Gj2vCFt-bD5mPBhUWX0QA6xiBgoXQXtwUm2jgjaCg=s64",
      "userId": "10668071569687886186"
     },
     "user_tz": 300
    },
    "id": "Z4sY6MEJ9IGv",
    "outputId": "d4a84cf2-3bef-4fb3-fdab-7591b2c50c90"
   },
   "outputs": [
    {
     "data": {
      "text/plain": [
       "5"
      ]
     },
     "execution_count": 8,
     "metadata": {},
     "output_type": "execute_result"
    }
   ],
   "source": [
    "# you can use the len() function to obtain the length of the list (i.e.: how many elements in the list) \n",
    "len(my_companies)"
   ]
  },
  {
   "cell_type": "markdown",
   "metadata": {
    "id": "Q1qcVBl7G1GO"
   },
   "source": [
    "**PRACTICE OPPORTUNITY:**\n",
    "\n",
    "- **Assume that you work as a financial analyst and you decided to list 9 dividend-paying companies in the U.S. in a Python list named \"dividend_companies\" as shown below:** \n",
    "\n",
    "```\n",
    "        dividend_companies = ['Pioneer Natural Resources Co. (ticker: PXD)', 'Lumen Technologies Inc. (LUMN)', 'Altria Group Inc. (MO)', 'Vornado Realty Trust (VNO)', 'Devon Energy Corp. (DVN)', 'AT&T Inc. (T)', 'Simon Property Group Inc. (SPG)', 'Verizon Communications Inc. (VZ)', 'Kinder Morgan Inc. (KMI)']\n",
    "```\n",
    "\n",
    "   - **1. Print the first, second and fourth elements individually**\n",
    "   - **2. Print the last element using 3 different methods (external research is required)**\n",
    "   - **3. Print all elements in the list, first 3 elements, and last three elements**\n"
   ]
  },
  {
   "cell_type": "code",
   "execution_count": 12,
   "metadata": {},
   "outputs": [
    {
     "name": "stdout",
     "output_type": "stream",
     "text": [
      "Pioneer Natural Resources Co. (ticker: PXD)\n",
      "Lumen Technologies Inc. (LUMN)\n",
      "Vornado Realty Trust (VNO)\n"
     ]
    }
   ],
   "source": [
    "dividend_companies = ['Pioneer Natural Resources Co. (ticker: PXD)', 'Lumen Technologies Inc. (LUMN)', 'Altria Group Inc. (MO)', 'Vornado Realty Trust (VNO)', 'Devon Energy Corp. (DVN)', 'AT&T Inc. (T)', 'Simon Property Group Inc. (SPG)', 'Verizon Communications Inc. (VZ)', 'Kinder Morgan Inc. (KMI)']\n",
    "print(dividend_companies[0])\n",
    "print(dividend_companies[1])\n",
    "print(dividend_companies[3])"
   ]
  },
  {
   "cell_type": "code",
   "execution_count": 16,
   "metadata": {},
   "outputs": [
    {
     "name": "stdout",
     "output_type": "stream",
     "text": [
      "Kinder Morgan Inc. (KMI)\n",
      "Kinder Morgan Inc. (KMI)\n",
      "Kinder Morgan Inc. (KMI)\n"
     ]
    }
   ],
   "source": [
    "print(dividend_companies[8])\n",
    "print(dividend_companies[-1])\n",
    "print(dividend_companies[len(dividend_companies)-1])"
   ]
  },
  {
   "cell_type": "code",
   "execution_count": 20,
   "metadata": {},
   "outputs": [
    {
     "name": "stdout",
     "output_type": "stream",
     "text": [
      "['Pioneer Natural Resources Co. (ticker: PXD)', 'Lumen Technologies Inc. (LUMN)', 'Altria Group Inc. (MO)', 'Vornado Realty Trust (VNO)', 'Devon Energy Corp. (DVN)', 'AT&T Inc. (T)', 'Simon Property Group Inc. (SPG)', 'Verizon Communications Inc. (VZ)', 'Kinder Morgan Inc. (KMI)']\n",
      "['Pioneer Natural Resources Co. (ticker: PXD)', 'Lumen Technologies Inc. (LUMN)', 'Altria Group Inc. (MO)']\n",
      "['Simon Property Group Inc. (SPG)', 'Verizon Communications Inc. (VZ)', 'Kinder Morgan Inc. (KMI)']\n"
     ]
    }
   ],
   "source": [
    "print(dividend_companies[:])\n",
    "print(dividend_companies[0:3])\n",
    "print(dividend_companies[6:])"
   ]
  },
  {
   "cell_type": "markdown",
   "metadata": {
    "id": "OlonkaQNGdsP"
   },
   "source": [
    "# PRACTICE OPPORTUNITY SOLUTION"
   ]
  },
  {
   "cell_type": "markdown",
   "metadata": {},
   "source": [
    "**PRACTICE OPPORTUNITY SOLUTION:**\n",
    "\n",
    "- **Assume that you work as a financial analyst and you decided to list 9 dividend-paying companies in the U.S. in a Python list named \"dividend_companies\" as shown below:** \n",
    "\n",
    "```\n",
    "        dividend_companies = ['Pioneer Natural Resources Co. (ticker: PXD)', 'Lumen Technologies Inc. (LUMN)', 'Altria Group Inc. (MO)', 'Vornado Realty Trust (VNO)', 'Devon Energy Corp. (DVN)', 'AT&T Inc. (T)', 'Simon Property Group Inc. (SPG)', 'Verizon Communications Inc. (VZ)', 'Kinder Morgan Inc. (KMI)']\n",
    "```\n",
    "\n",
    "   - **1. Print the first, second and fourth elements individually**\n",
    "   - **2. Print the last element using 3 different methods (external research is required)**\n",
    "   - **3. Print all elements in the list, first 3 elements, and last three elements**\n"
   ]
  },
  {
   "cell_type": "code",
   "execution_count": 9,
   "metadata": {
    "id": "adQzmLx7Y7p7"
   },
   "outputs": [],
   "source": [
    "dividend_companies = ['Pioneer Natural Resources Co. (ticker: PXD)', \n",
    "                      'Lumen Technologies Inc. (LUMN)', \n",
    "                      'Altria Group Inc. (MO)', \n",
    "                      'Vornado Realty Trust (VNO)', \n",
    "                      'Devon Energy Corp. (DVN)', \n",
    "                      'AT&T Inc. (T)', \n",
    "                      'Simon Property Group Inc. (SPG)', \n",
    "                      'Verizon Communications Inc. (VZ)', \n",
    "                      'Kinder Morgan Inc. (KMI)']"
   ]
  },
  {
   "cell_type": "code",
   "execution_count": 13,
   "metadata": {},
   "outputs": [
    {
     "name": "stdout",
     "output_type": "stream",
     "text": [
      "Pioneer Natural Resources Co. (ticker: PXD)\n"
     ]
    }
   ],
   "source": [
    "# The first element has an index of 0\n",
    "print(dividend_companies[0])"
   ]
  },
  {
   "cell_type": "code",
   "execution_count": 14,
   "metadata": {},
   "outputs": [
    {
     "name": "stdout",
     "output_type": "stream",
     "text": [
      "Lumen Technologies Inc. (LUMN)\n"
     ]
    }
   ],
   "source": [
    "# The second element has an index of 1\n",
    "print(dividend_companies[1])"
   ]
  },
  {
   "cell_type": "code",
   "execution_count": 15,
   "metadata": {},
   "outputs": [
    {
     "name": "stdout",
     "output_type": "stream",
     "text": [
      "Vornado Realty Trust (VNO)\n"
     ]
    }
   ],
   "source": [
    "# The fourth element has an index of 3\n",
    "print(dividend_companies[3])"
   ]
  },
  {
   "cell_type": "code",
   "execution_count": 16,
   "metadata": {},
   "outputs": [
    {
     "name": "stdout",
     "output_type": "stream",
     "text": [
      "Kinder Morgan Inc. (KMI)\n",
      "Kinder Morgan Inc. (KMI)\n",
      "Kinder Morgan Inc. (KMI)\n"
     ]
    }
   ],
   "source": [
    "# The last element can be accessed using index -1  \n",
    "# Alternatively, you can use len(list)-1 \n",
    "# Alternatively, you can manually count the number of elements and specify the index (note that you need to start counting from index 0) \n",
    "print(dividend_companies[-1])\n",
    "print(dividend_companies[len(dividend_companies)-1])\n",
    "print(dividend_companies[8])\n"
   ]
  },
  {
   "cell_type": "code",
   "execution_count": 17,
   "metadata": {},
   "outputs": [
    {
     "name": "stdout",
     "output_type": "stream",
     "text": [
      "['Pioneer Natural Resources Co. (ticker: PXD)', 'Lumen Technologies Inc. (LUMN)', 'Altria Group Inc. (MO)', 'Vornado Realty Trust (VNO)', 'Devon Energy Corp. (DVN)', 'AT&T Inc. (T)', 'Simon Property Group Inc. (SPG)', 'Verizon Communications Inc. (VZ)', 'Kinder Morgan Inc. (KMI)']\n"
     ]
    }
   ],
   "source": [
    "# You can use the colon \":\" to print all elements in the list\n",
    "print(dividend_companies[:])"
   ]
  },
  {
   "cell_type": "code",
   "execution_count": 18,
   "metadata": {},
   "outputs": [
    {
     "name": "stdout",
     "output_type": "stream",
     "text": [
      "['Pioneer Natural Resources Co. (ticker: PXD)', 'Lumen Technologies Inc. (LUMN)', 'Altria Group Inc. (MO)']\n"
     ]
    }
   ],
   "source": [
    "# Print the first 3 elements in the list\n",
    "print(dividend_companies[0:3])"
   ]
  },
  {
   "cell_type": "code",
   "execution_count": 19,
   "metadata": {
    "scrolled": true
   },
   "outputs": [
    {
     "name": "stdout",
     "output_type": "stream",
     "text": [
      "['Simon Property Group Inc. (SPG)', 'Verizon Communications Inc. (VZ)', 'Kinder Morgan Inc. (KMI)']\n"
     ]
    }
   ],
   "source": [
    "# print the last 3 elements in the list\n",
    "print(dividend_companies[6:])"
   ]
  },
  {
   "cell_type": "markdown",
   "metadata": {},
   "source": [
    "# EXCELLENT JOB!"
   ]
  }
 ],
 "metadata": {
  "colab": {
   "collapsed_sections": [],
   "name": "Copy of Python 101 - Data Types.ipynb",
   "provenance": [
    {
     "file_id": "1Drw77jGsA-hV9XX83Iep9W2c-uihkm1N",
     "timestamp": 1606282613687
    }
   ]
  },
  "kernelspec": {
   "display_name": "Python 3 (ipykernel)",
   "language": "python",
   "name": "python3"
  },
  "language_info": {
   "codemirror_mode": {
    "name": "ipython",
    "version": 3
   },
   "file_extension": ".py",
   "mimetype": "text/x-python",
   "name": "python",
   "nbconvert_exporter": "python",
   "pygments_lexer": "ipython3",
   "version": "3.10.4"
  }
 },
 "nbformat": 4,
 "nbformat_minor": 1
}
