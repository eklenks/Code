{
 "cells": [
  {
   "cell_type": "markdown",
   "metadata": {},
   "source": [
    "### Pandas Data Analysis\n"
   ]
  },
  {
   "cell_type": "code",
   "execution_count": 1,
   "metadata": {},
   "outputs": [],
   "source": [
    "# Use \"pip install pandas\" in terminal to install pandas\n",
    "import pandas as pd "
   ]
  },
  {
   "cell_type": "code",
   "execution_count": 2,
   "metadata": {},
   "outputs": [
    {
     "data": {
      "text/html": [
       "<div>\n",
       "<style scoped>\n",
       "    .dataframe tbody tr th:only-of-type {\n",
       "        vertical-align: middle;\n",
       "    }\n",
       "\n",
       "    .dataframe tbody tr th {\n",
       "        vertical-align: top;\n",
       "    }\n",
       "\n",
       "    .dataframe thead th {\n",
       "        text-align: right;\n",
       "    }\n",
       "</style>\n",
       "<table border=\"1\" class=\"dataframe\">\n",
       "  <thead>\n",
       "    <tr style=\"text-align: right;\">\n",
       "      <th></th>\n",
       "      <th>Country ID</th>\n",
       "      <th>Country</th>\n",
       "      <th>GDP Per Capita [$]</th>\n",
       "      <th>Global Rank</th>\n",
       "    </tr>\n",
       "  </thead>\n",
       "  <tbody>\n",
       "    <tr>\n",
       "      <th>0</th>\n",
       "      <td>USA</td>\n",
       "      <td>United States</td>\n",
       "      <td>69375</td>\n",
       "      <td>5</td>\n",
       "    </tr>\n",
       "    <tr>\n",
       "      <th>1</th>\n",
       "      <td>CHN</td>\n",
       "      <td>China</td>\n",
       "      <td>11891</td>\n",
       "      <td>64</td>\n",
       "    </tr>\n",
       "    <tr>\n",
       "      <th>2</th>\n",
       "      <td>IND</td>\n",
       "      <td>India</td>\n",
       "      <td>2116</td>\n",
       "      <td>150</td>\n",
       "    </tr>\n",
       "    <tr>\n",
       "      <th>3</th>\n",
       "      <td>ARE</td>\n",
       "      <td>United Arab Emirates</td>\n",
       "      <td>43538</td>\n",
       "      <td>24</td>\n",
       "    </tr>\n",
       "    <tr>\n",
       "      <th>4</th>\n",
       "      <td>CAN</td>\n",
       "      <td>Canada</td>\n",
       "      <td>52791</td>\n",
       "      <td>15</td>\n",
       "    </tr>\n",
       "    <tr>\n",
       "      <th>5</th>\n",
       "      <td>MEX</td>\n",
       "      <td>Mexico</td>\n",
       "      <td>9967</td>\n",
       "      <td>72</td>\n",
       "    </tr>\n",
       "  </tbody>\n",
       "</table>\n",
       "</div>"
      ],
      "text/plain": [
       "  Country ID               Country  GDP Per Capita [$]  Global Rank\n",
       "0        USA         United States               69375            5\n",
       "1        CHN                 China               11891           64\n",
       "2        IND                 India                2116          150\n",
       "3        ARE  United Arab Emirates               43538           24\n",
       "4        CAN                Canada               52791           15\n",
       "5        MEX                Mexico                9967           72"
      ]
     },
     "execution_count": 2,
     "metadata": {},
     "output_type": "execute_result"
    }
   ],
   "source": [
    "# Let's define a two-dimensional Pandas DataFrame from a python dictionary \n",
    "# We will use Pandas DataFrame constructor method \"pd.DataFrame()\" to create our Pandas DataFrame\n",
    "# Data Source: https://statisticstimes.com/economy/projected-world-gdp-ranking.php\n",
    "\n",
    "GDP_df = pd.DataFrame({'Country ID': ['USA', 'CHN' , 'IND', 'ARE', 'CAN', 'MEX'], \n",
    "                       'Country':['United States', 'China', 'India', 'United Arab Emirates', 'Canada', 'Mexico'], \n",
    "                       'GDP Per Capita [$]':[69375, 11891, 2116, 43538, 52791, 9967], \n",
    "                       'Global Rank':[5, 64, 150, 24, 15, 72]})\n",
    "GDP_df"
   ]
  },
  {
   "cell_type": "code",
   "execution_count": 4,
   "metadata": {},
   "outputs": [
    {
     "name": "stdout",
     "output_type": "stream",
     "text": [
      "<class 'pandas.core.frame.DataFrame'>\n",
      "  Country ID        Country  GDP Per Capita [$]  Global Rank\n",
      "0        USA  United States               69375            5\n",
      "1        CHN          China               11891           64\n",
      "  Country ID               Country  GDP Per Capita [$]  Global Rank\n",
      "3        ARE  United Arab Emirates               43538           24\n",
      "4        CAN                Canada               52791           15\n",
      "5        MEX                Mexico                9967           72\n"
     ]
    },
    {
     "data": {
      "text/plain": [
       "0    69375\n",
       "1    11891\n",
       "2     2116\n",
       "3    43538\n",
       "4    52791\n",
       "5     9967\n",
       "Name: GDP Per Capita [$], dtype: int64"
      ]
     },
     "execution_count": 4,
     "metadata": {},
     "output_type": "execute_result"
    }
   ],
   "source": [
    "# Let's obtain the data type of this pandas DataFrame \n",
    "print(type(GDP_df))\n",
    "# Let's view the first couple of rows using \".head()\" method\n",
    "print(GDP_df.head(2))\n",
    "# Let's view the last couple of rows using \".tail()\" method\n",
    "print(GDP_df.tail(3))"
   ]
  },
  {
   "cell_type": "code",
   "execution_count": 5,
   "metadata": {},
   "outputs": [
    {
     "data": {
      "text/plain": [
       "0    69375\n",
       "1    11891\n",
       "2     2116\n",
       "3    43538\n",
       "4    52791\n",
       "5     9967\n",
       "Name: GDP Per Capita [$], dtype: int64"
      ]
     },
     "execution_count": 5,
     "metadata": {},
     "output_type": "execute_result"
    }
   ],
   "source": [
    "# You can access a specific column in the Pandas DataFrame using the header name  \n",
    "GDP_df['GDP Per Capita [$]']"
   ]
  },
  {
   "cell_type": "code",
   "execution_count": 6,
   "metadata": {},
   "outputs": [
    {
     "name": "stdout",
     "output_type": "stream",
     "text": [
      "<class 'pandas.core.frame.DataFrame'>\n",
      "RangeIndex: 6 entries, 0 to 5\n",
      "Data columns (total 4 columns):\n",
      " #   Column              Non-Null Count  Dtype \n",
      "---  ------              --------------  ----- \n",
      " 0   Country ID          6 non-null      object\n",
      " 1   Country             6 non-null      object\n",
      " 2   GDP Per Capita [$]  6 non-null      int64 \n",
      " 3   Global Rank         6 non-null      int64 \n",
      "dtypes: int64(2), object(2)\n",
      "memory usage: 320.0+ bytes\n"
     ]
    }
   ],
   "source": [
    "# Obtain DataFrame information using the info() method\n",
    "GDP_df.info()"
   ]
  },
  {
   "cell_type": "code",
   "execution_count": 7,
   "metadata": {},
   "outputs": [
    {
     "data": {
      "text/html": [
       "<div>\n",
       "<style scoped>\n",
       "    .dataframe tbody tr th:only-of-type {\n",
       "        vertical-align: middle;\n",
       "    }\n",
       "\n",
       "    .dataframe tbody tr th {\n",
       "        vertical-align: top;\n",
       "    }\n",
       "\n",
       "    .dataframe thead th {\n",
       "        text-align: right;\n",
       "    }\n",
       "</style>\n",
       "<table border=\"1\" class=\"dataframe\">\n",
       "  <thead>\n",
       "    <tr style=\"text-align: right;\">\n",
       "      <th></th>\n",
       "      <th>company name</th>\n",
       "      <th>stock ticker symbol</th>\n",
       "      <th>price per share [$]</th>\n",
       "      <th>number of shares</th>\n",
       "    </tr>\n",
       "  </thead>\n",
       "  <tbody>\n",
       "    <tr>\n",
       "      <th>0</th>\n",
       "      <td>Alphabet</td>\n",
       "      <td>GOOG</td>\n",
       "      <td>99</td>\n",
       "      <td>2</td>\n",
       "    </tr>\n",
       "    <tr>\n",
       "      <th>1</th>\n",
       "      <td>Netflix</td>\n",
       "      <td>NFLX</td>\n",
       "      <td>245</td>\n",
       "      <td>7</td>\n",
       "    </tr>\n",
       "    <tr>\n",
       "      <th>2</th>\n",
       "      <td>Bank of America</td>\n",
       "      <td>BOA</td>\n",
       "      <td>33</td>\n",
       "      <td>15</td>\n",
       "    </tr>\n",
       "    <tr>\n",
       "      <th>3</th>\n",
       "      <td>Boeing</td>\n",
       "      <td>BA</td>\n",
       "      <td>136</td>\n",
       "      <td>30</td>\n",
       "    </tr>\n",
       "    <tr>\n",
       "      <th>4</th>\n",
       "      <td>Apple</td>\n",
       "      <td>AAPL</td>\n",
       "      <td>142</td>\n",
       "      <td>22</td>\n",
       "    </tr>\n",
       "  </tbody>\n",
       "</table>\n",
       "</div>"
      ],
      "text/plain": [
       "      company name stock ticker symbol  price per share [$]  number of shares\n",
       "0         Alphabet                GOOG                   99                 2\n",
       "1          Netflix                NFLX                  245                 7\n",
       "2  Bank of America                 BOA                   33                15\n",
       "3           Boeing                  BA                  136                30\n",
       "4            Apple                AAPL                  142                22"
      ]
     },
     "execution_count": 7,
     "metadata": {},
     "output_type": "execute_result"
    }
   ],
   "source": [
    "# Stock prices obtained from Yahoo Finance as of Oct 17th, 2022\n",
    "portfolio_df = pd.DataFrame({'company name': ['Alphabet', 'Netflix', 'Bank of America', 'Boeing', 'Apple'],\n",
    "                             'stock ticker symbol':['GOOG', 'NFLX', 'BOA', 'BA', 'AAPL'],\n",
    "                             'price per share [$]':[99, 245, 33, 136, 142],\n",
    "                             'number of shares':[2, 7, 15, 30, 22]})\n",
    "portfolio_df"
   ]
  },
  {
   "cell_type": "code",
   "execution_count": 8,
   "metadata": {},
   "outputs": [
    {
     "data": {
      "text/html": [
       "<div>\n",
       "<style scoped>\n",
       "    .dataframe tbody tr th:only-of-type {\n",
       "        vertical-align: middle;\n",
       "    }\n",
       "\n",
       "    .dataframe tbody tr th {\n",
       "        vertical-align: top;\n",
       "    }\n",
       "\n",
       "    .dataframe thead th {\n",
       "        text-align: right;\n",
       "    }\n",
       "</style>\n",
       "<table border=\"1\" class=\"dataframe\">\n",
       "  <thead>\n",
       "    <tr style=\"text-align: right;\">\n",
       "      <th></th>\n",
       "      <th>price per share [$]</th>\n",
       "      <th>number of shares</th>\n",
       "    </tr>\n",
       "  </thead>\n",
       "  <tbody>\n",
       "    <tr>\n",
       "      <th>count</th>\n",
       "      <td>5.000000</td>\n",
       "      <td>5.000000</td>\n",
       "    </tr>\n",
       "    <tr>\n",
       "      <th>mean</th>\n",
       "      <td>131.000000</td>\n",
       "      <td>15.200000</td>\n",
       "    </tr>\n",
       "    <tr>\n",
       "      <th>std</th>\n",
       "      <td>77.087612</td>\n",
       "      <td>11.256109</td>\n",
       "    </tr>\n",
       "    <tr>\n",
       "      <th>min</th>\n",
       "      <td>33.000000</td>\n",
       "      <td>2.000000</td>\n",
       "    </tr>\n",
       "    <tr>\n",
       "      <th>25%</th>\n",
       "      <td>99.000000</td>\n",
       "      <td>7.000000</td>\n",
       "    </tr>\n",
       "    <tr>\n",
       "      <th>50%</th>\n",
       "      <td>136.000000</td>\n",
       "      <td>15.000000</td>\n",
       "    </tr>\n",
       "    <tr>\n",
       "      <th>75%</th>\n",
       "      <td>142.000000</td>\n",
       "      <td>22.000000</td>\n",
       "    </tr>\n",
       "    <tr>\n",
       "      <th>max</th>\n",
       "      <td>245.000000</td>\n",
       "      <td>30.000000</td>\n",
       "    </tr>\n",
       "  </tbody>\n",
       "</table>\n",
       "</div>"
      ],
      "text/plain": [
       "       price per share [$]  number of shares\n",
       "count             5.000000          5.000000\n",
       "mean            131.000000         15.200000\n",
       "std              77.087612         11.256109\n",
       "min              33.000000          2.000000\n",
       "25%              99.000000          7.000000\n",
       "50%             136.000000         15.000000\n",
       "75%             142.000000         22.000000\n",
       "max             245.000000         30.000000"
      ]
     },
     "execution_count": 8,
     "metadata": {},
     "output_type": "execute_result"
    }
   ],
   "source": [
    "# Obtain a statistical summary\n",
    "portfolio_df.describe()"
   ]
  },
  {
   "cell_type": "code",
   "execution_count": 13,
   "metadata": {},
   "outputs": [
    {
     "name": "stdout",
     "output_type": "stream",
     "text": [
      "0     198\n",
      "1    1715\n",
      "2     495\n",
      "3    4080\n",
      "4    3124\n",
      "dtype: int64\n",
      "9612\n",
      "The total value of the portfolio = $9612\n"
     ]
    }
   ],
   "source": [
    "# Multiply the \"price per share\" by the \"number of stocks\"\n",
    "stocks_dollar_value = portfolio_df['price per share [$]'] * portfolio_df['number of shares']\n",
    "print(stocks_dollar_value)\n",
    "# Sum up all values\n",
    "print(stocks_dollar_value.sum())\n",
    "# Print the output\n",
    "print('The total value of the portfolio = ${}'.format(stocks_dollar_value.sum()))"
   ]
  }
 ],
 "metadata": {
  "kernelspec": {
   "display_name": "Python 3",
   "language": "python",
   "name": "python3"
  },
  "language_info": {
   "codemirror_mode": {
    "name": "ipython",
    "version": 3
   },
   "file_extension": ".py",
   "mimetype": "text/x-python",
   "name": "python",
   "nbconvert_exporter": "python",
   "pygments_lexer": "ipython3",
   "version": "3.10.4"
  }
 },
 "nbformat": 4,
 "nbformat_minor": 2
}
