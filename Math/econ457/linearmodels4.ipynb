{
 "cells": [
  {
   "cell_type": "markdown",
   "metadata": {},
   "source": [
    "## Linear Equations and Rounding Error: an Example"
   ]
  },
  {
   "cell_type": "code",
   "execution_count": null,
   "metadata": {},
   "outputs": [],
   "source": [
    "import numpy as np\n",
    "import scipy\n",
    "import scipy.linalg   # SciPy Linear Algebra Library"
   ]
  },
  {
   "cell_type": "code",
   "execution_count": null,
   "metadata": {},
   "outputs": [],
   "source": [
    "#Solving the system without pivoting\n",
    "myeps = 1e-17\n",
    "#myeps = 1e-14\n",
    "#myeps = 1e-08\n",
    "\n",
    "x2 = (2-1/myeps)/(1-1/myeps)\n",
    "x1 = (1-x2)/myeps\n",
    "\n",
    "print(\"x2:\",x2)\n",
    "print(\"x1:\",x1)"
   ]
  },
  {
   "cell_type": "code",
   "execution_count": null,
   "metadata": {},
   "outputs": [],
   "source": [
    "#Solving the system with pivoting\n",
    "myeps = 1e-17\n",
    "#myeps = 1e-14\n",
    "#myeps = 1e-08\n",
    "\n",
    "x2 = (1-2*myeps)/(1-myeps)\n",
    "x1 = 2-x2\n",
    "\n",
    "print(\"x2:\",x2)\n",
    "print(\"x1:\",x1)"
   ]
  },
  {
   "cell_type": "markdown",
   "metadata": {},
   "source": [
    "Let's check how the SciPy solver behaves:"
   ]
  },
  {
   "cell_type": "code",
   "execution_count": null,
   "metadata": {},
   "outputs": [],
   "source": [
    "from sympy import *\n",
    "#Matrix representation of the system : Ax=b\n",
    "A = np.matrix([ [myeps, 1.0], \n",
    "     [1.0, 1.0] ])\n",
    "\n",
    "b = np.array([ 1.0 , 2.0 ] )"
   ]
  },
  {
   "cell_type": "code",
   "execution_count": null,
   "metadata": {},
   "outputs": [],
   "source": [
    "#The solution of the linear system using the SciPy solver is accurate\n",
    "x = scipy.linalg.solve(A, b)\n",
    "\n",
    "x"
   ]
  },
  {
   "cell_type": "markdown",
   "metadata": {},
   "source": [
    "Let's compute the condition number in a special case"
   ]
  },
  {
   "cell_type": "code",
   "execution_count": null,
   "metadata": {},
   "outputs": [],
   "source": [
    "#Create a Vandermonde matrix\n",
    "xvan = np.array([1, 2, 3, 4])\n",
    "N = 4\n",
    "ndarray=np.vander(xvan, N)\n",
    "\n",
    "ndarray"
   ]
  },
  {
   "cell_type": "code",
   "execution_count": null,
   "metadata": {},
   "outputs": [],
   "source": [
    "#Use as vector of constants the sum of each row\n",
    "bvan = np.array([ 4, 15, 40, 85] )\n",
    "\n",
    "bvan"
   ]
  },
  {
   "cell_type": "code",
   "execution_count": null,
   "metadata": {},
   "outputs": [],
   "source": [
    "#Compute the solution\n",
    "xvan=np.linalg.solve(ndarray,bvan)\n",
    "\n",
    "#Report the solution\n",
    "xvan"
   ]
  },
  {
   "cell_type": "code",
   "execution_count": null,
   "metadata": {},
   "outputs": [],
   "source": [
    "#Compute and display the condition number\n",
    "#For more details see https://stackoverflow.com/questions/47929814/condition-number-of-a-matrix-using-numpy\n",
    "condnumb=np.linalg.cond(ndarray)\n",
    "\n",
    "condnumb\n",
    "\n",
    "#Note: the plot in the slides has Log_10 on the vertical axis\n",
    "# 1171.012=1.171012*10^3 -> the Log_10 condition number is approximately 3"
   ]
  },
  {
   "cell_type": "code",
   "execution_count": null,
   "metadata": {},
   "outputs": [],
   "source": []
  }
 ],
 "metadata": {
  "kernelspec": {
   "display_name": "Python 3 (ipykernel)",
   "language": "python",
   "name": "python3"
  },
  "language_info": {
   "codemirror_mode": {
    "name": "ipython",
    "version": 3
   },
   "file_extension": ".py",
   "mimetype": "text/x-python",
   "name": "python",
   "nbconvert_exporter": "python",
   "pygments_lexer": "ipython3",
   "version": "3.9.7"
  }
 },
 "nbformat": 4,
 "nbformat_minor": 2
}
