{
 "cells": [
  {
   "cell_type": "markdown",
   "metadata": {},
   "source": [
    "### Efficient Portfolios"
   ]
  },
  {
   "cell_type": "markdown",
   "metadata": {
    "collapsed": true
   },
   "source": [
    "The portfolio optimisation model, originally proposed by Markowitz (1952), selects proportions of assets to be included in a portfolio. \n",
    "- To have an efficient portfolio: \n",
    "  - the expected return should be maximised contingent on any given number of risks; \n",
    "  - or the risk should be minimised for a given expected return.\n",
    "- Thus, investors are confronted with a trade-off between expected return and risk.\n",
    "- The expected return-risk relationship of efficient portfolios is represented by an efficient frontier curve."
   ]
  },
  {
   "cell_type": "markdown",
   "metadata": {},
   "source": [
    "$$\\max c^T x,$$\n",
    "\n",
    "$$\\mathrm{s.t.} \\quad x^T H x = \\bar \\sigma ^2$$\n",
    "\n",
    "$$\\sum_{i=1}^{n} x_i = 1$$\n",
    "\n",
    "$$x_i \\ge 0$$"
   ]
  },
  {
   "cell_type": "markdown",
   "metadata": {},
   "source": [
    "where \n",
    "- n is the number of assets, \n",
    "- x, n × 1, is the vector of the shares invested in each asset i, \n",
    "- c, n × 1, is the vector of the average benefit per asset, \n",
    "- H, n × n, is the covariance matrix, and \n",
    "- $σ^2$ is the expected risk goal.\n",
    "This problem is know as a **quadratic programming problem**"
   ]
  },
  {
   "cell_type": "markdown",
   "metadata": {},
   "source": [
    "Alternatively, minimise the risk subject to an expected return, $c$,\n",
    "\n",
    "$$\\min x^T H x,$$\n",
    "\n",
    "$$\\mathrm{s.t.} \\quad c^T x = \\bar c $$\n",
    "\n",
    "$$\\sum_{i=1}^{n} x_i = 1$$\n",
    "\n",
    "$$x_i \\ge 0$$\n",
    "\n",
    "\n"
   ]
  },
  {
   "cell_type": "markdown",
   "metadata": {},
   "source": [
    "The global minimum variance portfolio is the one satisfying the minimization problem.\n",
    "\n",
    "The **efficient frontier** is the set of pairs (risk, return) for which the returns are greater than the return provided by the minimum variance portfolio."
   ]
  },
  {
   "cell_type": "markdown",
   "metadata": {},
   "source": [
    "The aim is to find the values of variables that optimise an objective, conditional (or not) to constraints.\n",
    "Numerical methods overcome limitations of size, but there is no universal algorithm to solve optimisation problems."
   ]
  },
  {
   "cell_type": "markdown",
   "metadata": {},
   "source": [
    "- **Optimisation problems** can be classified in various ways, according to, for example: \n",
    "\n",
    " - (i) functions involved; \n",
    " - (ii) type of variables used; \n",
    " - (iii) type of restrictions considered; \n",
    " - (iv) type of solution to be obtained; and \n",
    " - (v) differentiability of the functions involved.\n",
    "\n",
    "\n",
    "- Among the countless optimisation problems, linear, quadratic and nonlinear programming are the most usual. \n",
    "\n",
    "- Many algorithms for nonlinear programming problems only seek local solutions; in particular, for convex linear programming, local solutions are global."
   ]
  },
  {
   "cell_type": "markdown",
   "metadata": {},
   "source": [
    "### General form"
   ]
  },
  {
   "cell_type": "markdown",
   "metadata": {},
   "source": [
    "objective function:\n",
    "\n",
    "$$\\min f(x)$$\n",
    "\n",
    "linear inequality constraint:\n",
    "\n",
    "$$\\mathrm{s.t.} \\quad Ax \\le a$$\n",
    "\n",
    "linear equality constraint:\n",
    "\n",
    "$$Bx = b$$\n",
    "\n",
    "lower and upper bound:\n",
    "\n",
    "$$LB \\le x \\le UB$$\n",
    "\n",
    "non-linear equality constraint:\n",
    "\n",
    "$$c_{eq}(x)=0$$\n",
    "\n",
    "non-linear inequality constraint:\n",
    "\n",
    "$$c_{ineq}(x)<0$$\n",
    "\n",
    "initial guess:\n",
    "$$x_0 = \\bar x_0$$"
   ]
  },
  {
   "cell_type": "markdown",
   "metadata": {},
   "source": [
    "### An Example\n",
    "\n",
    "Mathematical optimization problems may include equality constraints (e.g. =), inequality constraints (e.g. <, <=, >, >=), objective functions, non-linear constraints, continuous variables, discrete or integer variables, etc. One example of an optimization problem from a benchmark test set is the Hock Schittkowski problem #71.\n",
    "\n",
    "$$\\min x_1 x_4 \\left(x_1 + x_2 + x_3\\right) + x_3$$\n",
    "\n",
    "$$\\mathrm{s.t.} \\quad x_1 x_2 x_3 x_4 \\ge 25$$\n",
    "\n",
    "$$x_1^2 + x_2^2 + x_3^2 + x_4^2 = 40$$\n",
    "\n",
    "$$1\\le x_1, x_2, x_3, x_4 \\le 5$$\n",
    "\n",
    "\n",
    "$$x_0 = (1,5,5,1)$$"
   ]
  },
  {
   "cell_type": "code",
   "execution_count": 1,
   "metadata": {
    "scrolled": true
   },
   "outputs": [
    {
     "name": "stdout",
     "output_type": "stream",
     "text": [
      "Initial SSE Objective: 16.0\n",
      "Final SSE Objective: 17.01401724556073\n",
      "Solution\n",
      "x1 = 1.0\n",
      "x2 = 4.742996065636972\n",
      "x3 = 3.8211546642483363\n",
      "x4 = 1.3794076394141688\n",
      "Constraints\n",
      "C1 =  24.999999945125793\n",
      "C2 =  40.000000082428784\n"
     ]
    }
   ],
   "source": [
    "import numpy as np\n",
    "from scipy.optimize import minimize\n",
    "\n",
    "def objective_ex(x):\n",
    "    return x[0]*x[3]*(x[0]+x[1]+x[2])+x[2]\n",
    "\n",
    "def constraint1(x):\n",
    "    return x[0]*x[1]*x[2]*x[3]-25.0\n",
    "\n",
    "def constraint2(x):\n",
    "    sum_eq = 0.0\n",
    "    for i in range(4):\n",
    "        sum_eq = sum_eq + x[i]**2\n",
    "        \n",
    "    sum_eq = sum_eq-40.0    \n",
    "    return sum_eq\n",
    "\n",
    "# initial guesses\n",
    "n = 4\n",
    "x0 = np.zeros(n)\n",
    "x0[0] = 1.0\n",
    "x0[1] = 5.0\n",
    "x0[2] = 5.0\n",
    "x0[3] = 1.0\n",
    "\n",
    "#A different guess gives the same result\n",
    "#x0[0] = 1.0\n",
    "#x0[1] = 1.5\n",
    "#x0[2] = 1.5\n",
    "#x0[3] = 2.0\n",
    "\n",
    "#A different guess does not give the same result\n",
    "#x0[0] = 1.0\n",
    "#x0[1] = 2.0\n",
    "#x0[2] = 3.0\n",
    "#x0[3] = 4.0\n",
    "\n",
    "# show initial objective\n",
    "print('Initial SSE Objective: ' + str(objective_ex(x0)))\n",
    "\n",
    "# optimize\n",
    "b = (1.0,5.0)\n",
    "bnds = (b, b, b, b)\n",
    "con1 = {'type': 'ineq', 'fun': constraint1} \n",
    "con2 = {'type': 'eq', 'fun': constraint2}\n",
    "cons = ([con1,con2])\n",
    "solution = minimize(objective_ex,x0,method='SLSQP',\\\n",
    "                    bounds=bnds,constraints=cons)\n",
    "x = solution.x\n",
    "\n",
    "# show final objective\n",
    "print('Final SSE Objective: ' + str(objective_ex(x)))\n",
    "\n",
    "# show solution\n",
    "print('Solution')\n",
    "print('x1 = ' + str(x[0]))\n",
    "print('x2 = ' + str(x[1]))\n",
    "print('x3 = ' + str(x[2]))\n",
    "print('x4 = ' + str(x[3]))\n",
    "\n",
    "# check constraints\n",
    "print('Constraints')\n",
    "print('C1 = ', x[0]*x[1]*x[2]*x[3])\n",
    "print('C2 = ', x[0]*x[0]+x[1]*x[1]+x[2]*x[2]+x[3]*x[3])"
   ]
  },
  {
   "cell_type": "markdown",
   "metadata": {},
   "source": [
    "### Portfolio with minimum variance\n",
    "\n",
    "Consider the following data, for the returns vector and covariance matrix, respectively:"
   ]
  },
  {
   "cell_type": "code",
   "execution_count": 2,
   "metadata": {},
   "outputs": [],
   "source": [
    "# first consider a two-asset case, with a risk-free asset\n",
    "# returns vector\n",
    "c = np.array([0.100, 0.200])"
   ]
  },
  {
   "cell_type": "code",
   "execution_count": 3,
   "metadata": {},
   "outputs": [],
   "source": [
    "# covariance matrix\n",
    "#No risk-free asset is available\n",
    "#H = np.array([[0.005, -0.010],\n",
    "#                [-0.010, 0.040]])\n",
    "\n",
    "#A risk-free asset is available\n",
    "H = np.array([[10e-10, 0.000],\n",
    "               [0.000, 0.040]])"
   ]
  },
  {
   "cell_type": "code",
   "execution_count": 4,
   "metadata": {},
   "outputs": [],
   "source": [
    "def objective(x):\n",
    "    return x@H@x  #Note: This is a global minimum variance specification\n",
    "    #return 0.5*x@H@x - x@c #Note: This is a mean-variance specification"
   ]
  },
  {
   "cell_type": "code",
   "execution_count": 5,
   "metadata": {},
   "outputs": [],
   "source": [
    "# initial guesses\n",
    "n = 2\n",
    "x0 = np.zeros(n)\n",
    "x0[0] = 1.0/n\n",
    "x0[1] = 1.0/n"
   ]
  },
  {
   "cell_type": "code",
   "execution_count": 6,
   "metadata": {},
   "outputs": [
    {
     "name": "stdout",
     "output_type": "stream",
     "text": [
      "Initial SSE Objective: 0.01000000025\n"
     ]
    }
   ],
   "source": [
    "# show initial objective\n",
    "print('Initial SSE Objective: ' + str(objective(x0)))"
   ]
  },
  {
   "cell_type": "code",
   "execution_count": 8,
   "metadata": {},
   "outputs": [],
   "source": [
    "def constraint(x):\n",
    "    return 1-np.sum(x)"
   ]
  },
  {
   "cell_type": "code",
   "execution_count": 9,
   "metadata": {},
   "outputs": [],
   "source": [
    "# set \"minimize\" optimizer options and call it\n",
    "#b = (0,np.inf)\n",
    "b = (0,1)\n",
    "bnds = (b, b)\n",
    "con = {'type': 'eq', 'fun': constraint} \n",
    "\n",
    "solution = minimize(objective,x0,method='SLSQP',\\\n",
    "                    bounds=bnds,constraints=con)\n",
    "x = solution.x"
   ]
  },
  {
   "cell_type": "code",
   "execution_count": 10,
   "metadata": {},
   "outputs": [
    {
     "name": "stdout",
     "output_type": "stream",
     "text": [
      "Final SSE Objective: 9.999999782558578e-10\n",
      "Final expected return: 0.10000000159780024\n",
      "Final risk: 9.999999782558578e-10\n",
      "Optimal Portfolio\n",
      "x1 = 0.9999999840219975\n",
      "x2 = 1.5978002476657593e-08\n"
     ]
    }
   ],
   "source": [
    "# show final objective\n",
    "print('Final SSE Objective: ' + str(objective(x)))\n",
    "\n",
    "# show final expected return\n",
    "print('Final expected return: ' + str(x@c))\n",
    "\n",
    "# show final risk\n",
    "print('Final risk: ' + str(x@H@x))\n",
    "\n",
    "# show solution\n",
    "print('Optimal Portfolio')\n",
    "print('x1 = ' + str(x[0]))\n",
    "print('x2 = ' + str(x[1]))"
   ]
  },
  {
   "cell_type": "markdown",
   "metadata": {},
   "source": [
    "### Portfolio with minimum variance\n",
    "\n",
    "Consider the following data, for the returns vector and covariance matrix, respectively:\n"
   ]
  },
  {
   "cell_type": "code",
   "execution_count": 11,
   "metadata": {},
   "outputs": [],
   "source": [
    "# Now consider a three-asset case, without a risk-free asset\n",
    "# returns vector\n",
    "c = np.array([0.100, 0.200, 0.150])"
   ]
  },
  {
   "cell_type": "code",
   "execution_count": 12,
   "metadata": {},
   "outputs": [],
   "source": [
    "# covariance matrix\n",
    "H = np.array([[0.005, -0.010, 0.004],\n",
    "                [-0.010, 0.040, -0.002],\n",
    "               [0.004, -0.002, 0.023]])"
   ]
  },
  {
   "cell_type": "code",
   "execution_count": 13,
   "metadata": {},
   "outputs": [],
   "source": [
    "def objective(x):\n",
    "    return x@H@x\n",
    "    #return -0.5*x@H@x + x@c #Be careful with the objective function (this would be for a max)."
   ]
  },
  {
   "cell_type": "code",
   "execution_count": 14,
   "metadata": {},
   "outputs": [],
   "source": [
    "# initial guesses\n",
    "n = 3\n",
    "x0 = np.zeros(n)\n",
    "x0[0] = 1.0/n\n",
    "x0[1] = 1.0/n\n",
    "x0[2] = 1.0/n"
   ]
  },
  {
   "cell_type": "code",
   "execution_count": 15,
   "metadata": {},
   "outputs": [
    {
     "name": "stdout",
     "output_type": "stream",
     "text": [
      "Initial SSE Objective: 0.005777777777777777\n"
     ]
    }
   ],
   "source": [
    "# show initial objective\n",
    "print('Initial SSE Objective: ' + str(objective(x0)))"
   ]
  },
  {
   "cell_type": "code",
   "execution_count": 16,
   "metadata": {},
   "outputs": [],
   "source": [
    "def constraint(x):\n",
    "    return 1-np.sum(x)"
   ]
  },
  {
   "cell_type": "code",
   "execution_count": 17,
   "metadata": {},
   "outputs": [],
   "source": [
    "# set \"minimize\" optimizer options and call it\n",
    "#b = (0,np.inf)\n",
    "b = (0,1)\n",
    "bnds = (b, b, b)\n",
    "con = {'type': 'eq', 'fun': constraint} \n",
    "\n",
    "solution = minimize(objective,x0,method='SLSQP',\\\n",
    "                    bounds=bnds,constraints=con)\n",
    "x = solution.x"
   ]
  },
  {
   "cell_type": "code",
   "execution_count": 18,
   "metadata": {},
   "outputs": [
    {
     "name": "stdout",
     "output_type": "stream",
     "text": [
      "Final SSE Objective: 0.0015384615384615393\n",
      "Final expected return: 0.1230769226786553\n",
      "Final risk:  0.039223227027636816\n",
      "Optimal Portfolio\n",
      "x1 = 0.769230773213447\n",
      "x2 = 0.23076922678655298\n",
      "x3 = 0.0\n"
     ]
    }
   ],
   "source": [
    "# risk is represented by the s.d., hence we'll need to compute a square-root\n",
    "import math\n",
    "\n",
    "# show final objective\n",
    "print('Final SSE Objective: ' + str(objective(x)))\n",
    "\n",
    "# show final expected return\n",
    "print('Final expected return: ' + str(x@c))\n",
    "\n",
    "# show final risk\n",
    "print('Final risk: ', math.sqrt(x@H@x) )\n",
    "\n",
    "# show solution\n",
    "print('Optimal Portfolio')\n",
    "print('x1 = ' + str(x[0]))\n",
    "print('x2 = ' + str(x[1]))\n",
    "print('x3 = ' + str(x[2]))"
   ]
  },
  {
   "cell_type": "markdown",
   "metadata": {},
   "source": [
    "### Portfolio with the same expected return as the asset with the highest return\n",
    "\n",
    "In order to find the efficient frontier, we need to find the upper bound to the expected return. We then identify the portfolio that minimizes the risk, subject to the constraint that it delivers the same return as the asset with the highest return.\n"
   ]
  },
  {
   "cell_type": "code",
   "execution_count": 19,
   "metadata": {},
   "outputs": [],
   "source": [
    "# initial guesses\n",
    "n = 3\n",
    "x0 = np.zeros(n)\n",
    "x0[0] = 1.0/n\n",
    "x0[1] = 1.0/n\n",
    "x0[2] = 1.0/n\n",
    "\n",
    "# compute the max expected return\n",
    "maxret = max(c)"
   ]
  },
  {
   "cell_type": "code",
   "execution_count": 20,
   "metadata": {},
   "outputs": [
    {
     "name": "stdout",
     "output_type": "stream",
     "text": [
      "Initial SSE Objective: 0.005777777777777777\n"
     ]
    }
   ],
   "source": [
    "# show initial objective\n",
    "print('Initial SSE Objective: ' + str(objective(x0)))"
   ]
  },
  {
   "cell_type": "code",
   "execution_count": 21,
   "metadata": {},
   "outputs": [],
   "source": [
    "def constraintsum(x):\n",
    "    return 1-np.sum(x)"
   ]
  },
  {
   "cell_type": "code",
   "execution_count": 22,
   "metadata": {},
   "outputs": [],
   "source": [
    "def constraintmax(x):\n",
    "    return x@c-maxret"
   ]
  },
  {
   "cell_type": "code",
   "execution_count": 23,
   "metadata": {},
   "outputs": [],
   "source": [
    "# set \"minimize\" optimizer options and call it\n",
    "b = (0,np.inf)\n",
    "bnds = (b, b, b)\n",
    "conmax1 = {'type': 'eq', 'fun': constraintsum} \n",
    "conmax2 = {'type': 'eq', 'fun': constraintmax}\n",
    "conmax = ([conmax1,conmax2])\n",
    "\n",
    "solution = minimize(objective,x0,method='SLSQP',\\\n",
    "                    bounds=bnds,constraints=conmax)\n",
    "x = solution.x"
   ]
  },
  {
   "cell_type": "code",
   "execution_count": 24,
   "metadata": {},
   "outputs": [
    {
     "name": "stdout",
     "output_type": "stream",
     "text": [
      "Final SSE Objective: 0.03999999999987463\n",
      "Final expected return: 0.19999999999992538\n",
      "Final risk:  0.19999999999968657\n",
      "Optimal Portfolio\n",
      "x1 = 0.0\n",
      "x2 = 0.9999999999985074\n",
      "x3 = 1.4925390432038096e-12\n"
     ]
    }
   ],
   "source": [
    "# risk is represented by the s.d., hence we'll need to compute a square-root\n",
    "import math\n",
    "\n",
    "# show final objective\n",
    "print('Final SSE Objective: ' + str(objective(x)))\n",
    "\n",
    "# show final expected return\n",
    "print('Final expected return: ' + str(x@c))\n",
    "\n",
    "# show final risk\n",
    "print('Final risk: ', math.sqrt(x@H@x) )\n",
    "\n",
    "# show solution\n",
    "print('Optimal Portfolio')\n",
    "print('x1 = ' + str(x[0]))\n",
    "print('x2 = ' + str(x[1]))\n",
    "print('x3 = ' + str(x[2]))"
   ]
  },
  {
   "cell_type": "markdown",
   "metadata": {},
   "source": [
    "### Computation of the efficient frontier\n",
    "\n",
    "In order to compute the efficient frontier, we use the information we obtained on both the portfolio with the minimum global variance and the one with the highest return.\n",
    "We will have to solve a sequence of optimization problems. Every problem is similar to the ones we have already considered, but we need to consider a different constraint. The portfolio has to deliver a rate of return equal to a predefined value. Obviously, this value has to be between the rate of return of the portfolio with the minimum global variance and the one with the highest return."
   ]
  }
 ],
 "metadata": {
  "kernelspec": {
   "display_name": "Python 3 (ipykernel)",
   "language": "python",
   "name": "python3"
  },
  "language_info": {
   "codemirror_mode": {
    "name": "ipython",
    "version": 3
   },
   "file_extension": ".py",
   "mimetype": "text/x-python",
   "name": "python",
   "nbconvert_exporter": "python",
   "pygments_lexer": "ipython3",
   "version": "3.11.4"
  }
 },
 "nbformat": 4,
 "nbformat_minor": 2
}
