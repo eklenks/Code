{
 "cells": [
  {
   "cell_type": "markdown",
   "metadata": {},
   "source": [
    "#### Variables"
   ]
  },
  {
   "cell_type": "code",
   "execution_count": 26,
   "metadata": {},
   "outputs": [
    {
     "name": "stdout",
     "output_type": "stream",
     "text": [
      "Apple\n",
      "<class 'str'>\n"
     ]
    }
   ],
   "source": [
    "# Variables are assigned values, including strings, numbers (ints and floats), and booleans.\n",
    "company_name = 'Apple'\n",
    "# Let's display the variable company_name and its type.\n",
    "print(company_name)\n",
    "print(type(company_name))"
   ]
  },
  {
   "cell_type": "code",
   "execution_count": 33,
   "metadata": {},
   "outputs": [
    {
     "name": "stdout",
     "output_type": "stream",
     "text": [
      "20500\n",
      "394.3\n",
      "Pays Dividend\n"
     ]
    }
   ],
   "source": [
    "# More variables. ints are whole numbers, floats are decimal numbers.\n",
    "revenue = 394.32\n",
    "pays_dividend = True # Booleans are True or False\n",
    "num_employees = 10000\n",
    "num_employees = num_employees*2+500\n",
    "\n",
    "print(num_employees)\n",
    "print(round(revenue, 1))\n",
    "if pays_dividend == True:\n",
    "    print('Pays Dividend')"
   ]
  },
  {
   "cell_type": "markdown",
   "metadata": {},
   "source": [
    "#### Strings"
   ]
  },
  {
   "cell_type": "code",
   "execution_count": 34,
   "metadata": {},
   "outputs": [
    {
     "data": {
      "text/plain": [
       "'Hello & Welcome to Python Programming Fundamentals Course!'"
      ]
     },
     "execution_count": 34,
     "metadata": {},
     "output_type": "execute_result"
    }
   ],
   "source": [
    "# A string is a sequence of characters enclosed by either double or single quotation marks\n",
    "welcome_message = \"Hello & Welcome to Python Programming Fundamentals Course!\"\n",
    "# The .upper() method is used to convert the string into uppercase\n",
    "welcome_message.upper()"
   ]
  },
  {
   "cell_type": "code",
   "execution_count": 40,
   "metadata": {},
   "outputs": [
    {
     "name": "stdout",
     "output_type": "stream",
     "text": [
      "['Hello', '&', 'Welcome', 'to', 'Python', 'Programming', 'Fundamentals', 'Course!']\n",
      "['Hello ', ' Welcome to Python Programming Fundamentals Course!']\n"
     ]
    },
    {
     "data": {
      "text/plain": [
       "'Sarah David'"
      ]
     },
     "execution_count": 40,
     "metadata": {},
     "output_type": "execute_result"
    }
   ],
   "source": [
    "# The .split() method is used to divide up the string into words \n",
    "# output is a list which is denoted by square bracket - []\n",
    "words = welcome_message.split()\n",
    "print(words)\n",
    "# You can specify which letter could be used to perform the split\n",
    "words = welcome_message.split('&')\n",
    "print(words)\n",
    "# Can combine strings using the + operator\n",
    "first_name = \"Sarah\" \n",
    "last_name = \"David\"\n",
    "full_name = first_name + \" \" + last_name\n",
    "full_name"
   ]
  },
  {
   "cell_type": "code",
   "execution_count": 43,
   "metadata": {},
   "outputs": [
    {
     "name": "stdout",
     "output_type": "stream",
     "text": [
      "Here are the list of words you entered: ['']\n"
     ]
    }
   ],
   "source": [
    "# The code will get the user input and split it into words separated by space \" \"\n",
    "feedback = input(\"Welcome to the bank, What did we do at the bank today?\")\n",
    "words = feedback.split(\" \")\n",
    "print(\"Here are the list of words you entered:\", words)"
   ]
  },
  {
   "cell_type": "markdown",
   "metadata": {},
   "source": [
    "#### Lists\n",
    "   - 1. Print the first, second and fourth elements individually\n",
    "   - 2. Print the last element using 3 different methods\n",
    "   - 3. Print all elements in the list, first 3 elements, and last three elements"
   ]
  },
  {
   "cell_type": "code",
   "execution_count": 2,
   "metadata": {},
   "outputs": [
    {
     "name": "stdout",
     "output_type": "stream",
     "text": [
      "Pioneer Natural Resources Co. (ticker: PXD)\n",
      "Lumen Technologies Inc. (LUMN)\n",
      "Vornado Realty Trust (VNO)\n",
      "Kinder Morgan Inc. (KMI)\n",
      "Kinder Morgan Inc. (KMI)\n",
      "Kinder Morgan Inc. (KMI)\n",
      "['Pioneer Natural Resources Co. (ticker: PXD)', 'Lumen Technologies Inc. (LUMN)', 'Altria Group Inc. (MO)', 'Vornado Realty Trust (VNO)', 'Devon Energy Corp. (DVN)', 'AT&T Inc. (T)', 'Simon Property Group Inc. (SPG)', 'Verizon Communications Inc. (VZ)', 'Kinder Morgan Inc. (KMI)']\n",
      "['Pioneer Natural Resources Co. (ticker: PXD)', 'Lumen Technologies Inc. (LUMN)', 'Altria Group Inc. (MO)']\n",
      "['Simon Property Group Inc. (SPG)', 'Verizon Communications Inc. (VZ)', 'Kinder Morgan Inc. (KMI)']\n"
     ]
    }
   ],
   "source": [
    "dividend_companies = ['Pioneer Natural Resources Co. (ticker: PXD)', 'Lumen Technologies Inc. (LUMN)', 'Altria Group Inc. (MO)', 'Vornado Realty Trust (VNO)', 'Devon Energy Corp. (DVN)', 'AT&T Inc. (T)', 'Simon Property Group Inc. (SPG)', 'Verizon Communications Inc. (VZ)', 'Kinder Morgan Inc. (KMI)']\n",
    "#1\n",
    "print(dividend_companies[0])\n",
    "print(dividend_companies[1])\n",
    "print(dividend_companies[3])\n",
    "#2\n",
    "print(dividend_companies[8])\n",
    "print(dividend_companies[-1])\n",
    "print(dividend_companies[len(dividend_companies)-1])\n",
    "#3\n",
    "print(dividend_companies[:])\n",
    "print(dividend_companies[0:3])\n",
    "print(dividend_companies[6:])"
   ]
  },
  {
   "cell_type": "markdown",
   "metadata": {},
   "source": [
    "#### Length function"
   ]
  },
  {
   "cell_type": "code",
   "execution_count": 10,
   "metadata": {},
   "outputs": [
    {
     "name": "stdout",
     "output_type": "stream",
     "text": [
      "index = 4\n",
      "The price of Naspers stock = $30\n",
      "index = 3\n",
      "The price of Novo Nordisk stock = $125\n",
      "index = 2\n",
      "The price of Alibaba stock = $12\n",
      "index = 1\n",
      "The price of Samsung stock = $45\n",
      "index = 0\n",
      "The price of Apple stock = $142\n",
      "\n",
      "\n",
      "index = 4\n",
      "The price of Naspers stock = $30\n",
      "index = 2\n",
      "The price of Alibaba stock = $12\n",
      "index = 0\n",
      "The price of Apple stock = $142\n"
     ]
    }
   ],
   "source": [
    "stocks_names = ['Apple', 'Samsung', 'Alibaba', 'Novo Nordisk', 'Naspers']\n",
    "stock_prices = [142, 45, 12, 125, 30]\n",
    "# to get length: len(stocks_names)  (will = 5)\n",
    "# Let's assume we want to print out the list in a reversed order \n",
    "# We use the \"reversed\" function along with range \n",
    "# Note that we started with index 4 until index 0\n",
    "for i in reversed(range(len(stocks_names))):\n",
    "    print('index = {}'.format(i))\n",
    "    print('The price of {} stock = ${}'.format(stocks_names[i], stock_prices[i]))\n",
    "print('\\n')\n",
    "#skips every other element\n",
    "for i in reversed(range(0, len(stocks_names), 2)):\n",
    "    print('index = {}'.format(i))\n",
    "    print('The price of {} stock = ${}'.format(stocks_names[i], stock_prices[i]))"
   ]
  },
  {
   "cell_type": "markdown",
   "metadata": {},
   "source": [
    "#### For loop"
   ]
  },
  {
   "cell_type": "code",
   "execution_count": 6,
   "metadata": {},
   "outputs": [
    {
     "data": {
      "text/plain": [
       "150"
      ]
     },
     "execution_count": 6,
     "metadata": {},
     "output_type": "execute_result"
    }
   ],
   "source": [
    "# Define the python list\n",
    "my_list = [10, 5, 3]\n",
    "\n",
    "# Initialize the accumulator to 1\n",
    "product = 1\n",
    "\n",
    "for i in my_list:\n",
    "    product = product * i \n",
    "product"
   ]
  },
  {
   "cell_type": "markdown",
   "metadata": {},
   "source": [
    "#### Comparison Operators"
   ]
  },
  {
   "cell_type": "code",
   "execution_count": 47,
   "metadata": {},
   "outputs": [
    {
     "name": "stdout",
     "output_type": "stream",
     "text": [
      "False\n",
      "True\n",
      "True\n"
     ]
    }
   ],
   "source": [
    "# Equal comparison operator '=='\n",
    "# Greater than or equal operator '>='\n",
    "# Not equal comparison operator '!='\n",
    "revenue_A = 5000\n",
    "revenue_B = 1000\n",
    "#storing one of the comparison in a variable\n",
    "bool_var = revenue_A >= revenue_B\n",
    "print(revenue_A == revenue_B)\n",
    "print(bool_var)\n",
    "print(revenue_A != revenue_B)"
   ]
  },
  {
   "cell_type": "markdown",
   "metadata": {},
   "source": [
    "#### If Else Statements"
   ]
  },
  {
   "cell_type": "code",
   "execution_count": 45,
   "metadata": {},
   "outputs": [
    {
     "name": "stdout",
     "output_type": "stream",
     "text": [
      "Number is odd\n"
     ]
    }
   ],
   "source": [
    "# A code that indicates if a number is even or odd \n",
    "# Note that the mod % is used to calculate the remainder from the division operation \n",
    "x = int(input(\"Please enter an integer from 1 to 1000: \"))\n",
    "\n",
    "if x % 2 == 0:\n",
    "    print('Number is even')\n",
    "else:\n",
    "    print('Number is odd')"
   ]
  },
  {
   "cell_type": "code",
   "execution_count": 44,
   "metadata": {},
   "outputs": [
    {
     "name": "stdout",
     "output_type": "stream",
     "text": [
      "Company A generates more revenue compared to Company B\n"
     ]
    }
   ],
   "source": [
    "# Let's assume that we want to compare two companies' revenue - company A and company B\n",
    "if revenue_A > revenue_B:\n",
    "    print('Company A generates more revenue compared to Company B')\n",
    "elif revenue_A < revenue_B:\n",
    "    print('Company B generates more revenue compared to Company B')\n",
    "else:\n",
    "    print('Company A generates equal revenue to Company B')"
   ]
  },
  {
   "cell_type": "code",
   "execution_count": 49,
   "metadata": {},
   "outputs": [
    {
     "name": "stdout",
     "output_type": "stream",
     "text": [
      "The stock value based on the Dividend Discount Model = $55.0\n",
      "Stock is overvalued, you should not invest in this stock\n"
     ]
    }
   ],
   "source": [
    "price = 64\n",
    "# Define current (this year's) dividend\n",
    "dividend_0 = 2\n",
    "# Define the expected dividend growth\n",
    "growth = 0.1\n",
    "# Define the cost of equity\n",
    "cost_of_equity = 0.14\n",
    "\n",
    "# Let's calculate next year's dividend dividend_1\n",
    "dividend_1 = dividend_0 * (1 + growth)\n",
    "# Perform stock valuation using the dividend discount model \n",
    "DDM = dividend_1 / (cost_of_equity - growth)\n",
    "\n",
    "# Print the stock valuation\n",
    "print(\"The stock value based on the Dividend Discount Model = ${}\".format(round(DDM, 2)))\n",
    "# Compare the stock valuation (based on the dividend growth model) to the current stock price\n",
    "if price > DDM:\n",
    "    print(\"Stock is overvalued, you should not invest in this stock\")\n",
    "elif price < DDM:\n",
    "    print(\"Stock is undervalued, you should invest in this stock\")\n",
    "else:\n",
    "    print('Stock is fairly valued')"
   ]
  },
  {
   "cell_type": "markdown",
   "metadata": {},
   "source": [
    "#### While Loops"
   ]
  },
  {
   "cell_type": "code",
   "execution_count": null,
   "metadata": {},
   "outputs": [],
   "source": [
    "# \"While\" loops continuously repeat a block of code as long as a given condition is held “True”\n",
    "# Let's initialize a counter \"i\" by placing zero in it\n",
    "i = 0\n",
    "\n",
    "while i <= 3:\n",
    "    print(i)\n",
    "    i = i + 1"
   ]
  },
  {
   "cell_type": "code",
   "execution_count": 63,
   "metadata": {},
   "outputs": [
    {
     "name": "stdout",
     "output_type": "stream",
     "text": [
      "The Future value in year 1 = $1100.0\n",
      "The Future value in year 2 = $1210.0\n",
      "The Future value in year 3 = $1331.0\n",
      "The Future value in year 4 = $1464.1\n",
      "The Future value in year 5 = $1610.51\n"
     ]
    }
   ],
   "source": [
    "PV, int = 1000, .1\n",
    "# Calculate the future value (FV) as follows:\n",
    "FV = PV + (int * PV)\n",
    "\n",
    "# Assume that we put $1000 in an account that pays 10% annually\n",
    "# We would like to see what would be the future value after each year\n",
    "i = 1 # initial value\n",
    "years = 5\n",
    "amount = 1000\n",
    "int = 0.1\n",
    "\n",
    "while i <= years:\n",
    "    amount = amount + (int * amount)\n",
    "    print('The Future value in year {} = ${}'.format(i, amount))\n",
    "    i = i + 1"
   ]
  },
  {
   "cell_type": "markdown",
   "metadata": {},
   "source": [
    "#### Functions"
   ]
  },
  {
   "cell_type": "code",
   "execution_count": 65,
   "metadata": {},
   "outputs": [
    {
     "data": {
      "text/plain": [
       "12"
      ]
     },
     "execution_count": 65,
     "metadata": {},
     "output_type": "execute_result"
    }
   ],
   "source": [
    "# Define a function named \"my_sum\" which recieves x and y as input\n",
    "# The function receives two numbers and adds them up \n",
    "def my_sum(x, y):\n",
    "    z = x + y\n",
    "    return z\n",
    "\n",
    "# Function call\n",
    "my_sum(5, 7)"
   ]
  },
  {
   "cell_type": "markdown",
   "metadata": {},
   "source": [
    "$$\n",
    "FV = PV \\times \\left(1 + \\frac{i}{m}\\right)^{m \\times n}\n",
    "$$"
   ]
  },
  {
   "cell_type": "code",
   "execution_count": 4,
   "metadata": {},
   "outputs": [
    {
     "name": "stdout",
     "output_type": "stream",
     "text": [
      "The FV of $1000.0 after 44.0 years at 20.0% interest rate = $3047718.32\n"
     ]
    }
   ],
   "source": [
    "# Let's define a function named \"calculate_FV\" that takes in: \n",
    "# present value, interest rate, number of years, compounding periods per year \n",
    "def calculate_FV(PV, i, n, m):\n",
    "    return PV * ( 1 + (i / m)) ** (m * n)\n",
    "\n",
    "present_value = float(input(\"Enter the present value: \")) \n",
    "interest = float(input(\"Enter the annual interest rate: \"))\n",
    "num_years = float(input(\"Enter the number of years: \"))\n",
    "compounding_periods = float(input(\"Enter the number of compounding periods: \"))\n",
    "\n",
    "FV = calculate_FV(present_value, interest, num_years, compounding_periods)\n",
    "print('The FV of ${} after {} years at {}% interest rate = ${}'.format(present_value, num_years, interest*100, round(FV, 2)))"
   ]
  }
 ],
 "metadata": {
  "kernelspec": {
   "display_name": "Python 3",
   "language": "python",
   "name": "python3"
  },
  "language_info": {
   "codemirror_mode": {
    "name": "ipython",
    "version": 3
   },
   "file_extension": ".py",
   "mimetype": "text/x-python",
   "name": "python",
   "nbconvert_exporter": "python",
   "pygments_lexer": "ipython3",
   "version": "3.10.4"
  }
 },
 "nbformat": 4,
 "nbformat_minor": 2
}
