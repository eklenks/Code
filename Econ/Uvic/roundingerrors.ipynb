{
 "cells": [
  {
   "cell_type": "markdown",
   "metadata": {},
   "source": [
    "Some knowledge of how computers perform numerical computations and how programming languages work is useful in applied numerical work, especially if one is to write efficient programs and avoid errors. It often comes as an unpleasant surprise to many people to learn that exact arithmetic and computer arithmetic do not always give the same answers, even in programs without programming errors.\n",
    "\n",
    "The exact details of the representation depends on the hardware but it will suffice for our purposes to suppose that floating point numbers are stored in the form $m2^n$, where m and e are integers with $-2^b \\leq m <2^b$ and $-2^d \\leq n < 2^d$.\n",
    "\n",
    "The obvious way of computing this term will result in loss of precision.\n",
    "These arise not only from overflow but from division by 0.\n",
    "In addition,floating point numbers may get set to $nan$, which stands for not-a-number.\n",
    "\n",
    "Roundoff error is only one of the pitfalls in evaluating mathematical expressions. In numerical computations, error is also introduced by the computer's inherent inability to evaluate certain mathematical expressions exactly. For all its power, a computer can only perform a limited set of operations in evaluating expressions. Essentially this list includes the four arithmetic operations of addition, subtraction, multiplication and division, as well as logical operations of comparison.\n",
    "\n",
    "Exponential, logarithmic, and trigonometric functions cannot be evaluated directly using computer arithmetic. They can only be evaluated approximately using algorithms based on the four basic arithmetic operations.\n",
    "\n",
    "For the common functions very efficient algorithms typically exist and these are sometimes \"hardwired\" into the computer's processor or coprocessor. An important area of numerical analysis involves determining efficient approximations that can be computed using basic arithmetic operations.\n",
    "\n",
    "$$exp(x) = \\sum^{\\infty}_{i=0} x^{i}/i!$$\n",
    "\n",
    "Obviously one cannot compute the infinite sum, but one could compute a finite number\n",
    "of these terms, with the hope that one will obtain sufficient accuracy for the\n",
    "purpose at hand. The result, however, will always be inexact.\n",
    "\n",
    "See also http://floating-point-gui.de/formats/fp/"
   ]
  },
  {
   "cell_type": "code",
   "execution_count": 3,
   "metadata": {},
   "outputs": [
    {
     "name": "stdout",
     "output_type": "stream",
     "text": [
      "Case a) x is equal to 0.0000100000 \n",
      "Case b) x is equal to 0.0000100000 \n",
      "_____________________________\n",
      "Case a) x is equal to 0.00001000000000006551 \n",
      "Case b) x is equal to 0.00001000000000000000 \n",
      "_____________________________\n",
      "Case a) x is equal to 0.00000000000000111022 \n",
      "Case b) x is equal to 0.00000000000000100000 \n"
     ]
    }
   ],
   "source": [
    "#Let's check Finite Precision Arithmetics\n",
    "#Work with a small number\n",
    "x=(1e-5 + 1) - 1\n",
    "print('Case a) x is equal to {:0.10f} '.format(x))\n",
    "x=1e-5 + (1 - 1)\n",
    "print('Case b) x is equal to {:0.10f} '.format(x))\n",
    "print('_____________________________')\n",
    "#Report more digits after the decimal point\n",
    "x=(1e-5 + 1) - 1\n",
    "print('Case a) x is equal to {:0.20f} '.format(x))\n",
    "x=1e-5 + (1 - 1)\n",
    "print('Case b) x is equal to {:0.20f} '.format(x))\n",
    "print('_____________________________')\n",
    "#Work with a very small number\n",
    "x=(1e-15 + 1) - 1\n",
    "print('Case a) x is equal to {:0.20f} '.format(x))\n",
    "x=1e-15 + (1 - 1)\n",
    "print('Case b) x is equal to {:0.20f} '.format(x))"
   ]
  },
  {
   "cell_type": "code",
   "execution_count": 4,
   "metadata": {},
   "outputs": [
    {
     "name": "stdout",
     "output_type": "stream",
     "text": [
      "x is equal to 0.00000000000045474735 \n",
      "z is equal to 3210.48000000000001818989 \n"
     ]
    }
   ],
   "source": [
    "x=2**(-41)\n",
    "print('x is equal to {:0.20f} '.format(x))\n",
    "y=7059920181484585\n",
    "z=y*x\n",
    "print('z is equal to {:0.20f} '.format(z))"
   ]
  },
  {
   "cell_type": "code",
   "execution_count": 5,
   "metadata": {},
   "outputs": [
    {
     "data": {
      "text/plain": [
       "1e+308"
      ]
     },
     "execution_count": 5,
     "metadata": {},
     "output_type": "execute_result"
    }
   ],
   "source": [
    "#This is still a number\n",
    "1e308"
   ]
  },
  {
   "cell_type": "code",
   "execution_count": 6,
   "metadata": {},
   "outputs": [
    {
     "data": {
      "text/plain": [
       "inf"
      ]
     },
     "execution_count": 6,
     "metadata": {},
     "output_type": "execute_result"
    }
   ],
   "source": [
    "#This causes overflow\n",
    "1e309"
   ]
  },
  {
   "cell_type": "code",
   "execution_count": 7,
   "metadata": {},
   "outputs": [
    {
     "data": {
      "text/plain": [
       "nan"
      ]
     },
     "execution_count": 7,
     "metadata": {},
     "output_type": "execute_result"
    }
   ],
   "source": [
    "#This is computational garbage\n",
    "1e309/1e309"
   ]
  },
  {
   "cell_type": "code",
   "execution_count": 8,
   "metadata": {},
   "outputs": [
    {
     "name": "stdout",
     "output_type": "stream",
     "text": [
      "x is equal to 0.09999999997671693563 \n"
     ]
    }
   ],
   "source": [
    "#Let's subtract two big numbers\n",
    "x=1000000.2-1000000.1\n",
    "print('x is equal to {:0.20f} '.format(x))"
   ]
  },
  {
   "cell_type": "code",
   "execution_count": 9,
   "metadata": {},
   "outputs": [
    {
     "data": {
      "text/plain": [
       "1.7976931348623157e+308"
      ]
     },
     "execution_count": 9,
     "metadata": {},
     "output_type": "execute_result"
    }
   ],
   "source": [
    "#Get the largest number\n",
    "#https://stackoverflow.com/questions/1835787/what-is-the-range-of-values-a-float-can-have-in-python\n",
    "import sys\n",
    "sys.float_info.max"
   ]
  },
  {
   "cell_type": "code",
   "execution_count": 10,
   "metadata": {},
   "outputs": [
    {
     "data": {
      "text/plain": [
       "2.2250738585072014e-308"
      ]
     },
     "execution_count": 10,
     "metadata": {},
     "output_type": "execute_result"
    }
   ],
   "source": [
    "#Get the smallest positive -normalized- number\n",
    "sys.float_info.min"
   ]
  },
  {
   "cell_type": "code",
   "execution_count": 11,
   "metadata": {},
   "outputs": [
    {
     "data": {
      "text/plain": [
       "5e-324"
      ]
     },
     "execution_count": 11,
     "metadata": {},
     "output_type": "execute_result"
    }
   ],
   "source": [
    "#Get denormalized minimum\n",
    "sys.float_info.min*sys.float_info.epsilon"
   ]
  },
  {
   "cell_type": "code",
   "execution_count": 12,
   "metadata": {},
   "outputs": [
    {
     "data": {
      "text/plain": [
       "2.220446049250313e-16"
      ]
     },
     "execution_count": 12,
     "metadata": {},
     "output_type": "execute_result"
    }
   ],
   "source": [
    "#Get the machine precision\n",
    "sys.float_info.epsilon"
   ]
  },
  {
   "cell_type": "code",
   "execution_count": 13,
   "metadata": {},
   "outputs": [
    {
     "name": "stdout",
     "output_type": "stream",
     "text": [
      "Case a) x is equal to 0.00001000000000006551 \n"
     ]
    }
   ],
   "source": [
    "#Let's check Finite Precision Arithmetics\n",
    "#Note: a common FORTRAN trick doesn't work\n",
    "x=(1.0e-5 + 1.0e0) - 1.0e0\n",
    "print('Case a) x is equal to {:0.20f} '.format(x))"
   ]
  },
  {
   "cell_type": "code",
   "execution_count": 14,
   "metadata": {},
   "outputs": [
    {
     "name": "stderr",
     "output_type": "stream",
     "text": [
      "/var/folders/pd/322dq_8d0lz_b7kn4p0gvs0m0000gn/T/ipykernel_37594/3034863370.py:4: RuntimeWarning: divide by zero encountered in log\n",
      "  x=np.log(y)\n"
     ]
    },
    {
     "data": {
      "text/plain": [
       "-inf"
      ]
     },
     "execution_count": 14,
     "metadata": {},
     "output_type": "execute_result"
    }
   ],
   "source": [
    "#Let's consider a code with a bug\n",
    "import numpy as np\n",
    "y=1e-1000\n",
    "x=np.log(y)\n",
    "x"
   ]
  },
  {
   "cell_type": "code",
   "execution_count": 15,
   "metadata": {},
   "outputs": [
    {
     "ename": "NameError",
     "evalue": "name 'log' is not defined",
     "output_type": "error",
     "traceback": [
      "\u001b[0;31m---------------------------------------------------------------------------\u001b[0m",
      "\u001b[0;31mNameError\u001b[0m                                 Traceback (most recent call last)",
      "Cell \u001b[0;32mIn[15], line 3\u001b[0m\n\u001b[1;32m      1\u001b[0m \u001b[38;5;66;03m#Let's consider a code with another bug\u001b[39;00m\n\u001b[1;32m      2\u001b[0m y\u001b[38;5;241m=\u001b[39m\u001b[38;5;241m1e-1000\u001b[39m\n\u001b[0;32m----> 3\u001b[0m x\u001b[38;5;241m=\u001b[39m\u001b[43mlog\u001b[49m(y)\n\u001b[1;32m      4\u001b[0m x\n",
      "\u001b[0;31mNameError\u001b[0m: name 'log' is not defined"
     ]
    }
   ],
   "source": [
    "#Let's consider a code with another bug\n",
    "y=1e-1000\n",
    "x=log(y)\n",
    "x"
   ]
  }
 ],
 "metadata": {
  "kernelspec": {
   "display_name": "Python 3 (ipykernel)",
   "language": "python",
   "name": "python3"
  },
  "language_info": {
   "codemirror_mode": {
    "name": "ipython",
    "version": 3
   },
   "file_extension": ".py",
   "mimetype": "text/x-python",
   "name": "python",
   "nbconvert_exporter": "python",
   "pygments_lexer": "ipython3",
   "version": "3.11.4"
  }
 },
 "nbformat": 4,
 "nbformat_minor": 4
}
