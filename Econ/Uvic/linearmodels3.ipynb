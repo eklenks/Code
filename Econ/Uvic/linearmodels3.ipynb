{
 "cells": [
  {
   "cell_type": "markdown",
   "metadata": {
    "slideshow": {
     "slide_type": "slide"
    }
   },
   "source": [
    "# ECON457 Lab03"
   ]
  },
  {
   "cell_type": "markdown",
   "metadata": {
    "slideshow": {
     "slide_type": "fragment"
    }
   },
   "source": [
    "## Solve a system of linear equations:  \n",
    "- In Scipy \n",
    "- In Sympy"
   ]
  },
  {
   "cell_type": "code",
   "execution_count": 4,
   "metadata": {
    "ExecuteTime": {
     "end_time": "2018-01-23T04:42:37.166588Z",
     "start_time": "2018-01-23T04:42:37.161591Z"
    },
    "slideshow": {
     "slide_type": "slide"
    }
   },
   "outputs": [],
   "source": [
    "# Usual preliminary calls\n",
    "import numpy as np\n",
    "import scipy as sp\n",
    "import scipy.linalg as la \n",
    "# The top-level components of Scipy (such as linalg, optimize, etc.) are so-called subpackages and not modules \n",
    "# (i.e., they're directories, not source code). \n",
    "# Scipy is set up such that subpackages must be imported separately: for example, sp.linalg won't work\n",
    "\n",
    "import sympy as sym\n",
    "sym.init_printing() # for printing latex/mathjax format output"
   ]
  },
  {
   "cell_type": "markdown",
   "metadata": {
    "slideshow": {
     "slide_type": "slide"
    }
   },
   "source": [
    "## 1. One key difference between numerical computation and symbolic computation"
   ]
  },
  {
   "cell_type": "markdown",
   "metadata": {
    "slideshow": {
     "slide_type": "fragment"
    }
   },
   "source": [
    "### 1.1 Numerical Computation\n",
    "Exact arithmetic and computer arithmetic do not always give the same answers (even in programs without programming errors)."
   ]
  },
  {
   "cell_type": "code",
   "execution_count": 5,
   "metadata": {
    "ExecuteTime": {
     "end_time": "2018-01-23T04:17:57.936237Z",
     "start_time": "2018-01-23T04:17:57.920696Z"
    },
    "slideshow": {
     "slide_type": "slide"
    }
   },
   "outputs": [
    {
     "data": {
      "text/plain": [
       "False"
      ]
     },
     "execution_count": 5,
     "metadata": {},
     "output_type": "execute_result"
    }
   ],
   "source": [
    "1/3+1/2 == 5/6"
   ]
  },
  {
   "cell_type": "code",
   "execution_count": 6,
   "metadata": {
    "ExecuteTime": {
     "end_time": "2018-01-23T04:17:58.482065Z",
     "start_time": "2018-01-23T04:17:57.937741Z"
    },
    "slideshow": {
     "slide_type": "fragment"
    }
   },
   "outputs": [
    {
     "data": {
      "image/png": "[encoded data removed]",
      "text/latex": [
       "$\\displaystyle 0.833333333333333$"
      ],
      "text/plain": [
       "0.8333333333333333"
      ]
     },
     "execution_count": 6,
     "metadata": {},
     "output_type": "execute_result"
    }
   ],
   "source": [
    "1/3+1/2"
   ]
  },
  {
   "cell_type": "code",
   "execution_count": 7,
   "metadata": {
    "ExecuteTime": {
     "end_time": "2018-01-23T04:17:58.881144Z",
     "start_time": "2018-01-23T04:17:58.484055Z"
    },
    "slideshow": {
     "slide_type": "fragment"
    }
   },
   "outputs": [
    {
     "data": {
      "image/png": "[encoded data removed]",
      "text/latex": [
       "$\\displaystyle 0.833333333333333$"
      ],
      "text/plain": [
       "0.8333333333333334"
      ]
     },
     "execution_count": 7,
     "metadata": {},
     "output_type": "execute_result"
    }
   ],
   "source": [
    "5/6"
   ]
  },
  {
   "cell_type": "markdown",
   "metadata": {
    "slideshow": {
     "slide_type": "slide"
    }
   },
   "source": [
    "### 1.2 Symbolic Computation\n",
    "Sympy provides symbolic computation."
   ]
  },
  {
   "cell_type": "code",
   "execution_count": 8,
   "metadata": {
    "ExecuteTime": {
     "end_time": "2018-01-23T04:17:59.279044Z",
     "start_time": "2018-01-23T04:17:58.882146Z"
    },
    "slideshow": {
     "slide_type": "fragment"
    }
   },
   "outputs": [
    {
     "data": {
      "image/png": "[encoded data removed]",
      "text/latex": [
       "$\\displaystyle \\frac{5}{6}$"
      ],
      "text/plain": [
       "5/6"
      ]
     },
     "execution_count": 8,
     "metadata": {},
     "output_type": "execute_result"
    }
   ],
   "source": [
    "sym.Rational(1,3) + sym.Rational(1,2)"
   ]
  },
  {
   "cell_type": "code",
   "execution_count": 11,
   "metadata": {
    "ExecuteTime": {
     "end_time": "2018-01-23T04:17:59.283556Z",
     "start_time": "2018-01-23T04:17:59.280048Z"
    },
    "slideshow": {
     "slide_type": "fragment"
    }
   },
   "outputs": [
    {
     "data": {
      "text/plain": [
       "True"
      ]
     },
     "execution_count": 11,
     "metadata": {},
     "output_type": "execute_result"
    }
   ],
   "source": [
    "sym.Rational(1,3) + sym.Rational(1,2) == sym.Rational(5,6) "
   ]
  },
  {
   "cell_type": "markdown",
   "metadata": {
    "slideshow": {
     "slide_type": "slide"
    }
   },
   "source": [
    "## 2. Systems of linear equations"
   ]
  },
  {
   "cell_type": "markdown",
   "metadata": {
    "slideshow": {
     "slide_type": "fragment"
    }
   },
   "source": [
    " ###  2.1 Express a system of linear equations in matrix form\n",
    " \n",
    " $$A x = b$$"
   ]
  },
  {
   "cell_type": "markdown",
   "metadata": {
    "slideshow": {
     "slide_type": "slide"
    }
   },
   "source": [
    "np.matrix() \n",
    "returns a matrix from an array-like object, or from a string of data.\n",
    "\n",
    "A [matrix](https://docs.scipy.org/doc/numpy-1.13.0/reference/generated/numpy.matrix.html) is a specialized 2-D array that retains its 2-D nature through operations. It has certain special operators, such as *matrix multiplication* and *matrix power*. It also has some **fields/attributes**: `shape, ndim, size`.\n",
    "\n",
    "###### On a side note: Numpy [array](https://docs.scipy.org/doc/numpy-1.13.0/user/basics.creation.html) is more versatile and can be of high dimension.\n",
    "\n",
    "\n",
    "Let's consider some common linear algebra commands, and the related output:"
   ]
  },
  {
   "cell_type": "code",
   "execution_count": 59,
   "metadata": {
    "ExecuteTime": {
     "end_time": "2018-01-23T04:17:59.309123Z",
     "start_time": "2018-01-23T04:17:59.285060Z"
    },
    "slideshow": {
     "slide_type": "fragment"
    }
   },
   "outputs": [
    {
     "data": {
      "text/plain": [
       "matrix([[ 1.0e+00,  5.0e-04],\n",
       "        [ 1.0e+00, -2.5e-04]])"
      ]
     },
     "execution_count": 59,
     "metadata": {},
     "output_type": "execute_result"
    }
   ],
   "source": [
    "A = np.matrix([[1, 0.0005], [1, -0.00025]])\n",
    "A"
   ]
  },
  {
   "cell_type": "code",
   "execution_count": 60,
   "metadata": {
    "ExecuteTime": {
     "end_time": "2018-01-23T04:17:59.723761Z",
     "start_time": "2018-01-23T04:17:59.310128Z"
    },
    "slideshow": {
     "slide_type": "slide"
    }
   },
   "outputs": [
    {
     "data": {
      "image/png": "[encoded data removed]",
      "text/latex": [
       "$\\displaystyle \\left( 2, \\  2\\right)$"
      ],
      "text/plain": [
       "(2, 2)"
      ]
     },
     "execution_count": 60,
     "metadata": {},
     "output_type": "execute_result"
    }
   ],
   "source": [
    "A.shape"
   ]
  },
  {
   "cell_type": "code",
   "execution_count": 14,
   "metadata": {
    "ExecuteTime": {
     "end_time": "2018-01-23T04:18:00.136039Z",
     "start_time": "2018-01-23T04:17:59.725265Z"
    },
    "slideshow": {
     "slide_type": "fragment"
    }
   },
   "outputs": [
    {
     "data": {
      "image/png": "[encoded data removed]",
      "text/latex": [
       "$\\displaystyle 2$"
      ],
      "text/plain": [
       "2"
      ]
     },
     "execution_count": 14,
     "metadata": {},
     "output_type": "execute_result"
    }
   ],
   "source": [
    "A.ndim"
   ]
  },
  {
   "cell_type": "code",
   "execution_count": 15,
   "metadata": {
    "ExecuteTime": {
     "end_time": "2018-01-23T04:18:00.140552Z",
     "start_time": "2018-01-23T04:18:00.137043Z"
    },
    "slideshow": {
     "slide_type": "fragment"
    }
   },
   "outputs": [
    {
     "data": {
      "text/plain": [
       "dtype('float64')"
      ]
     },
     "execution_count": 15,
     "metadata": {},
     "output_type": "execute_result"
    }
   ],
   "source": [
    "A.dtype"
   ]
  },
  {
   "cell_type": "code",
   "execution_count": 16,
   "metadata": {
    "ExecuteTime": {
     "end_time": "2018-01-23T04:18:00.555290Z",
     "start_time": "2018-01-23T04:18:00.142056Z"
    },
    "slideshow": {
     "slide_type": "fragment"
    }
   },
   "outputs": [
    {
     "data": {
      "image/png": "[encoded data removed]",
      "text/latex": [
       "$\\displaystyle 4$"
      ],
      "text/plain": [
       "4"
      ]
     },
     "execution_count": 16,
     "metadata": {},
     "output_type": "execute_result"
    }
   ],
   "source": [
    "A.size"
   ]
  },
  {
   "cell_type": "code",
   "execution_count": 17,
   "metadata": {
    "ExecuteTime": {
     "end_time": "2018-01-23T04:18:00.559334Z",
     "start_time": "2018-01-23T04:18:00.556293Z"
    },
    "slideshow": {
     "slide_type": "slide"
    }
   },
   "outputs": [
    {
     "data": {
      "text/plain": [
       "array([ 0.55, -0.2 ])"
      ]
     },
     "execution_count": 17,
     "metadata": {},
     "output_type": "execute_result"
    }
   ],
   "source": [
    "b = np.array([0.55, -0.2])\n",
    "b"
   ]
  },
  {
   "cell_type": "code",
   "execution_count": 18,
   "metadata": {
    "ExecuteTime": {
     "end_time": "2018-01-23T04:18:01.089112Z",
     "start_time": "2018-01-23T04:18:00.560304Z"
    },
    "slideshow": {
     "slide_type": "fragment"
    }
   },
   "outputs": [
    {
     "data": {
      "image/png": "[encoded data removed]",
      "text/latex": [
       "$\\displaystyle \\left( 2,\\right)$"
      ],
      "text/plain": [
       "(2,)"
      ]
     },
     "execution_count": 18,
     "metadata": {},
     "output_type": "execute_result"
    }
   ],
   "source": [
    "b.shape"
   ]
  },
  {
   "cell_type": "code",
   "execution_count": 19,
   "metadata": {
    "ExecuteTime": {
     "end_time": "2018-01-23T04:18:01.615512Z",
     "start_time": "2018-01-23T04:18:01.090616Z"
    },
    "slideshow": {
     "slide_type": "fragment"
    }
   },
   "outputs": [
    {
     "data": {
      "image/png": "[encoded data removed]",
      "text/latex": [
       "$\\displaystyle 1$"
      ],
      "text/plain": [
       "1"
      ]
     },
     "execution_count": 19,
     "metadata": {},
     "output_type": "execute_result"
    }
   ],
   "source": [
    "b.ndim"
   ]
  },
  {
   "cell_type": "code",
   "execution_count": 20,
   "metadata": {
    "ExecuteTime": {
     "end_time": "2018-01-23T04:18:01.621528Z",
     "start_time": "2018-01-23T04:18:01.617014Z"
    },
    "slideshow": {
     "slide_type": "slide"
    }
   },
   "outputs": [
    {
     "data": {
      "text/plain": [
       "matrix([[ 0.55, -0.2 ]])"
      ]
     },
     "execution_count": 20,
     "metadata": {},
     "output_type": "execute_result"
    }
   ],
   "source": [
    "b = np.matrix([0.55, -0.2])\n",
    "b"
   ]
  },
  {
   "cell_type": "code",
   "execution_count": 21,
   "metadata": {
    "ExecuteTime": {
     "end_time": "2018-01-23T04:18:02.037293Z",
     "start_time": "2018-01-23T04:18:01.623531Z"
    },
    "slideshow": {
     "slide_type": "fragment"
    }
   },
   "outputs": [
    {
     "data": {
      "image/png": "[encoded data removed]",
      "text/latex": [
       "$\\displaystyle \\left( 1, \\  2\\right)$"
      ],
      "text/plain": [
       "(1, 2)"
      ]
     },
     "execution_count": 21,
     "metadata": {},
     "output_type": "execute_result"
    }
   ],
   "source": [
    "b.shape"
   ]
  },
  {
   "cell_type": "code",
   "execution_count": 22,
   "metadata": {
    "ExecuteTime": {
     "end_time": "2018-01-23T04:18:02.042306Z",
     "start_time": "2018-01-23T04:18:02.038296Z"
    },
    "slideshow": {
     "slide_type": "fragment"
    }
   },
   "outputs": [
    {
     "data": {
      "text/plain": [
       "matrix([[ 0.55],\n",
       "        [-0.2 ]])"
      ]
     },
     "execution_count": 22,
     "metadata": {},
     "output_type": "execute_result"
    }
   ],
   "source": [
    "b = np.matrix([[0.55], [-0.2]])\n",
    "b"
   ]
  },
  {
   "cell_type": "code",
   "execution_count": 23,
   "metadata": {
    "ExecuteTime": {
     "end_time": "2018-01-23T04:18:02.486988Z",
     "start_time": "2018-01-23T04:18:02.043309Z"
    },
    "slideshow": {
     "slide_type": "fragment"
    }
   },
   "outputs": [
    {
     "data": {
      "image/png": "[encoded data removed]",
      "text/latex": [
       "$\\displaystyle \\left( 2, \\  1\\right)$"
      ],
      "text/plain": [
       "(2, 1)"
      ]
     },
     "execution_count": 23,
     "metadata": {},
     "output_type": "execute_result"
    }
   ],
   "source": [
    "b.shape"
   ]
  },
  {
   "cell_type": "code",
   "execution_count": 24,
   "metadata": {
    "ExecuteTime": {
     "end_time": "2018-01-23T04:18:02.904125Z",
     "start_time": "2018-01-23T04:18:02.488493Z"
    },
    "slideshow": {
     "slide_type": "fragment"
    }
   },
   "outputs": [
    {
     "data": {
      "image/png": "[encoded data removed]",
      "text/latex": [
       "$\\displaystyle 2$"
      ],
      "text/plain": [
       "2"
      ]
     },
     "execution_count": 24,
     "metadata": {},
     "output_type": "execute_result"
    }
   ],
   "source": [
    "b.ndim"
   ]
  },
  {
   "cell_type": "markdown",
   "metadata": {
    "ExecuteTime": {
     "end_time": "2018-01-23T00:15:40.590206Z",
     "start_time": "2018-01-23T00:15:40.587210Z"
    },
    "slideshow": {
     "slide_type": "slide"
    }
   },
   "source": [
    "### 2.2 Solve the system by using Scipy\n",
    "\n",
    "Scipy has a set of tools to solve a system of linear equations in its `linalg` subpackages. \n",
    "\n",
    "$$A x =b$$\n"
   ]
  },
  {
   "cell_type": "markdown",
   "metadata": {
    "ExecuteTime": {
     "end_time": "2018-01-23T00:16:10.150869Z",
     "start_time": "2018-01-23T00:16:10.147360Z"
    },
    "slideshow": {
     "slide_type": "slide"
    }
   },
   "source": [
    "#### 2.2.1 Method 1\n",
    "Compute the inverse of the matrix **A** and solve **x** via $A^{-1}b$."
   ]
  },
  {
   "cell_type": "code",
   "execution_count": 25,
   "metadata": {
    "ExecuteTime": {
     "end_time": "2018-01-23T04:18:02.909123Z",
     "start_time": "2018-01-23T04:18:02.905613Z"
    },
    "slideshow": {
     "slide_type": "fragment"
    }
   },
   "outputs": [
    {
     "data": {
      "text/plain": [
       "array([[ 3.33333333e-01,  6.66666667e-01],\n",
       "       [ 1.33333333e+03, -1.33333333e+03]])"
      ]
     },
     "execution_count": 25,
     "metadata": {},
     "output_type": "execute_result"
    }
   ],
   "source": [
    "#Compute and display the inverse \n",
    "A_inv = la.inv(A) \n",
    "A_inv"
   ]
  },
  {
   "cell_type": "code",
   "execution_count": 26,
   "metadata": {
    "ExecuteTime": {
     "end_time": "2018-01-23T04:18:02.939203Z",
     "start_time": "2018-01-23T04:18:02.910127Z"
    },
    "scrolled": true,
    "slideshow": {
     "slide_type": "fragment"
    }
   },
   "outputs": [
    {
     "data": {
      "text/plain": [
       "matrix([[5.e-02],\n",
       "        [1.e+03]])"
      ]
     },
     "execution_count": 26,
     "metadata": {},
     "output_type": "execute_result"
    }
   ],
   "source": [
    "x = np.dot(A_inv, b)\n",
    "x"
   ]
  },
  {
   "cell_type": "code",
   "execution_count": 27,
   "metadata": {},
   "outputs": [
    {
     "data": {
      "text/plain": [
       "matrix([[5.e-02],\n",
       "        [1.e+03]])"
      ]
     },
     "execution_count": 27,
     "metadata": {},
     "output_type": "execute_result"
    }
   ],
   "source": [
    "A_inv@b # the symbol @ works as np.dot in python3.5+ "
   ]
  },
  {
   "cell_type": "markdown",
   "metadata": {
    "slideshow": {
     "slide_type": "slide"
    }
   },
   "source": [
    "#### 2.2.2 Method 2\n",
    "We can solve for **x** directly by using the solver"
   ]
  },
  {
   "cell_type": "code",
   "execution_count": 28,
   "metadata": {
    "slideshow": {
     "slide_type": "fragment"
    }
   },
   "outputs": [
    {
     "data": {
      "text/plain": [
       "array([[5.e-02],\n",
       "       [1.e+03]])"
      ]
     },
     "execution_count": 28,
     "metadata": {},
     "output_type": "execute_result"
    }
   ],
   "source": [
    "x = la.solve(A, b)\n",
    "x   "
   ]
  },
  {
   "cell_type": "markdown",
   "metadata": {
    "slideshow": {
     "slide_type": "slide"
    }
   },
   "source": [
    "#### 2.2.3  Method 3\n",
    "\n",
    "Solve for **x** via the LU decomposition:\n",
    "\n",
    "```python\n",
    "\"\"\"\n",
    "Solve a system of linear equations by the LU-decomposition\n",
    "Comes from LU decomposition of a matrix A s.t. A = LU\n",
    "Then\n",
    "LUx = b => Ux = y => Ly = b\n",
    "\"\"\"\n",
    "p, l, u = la.lu(A)\n",
    "```\n",
    "\n",
    "The following example is from the slides used in the lecture."
   ]
  },
  {
   "cell_type": "markdown",
   "metadata": {
    "slideshow": {
     "slide_type": "slide"
    }
   },
   "source": [
    "##### 2.2.3.1 PLU decomposition of the matrix A"
   ]
  },
  {
   "cell_type": "code",
   "execution_count": 29,
   "metadata": {
    "ExecuteTime": {
     "end_time": "2018-01-23T04:18:02.961763Z",
     "start_time": "2018-01-23T04:18:02.940205Z"
    },
    "slideshow": {
     "slide_type": "fragment"
    }
   },
   "outputs": [
    {
     "data": {
      "text/plain": [
       "matrix([[-3,  2,  3],\n",
       "        [-3,  2,  1],\n",
       "        [ 3,  0,  0]])"
      ]
     },
     "execution_count": 29,
     "metadata": {},
     "output_type": "execute_result"
    }
   ],
   "source": [
    "A = np.matrix([[-3, 2, 3], \n",
    "               [-3 ,2 ,1], \n",
    "               [3, 0 ,0]])\n",
    "A"
   ]
  },
  {
   "cell_type": "code",
   "execution_count": 30,
   "metadata": {
    "slideshow": {
     "slide_type": "fragment"
    }
   },
   "outputs": [
    {
     "data": {
      "text/plain": [
       "matrix([[10],\n",
       "        [ 8],\n",
       "        [-3]])"
      ]
     },
     "execution_count": 30,
     "metadata": {},
     "output_type": "execute_result"
    }
   ],
   "source": [
    "b = np.matrix([[10], [8], [-3]])\n",
    "b"
   ]
  },
  {
   "cell_type": "code",
   "execution_count": 38,
   "metadata": {
    "slideshow": {
     "slide_type": "slide"
    }
   },
   "outputs": [],
   "source": [
    "p,l, u = la.lu(A)"
   ]
  },
  {
   "cell_type": "code",
   "execution_count": 39,
   "metadata": {
    "ExecuteTime": {
     "end_time": "2018-01-23T04:18:03.036461Z",
     "start_time": "2018-01-23T04:18:03.011395Z"
    },
    "slideshow": {
     "slide_type": "fragment"
    }
   },
   "outputs": [
    {
     "data": {
      "text/plain": [
       "array([[1., 0., 0.],\n",
       "       [0., 0., 1.],\n",
       "       [0., 1., 0.]])"
      ]
     },
     "execution_count": 39,
     "metadata": {},
     "output_type": "execute_result"
    }
   ],
   "source": [
    "p"
   ]
  },
  {
   "cell_type": "code",
   "execution_count": 40,
   "metadata": {
    "ExecuteTime": {
     "end_time": "2018-01-23T04:18:03.059037Z",
     "start_time": "2018-01-23T04:18:03.037965Z"
    },
    "slideshow": {
     "slide_type": "fragment"
    }
   },
   "outputs": [
    {
     "data": {
      "text/plain": [
       "array([[ 1.,  0.,  0.],\n",
       "       [-1.,  1.,  0.],\n",
       "       [ 1.,  0.,  1.]])"
      ]
     },
     "execution_count": 40,
     "metadata": {},
     "output_type": "execute_result"
    }
   ],
   "source": [
    "l"
   ]
  },
  {
   "cell_type": "code",
   "execution_count": 41,
   "metadata": {
    "ExecuteTime": {
     "end_time": "2018-01-23T04:18:03.087619Z",
     "start_time": "2018-01-23T04:18:03.060539Z"
    },
    "slideshow": {
     "slide_type": "fragment"
    }
   },
   "outputs": [
    {
     "data": {
      "text/plain": [
       "array([[-3.,  2.,  3.],\n",
       "       [ 0.,  2.,  3.],\n",
       "       [ 0.,  0., -2.]])"
      ]
     },
     "execution_count": 41,
     "metadata": {},
     "output_type": "execute_result"
    }
   ],
   "source": [
    "u"
   ]
  },
  {
   "cell_type": "markdown",
   "metadata": {
    "slideshow": {
     "slide_type": "slide"
    }
   },
   "source": [
    "##### 2.2.3.2 Check that the decomposition works"
   ]
  },
  {
   "cell_type": "code",
   "execution_count": 42,
   "metadata": {
    "ExecuteTime": {
     "end_time": "2018-01-23T04:18:03.109655Z",
     "start_time": "2018-01-23T04:18:03.089101Z"
    },
    "slideshow": {
     "slide_type": "fragment"
    }
   },
   "outputs": [
    {
     "data": {
      "text/plain": [
       "array([[-3.,  2.,  3.],\n",
       "       [-3.,  2.,  1.],\n",
       "       [ 3.,  0.,  0.]])"
      ]
     },
     "execution_count": 42,
     "metadata": {},
     "output_type": "execute_result"
    }
   ],
   "source": [
    "# the symbol @ works as np.dot in python3.5+\n",
    "p@l@u "
   ]
  },
  {
   "cell_type": "code",
   "execution_count": 43,
   "metadata": {},
   "outputs": [
    {
     "name": "stdout",
     "output_type": "stream",
     "text": [
      "[[-3.  2.  3.]\n",
      " [-3.  2.  1.]\n",
      " [ 3.  0.  0.]]\n"
     ]
    },
    {
     "data": {
      "text/plain": [
       "array([[-3.,  2.,  3.],\n",
       "       [-3.,  2.,  1.],\n",
       "       [ 3.,  0.,  0.]])"
      ]
     },
     "execution_count": 43,
     "metadata": {},
     "output_type": "execute_result"
    }
   ],
   "source": [
    "# Let's use the .dot syntax instead\n",
    "print(np.dot(p, np.dot(l, u)))\n",
    "p.dot(l.dot(u))"
   ]
  },
  {
   "cell_type": "code",
   "execution_count": 44,
   "metadata": {},
   "outputs": [
    {
     "data": {
      "text/plain": [
       "array([[-3.,  0.,  0.],\n",
       "       [-0.,  0.,  0.],\n",
       "       [ 0.,  0., -0.]])"
      ]
     },
     "execution_count": 44,
     "metadata": {},
     "output_type": "execute_result"
    }
   ],
   "source": [
    "#Note: the symbol * performs a different matrix multiplication (element by element)\n",
    "p*l*u"
   ]
  },
  {
   "cell_type": "markdown",
   "metadata": {
    "slideshow": {
     "slide_type": "slide"
    }
   },
   "source": [
    "##### 2.2.3.3 Using the lower triangular matrix to solve for y (forward substitution)\n",
    "\n",
    "$$ply = b$$"
   ]
  },
  {
   "cell_type": "code",
   "execution_count": 45,
   "metadata": {
    "ExecuteTime": {
     "end_time": "2018-01-23T04:18:03.136239Z",
     "start_time": "2018-01-23T04:18:03.111160Z"
    },
    "slideshow": {
     "slide_type": "fragment"
    }
   },
   "outputs": [
    {
     "data": {
      "text/plain": [
       "array([[10.],\n",
       "       [ 7.],\n",
       "       [-2.]])"
      ]
     },
     "execution_count": 45,
     "metadata": {},
     "output_type": "execute_result"
    }
   ],
   "source": [
    "y = la.solve(p@l, b)\n",
    "y   "
   ]
  },
  {
   "cell_type": "markdown",
   "metadata": {
    "slideshow": {
     "slide_type": "slide"
    }
   },
   "source": [
    "##### 2.2.3.4 Using the upper triangular matrix and y to solve for x (backward substitution)\n",
    "$$ux= y$$"
   ]
  },
  {
   "cell_type": "code",
   "execution_count": 46,
   "metadata": {
    "ExecuteTime": {
     "end_time": "2018-01-23T04:18:03.163311Z",
     "start_time": "2018-01-23T04:18:03.137229Z"
    },
    "slideshow": {
     "slide_type": "fragment"
    }
   },
   "outputs": [
    {
     "data": {
      "text/plain": [
       "array([[-1.],\n",
       "       [ 2.],\n",
       "       [ 1.]])"
      ]
     },
     "execution_count": 46,
     "metadata": {},
     "output_type": "execute_result"
    }
   ],
   "source": [
    "x = la.solve(u, y)\n",
    "x   "
   ]
  },
  {
   "cell_type": "markdown",
   "metadata": {
    "slideshow": {
     "slide_type": "slide"
    }
   },
   "source": [
    "### 2.3 Solve the system with Sympy"
   ]
  },
  {
   "cell_type": "markdown",
   "metadata": {
    "slideshow": {
     "slide_type": "slide"
    }
   },
   "source": [
    "#### 2.3.1 Preliminaries"
   ]
  },
  {
   "cell_type": "code",
   "execution_count": 47,
   "metadata": {
    "ExecuteTime": {
     "end_time": "2018-01-23T04:18:03.718298Z",
     "start_time": "2018-01-23T04:18:03.164301Z"
    },
    "slideshow": {
     "slide_type": "fragment"
    }
   },
   "outputs": [
    {
     "data": {
      "text/latex": [
       "$\\displaystyle \\left[\\begin{matrix}-3 & 2 & 3\\\\-3 & 2 & 1\\\\3 & 0 & 0\\end{matrix}\\right]$"
      ],
      "text/plain": [
       "⎡-3  2  3⎤\n",
       "⎢        ⎥\n",
       "⎢-3  2  1⎥\n",
       "⎢        ⎥\n",
       "⎣3   0  0⎦"
      ]
     },
     "execution_count": 47,
     "metadata": {},
     "output_type": "execute_result"
    }
   ],
   "source": [
    "# Rename A and b as M and v\n",
    "M = sym.Matrix(A)\n",
    "v = sym.Matrix(b)\n",
    "M"
   ]
  },
  {
   "cell_type": "code",
   "execution_count": 48,
   "metadata": {
    "ExecuteTime": {
     "end_time": "2018-01-23T04:18:04.220527Z",
     "start_time": "2018-01-23T04:18:03.719801Z"
    },
    "slideshow": {
     "slide_type": "slide"
    }
   },
   "outputs": [
    {
     "data": {
      "text/latex": [
       "$\\displaystyle \\left[\\begin{matrix}10\\\\8\\\\-3\\end{matrix}\\right]$"
      ],
      "text/plain": [
       "⎡10⎤\n",
       "⎢  ⎥\n",
       "⎢8 ⎥\n",
       "⎢  ⎥\n",
       "⎣-3⎦"
      ]
     },
     "execution_count": 48,
     "metadata": {},
     "output_type": "execute_result"
    }
   ],
   "source": [
    "v"
   ]
  },
  {
   "cell_type": "markdown",
   "metadata": {
    "slideshow": {
     "slide_type": "slide"
    }
   },
   "source": [
    "#### 2.3.2 Method 1\n",
    "\n",
    "Compute the inverse of the matrix **A** and solve for **x** via $A^{-1}b$."
   ]
  },
  {
   "cell_type": "code",
   "execution_count": 49,
   "metadata": {
    "ExecuteTime": {
     "end_time": "2018-01-23T04:18:05.226464Z",
     "start_time": "2018-01-23T04:18:04.837430Z"
    },
    "slideshow": {
     "slide_type": "fragment"
    }
   },
   "outputs": [
    {
     "data": {
      "text/latex": [
       "$\\displaystyle \\left[\\begin{matrix}0 & 0 & \\frac{1}{3}\\\\- \\frac{1}{4} & \\frac{3}{4} & \\frac{1}{2}\\\\\\frac{1}{2} & - \\frac{1}{2} & 0\\end{matrix}\\right]$"
      ],
      "text/plain": [
       "⎡ 0     0    1/3⎤\n",
       "⎢               ⎥\n",
       "⎢-1/4  3/4   1/2⎥\n",
       "⎢               ⎥\n",
       "⎣1/2   -1/2   0 ⎦"
      ]
     },
     "execution_count": 49,
     "metadata": {},
     "output_type": "execute_result"
    }
   ],
   "source": [
    "# In SymPy the inverse is computed by Gaussian elimination by default\n",
    "M.inv()"
   ]
  },
  {
   "cell_type": "code",
   "execution_count": 50,
   "metadata": {},
   "outputs": [
    {
     "data": {
      "text/latex": [
       "$\\displaystyle \\left[\\begin{matrix}0 & 0 & \\frac{1}{3}\\\\- \\frac{1}{4} & \\frac{3}{4} & \\frac{1}{2}\\\\\\frac{1}{2} & - \\frac{1}{2} & 0\\end{matrix}\\right]$"
      ],
      "text/plain": [
       "⎡ 0     0    1/3⎤\n",
       "⎢               ⎥\n",
       "⎢-1/4  3/4   1/2⎥\n",
       "⎢               ⎥\n",
       "⎣1/2   -1/2   0 ⎦"
      ]
     },
     "execution_count": 50,
     "metadata": {},
     "output_type": "execute_result"
    }
   ],
   "source": [
    "#Now the selected option \"LU\" allows to use the LU decomposition, which is more efficient \n",
    "#Note: we get the same result\n",
    "M.inv(\"LU\") "
   ]
  },
  {
   "cell_type": "code",
   "execution_count": 51,
   "metadata": {
    "ExecuteTime": {
     "end_time": "2018-01-23T04:18:05.725243Z",
     "start_time": "2018-01-23T04:18:05.227467Z"
    },
    "scrolled": true,
    "slideshow": {
     "slide_type": "slide"
    }
   },
   "outputs": [
    {
     "data": {
      "text/latex": [
       "$\\displaystyle \\left[\\begin{matrix}-1\\\\2\\\\1\\end{matrix}\\right]$"
      ],
      "text/plain": [
       "⎡-1⎤\n",
       "⎢  ⎥\n",
       "⎢2 ⎥\n",
       "⎢  ⎥\n",
       "⎣1 ⎦"
      ]
     },
     "execution_count": 51,
     "metadata": {},
     "output_type": "execute_result"
    }
   ],
   "source": [
    "#Now we can compute the vector that solves the system\n",
    "M.inv(\"LU\")*v"
   ]
  },
  {
   "cell_type": "markdown",
   "metadata": {
    "slideshow": {
     "slide_type": "slide"
    }
   },
   "source": [
    "#### 2.3.3 Method 2  \n",
    "Similar to SciPy, we can solve for **x** directly by using the LU solver, called LUsolve"
   ]
  },
  {
   "cell_type": "code",
   "execution_count": 52,
   "metadata": {
    "slideshow": {
     "slide_type": "fragment"
    }
   },
   "outputs": [
    {
     "data": {
      "text/latex": [
       "$\\displaystyle \\left[\\begin{matrix}-1\\\\2\\\\1\\end{matrix}\\right]$"
      ],
      "text/plain": [
       "⎡-1⎤\n",
       "⎢  ⎥\n",
       "⎢2 ⎥\n",
       "⎢  ⎥\n",
       "⎣1 ⎦"
      ]
     },
     "execution_count": 52,
     "metadata": {},
     "output_type": "execute_result"
    }
   ],
   "source": [
    "x=M.LUsolve(v)\n",
    "x"
   ]
  },
  {
   "cell_type": "markdown",
   "metadata": {
    "slideshow": {
     "slide_type": "slide"
    }
   },
   "source": [
    "#### 2.3.4 Method 3\n",
    "\n",
    "Solve for **x** via the LU decomposition.\n",
    "\n",
    "##### 2.3.4.1 Obtain L, U, and the row permutation matrix"
   ]
  },
  {
   "cell_type": "code",
   "execution_count": 53,
   "metadata": {
    "ExecuteTime": {
     "end_time": "2018-01-23T04:18:06.615536Z",
     "start_time": "2018-01-23T04:18:06.223465Z"
    },
    "slideshow": {
     "slide_type": "fragment"
    }
   },
   "outputs": [
    {
     "data": {
      "text/latex": [
       "$\\displaystyle \\left( \\left[\\begin{matrix}1 & 0 & 0\\\\-1 & 1 & 0\\\\1 & 0 & 1\\end{matrix}\\right], \\  \\left[\\begin{matrix}-3 & 2 & 3\\\\0 & 2 & 3\\\\0 & 0 & -2\\end{matrix}\\right], \\  \\left[ \\left[ 1, \\  2\\right]\\right]\\right)$"
      ],
      "text/plain": [
       "⎛⎡1   0  0⎤  ⎡-3  2  3 ⎤          ⎞\n",
       "⎜⎢        ⎥  ⎢         ⎥          ⎟\n",
       "⎜⎢-1  1  0⎥, ⎢0   2  3 ⎥, [[1, 2]]⎟\n",
       "⎜⎢        ⎥  ⎢         ⎥          ⎟\n",
       "⎝⎣1   0  1⎦  ⎣0   0  -2⎦          ⎠"
      ]
     },
     "execution_count": 53,
     "metadata": {},
     "output_type": "execute_result"
    }
   ],
   "source": [
    "M.LUdecomposition()"
   ]
  },
  {
   "cell_type": "markdown",
   "metadata": {
    "slideshow": {
     "slide_type": "slide"
    }
   },
   "source": [
    "\n",
    "Returns (L, U, perm) where L is a lower triangular matrix with a unit main diagonal, U is an upper triangular matrix, and perm is a list of row swap index pairs. If A is the original matrix, then A = (L*U).permuteBkwd(perm), and the row permutation matrix P such that P*A = L*U can be computed by P=eye(A.row).permuteFwd(perm).\n",
    "\n",
    "$$P*A = L*U$$\n",
    "\n",
    "See the documentation for LUCombined for details about the keyword argument rankcheck, iszerofunc, and simpfunc.\n",
    "\n",
    "http://docs.sympy.org/latest/modules/matrices/matrices.html"
   ]
  },
  {
   "cell_type": "code",
   "execution_count": 54,
   "metadata": {
    "ExecuteTime": {
     "end_time": "2018-01-23T04:18:07.023132Z",
     "start_time": "2018-01-23T04:18:06.617042Z"
    },
    "slideshow": {
     "slide_type": "slide"
    }
   },
   "outputs": [
    {
     "data": {
      "text/latex": [
       "$\\displaystyle \\left[\\begin{matrix}1 & 0 & 0\\\\-1 & 1 & 0\\\\1 & 0 & 1\\end{matrix}\\right]$"
      ],
      "text/plain": [
       "⎡1   0  0⎤\n",
       "⎢        ⎥\n",
       "⎢-1  1  0⎥\n",
       "⎢        ⎥\n",
       "⎣1   0  1⎦"
      ]
     },
     "execution_count": 54,
     "metadata": {},
     "output_type": "execute_result"
    }
   ],
   "source": [
    "L,U,perm = M.LUdecomposition()\n",
    "L"
   ]
  },
  {
   "cell_type": "code",
   "execution_count": 55,
   "metadata": {
    "ExecuteTime": {
     "end_time": "2018-01-23T04:18:07.513851Z",
     "start_time": "2018-01-23T04:18:07.024135Z"
    },
    "slideshow": {
     "slide_type": "fragment"
    }
   },
   "outputs": [
    {
     "data": {
      "text/latex": [
       "$\\displaystyle \\left[\\begin{matrix}-3 & 2 & 3\\\\0 & 2 & 3\\\\0 & 0 & -2\\end{matrix}\\right]$"
      ],
      "text/plain": [
       "⎡-3  2  3 ⎤\n",
       "⎢         ⎥\n",
       "⎢0   2  3 ⎥\n",
       "⎢         ⎥\n",
       "⎣0   0  -2⎦"
      ]
     },
     "execution_count": 55,
     "metadata": {},
     "output_type": "execute_result"
    }
   ],
   "source": [
    "U"
   ]
  },
  {
   "cell_type": "markdown",
   "metadata": {
    "slideshow": {
     "slide_type": "slide"
    }
   },
   "source": [
    "##### 2.3.4.2  Let's adjust the RHS using the permutation matrix"
   ]
  },
  {
   "cell_type": "code",
   "execution_count": 56,
   "metadata": {
    "ExecuteTime": {
     "end_time": "2018-01-23T04:18:08.012166Z",
     "start_time": "2018-01-23T04:18:07.514854Z"
    },
    "slideshow": {
     "slide_type": "fragment"
    }
   },
   "outputs": [
    {
     "data": {
      "text/latex": [
       "$\\displaystyle \\left[\\begin{matrix}10\\\\-3\\\\8\\end{matrix}\\right]$"
      ],
      "text/plain": [
       "⎡10⎤\n",
       "⎢  ⎥\n",
       "⎢-3⎥\n",
       "⎢  ⎥\n",
       "⎣8 ⎦"
      ]
     },
     "execution_count": 56,
     "metadata": {},
     "output_type": "execute_result"
    }
   ],
   "source": [
    "v = v.permuteBkwd(perm)\n",
    "v"
   ]
  },
  {
   "cell_type": "markdown",
   "metadata": {
    "slideshow": {
     "slide_type": "slide"
    }
   },
   "source": [
    "##### 2.3.4.3 To obtain the elements of x, first use the lower triangular matrix to solve for y (forward substitution)"
   ]
  },
  {
   "cell_type": "code",
   "execution_count": 57,
   "metadata": {
    "ExecuteTime": {
     "end_time": "2018-01-23T04:18:08.611202Z",
     "start_time": "2018-01-23T04:18:08.013156Z"
    },
    "slideshow": {
     "slide_type": "fragment"
    }
   },
   "outputs": [
    {
     "data": {
      "text/latex": [
       "$\\displaystyle \\left[\\begin{matrix}10\\\\7\\\\-2\\end{matrix}\\right]$"
      ],
      "text/plain": [
       "⎡10⎤\n",
       "⎢  ⎥\n",
       "⎢7 ⎥\n",
       "⎢  ⎥\n",
       "⎣-2⎦"
      ]
     },
     "execution_count": 57,
     "metadata": {},
     "output_type": "execute_result"
    }
   ],
   "source": [
    "L.LUsolve(v)"
   ]
  },
  {
   "cell_type": "markdown",
   "metadata": {
    "slideshow": {
     "slide_type": "slide"
    }
   },
   "source": [
    "##### 2.3.4.4 Then continue to use the upper triangular matrix and y to solve for x (backward substitution))"
   ]
  },
  {
   "cell_type": "code",
   "execution_count": 58,
   "metadata": {
    "ExecuteTime": {
     "end_time": "2018-01-23T04:18:09.103006Z",
     "start_time": "2018-01-23T04:18:08.612690Z"
    },
    "slideshow": {
     "slide_type": "fragment"
    }
   },
   "outputs": [
    {
     "data": {
      "text/latex": [
       "$\\displaystyle \\left[\\begin{matrix}-1\\\\2\\\\1\\end{matrix}\\right]$"
      ],
      "text/plain": [
       "⎡-1⎤\n",
       "⎢  ⎥\n",
       "⎢2 ⎥\n",
       "⎢  ⎥\n",
       "⎣1 ⎦"
      ]
     },
     "execution_count": 58,
     "metadata": {},
     "output_type": "execute_result"
    }
   ],
   "source": [
    "U.LUsolve(L.LUsolve(v))"
   ]
  }
 ],
 "metadata": {
  "celltoolbar": "Slideshow",
  "kernelspec": {
   "display_name": "Python 3",
   "language": "python",
   "name": "python3"
  },
  "language_info": {
   "codemirror_mode": {
    "name": "ipython",
    "version": 3
   },
   "file_extension": ".py",
   "mimetype": "text/x-python",
   "name": "python",
   "nbconvert_exporter": "python",
   "pygments_lexer": "ipython3",
   "version": "3.11.4"
  }
 },
 "nbformat": 4,
 "nbformat_minor": 2
}
