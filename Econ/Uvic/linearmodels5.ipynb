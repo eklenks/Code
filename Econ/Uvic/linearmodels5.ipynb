{
 "cells": [
  {
   "cell_type": "markdown",
   "metadata": {},
   "source": [
    "## 2.6 Iterative Methods\n",
    "\n",
    "\n",
    "Algorithms based on Gaussian elimination are called **exact** or, more properly, **direct**\n",
    "methods because they would generate exact solutions for the system of linear equations $Ax = b$\n",
    "after a finite number of operations, if not for rounding error. Such methods are ideal\n",
    "for moderately-sized linear equations, but may be impractical for large ones. Other\n",
    "methods, called **iterative methods** can often be used to solve large linear system of equations\n",
    "more efficiently if the A matrix is sparse, that is, if $A$ is composed mostly of zero\n",
    "entries. Iterative methods are designed to generate a sequence of increasingly accurate\n",
    "approximations to the solution of a system of linear equations, but generally do not yield an exact\n",
    "solution after a prescribed number of steps, even in theory.\n"
   ]
  },
  {
   "cell_type": "markdown",
   "metadata": {},
   "source": [
    "The most widely-used iterative methods for solving a linear equation $Ax = b$ are\n",
    "developed by choosing an easily invertible matrix $Q$ and writing the system\n",
    "in the equivalent form\n",
    "\n",
    "$$Q x = b + (Q - A)x$$\n",
    "\n",
    "or\n",
    "\n",
    "$$x = Q^{-1}b + (I - Q^{-1}A)x.$$\n",
    "\n",
    "This form of the system suggests the iteration rule\n",
    "\n",
    "\n",
    "\n",
    "$$x^{(k+1)} \\leftarrow   Q^{-1}b + (I - Q^{-1}A)x^{(k)}$$"
   ]
  },
  {
   "cell_type": "markdown",
   "metadata": {},
   "source": [
    "Ideally, the so-called splitting matrix Q will satisfy two criteria. First, $Q^{-1}b$ and\n",
    "$Q^{-1}A$ should be relatively easy to compute. This is true if Q is either diagonal or\n",
    "triangular. Second, the iterates should converge quickly to the true solution of the\n",
    "system. If\n",
    "\n",
    "$$||I - Q^{-1}A|| < 1$$\n",
    "\n",
    "in any matrix norm, then the iteration rule is a contraction mapping and is guaranteed\n",
    "to converge to the solution of the system from any initial value."
   ]
  },
  {
   "cell_type": "markdown",
   "metadata": {},
   "source": [
    "The two most popular iterative methods are the **Gauss-Jacobi** and **Gauss-Seidel**\n",
    "methods. \n",
    "\n",
    " - The Gauss-Jacobi method sets $Q$ equal to the diagonal matrix formed from the diagonal entries of A. \n",
    "\n",
    "\n",
    " - The Gauss-Seidel method sets $Q$ equal to the upper triangular matrix formed from the upper triangular elements of A."
   ]
  },
  {
   "cell_type": "markdown",
   "metadata": {},
   "source": [
    "## Gauss-Jacobi Method\n",
    "\n",
    "Here, the user specifies the data A and b and an initial guess $x$ for the solution of\n",
    "the linear system of equations, typically the zero vector or $b$. Iteration continues until the norm\n",
    "of the change dx in the iterate falls below the specified convergence tolerance tol or\n",
    "until a specified maximum number of allowable iterations maxit are performed."
   ]
  },
  {
   "cell_type": "code",
   "execution_count": 1,
   "metadata": {},
   "outputs": [],
   "source": [
    "import numpy as np\n",
    "from numpy.linalg import inv # NumPy Linear Algebra Library\n",
    "import scipy\n",
    "import scipy.linalg   # SciPy Linear Algebra Library"
   ]
  },
  {
   "cell_type": "code",
   "execution_count": 2,
   "metadata": {},
   "outputs": [
    {
     "name": "stdout",
     "output_type": "stream",
     "text": [
      "Left hand side of linear system, matrix A:\n",
      " [[ 54  14 -11   2]\n",
      " [ 14  50  -4  29]\n",
      " [-11  -4  55  22]\n",
      " [  2  29  22  95]]\n"
     ]
    }
   ],
   "source": [
    "#Let's consider this example\n",
    "\n",
    "#Assign the appropriate values to the matrix of coefficients A\n",
    "A = np.array([[54, 14, -11, 2],\n",
    "               [14, 50, -4, 29],\n",
    "               [-11, -4, 55, 22],\n",
    "               [2, 29, 22, 95]])\n",
    "print(\"Left hand side of linear system, matrix A:\\n\", A)"
   ]
  },
  {
   "cell_type": "code",
   "execution_count": 3,
   "metadata": {},
   "outputs": [
    {
     "name": "stdout",
     "output_type": "stream",
     "text": [
      "Right hand side of linear equation system, vector b:\n",
      " [1 1 1 1]\n"
     ]
    }
   ],
   "source": [
    "#Assign the appropriate values to the vector of constants b\n",
    "b = np.array([1, 1, 1, 1])\n",
    "\n",
    "print(\"Right hand side of linear equation system, vector b:\\n\",b)"
   ]
  },
  {
   "cell_type": "code",
   "execution_count": 4,
   "metadata": {},
   "outputs": [],
   "source": [
    "def gjacobi(A, b, maxit, tol, x0=None):\n",
    "    \"\"\"\n",
    "    Solve a system of linear equations with the Gauss-Jacobi iterative method outlined in the book.\n",
    "    It relies on the updating eq:\n",
    "        x = inv(Q)(b - Ax)\n",
    "    Where Q is the diagonal matrix obtained from A\n",
    "    \"\"\"\n",
    "    # If we have not provided an initial array for x make a new one\n",
    "    if x0==None:\n",
    "        x = np.array([1 for _ in np.arange(A.shape[1])])\n",
    "    else:\n",
    "        x = x0\n",
    "        \n",
    "    # Get the diagonal matrix from A (np.diag(A) would extract a vector)\n",
    "    Q = np.diag(np.diag(A))\n",
    "    \n",
    "    # Get the inverse of Q\n",
    "    # Note: we could write the formula for the inverse of Q directly\n",
    "    Qinv = inv(Q)\n",
    "        \n",
    "    # Begin the iterations, updating the vector x\n",
    "    for it in np.arange(maxit):\n",
    "        dx =  Qinv.dot(b - A.dot(x))\n",
    "        x = x + dx\n",
    "        #We are using the Frobenius norm\n",
    "        #https://docs.scipy.org/doc/numpy/reference/generated/numpy.linalg.norm.html\n",
    "        if np.linalg.norm(dx)<tol:\n",
    "        #If we wanted to rely on the Sup norm, we would use the following \n",
    "        #if np.linalg.norm(dx,np.inf)<tol:\n",
    "            break\n",
    "\n",
    "    print(\"x:\\n\", x)\n",
    "    print(\"it:\\n\", it)"
   ]
  },
  {
   "cell_type": "code",
   "execution_count": 5,
   "metadata": {},
   "outputs": [
    {
     "name": "stdout",
     "output_type": "stream",
     "text": [
      "x:\n",
      " [ 0.01893441  0.01680508  0.02335523 -0.00041086]\n",
      "it:\n",
      " 30\n"
     ]
    }
   ],
   "source": [
    "#Call the Gauss-Jacobi routine\n",
    "gjacobi(A, b, 1000, 1e-08, x0=None)"
   ]
  },
  {
   "cell_type": "markdown",
   "metadata": {},
   "source": [
    "Check the result with a direct method (notice that they are not exactly identical):"
   ]
  },
  {
   "cell_type": "code",
   "execution_count": 6,
   "metadata": {},
   "outputs": [
    {
     "data": {
      "text/plain": [
       "array([ 0.01893441,  0.01680508,  0.02335523, -0.00041085])"
      ]
     },
     "execution_count": 6,
     "metadata": {},
     "output_type": "execute_result"
    }
   ],
   "source": [
    "np.linalg.solve(A,b)"
   ]
  },
  {
   "cell_type": "code",
   "execution_count": 7,
   "metadata": {},
   "outputs": [],
   "source": [
    "def gseidel(A, b, maxit, tol, lamb, x0=None):\n",
    "    \"\"\"\n",
    "    Solve a system of linear equations with the Gauss-Seidel iterative method outlined in the book.\n",
    "    It relies on the updating eq:\n",
    "        x = lambda*inv(Q)(b - Ax)\n",
    "    Where Q is the upper triangular matrix obtained from A    \n",
    "    \"\"\"\n",
    "    # If we have not provided an initial array for x make a new one\n",
    "    if x0 == None:\n",
    "        x = np.array([1 for _ in np.arange(A.shape[1])])\n",
    "    else:\n",
    "        x = x0\n",
    "    \n",
    "    # Get the upper triangular matrix from A\n",
    "    Qtmp1 = np.triu(A)\n",
    "    # Get the diagonal matrix from A\n",
    "    Qtmp2 = np.diag(np.diag(A))\n",
    "    # Get the Gauss-Seidel update matrix\n",
    "    Q = Qtmp1 + Qtmp2\n",
    "    \n",
    "    # We could get the lower triangular matrix from A and it would still work\n",
    "    #Q = np.tril(A)\n",
    "    \n",
    "    # Get the inverse of Q\n",
    "    Qinv = inv(Q)\n",
    "    \n",
    "    # Begin the iterations, updating the vector x\n",
    "    for it in np.arange(maxit):\n",
    "        dx = Qinv.dot(b -A.dot(x))\n",
    "        #Note: we include a relaxation weight to possibly make the updates less drastic\n",
    "        x = x + lamb*dx\n",
    "        if np.linalg.norm(dx)<tol:\n",
    "            break\n",
    "            \n",
    "    print(\"x:\\n\", x)\n",
    "    print(\"it:\\n\", it)"
   ]
  },
  {
   "cell_type": "code",
   "execution_count": 8,
   "metadata": {},
   "outputs": [
    {
     "name": "stdout",
     "output_type": "stream",
     "text": [
      "x:\n",
      " [ 0.01893441  0.0168051   0.02335524 -0.00041087]\n",
      "it:\n",
      " 54\n"
     ]
    }
   ],
   "source": [
    "#Call the Gauss-Seidel routine (neglecting the relaxation parameter, as it is set to 1)\n",
    "gseidel(A, b, 1000, 1e-08, 1, x0=None)"
   ]
  },
  {
   "cell_type": "code",
   "execution_count": 9,
   "metadata": {},
   "outputs": [
    {
     "name": "stdout",
     "output_type": "stream",
     "text": [
      "x:\n",
      " [ 0.01893441  0.0168051   0.02335525 -0.00041088]\n",
      "it:\n",
      " 611\n"
     ]
    }
   ],
   "source": [
    "#Call the Gauss-Seidel routine (setting the relaxation parameter to 0.1)\n",
    "gseidel(A, b, 1000, 1e-08, 0.1, x0=None)"
   ]
  },
  {
   "cell_type": "code",
   "execution_count": 10,
   "metadata": {},
   "outputs": [
    {
     "name": "stdout",
     "output_type": "stream",
     "text": [
      "x:\n",
      " [ 0.01893441  0.01680509  0.02335524 -0.00041087]\n",
      "it:\n",
      " 22\n"
     ]
    }
   ],
   "source": [
    "#Call the Gauss-Seidel routine (setting the relaxation parameter to 2.0)\n",
    "gseidel(A, b, 1000, 1e-08, 2.0, x0=None)"
   ]
  }
 ],
 "metadata": {
  "kernelspec": {
   "display_name": "Python 3 (ipykernel)",
   "language": "python",
   "name": "python3"
  },
  "language_info": {
   "codemirror_mode": {
    "name": "ipython",
    "version": 3
   },
   "file_extension": ".py",
   "mimetype": "text/x-python",
   "name": "python",
   "nbconvert_exporter": "python",
   "pygments_lexer": "ipython3",
   "version": "3.11.4"
  }
 },
 "nbformat": 4,
 "nbformat_minor": 4
}
