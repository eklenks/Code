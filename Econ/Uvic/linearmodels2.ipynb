{
 "cells": [
  {
   "cell_type": "markdown",
   "metadata": {},
   "source": [
    "## Solving Systems of Linear Equations: the L-U Factorization"
   ]
  },
  {
   "cell_type": "code",
   "execution_count": null,
   "metadata": {},
   "outputs": [],
   "source": [
    "#Let's consider this example\n",
    "\n",
    "import numpy as np\n",
    "import scipy\n",
    "import scipy.linalg   # SciPy Linear Algebra Library\n",
    "\n",
    "#Assign the appropriate values to the matrix of coefficients A\n",
    "A = np.matrix([ [-3, 2, 3],\n",
    "     [-3, 2, 1],\n",
    "     [3, 0, 0] ])\n",
    "\n",
    "#Check that it is a matrix and not a one-dimensional array\n",
    "A"
   ]
  },
  {
   "cell_type": "code",
   "execution_count": null,
   "metadata": {},
   "outputs": [],
   "source": [
    "#Assign the appropriate values to the vector of constants b\n",
    "b = np.array([ 10, 8, -3])\n",
    "\n",
    "#Check that it is a vector\n",
    "b"
   ]
  },
  {
   "cell_type": "code",
   "execution_count": null,
   "metadata": {},
   "outputs": [],
   "source": [
    "#More info on arrays can be found at:\n",
    "#- https://numpy.org/doc/stable/user/absolute_beginners.html\n",
    "#- https://numpy.org/doc/stable/user/basics.creation.html\n",
    "#- https://numpy.org/doc/stable/reference/generated/numpy.array.html\n",
    "\n",
    "#Note: create the row vector\n",
    "bprime = np.array([[10, 8, -3]])\n",
    " \n",
    "#Check that it is a row vector\n",
    "bprime"
   ]
  },
  {
   "cell_type": "code",
   "execution_count": null,
   "metadata": {},
   "outputs": [],
   "source": [
    "#Compute the L-U factorization (note the multiple assignment)\n",
    "P, L ,U = scipy.linalg.lu(A)\n",
    "\n",
    "#Report the factorization\n",
    "#Note: L is Lower triangular, because Python performs the related row-permutation\n",
    "L"
   ]
  },
  {
   "cell_type": "code",
   "execution_count": null,
   "metadata": {},
   "outputs": [],
   "source": [
    "#Report the factorization\n",
    "U"
   ]
  },
  {
   "cell_type": "code",
   "execution_count": null,
   "metadata": {},
   "outputs": [],
   "source": [
    "#Report the Permutation matrix in the factorization\n",
    "P"
   ]
  },
  {
   "cell_type": "code",
   "execution_count": null,
   "metadata": {},
   "outputs": [],
   "source": [
    "#Solve the system\n",
    "x = scipy.linalg.inv(U)@(scipy.linalg.inv(L)@ P@b) \n",
    "\n",
    "#Report the solution\n",
    "x"
   ]
  },
  {
   "cell_type": "code",
   "execution_count": null,
   "metadata": {},
   "outputs": [],
   "source": [
    "#Check that it is correct (the multiplication should equal b)\n",
    "np.dot(A, x)"
   ]
  }
 ],
 "metadata": {
  "kernelspec": {
   "display_name": "Python 3 (ipykernel)",
   "language": "python",
   "name": "python3"
  },
  "language_info": {
   "codemirror_mode": {
    "name": "ipython",
    "version": 3
   },
   "file_extension": ".py",
   "mimetype": "text/x-python",
   "name": "python",
   "nbconvert_exporter": "python",
   "pygments_lexer": "ipython3",
   "version": "3.9.7"
  }
 },
 "nbformat": 4,
 "nbformat_minor": 2
}
