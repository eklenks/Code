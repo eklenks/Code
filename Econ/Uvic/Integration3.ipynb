{
 "cells": [
  {
   "cell_type": "markdown",
   "metadata": {},
   "source": [
    "# Chapter 5\n",
    "# Numerical Integration"
   ]
  },
  {
   "cell_type": "markdown",
   "metadata": {},
   "source": [
    "In many computational economic applications, one must compute the definite integral\n",
    "of a real-valued function $f(x)$ with respect to a \"weighting\" function $w(x)$ over an interval\n",
    "$I$ of $R^n$:\n",
    "\n",
    "$$\\int_I f(x)w(x) dx$$\n",
    "\n",
    "\n",
    "The weighting function may be the identity function, $w(x) = 1$, in which case the integral represents\n",
    "the area under the function $f(x)$. In other applications, $w(x)$ may be the probability\n",
    "density of a random variable $\\tilde X$, in which case the integral represents the expectation\n",
    "of $f( \\tilde X)$ when $I$ is the whole support of $\\tilde X$.\n",
    "\n",
    "\n",
    "\n"
   ]
  },
  {
   "cell_type": "markdown",
   "metadata": {},
   "source": [
    "In this notebook, we discuss three classes of numerical integration or numerical\n",
    "quadrature methods<sup>1</sup>. All methods approximate the integral with a weighted sum of\n",
    "function values:\n",
    "\n",
    "$$\\int_I f(x) w(x)dx \\approx \\sum_{i=0}^{n} w_i f(x_i)\\thinspace .$$\n",
    "\n",
    "<sup>1</sup>Quadrature is a historical mathematical term that means calculating an area."
   ]
  },
  {
   "cell_type": "markdown",
   "metadata": {},
   "source": [
    "The methods differ only in how the *quadrature weights* $w_i$ and the *quadrature nodes*\n",
    "$x_i$ are chosen."
   ]
  },
  {
   "cell_type": "markdown",
   "metadata": {},
   "source": [
    "1. Newton-Cotes rules employ piecewise polynomial approximations to the integrand\n",
    "2. Gaussian quadrature methods employ nodes and weights that satisfy moment matching conditions\n",
    "3. Monte Carlo methods employ equally weighted “random” nodes"
   ]
  },
  {
   "cell_type": "markdown",
   "metadata": {},
   "source": [
    "**Newton-Cotes** methods approximate the integrand $f$ between nodes\n",
    "using low order polynomials, and sum the integrals of the polynomials to approximate\n",
    "the integral of $f$. Newton-Cotes methods are easy to implement, but are not particularly\n",
    "efficient for computing the integral of a smooth function."
   ]
  },
  {
   "cell_type": "markdown",
   "metadata": {},
   "source": [
    "**Gaussian quadrature**\n",
    "methods choose the nodes and weights to satisfy moment matching conditions, and\n",
    "are more powerful than Newton-Cotes methods if the integrand is smooth."
   ]
  },
  {
   "cell_type": "markdown",
   "metadata": {},
   "source": [
    "**Monte Carlo and quasi-Monte Carlo integration** methods use \"random\" or \"equidistributed\"\n",
    "nodes, and are simple to implement and are especially useful if the integration domain\n",
    "is of high dimension or irregularly shaped."
   ]
  },
  {
   "cell_type": "code",
   "execution_count": 1,
   "metadata": {},
   "outputs": [],
   "source": [
    "import math\n",
    "import numpy as np\n",
    "import scipy.linalg as la\n",
    "from scipy.special import gammaln\n",
    "import sympy as sym\n",
    "sym.init_printing()\n",
    "from scipy import integrate\n",
    "\n",
    "\n",
    "# Install a conda package in the current Jupyter kernel\n",
    "#import sys\n",
    "#!conda install --yes --prefix {sys.prefix} seaborn numba\n",
    "\n",
    "import matplotlib.pyplot as plt\n",
    "import numpy as np\n",
    "from functools import reduce"
   ]
  },
  {
   "cell_type": "code",
   "execution_count": 2,
   "metadata": {},
   "outputs": [],
   "source": [
    "def ckron(*arrays):\n",
    "    \"\"\"\n",
    "    Repeatedly applies the np.kron function to an arbitrary number of\n",
    "    input arrays\n",
    "    Parameters\n",
    "    ----------\n",
    "    *arrays : tuple/list of np.ndarray\n",
    "    Returns\n",
    "    -------\n",
    "    out : np.ndarray\n",
    "        The result of repeated kronecker products\n",
    "    Notes\n",
    "    -----\n",
    "    Based of original function `ckron` in CompEcon toolbox by Miranda\n",
    "    and Fackler\n",
    "    References\n",
    "    ----------\n",
    "    Miranda, Mario J, and Paul L Fackler. Applied Computational\n",
    "    Economics and Finance, MIT Press, 2002.\n",
    "    \"\"\"\n",
    "    return reduce(np.kron, arrays)\n",
    "\n",
    "def gridmake(*arrays):\n",
    "    \"\"\"\n",
    "    TODO: finish this docstring\n",
    "    Notes\n",
    "    -----\n",
    "    Based of original function ``gridmake`` in CompEcon toolbox by\n",
    "    Miranda and Fackler\n",
    "    References\n",
    "    ----------\n",
    "    Miranda, Mario J, and Paul L Fackler. Applied Computational Economics\n",
    "    and Finance, MIT Press, 2002.\n",
    "    \"\"\"\n",
    "    if all([i.ndim == 1 for i in arrays]):\n",
    "        d = len(arrays)\n",
    "        if d == 2:\n",
    "            out = _gridmake2(*arrays)\n",
    "        else:\n",
    "            out = _gridmake2(arrays[0], arrays[1])\n",
    "            for arr in arrays[2:]:\n",
    "                out = _gridmake2(out, arr)\n",
    "\n",
    "        return out\n",
    "    else:\n",
    "        raise NotImplementedError(\"Come back here\")\n",
    "        \n",
    "def _gridmake2(x1, x2):\n",
    "    \"\"\"\n",
    "    TODO: finish this docstring\n",
    "    Notes\n",
    "    -----\n",
    "    Based of original function ``gridmake2`` in CompEcon toolbox by\n",
    "    Miranda and Fackler\n",
    "    References\n",
    "    ----------\n",
    "    Miranda, Mario J, and Paul L Fackler. Applied Computational Economics\n",
    "    and Finance, MIT Press, 2002.\n",
    "    \"\"\"\n",
    "    if x1.ndim == 1 and x2.ndim == 1:\n",
    "        return np.column_stack([np.tile(x1, x2.shape[0]),\n",
    "                               np.repeat(x2, x1.shape[0])])\n",
    "    elif x1.ndim > 1 and x2.ndim == 1:\n",
    "        first = np.tile(x1, (x2.shape[0], 1))\n",
    "        second = np.repeat(x2, x1.shape[0])\n",
    "        return np.column_stack([first, second])\n",
    "    else:\n",
    "        raise NotImplementedError(\"Come back here\")        \n",
    "\n",
    "def _qnwtrap1(n, a, b):\n",
    "    \"\"\"\n",
    "    Compute univariate trapezoid rule quadrature nodes and weights\n",
    "    Parameters\n",
    "    ----------\n",
    "    n : int\n",
    "        The number of nodes\n",
    "    a : int\n",
    "        The lower endpoint\n",
    "    b : int\n",
    "        The upper endpoint\n",
    "    Returns\n",
    "    -------\n",
    "    nodes : np.ndarray(dtype=float)\n",
    "        An n element array of nodes\n",
    "    nodes : np.ndarray(dtype=float)\n",
    "        An n element array of weights\n",
    "    Notes\n",
    "    -----\n",
    "    Based of original function ``qnwtrap1`` in CompEcon toolbox by\n",
    "    Miranda and Fackler\n",
    "    References\n",
    "    ----------\n",
    "    Miranda, Mario J, and Paul L Fackler. Applied Computational\n",
    "    Economics and Finance, MIT Press, 2002.\n",
    "    \"\"\"\n",
    "    if n < 1:\n",
    "        raise ValueError(\"n must be at least one\")\n",
    "\n",
    "    nodes = np.linspace(a, b, n)\n",
    "    dx = nodes[1] - nodes[0]\n",
    "\n",
    "    weights = dx * np.ones(n)\n",
    "    weights[0] *= 0.5\n",
    "    weights[-1] *= 0.5\n",
    "\n",
    "    return nodes, weights\n",
    "    \n",
    "def _qnwsimp1(n, a, b):\n",
    "    \"\"\"\n",
    "    Compute univariate Simpson quadrature nodes and weights\n",
    "    Parameters\n",
    "    ----------\n",
    "    n : int\n",
    "        The number of nodes\n",
    "    a : int\n",
    "        The lower endpoint\n",
    "    b : int\n",
    "        The upper endpoint\n",
    "    Returns\n",
    "    -------\n",
    "    nodes : np.ndarray(dtype=float)\n",
    "        An n element array of nodes\n",
    "    nodes : np.ndarray(dtype=float)\n",
    "        An n element array of weights\n",
    "    Notes\n",
    "    -----\n",
    "    Based of original function ``qnwsimp1`` in CompEcon toolbox by\n",
    "    Miranda and Fackler\n",
    "    References\n",
    "    ----------\n",
    "    Miranda, Mario J, and Paul L Fackler. Applied Computational\n",
    "    Economics and Finance, MIT Press, 2002.\n",
    "    \"\"\"\n",
    "    if n % 2 == 0:\n",
    "        print(\"WARNING qnwsimp: n must be an odd integer. Increasing by 1\")\n",
    "        n += 1\n",
    "\n",
    "    nodes = np.linspace(a, b, n)\n",
    "    dx = nodes[1] - nodes[0]\n",
    "    weights = np.tile([2.0, 4.0], (n + 1) // 2)\n",
    "    weights = weights[:n]\n",
    "    weights[0] = weights[-1] = 1\n",
    "    weights = (dx / 3.0) * weights\n",
    "\n",
    "    return nodes, weights       \n",
    "        \n",
    "def _qnwlege1(n, a, b):\n",
    "    \"\"\"\n",
    "    Compute univariate Guass-Legendre quadrature nodes and weights\n",
    "    Parameters\n",
    "    ----------\n",
    "    n : int\n",
    "        The number of nodes\n",
    "    a : int\n",
    "        The lower endpoint\n",
    "    b : int\n",
    "        The upper endpoint\n",
    "    Returns\n",
    "    -------\n",
    "    nodes : np.ndarray(dtype=float)\n",
    "        An n element array of nodes\n",
    "    nodes : np.ndarray(dtype=float)\n",
    "        An n element array of weights\n",
    "    Notes\n",
    "    -----\n",
    "    Based of original function ``qnwlege1`` in CompEcon toolbox by\n",
    "    Miranda and Fackler\n",
    "    References\n",
    "    ----------\n",
    "    Miranda, Mario J, and Paul L Fackler. Applied Computational\n",
    "    Economics and Finance, MIT Press, 2002.\n",
    "    \"\"\"\n",
    "    # import ipdb; ipdb.set_trace()\n",
    "    maxit = 100\n",
    "    m = np.fix((n + 1) / 2.0).astype(int)\n",
    "    xm = 0.5 * (b + a)\n",
    "    xl = 0.5 * (b - a)\n",
    "    nodes = np.zeros(n)\n",
    "\n",
    "    weights = nodes.copy()\n",
    "    i = np.arange(m, dtype='int')\n",
    "\n",
    "    z = np.cos(np.pi * ((i + 1.0) - 0.25) / (n + 0.5))\n",
    "\n",
    "    for its in range(maxit):\n",
    "        p1 = 1.0\n",
    "        p2 = 0.0\n",
    "        for j in range(1, n+1):\n",
    "            p3 = p2\n",
    "            p2 = p1\n",
    "            p1 = ((2 * j - 1) * z * p2 - (j - 1) * p3) / j\n",
    "\n",
    "        pp = n * (z * p1 - p2)/(z * z - 1.0)\n",
    "        z1 = z.copy()\n",
    "        z = z1 - p1/pp\n",
    "        if all(np.abs(z - z1) < 1e-14):\n",
    "            break\n",
    "\n",
    "    if its == maxit - 1:\n",
    "        raise ValueError(\"Maximum iterations in _qnwlege1\")\n",
    "\n",
    "    nodes[i] = xm - xl * z\n",
    "    nodes[- i - 1] = xm + xl * z\n",
    "\n",
    "    weights[i] = 2 * xl / ((1 - z * z) * pp * pp)\n",
    "    weights[- i - 1] = weights[i]\n",
    "\n",
    "    return nodes, weights\n",
    "        \n",
    "def _make_multidim_func(one_d_func, n, *args):\n",
    "    \"\"\"\n",
    "    A helper function to cut down on code repetition. Almost all of the\n",
    "    code in qnwcheb, qnwlege, qnwsimp, qnwtrap is just dealing\n",
    "    various forms of input arguments and then shelling out to the\n",
    "    corresponding 1d version of the function.\n",
    "    This routine does all the argument checking and passes things\n",
    "    through the appropriate 1d function before using a tensor product\n",
    "    to combine weights and nodes.\n",
    "    Parameters\n",
    "    ----------\n",
    "    one_d_func : function\n",
    "        The 1d function to be called along each dimension\n",
    "    n : int or array_like(float)\n",
    "        A length-d iterable of the number of nodes in each dimension\n",
    "    args :\n",
    "        These are the arguments to various qnw____ functions.  For the\n",
    "        majority of the functions this is just a and b, but some differ.\n",
    "    Returns\n",
    "    -------\n",
    "    func : function\n",
    "        The multi-dimensional version of the parameter ``one_d_func``\n",
    "    \"\"\"\n",
    "    args = list(args)\n",
    "    n = np.asarray(n)\n",
    "    args = list(map(np.asarray, args))\n",
    "\n",
    "    if all([x.size == 1 for x in [n] + args]):\n",
    "        return one_d_func(n, *args)\n",
    "\n",
    "    d = n.size\n",
    "\n",
    "    for i in range(len(args)):\n",
    "        if args[i].size == 1:\n",
    "            args[i] = np.repeat(args[i], d)\n",
    "\n",
    "    nodes = []\n",
    "    weights = []\n",
    "\n",
    "    for i in range(d):\n",
    "        ai = [x[i] for x in args]\n",
    "        _1d = one_d_func(n[i], *ai)\n",
    "        nodes.append(_1d[0])\n",
    "        weights.append(_1d[1])\n",
    "\n",
    "    weights = ckron(*weights[::-1])  # reverse ordered tensor product\n",
    "\n",
    "    nodes = gridmake(*nodes)\n",
    "    return nodes, weights\n",
    "\n",
    "def qnwtrap(n, a, b):\n",
    "    \"\"\"\n",
    "    Computes multivariate trapezoid rule quadrature nodes and weights.\n",
    "    Parameters\n",
    "    ----------\n",
    "    n : int or array_like(float)\n",
    "        A length-d iterable of the number of nodes in each dimension\n",
    "    a : scalar or array_like(float)\n",
    "        A length-d iterable of lower endpoints. If a scalar is given,\n",
    "        that constant is repeated d times, where d is the number of\n",
    "        dimensions\n",
    "    b : scalar or array_like(float)\n",
    "        A length-d iterable of upper endpoints. If a scalar is given,\n",
    "        that constant is repeated d times, where d is the number of\n",
    "        dimensions\n",
    "    Returns\n",
    "    -------\n",
    "    nodes : np.ndarray(dtype=float)\n",
    "        Quadrature nodes\n",
    "    weights : np.ndarray(dtype=float)\n",
    "        Weights for quadrature nodes\n",
    "    Notes\n",
    "    -----\n",
    "    Based of original function ``qnwtrap`` in CompEcon toolbox by\n",
    "    Miranda and Fackler\n",
    "    References\n",
    "    ----------\n",
    "    Miranda, Mario J, and Paul L Fackler. Applied Computational\n",
    "    Economics and Finance, MIT Press, 2002.\n",
    "    \"\"\"\n",
    "    return _make_multidim_func(_qnwtrap1, n, a, b)\n",
    "\n",
    "def _qnwnorm1(n):\n",
    "    \"\"\"\n",
    "    Compute nodes and weights for quadrature of univariate standard\n",
    "    normal distribution\n",
    "    Parameters\n",
    "    ----------\n",
    "    n : int\n",
    "        The number of nodes\n",
    "    Returns\n",
    "    -------\n",
    "    nodes : np.ndarray(dtype=float)\n",
    "        An n element array of nodes\n",
    "    nodes : np.ndarray(dtype=float)\n",
    "        An n element array of weights\n",
    "    Notes\n",
    "    -----\n",
    "    Based of original function ``qnwnorm1`` in CompEcon toolbox by\n",
    "    Miranda and Fackler\n",
    "    References\n",
    "    ----------\n",
    "    Miranda, Mario J, and Paul L Fackler. Applied Computational\n",
    "    Economics and Finance, MIT Press, 2002.\n",
    "    \"\"\"\n",
    "    maxit = 100\n",
    "    pim4 = 1 / np.pi**(0.25)\n",
    "    m = np.fix((n + 1) / 2).astype(int)\n",
    "    nodes = np.zeros(n)\n",
    "    weights = np.zeros(n)\n",
    "\n",
    "    for i in range(m):\n",
    "        if i == 0:\n",
    "            z = np.sqrt(2*n+1) - 1.85575 * ((2 * n + 1)**(-1 / 6.1))\n",
    "        elif i == 1:\n",
    "            z = z - 1.14 * (n ** 0.426) / z\n",
    "        elif i == 2:\n",
    "            z = 1.86 * z + 0.86 * nodes[0]\n",
    "        elif i == 3:\n",
    "            z = 1.91 * z + 0.91 * nodes[1]\n",
    "        else:\n",
    "            z = 2 * z + nodes[i-2]\n",
    "\n",
    "        its = 0\n",
    "\n",
    "        while its < maxit:\n",
    "            its += 1\n",
    "            p1 = pim4\n",
    "            p2 = 0\n",
    "            for j in range(1, n+1):\n",
    "                p3 = p2\n",
    "                p2 = p1\n",
    "                p1 = z * math.sqrt(2.0/j) * p2 - math.sqrt((j - 1.0) / j) * p3\n",
    "\n",
    "            pp = math.sqrt(2 * n) * p2\n",
    "            z1 = z\n",
    "            z = z1 - p1/pp\n",
    "            if abs(z - z1) < 1e-14:\n",
    "                break\n",
    "\n",
    "        if its == maxit:\n",
    "            raise ValueError(\"Failed to converge in _qnwnorm1\")\n",
    "\n",
    "        nodes[n - 1 - i] = z\n",
    "        nodes[i] = -z\n",
    "        weights[i] = 2 / (pp*pp)\n",
    "        weights[n - 1 - i] = weights[i]\n",
    "\n",
    "    weights /= math.sqrt(math.pi)\n",
    "    nodes = nodes * math.sqrt(2.0)\n",
    "\n",
    "    return nodes, weights\n",
    "\n",
    "def qnwnorm(n, mu=None, sig2=None, usesqrtm=False):\n",
    "    \"\"\"\n",
    "    Computes nodes and weights for multivariate normal distribution\n",
    "    Parameters\n",
    "    ----------\n",
    "    n : int or array_like(float)\n",
    "        A length-d iterable of the number of nodes in each dimension\n",
    "    mu : scalar or array_like(float), optional(default=zeros(d))\n",
    "        The means of each dimension of the random variable. If a scalar\n",
    "        is given, that constant is repeated d times, where d is the\n",
    "        number of dimensions\n",
    "    sig2 : array_like(float), optional(default=eye(d))\n",
    "        A d x d array representing the variance-covariance matrix of the\n",
    "        multivariate normal distribution.\n",
    "    Returns\n",
    "    -------\n",
    "    nodes : np.ndarray(dtype=float)\n",
    "        Quadrature nodes\n",
    "    weights : np.ndarray(dtype=float)\n",
    "        Weights for quadrature nodes\n",
    "    Notes\n",
    "    -----\n",
    "    Based of original function ``qnwnorm`` in CompEcon toolbox by\n",
    "    Miranda and Fackler\n",
    "    References\n",
    "    ----------\n",
    "    Miranda, Mario J, and Paul L Fackler. Applied Computational\n",
    "    Economics and Finance, MIT Press, 2002.\n",
    "    \"\"\"\n",
    "    n = np.asarray(n)\n",
    "    d = n.size\n",
    "\n",
    "    if mu is None:\n",
    "        mu = np.zeros(d)\n",
    "    else:\n",
    "        mu = np.asarray(mu)\n",
    "\n",
    "    if sig2 is None:\n",
    "        sig2 = np.eye(d)\n",
    "    else:\n",
    "        sig2 = np.asarray(sig2).reshape(d, d)\n",
    "\n",
    "    if all([x.size == 1 for x in [n, mu, sig2]]):\n",
    "        nodes, weights = _qnwnorm1(n)\n",
    "    else:\n",
    "        nodes = []\n",
    "        weights = []\n",
    "\n",
    "        for i in range(d):\n",
    "            _1d = _qnwnorm1(n[i])\n",
    "            nodes.append(_1d[0])\n",
    "            weights.append(_1d[1])\n",
    "\n",
    "        nodes = gridmake(*nodes)\n",
    "        weights = ckron(*weights[::-1])\n",
    "\n",
    "    if usesqrtm:\n",
    "        new_sig2 = la.sqrtm(sig2)\n",
    "    else:  # cholesky\n",
    "        new_sig2 = la.cholesky(sig2)\n",
    "\n",
    "    if d > 1:\n",
    "        nodes = nodes.dot(new_sig2) + mu  # Broadcast ok\n",
    "    else:  # nodes.dot(sig) will not be aligned in scalar case.\n",
    "        nodes = nodes * new_sig2 + mu\n",
    "\n",
    "    return nodes.squeeze(), weights\n"
   ]
  },
  {
   "cell_type": "markdown",
   "metadata": {},
   "source": [
    "## 5.3 Monte Carlo Integration"
   ]
  },
  {
   "cell_type": "markdown",
   "metadata": {
    "collapsed": true
   },
   "source": [
    "In numerical integration, methods such as the trapezoidal rule use a deterministic approach. Monte Carlo integration, on the other hand, employs a non-deterministic approach: each realization provides a different outcome.\n",
    "\n",
    "\n",
    "![](https://upload.wikimedia.org/wikipedia/commons/thumb/2/20/MonteCarloIntegrationCircle.svg/440px-MonteCarloIntegrationCircle.svg.png)\n",
    "\n"
   ]
  },
  {
   "cell_type": "markdown",
   "metadata": {
    "collapsed": true
   },
   "source": [
    "\n",
    "Monte Carlo integration methods are motivated by the **Strong Law of Large Numbers.**\n",
    "\n",
    "One version of the Law states that if $x_1, x_2, ..., x_n$ are independent realizations of a random variable $\\tilde X$ and $f$ is a continuous function, then\n",
    "\n",
    "\n",
    "$$\\lim _{{n\\to \\infty }} \\frac{1}{n} \\sum_{i=1}^{n}  f(x_i) =  E f(\\tilde X)$$\n",
    "\n",
    "with probability one.\n",
    "\n",
    "The Monte Carlo integration scheme is thus a simple one. To compute an approximation to the expectation of $f(\\tilde X)$, one draws a random sample $x_1, x_2, ..., x_n$ from the distribution of $\\tilde X$ and sets\n",
    "\n",
    "\n",
    "\n",
    "$$  E f(\\tilde X) \\approx \\frac{1}{n} \\sum_{i=1}^{n}  f(x_i) $$\n",
    "\n",
    "\n",
    "Monte Carlo integration uses uniform weights and “randomly” generated nodes. However, can we draw a truly random sample?"
   ]
  },
  {
   "cell_type": "markdown",
   "metadata": {},
   "source": [
    "### Random Number Generators"
   ]
  },
  {
   "cell_type": "markdown",
   "metadata": {
    "collapsed": true
   },
   "source": [
    "Most numerical software packages provide a routine that generates pseudo-random variables\n",
    "that are uniformly distributed on the interval [0; 1]. A uniform random number generator\n",
    "is useful for generating random samples from other distributions. Suppose $\\tilde X$ has a cumulative distribution function  \n",
    "\n",
    "$$ F(x) = Pr( \\tilde X \\le x) $$\n",
    "\n",
    "\n",
    "whose inverse has a well-defined closed form. If $\\tilde U$ is uniformly distributed on $(0; 1)$, then\n",
    "$F^{-1}( \\tilde U)$ has the same distribution as $\\tilde X$."
   ]
  },
  {
   "cell_type": "markdown",
   "metadata": {},
   "source": [
    "Most numerical software packages also provide an intrinsic routine that generates pseudorandom\n",
    "standard normal variables. The routine may also be used to generate pseudo-random sequences of lognormal and multivariate normal variables.\n",
    "\n"
   ]
  },
  {
   "cell_type": "markdown",
   "metadata": {},
   "source": [
    "A fundamental problem that arises with Monte Carlo integration is that it is almost impossible\n",
    "to generate a truly random sample of variates for any distribution. Most compilers\n",
    "and vector processing packages provide intrinsic routines for computing so-called random\n",
    "numbers. These routines, however, employ iteration rules that generate a purely deterministic,\n",
    "not random, sequence of numbers. In particular, if the generator is repeatedly initiated\n",
    "at the same point, it will return the same sequence of \"random\" variates each time. About\n",
    "all that can be said of numerical random number generators is that good ones will generate\n",
    "sequences that appear to be random, in that they pass certain statistical tests for randomness.\n",
    "For this reason, numerical random number generators are more accurately said to\n",
    "generate sequences of \"pseudo-random\" rather than random numbers."
   ]
  },
  {
   "cell_type": "markdown",
   "metadata": {},
   "source": [
    "- numpy offers two intrinsic random number generators \n",
    "\n",
    "- np.random.rand(m,n) generates an matrix of numbers that are independently uniformly distributed on the interval\n",
    "\n",
    "\n",
    "- np.random.randn(m,n) generates an matrix of numbers that are independently standard normally distributed"
   ]
  },
  {
   "cell_type": "code",
   "execution_count": 3,
   "metadata": {},
   "outputs": [],
   "source": [
    "np.random.seed(123)"
   ]
  },
  {
   "cell_type": "code",
   "execution_count": 4,
   "metadata": {},
   "outputs": [
    {
     "data": {
      "text/plain": [
       "array([[0.69646919, 0.28613933, 0.22685145],\n",
       "       [0.55131477, 0.71946897, 0.42310646],\n",
       "       [0.9807642 , 0.68482974, 0.4809319 ],\n",
       "       [0.39211752, 0.34317802, 0.72904971]])"
      ]
     },
     "execution_count": 4,
     "metadata": {},
     "output_type": "execute_result"
    }
   ],
   "source": [
    "np.random.rand(4,3)"
   ]
  },
  {
   "cell_type": "code",
   "execution_count": 5,
   "metadata": {},
   "outputs": [
    {
     "data": {
      "text/plain": [
       "array([[-0.67888615, -0.09470897,  1.49138963],\n",
       "       [-0.638902  , -0.44398196, -0.43435128],\n",
       "       [ 2.20593008,  2.18678609,  1.0040539 ],\n",
       "       [ 0.3861864 ,  0.73736858,  1.49073203]])"
      ]
     },
     "execution_count": 5,
     "metadata": {},
     "output_type": "execute_result"
    }
   ],
   "source": [
    "np.random.randn(4,3)"
   ]
  },
  {
   "cell_type": "code",
   "execution_count": 6,
   "metadata": {},
   "outputs": [
    {
     "name": "stdout",
     "output_type": "stream",
     "text": [
      "The sample average is: 1.7304838896736723\n"
     ]
    }
   ],
   "source": [
    "#Example 1\n",
    "np.random.seed(123)\n",
    "nsample=10\n",
    "xavg=2.0\n",
    "xvec=np.random.randn(nsample,1)\n",
    "xvec=xvec+xavg\n",
    "sampleavg=np.sum(xvec)/nsample\n",
    "print(\"The sample average is:\", sampleavg)"
   ]
  },
  {
   "cell_type": "code",
   "execution_count": 7,
   "metadata": {},
   "outputs": [
    {
     "data": {
      "image/png": "[encoded data removed]",
      "text/plain": [
       "<Figure size 432x288 with 1 Axes>"
      ]
     },
     "metadata": {
      "needs_background": "light"
     },
     "output_type": "display_data"
    }
   ],
   "source": [
    "import statsmodels.api as sm\n",
    "kde = sm.nonparametric.KDEUnivariate(xvec)\n",
    "kde.fit() # Estimate the density\n",
    "\n",
    "fig = plt.figure()\n",
    "ax = fig.add_subplot(111)\n",
    "\n",
    "# Plot the histrogram\n",
    "ax.hist(xvec, bins=30, density=True, label='Histogram from sample',\n",
    "        zorder=5, edgecolor='k', alpha=0.5)\n",
    "\n",
    "# Plot the KDE as fitted using the default arguments\n",
    "ax.plot(kde.support, kde.density, lw=3, label='KDE from sample', zorder=10)\n",
    "\n",
    "plt.show()"
   ]
  },
  {
   "cell_type": "code",
   "execution_count": 8,
   "metadata": {},
   "outputs": [
    {
     "name": "stdout",
     "output_type": "stream",
     "text": [
      "The sample average is: 2.02710907349036\n"
     ]
    }
   ],
   "source": [
    "np.random.seed(123)\n",
    "nsample=100\n",
    "xavg=2.0\n",
    "xvec=np.random.randn(nsample,1)\n",
    "xvec=xvec+xavg\n",
    "sampleavg=np.sum(xvec)/nsample\n",
    "print(\"The sample average is:\", sampleavg)"
   ]
  },
  {
   "cell_type": "code",
   "execution_count": 9,
   "metadata": {
    "scrolled": true
   },
   "outputs": [
    {
     "data": {
      "image/png": "[encoded data removed]",
      "text/plain": [
       "<Figure size 432x288 with 1 Axes>"
      ]
     },
     "metadata": {
      "needs_background": "light"
     },
     "output_type": "display_data"
    }
   ],
   "source": [
    "kde = sm.nonparametric.KDEUnivariate(xvec)\n",
    "kde.fit() # Estimate the density\n",
    "\n",
    "fig = plt.figure()\n",
    "ax = fig.add_subplot(111)\n",
    "\n",
    "# Plot the histrogram\n",
    "ax.hist(xvec, bins=30, density=True, label='Histogram from sample',\n",
    "        zorder=5, edgecolor='k', alpha=0.5)\n",
    "\n",
    "# Plot the KDE as fitted using the default arguments\n",
    "ax.plot(kde.support, kde.density, lw=3, label='KDE from sample', zorder=10)\n",
    "\n",
    "plt.show()"
   ]
  },
  {
   "cell_type": "code",
   "execution_count": 10,
   "metadata": {},
   "outputs": [
    {
     "name": "stdout",
     "output_type": "stream",
     "text": [
      "The sample average is: 2.009711892291596\n"
     ]
    }
   ],
   "source": [
    "np.random.seed(123)\n",
    "nsample=10000\n",
    "xavg=2.0\n",
    "xvec=np.random.randn(nsample,1)\n",
    "xvec=xvec+xavg\n",
    "sampleavg=np.sum(xvec)/nsample\n",
    "print(\"The sample average is:\", sampleavg)"
   ]
  },
  {
   "cell_type": "code",
   "execution_count": 11,
   "metadata": {},
   "outputs": [
    {
     "data": {
      "image/png": "[encoded data removed]",
      "text/plain": [
       "<Figure size 432x288 with 1 Axes>"
      ]
     },
     "metadata": {
      "needs_background": "light"
     },
     "output_type": "display_data"
    }
   ],
   "source": [
    "kde = sm.nonparametric.KDEUnivariate(xvec)\n",
    "kde.fit() # Estimate the density\n",
    "\n",
    "fig = plt.figure()\n",
    "ax = fig.add_subplot(111)\n",
    "\n",
    "# Plot the histrogram\n",
    "ax.hist(xvec, bins=30, density=True, label='Histogram from sample',\n",
    "        zorder=5, edgecolor='k', alpha=0.5)\n",
    "\n",
    "# Plot the KDE as fitted using the default arguments\n",
    "ax.plot(kde.support, kde.density, lw=3, label='KDE from sample', zorder=10)\n",
    "\n",
    "plt.show()"
   ]
  },
  {
   "cell_type": "code",
   "execution_count": 12,
   "metadata": {},
   "outputs": [
    {
     "name": "stdout",
     "output_type": "stream",
     "text": [
      "The sample average is: 0.6348601314794019\n"
     ]
    }
   ],
   "source": [
    "#Example 2\n",
    "np.random.seed(123)\n",
    "nsample=10000\n",
    "xavg=2.0\n",
    "xvec=np.random.randn(nsample,1)\n",
    "xvec=xvec+xavg\n",
    "xvec=1/xvec\n",
    "sampleavg=np.sum(xvec)/nsample\n",
    "print(\"The sample average is:\", sampleavg)"
   ]
  },
  {
   "cell_type": "code",
   "execution_count": 13,
   "metadata": {},
   "outputs": [
    {
     "name": "stdout",
     "output_type": "stream",
     "text": [
      "The sample average is: 0.01942378458319191\n",
      "The sample variance is: 3.984925066899208\n"
     ]
    }
   ],
   "source": [
    "#Example 3\n",
    "np.random.seed(123)\n",
    "nsample=10000\n",
    "xavg=0.0\n",
    "xsd=2.0\n",
    "xvec=np.random.randn(nsample,1)\n",
    "xvec=xsd*xvec+xavg\n",
    "sampleavg=np.sum(xvec)/nsample\n",
    "print(\"The sample average is:\", sampleavg)\n",
    "samplevar=np.sum(xvec*xvec)/nsample\n",
    "samplevar=samplevar-sampleavg*sampleavg\n",
    "print(\"The sample variance is:\", samplevar)"
   ]
  },
  {
   "cell_type": "markdown",
   "metadata": {},
   "source": [
    "Monte Carlo integration is easy to implement and may be preferred over Gaussian quadrature\n",
    "if the a routine for computing the Gaussian mass points and probabilities is not readily\n",
    "available or if the integration is over many dimensions. Monte Carlo integration, however, is\n",
    "subject to a sampling error that cannot be bounded with certainty. The approximation can\n",
    "be made more accurate, in a dubious statistical sense, by increasing the size of the random\n",
    "sample, but this can be expensive if evaluating $f$ or generating the pseudo-random variate is\n",
    "costly. Approximations generated by Monte Carlo integration will vary from one integration\n",
    "to the next, unless initialized at the same point, making the use of Monte Carlo integration\n",
    "in conjunction within other iterative schemes, such as dynamic programming or maximum\n",
    "likelihood estimation, problematic. So-called quasi Monte-Carlo methods can circumvent\n",
    "some of the problems associated with Monte-Carlo integration."
   ]
  },
  {
   "cell_type": "code",
   "execution_count": null,
   "metadata": {},
   "outputs": [],
   "source": []
  },
  {
   "cell_type": "markdown",
   "metadata": {},
   "source": [
    "Quasi-Monte Carlo uses a low-discrepancy sequence such as the Halton sequence, the Sobol sequence, or the Faure sequence, whereas Monte Carlo uses a pseudo random sequence. The advantage of using low-discrepancy sequences is a faster rate of convergence. Quasi-Monte Carlo has a rate of convergence close to $O(1/N)$, whereas the rate for the Monte Carlo method is $O(N^{−0.5})$.\n",
    "\n",
    "\n",
    "\n",
    "\n",
    "\n",
    "\n",
    "The Quasi-Monte Carlo method recently became popular in the area of mathematical finance or computational finance. In these areas, high-dimensional numerical integrals, where the integral should be evaluated within a threshold ε, occur frequently. Hence, the Monte Carlo method and the quasi-Monte Carlo method are beneficial in these situations.\n",
    "\n",
    "https://en.wikipedia.org/wiki/Quasi-Monte_Carlo_method"
   ]
  },
  {
   "cell_type": "markdown",
   "metadata": {},
   "source": [
    "## 5.4 Quasi-Monte Carlo Integration\n",
    "\n",
    "\n",
    "Although Monte-Carlo integration methods originated using insights from probability\n",
    "theory, recent extensions have severed that connection and, in the process, demonstrated\n",
    "ways in which the methods can be improved. Monte-Carlo methods rely on\n",
    "sequences $x_i$ with the property that\n",
    "\n",
    "\n",
    "$$\\lim _{{n\\to \\infty }} \\frac{b-a}{n} \\sum_{i=1}^{n}  f(x_i) =  \\int_{a}^{b} f(x) dx$$\n",
    "\n",
    "\n",
    "without regard to whether the sequences passes standard tests of randomness. Any sequence\n",
    "that satisfies this condition for arbitrary (Riemann) integrable functions can be used to approximate an integral on [a; b]. Although the Law of Large Numbers assures us that this is true when the $x_i$ are independent and identically distributed random variables, other\n",
    "sequences also satisfy this property. Indeed, it can be shown that sequences that are explicitly\n",
    "non-random, but instead attempt to fill in space in a regular manner can often provide more\n",
    "accurate approximations to definite integrals.\n"
   ]
  },
  {
   "cell_type": "markdown",
   "metadata": {
    "collapsed": true
   },
   "source": [
    "There are numerous schemes for generating equidistributed sequences, including **the Neiderreiter,\n",
    "Weyl, and Haber sequences.**"
   ]
  },
  {
   "cell_type": "code",
   "execution_count": null,
   "metadata": {},
   "outputs": [],
   "source": []
  },
  {
   "cell_type": "markdown",
   "metadata": {},
   "source": [
    "All of the quadrature functions will use tensor products to generate nodes and\n",
    "weights for integration over an arbitrary bounded interval $[a, b]$ in higher dimensional\n",
    "spaces."
   ]
  },
  {
   "cell_type": "code",
   "execution_count": null,
   "metadata": {},
   "outputs": [],
   "source": []
  },
  {
   "cell_type": "markdown",
   "metadata": {},
   "source": [
    "## 5.5 An Integration Toolbox\n",
    "The toolbox accompanying the textbook includes four functions for computing\n",
    "numerical integrals for general functions. Each takes three inputs ($n$, $a$, and $b$) and\n",
    "generates appropriate nodes and weights. The functions `qnwtrap` and `qnwsimp` implement the Newton-Cotes trapezoid and Simpson's rule methods, `qnwlege` implements\n",
    "Gauss-Legendre quadrature and `qnwequi` generates nodes and weights associated with\n",
    "either equidistributed or pseudo-random sequences. The calling syntax is the same\n",
    "for each and is illustrated with below with `qnwtrap`.\n",
    "\n",
    "\n"
   ]
  },
  {
   "cell_type": "code",
   "execution_count": 14,
   "metadata": {},
   "outputs": [],
   "source": [
    "def qnwlege(n, a, b):\n",
    "    \"\"\"\n",
    "    Computes multivariate Guass-Legendre  quadrature nodes and weights.\n",
    "    Parameters\n",
    "    ----------\n",
    "    n : int or array_like(float)\n",
    "        A length-d iterable of the number of nodes in each dimension\n",
    "    a : scalar or array_like(float)\n",
    "        A length-d iterable of lower endpoints. If a scalar is given,\n",
    "        that constant is repeated d times, where d is the number of\n",
    "        dimensions\n",
    "    b : scalar or array_like(float)\n",
    "        A length-d iterable of upper endpoints. If a scalar is given,\n",
    "        that constant is repeated d times, where d is the number of\n",
    "        dimensions\n",
    "    Returns\n",
    "    -------\n",
    "    nodes : np.ndarray(dtype=float)\n",
    "        Quadrature nodes\n",
    "    weights : np.ndarray(dtype=float)\n",
    "        Weights for quadrature nodes\n",
    "    Notes\n",
    "    -----\n",
    "    Based of original function ``qnwlege`` in CompEcon toolbox by\n",
    "    Miranda and Fackler\n",
    "    References\n",
    "    ----------\n",
    "    Miranda, Mario J, and Paul L Fackler. Applied Computational\n",
    "    Economics and Finance, MIT Press, 2002.\n",
    "    \"\"\"\n",
    "    return _make_multidim_func(_qnwlege1, n, a, b)"
   ]
  },
  {
   "cell_type": "code",
   "execution_count": 15,
   "metadata": {},
   "outputs": [],
   "source": [
    "def qnwequi(n, a, b, kind=\"N\", equidist_pp=None):\n",
    "    \"\"\"\n",
    "    Generates equidistributed sequences with property that averages\n",
    "    value of integrable function evaluated over the sequence converges\n",
    "    to the integral as n goes to infinity.\n",
    "    Parameters\n",
    "    ----------\n",
    "    n : int\n",
    "        Number of sequence points\n",
    "    a : scalar or array_like(float)\n",
    "        A length-d iterable of lower endpoints. If a scalar is given,\n",
    "        that constant is repeated d times, where d is the number of\n",
    "        dimensions\n",
    "    b : scalar or array_like(float)\n",
    "        A length-d iterable of upper endpoints. If a scalar is given,\n",
    "        that constant is repeated d times, where d is the number of\n",
    "        dimensions\n",
    "    kind : string, optional(default=\"N\")\n",
    "        One of the following:\n",
    "        - N - Neiderreiter (default)\n",
    "        - W - Weyl\n",
    "        - H - Haber\n",
    "        - R - pseudo Random\n",
    "    equidist_pp : array_like, optional(default=None)\n",
    "        TODO: I don't know what this does\n",
    "    Returns\n",
    "    -------\n",
    "    nodes : np.ndarray(dtype=float)\n",
    "        Quadrature nodes\n",
    "    weights : np.ndarray(dtype=float)\n",
    "        Weights for quadrature nodes\n",
    "    Notes\n",
    "    -----\n",
    "    Based of original function ``qnwequi`` in CompEcon toolbox by\n",
    "    Miranda and Fackler\n",
    "    References\n",
    "    ----------\n",
    "    Miranda, Mario J, and Paul L Fackler. Applied Computational\n",
    "    Economics and Finance, MIT Press, 2002.\n",
    "    \"\"\"\n",
    "    if equidist_pp is None:\n",
    "        equidist_pp = np.sqrt(np.array(list(sym.primerange(0, 7920))))\n",
    "\n",
    "    n, a, b = list(map(np.atleast_1d, list(map(np.asarray, [n, a, b]))))\n",
    "\n",
    "    d = max(list(map(len, [n, a, b])))\n",
    "    n = np.prod(n)\n",
    "\n",
    "    if a.size == 1:\n",
    "        a = np.repeat(a, d)\n",
    "\n",
    "    if b.size == 1:\n",
    "        b = np.repeat(b, d)\n",
    "\n",
    "    i = np.arange(1, n + 1)\n",
    "\n",
    "    if kind.upper() == \"N\":  # Neiderreiter\n",
    "        j = 2.0 ** (np.arange(1, d+1) / (d+1))\n",
    "        nodes = np.outer(i, j)\n",
    "        nodes = (nodes - np.fix(nodes)).squeeze()\n",
    "    elif kind.upper() == \"W\":  # Weyl\n",
    "        j = equidist_pp[:d]\n",
    "        nodes = np.outer(i, j)\n",
    "        nodes = (nodes - np.fix(nodes)).squeeze()\n",
    "    elif kind.upper() == \"H\":  # Haber\n",
    "        j = equidist_pp[:d]\n",
    "        nodes = np.outer(i * (i+1) / 2, j)\n",
    "        nodes = (nodes - np.fix(nodes)).squeeze()\n",
    "    elif kind.upper() == \"R\":  # pseudo-random\n",
    "        nodes = np.random.rand(n, d).squeeze()\n",
    "    else:\n",
    "        raise ValueError(\"Unknown sequence requested\")\n",
    "\n",
    "    # compute nodes and weights\n",
    "    r = b - a\n",
    "    nodes = a + nodes * r\n",
    "    weights = (np.prod(r) / n) * np.ones(n)\n",
    "\n",
    "    return nodes, weights"
   ]
  },
  {
   "cell_type": "markdown",
   "metadata": {},
   "source": [
    "For example, to compute the definite integral of $exp(x)$ on $[-1, 2]$ using a 10 point\n",
    "**trapezoid rule** one would write:"
   ]
  },
  {
   "cell_type": "code",
   "execution_count": 16,
   "metadata": {},
   "outputs": [
    {
     "name": "stdout",
     "output_type": "stream",
     "text": [
      "(10,) (10,)\n"
     ]
    },
    {
     "data": {
      "image/png": "[encoded data removed]",
      "text/latex": [
       "$\\displaystyle 7.08606747980348$"
      ],
      "text/plain": [
       "7.0860674798034795"
      ]
     },
     "execution_count": 16,
     "metadata": {},
     "output_type": "execute_result"
    }
   ],
   "source": [
    "x,w = qnwtrap(10,-1,2)\n",
    "print(x.shape, w.shape)\n",
    "integral = w.T@np.exp(x)\n",
    "integral"
   ]
  },
  {
   "cell_type": "markdown",
   "metadata": {
    "collapsed": true
   },
   "source": [
    "To compute the definite integral using a 100 point **Neiderrieter rule** one would instead generate\n",
    "the nodes and weights as follows:"
   ]
  },
  {
   "cell_type": "code",
   "execution_count": 17,
   "metadata": {},
   "outputs": [
    {
     "name": "stdout",
     "output_type": "stream",
     "text": [
      "(100,) (100,)\n"
     ]
    },
    {
     "data": {
      "image/png": "[encoded data removed]",
      "text/latex": [
       "$\\displaystyle 6.95949340341949$"
      ],
      "text/plain": [
       "6.959493403419491"
      ]
     },
     "execution_count": 17,
     "metadata": {},
     "output_type": "execute_result"
    }
   ],
   "source": [
    "[x,w] = qnwequi(100,-1,2,'N')\n",
    "print(x.shape, w.shape)\n",
    "integral = w.T@np.exp(x)\n",
    "integral"
   ]
  },
  {
   "cell_type": "markdown",
   "metadata": {
    "collapsed": true
   },
   "source": [
    "Each of the aforementioned routines also may be used to compute definite integrals of\n",
    "real-valued multivariate functions over bounded intervals in higher dimensional spaces. The\n",
    "routines generate nodes and weights for higher dimensional quadrature by forming the tensor\n",
    "products of univariate nodes and weights. For example, suppose one wished to compute the\n",
    "integral of $exp(x_1 + x_2)$ over the rectangle $[1, 2] \\times [0, 5]$ in $R^2$. One could call `qnwtrap` to\n",
    "construct a grid of, say, 200 quadrature nodes produced by taking the cross-product of 10\n",
    "nodes in the $x_1$ direction and 20 nodes in the $x_2$ direction:"
   ]
  },
  {
   "cell_type": "code",
   "execution_count": 18,
   "metadata": {},
   "outputs": [
    {
     "name": "stdout",
     "output_type": "stream",
     "text": [
      "(200, 2) (200,)\n"
     ]
    },
    {
     "data": {
      "image/png": "[encoded data removed]",
      "text/latex": [
       "$\\displaystyle 693.214848385707$"
      ],
      "text/plain": [
       "693.2148483857073"
      ]
     },
     "execution_count": 18,
     "metadata": {},
     "output_type": "execute_result"
    }
   ],
   "source": [
    "[x,w] = qnwtrap([10, 20],[1, 0],[2, 5])\n",
    "print(x.shape, w.shape)\n",
    "integral = w.T@np.exp(x[:,0]+x[:,1])\n",
    "integral"
   ]
  },
  {
   "cell_type": "markdown",
   "metadata": {},
   "source": [
    "A similar calling syntax is used for qnwsimp, and qnwlege."
   ]
  },
  {
   "cell_type": "markdown",
   "metadata": {},
   "source": [
    "The calling syntax for qnwequi when performing multidimensional integration requires\n",
    "$n$ to be an integer indicating the the total number of integration nodes. Thus, to compute\n",
    "the definite integral using a 10000 point **Neiderrieter rule** one would generate the nodes and\n",
    "weights as follows:"
   ]
  },
  {
   "cell_type": "code",
   "execution_count": 19,
   "metadata": {},
   "outputs": [
    {
     "name": "stdout",
     "output_type": "stream",
     "text": [
      "(10000, 2) (10000,)\n"
     ]
    },
    {
     "data": {
      "image/png": "[encoded data removed]",
      "text/latex": [
       "$\\displaystyle 688.110639784938$"
      ],
      "text/plain": [
       "688.1106397849385"
      ]
     },
     "execution_count": 19,
     "metadata": {},
     "output_type": "execute_result"
    }
   ],
   "source": [
    "[x,w] = qnwequi(10000,[1, 0],[2, 5],'N');\n",
    "print(x.shape, w.shape)\n",
    "integral = w.T@np.exp(x[:,0]+x[:,1]);\n",
    "integral"
   ]
  },
  {
   "cell_type": "markdown",
   "metadata": {},
   "source": [
    "In addition to the general integration routines, there are\n",
    "several functions for computing Gaussian nodes and weights associated with common probability\n",
    "distribution functions. The routine qnwnorm generates the Gaussian quadrature nodes\n",
    "and weights for normal random variables. For univariate normal distributions, the calling\n",
    "syntax takes the form\n",
    "\n",
    "`[x,w] = qnwnorm(n,mu,var)`\n",
    "\n",
    "where x are the nodes, w are the probability weights, n is the number nodes and weights,\n",
    "mu the mean of the distribution, and var is the variance of the distribution. If mu and var\n",
    "are omitted, the mean and variance are assumed to be 0 and 1, respectively. For example,\n",
    "suppose one wanted to compute the expectation of $exp( \\tilde X)$ where $\\tilde X$\n",
    "is normally distributed\n",
    "with mean 2 and variance 4. An approximate expectation could be computed using the\n",
    "following code:"
   ]
  },
  {
   "cell_type": "code",
   "execution_count": 20,
   "metadata": {},
   "outputs": [
    {
     "name": "stdout",
     "output_type": "stream",
     "text": [
      "(3,) (3,)\n"
     ]
    },
    {
     "data": {
      "image/png": "[encoded data removed]",
      "text/latex": [
       "$\\displaystyle 44.308532309132$"
      ],
      "text/plain": [
       "44.30853230913198"
      ]
     },
     "execution_count": 20,
     "metadata": {},
     "output_type": "execute_result"
    }
   ],
   "source": [
    "[x,w] = qnwnorm(3,2,4)\n",
    "print(x.shape,w.shape)\n",
    "expectation = w.T@np.exp(x)\n",
    "expectation"
   ]
  },
  {
   "cell_type": "markdown",
   "metadata": {
    "collapsed": true
   },
   "source": [
    "The routine qnwnorm also generates nodes and weights for multivariate normal random\n",
    "variables. For example, suppose one wished to compute the expectation of $exp( \\tilde X_1 + \\tilde X_2 )$\n",
    "where $\\tilde X$ and $\\tilde X$ are jointly normal with  $E \\tilde X_1  = 3 $, $E \\tilde X_2 = 4$, $V \\tilde X_1 = 2$, $V \\tilde X_2 = 4$, and $Cov( \\tilde X_1,\\tilde X_2) = -1 $.\n",
    "\n",
    "One could then invoke `qnwnorm` to construct a grid of 150 Gaussian quadrature nodes as the cross-product of 10 nodes in the $x_1$ direction and 15 nodes in the $x_2$ direction, and then form the weighted sum of the assigned weights and function values at the nodes:\n",
    "\n",
    "\n"
   ]
  },
  {
   "cell_type": "code",
   "execution_count": 21,
   "metadata": {},
   "outputs": [
    {
     "name": "stdout",
     "output_type": "stream",
     "text": [
      "(150, 2) (150,)\n"
     ]
    },
    {
     "data": {
      "image/png": "[encoded data removed]",
      "text/latex": [
       "$\\displaystyle 8103.08392757301$"
      ],
      "text/plain": [
       "8103.083927573008"
      ]
     },
     "execution_count": 21,
     "metadata": {},
     "output_type": "execute_result"
    }
   ],
   "source": [
    "[x,w] = qnwnorm([10, 15],[3, 4],[[2, -1], [-1, 4]])\n",
    "print(x.shape,w.shape)\n",
    "expectation = w.T@np.exp( x[:,0]+x[:,1] )\n",
    "expectation"
   ]
  },
  {
   "cell_type": "code",
   "execution_count": null,
   "metadata": {},
   "outputs": [],
   "source": []
  },
  {
   "cell_type": "markdown",
   "metadata": {},
   "source": [
    "## 5.6 Simulation Examples"
   ]
  },
  {
   "cell_type": "code",
   "execution_count": 22,
   "metadata": {},
   "outputs": [
    {
     "data": {
      "image/png": "[encoded data removed]",
      "text/plain": [
       "<Figure size 432x288 with 1 Axes>"
      ]
     },
     "metadata": {
      "needs_background": "light"
     },
     "output_type": "display_data"
    }
   ],
   "source": [
    "%matplotlib inline\n",
    "\n",
    "#Let's generate and plot a White Noise process drawn from the standard normal\n",
    "np.random.seed(123)\n",
    "x = np.random.randn(100)\n",
    "plt.plot(x)\n",
    "plt.show()"
   ]
  },
  {
   "cell_type": "code",
   "execution_count": 23,
   "metadata": {},
   "outputs": [
    {
     "data": {
      "image/png": "[encoded data removed]",
      "text/plain": [
       "<Figure size 432x288 with 1 Axes>"
      ]
     },
     "metadata": {
      "needs_background": "light"
     },
     "output_type": "display_data"
    }
   ],
   "source": [
    "#Let's generate and plot the same White Noise process with a for-loop\n",
    "\n",
    "np.random.seed(123)\n",
    "\n",
    "ts_length = 100\n",
    "ϵ_values = []   # Empty list, that is going to be filled with the random draws\n",
    "\n",
    "for i in range(ts_length):\n",
    "    e = np.random.randn()\n",
    "    ϵ_values.append(e)\n",
    "\n",
    "plt.plot(ϵ_values)\n",
    "plt.show()"
   ]
  },
  {
   "cell_type": "code",
   "execution_count": 24,
   "metadata": {},
   "outputs": [],
   "source": [
    "#We can create a function that will generate and plot a White Noise process.\n",
    "#Also, we can decide which random number generator to use\n",
    "\n",
    "def generate_data(n, generator_type):\n",
    "    ϵ_values = []\n",
    "    for i in range(n):\n",
    "        if generator_type == 'U':\n",
    "            e = np.random.uniform(0, 1)\n",
    "        elif generator_type == 'N':\n",
    "            e = np.random.randn()\n",
    "        ϵ_values.append(e)\n",
    "    return ϵ_values"
   ]
  },
  {
   "cell_type": "code",
   "execution_count": 25,
   "metadata": {},
   "outputs": [
    {
     "data": {
      "image/png": "[encoded data removed]",
      "text/plain": [
       "<Figure size 432x288 with 1 Axes>"
      ]
     },
     "metadata": {
      "needs_background": "light"
     },
     "output_type": "display_data"
    }
   ],
   "source": [
    "#Generate a sample drawn from the Uniform distribution\n",
    "np.random.seed(123)\n",
    "data = generate_data(100, 'U')\n",
    "plt.plot(data)\n",
    "plt.show()"
   ]
  },
  {
   "cell_type": "code",
   "execution_count": 26,
   "metadata": {},
   "outputs": [
    {
     "data": {
      "image/png": "[encoded data removed]",
      "text/plain": [
       "<Figure size 432x288 with 1 Axes>"
      ]
     },
     "metadata": {
      "needs_background": "light"
     },
     "output_type": "display_data"
    }
   ],
   "source": [
    "#Generate a sample drawn from the Standard Normal distribution\n",
    "np.random.seed(123)\n",
    "data = generate_data(100, 'N')\n",
    "plt.plot(data)\n",
    "plt.show()"
   ]
  },
  {
   "cell_type": "code",
   "execution_count": 27,
   "metadata": {},
   "outputs": [
    {
     "data": {
      "image/png": "[encoded data removed]",
      "text/plain": [
       "<Figure size 432x288 with 1 Axes>"
      ]
     },
     "metadata": {
      "needs_background": "light"
     },
     "output_type": "display_data"
    }
   ],
   "source": [
    "#Generate a non-iid sample (this is useful to simulate artificial time series)\n",
    "np.random.seed(123)\n",
    "\n",
    "#We consider a AR(1) model, with autocorrelation parameter ρ\n",
    "rhovec = [0.0, 0.8, 0.98]\n",
    "ts_length = 200\n",
    "\n",
    "for rho in rhovec:\n",
    "    x_values = []\n",
    "    current_x = 0\n",
    "    for i in range(ts_length):\n",
    "        x_values.append(current_x)\n",
    "        current_x = rho * current_x + np.random.randn()\n",
    "    plt.plot(x_values, label=f'ρ = {rho}')\n",
    "plt.legend()\n",
    "plt.show()"
   ]
  },
  {
   "cell_type": "code",
   "execution_count": 28,
   "metadata": {},
   "outputs": [
    {
     "data": {
      "image/png": "[encoded data removed]",
      "text/plain": [
       "<Figure size 432x288 with 1 Axes>"
      ]
     },
     "metadata": {
      "needs_background": "light"
     },
     "output_type": "display_data"
    }
   ],
   "source": [
    "#Generate a non-iid sample (this is useful to simulate artificial time series)\n",
    "np.random.seed(123)\n",
    "\n",
    "#We consider a AR(1) model, with autocorrelation parameter ρ and a non-zero average\n",
    "rhovec = [0.0, 0.8, 0.98]\n",
    "ts_length = 200\n",
    "mu=1.0\n",
    "\n",
    "#We have to be careful about the \"burn-in\" period\n",
    "#The first part of the simulation might have to be dropped\n",
    "for rho in rhovec:\n",
    "    x_values = []\n",
    "    current_x = 0\n",
    "    for i in range(ts_length):\n",
    "        x_values.append(current_x)\n",
    "        current_x = mu + rho * current_x + np.random.randn()\n",
    "    plt.plot(x_values, label=f'ρ = {rho}')\n",
    "plt.legend()\n",
    "plt.show()"
   ]
  },
  {
   "cell_type": "code",
   "execution_count": null,
   "metadata": {},
   "outputs": [],
   "source": []
  }
 ],
 "metadata": {
  "kernelspec": {
   "display_name": "Python 3 (ipykernel)",
   "language": "python",
   "name": "python3"
  },
  "language_info": {
   "codemirror_mode": {
    "name": "ipython",
    "version": 3
   },
   "file_extension": ".py",
   "mimetype": "text/x-python",
   "name": "python",
   "nbconvert_exporter": "python",
   "pygments_lexer": "ipython3",
   "version": "3.9.7"
  }
 },
 "nbformat": 4,
 "nbformat_minor": 1
}
