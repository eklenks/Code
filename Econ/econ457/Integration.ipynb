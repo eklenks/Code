{
 "cells": [
  {
   "cell_type": "markdown",
   "metadata": {},
   "source": [
    "## Numerical Integration"
   ]
  },
  {
   "cell_type": "markdown",
   "metadata": {},
   "source": [
    "In many computational economic applications, one must compute the definite integral\n",
    "of a real-valued function $f(x)$ with respect to a \"weighting\" function $w(x)$ over an interval\n",
    "$I$ of $R^n$:\n",
    "\n",
    "$$\\int_I f(x)w(x) dx$$\n",
    "\n",
    "\n",
    "The weighting function may be the identity function, $w(x) = 1$, in which case the integral represents\n",
    "the area under the function $f(x)$. In other applications, $w(x)$ may be the probability\n",
    "density of a random variable $\\tilde X$, in which case the integral represents the expectation\n",
    "of $f( \\tilde X)$ when $I$ is the whole support of $\\tilde X$.\n",
    "\n",
    "\n",
    "\n"
   ]
  },
  {
   "cell_type": "markdown",
   "metadata": {},
   "source": [
    "In this notebook, we discuss three classes of numerical integration or numerical\n",
    "quadrature methods<sup>1</sup>. All methods approximate the integral with a weighted sum of\n",
    "function values:\n",
    "\n",
    "$$\\int_I f(x) w(x)dx \\approx \\sum_{i=0}^{n} w_i f(x_i)\\thinspace .$$\n",
    "\n",
    "<sup>1</sup>Quadrature is a historical mathematical term that means calculating an area."
   ]
  },
  {
   "cell_type": "markdown",
   "metadata": {},
   "source": [
    "The methods differ only in how the *quadrature weights* $w_i$ and the *quadrature nodes*\n",
    "$x_i$ are chosen."
   ]
  },
  {
   "cell_type": "markdown",
   "metadata": {},
   "source": [
    "1. Newton-Cotes rules employ piecewise polynomial approximations to the integrand\n",
    "2. Gaussian quadrature methods employ nodes and weights that satisfy moment matching conditions\n",
    "3. Monte Carlo methods employ equally weighted “random” nodes"
   ]
  },
  {
   "cell_type": "markdown",
   "metadata": {},
   "source": [
    "**Newton-Cotes** methods approximate the integrand $f$ between nodes\n",
    "using low order polynomials, and sum the integrals of the polynomials to approximate\n",
    "the integral of $f$. Newton-Cotes methods are easy to implement, but are not particularly\n",
    "efficient for computing the integral of a smooth function."
   ]
  },
  {
   "cell_type": "markdown",
   "metadata": {},
   "source": [
    "**Gaussian quadrature**\n",
    "methods choose the nodes and weights to satisfy moment matching conditions, and\n",
    "are more powerful than Newton-Cotes methods if the integrand is smooth."
   ]
  },
  {
   "cell_type": "markdown",
   "metadata": {},
   "source": [
    "**Monte Carlo and quasi-Monte Carlo integration** methods use \"random\" or \"equidistributed\"\n",
    "nodes, and are simple to implement and are especially useful if the integration domain\n",
    "is of high dimension or irregularly shaped."
   ]
  },
  {
   "cell_type": "markdown",
   "metadata": {},
   "source": [
    "Some of the routines that follow are the Python translation of the Matlab codes that are included in the textbook."
   ]
  },
  {
   "cell_type": "code",
   "execution_count": 3,
   "metadata": {},
   "outputs": [],
   "source": [
    "# https://github.com/QuantEcon/QuantEcon.py/blob/488b7b3b9117cfd9bfc71c187efc87c39fc5b459/quantecon/quad.py\n",
    "\"\"\"\n",
    "Filename: quad.py - Defining various quadrature routines.\n",
    "Based on the quadrature routines found in the CompEcon toolbox by Miranda and Fackler.\n",
    "References - Miranda, Mario J, and Paul L Fackler. Applied Computational Economics and Finance, MIT Press, 2002.\n",
    "\"\"\"\n",
    "#Define the number of nodes\n",
    "n=21\n",
    "from __future__ import division\n",
    "import math\n",
    "import numpy as np\n",
    "from numpy import interp\n",
    "import scipy.linalg as la\n",
    "from scipy.special import gammaln\n",
    "import sympy as sym\n",
    "#from .ce_util import ckron, gridmake\n",
    "%matplotlib inline\n",
    "import matplotlib.pyplot as plt\n",
    "from functools import reduce"
   ]
  },
  {
   "cell_type": "code",
   "execution_count": 4,
   "metadata": {},
   "outputs": [],
   "source": [
    "def ckron(*arrays):\n",
    "    \"\"\"\n",
    "    Repeatedly applies the np.kron function to an arbitrary number of input arrays\n",
    "    Parameters\n",
    "    ----------\n",
    "    *arrays : tuple/list of np.ndarray\n",
    "    Returns\n",
    "    -------\n",
    "    out : np.ndarray\n",
    "        The result of repeated kronecker products\n",
    "    Notes\n",
    "    -----\n",
    "    Based of original function `ckron` in CompEcon toolbox by Miranda and Fackler\n",
    "    References - Miranda, Mario J, and Paul L Fackler. Applied Computational Economics and Finance, MIT Press, 2002.\n",
    "    \"\"\"\n",
    "    return reduce(np.kron, arrays)\n",
    "\n",
    "def gridmake(*arrays):\n",
    "    \"\"\"\n",
    "    TODO: finish this docstring\n",
    "    Notes\n",
    "    -----\n",
    "    Based of original function ``gridmake`` in CompEcon toolbox by\n",
    "    Miranda and Fackler\n",
    "    References\n",
    "    ----------\n",
    "    Miranda, Mario J, and Paul L Fackler. Applied Computational Economics\n",
    "    and Finance, MIT Press, 2002.\n",
    "    \"\"\"\n",
    "    if all([i.ndim == 1 for i in arrays]):\n",
    "        d = len(arrays)\n",
    "        if d == 2:\n",
    "            out = _gridmake2(*arrays)\n",
    "        else:\n",
    "            out = _gridmake2(arrays[0], arrays[1])\n",
    "            for arr in arrays[2:]:\n",
    "                out = _gridmake2(out, arr)\n",
    "\n",
    "        return out\n",
    "    else:\n",
    "        raise NotImplementedError(\"Come back here\")\n",
    "        \n",
    "def _gridmake2(x1, x2):\n",
    "    \"\"\"\n",
    "    TODO: finish this docstring\n",
    "    Notes\n",
    "    -----\n",
    "    Based of original function ``gridmake2`` in CompEcon toolbox by\n",
    "    Miranda and Fackler\n",
    "    References\n",
    "    ----------\n",
    "    Miranda, Mario J, and Paul L Fackler. Applied Computational Economics\n",
    "    and Finance, MIT Press, 2002.\n",
    "    \"\"\"\n",
    "    if x1.ndim == 1 and x2.ndim == 1:\n",
    "        return np.column_stack([np.tile(x1, x2.shape[0]),\n",
    "                               np.repeat(x2, x1.shape[0])])\n",
    "    elif x1.ndim > 1 and x2.ndim == 1:\n",
    "        first = np.tile(x1, (x2.shape[0], 1))\n",
    "        second = np.repeat(x2, x1.shape[0])\n",
    "        return np.column_stack([first, second])\n",
    "    else:\n",
    "        raise NotImplementedError(\"Come back here\")        \n",
    "\n",
    "def _qnwtrap1(n, a, b):\n",
    "    \"\"\"\n",
    "    Compute univariate trapezoid rule quadrature nodes and weights\n",
    "    Parameters\n",
    "    ----------\n",
    "    n : int\n",
    "        The number of nodes\n",
    "    a : int\n",
    "        The lower endpoint\n",
    "    b : int\n",
    "        The upper endpoint\n",
    "    Returns\n",
    "    -------\n",
    "    nodes : np.ndarray(dtype=float)\n",
    "        An n element array of nodes\n",
    "    nodes : np.ndarray(dtype=float)\n",
    "        An n element array of weights\n",
    "    Notes\n",
    "    -----\n",
    "    Based of original function ``qnwtrap1`` in CompEcon toolbox by\n",
    "    Miranda and Fackler\n",
    "    References\n",
    "    ----------\n",
    "    Miranda, Mario J, and Paul L Fackler. Applied Computational\n",
    "    Economics and Finance, MIT Press, 2002.\n",
    "    \"\"\"\n",
    "    if n < 1:\n",
    "        raise ValueError(\"n must be at least one\")\n",
    "\n",
    "    nodes = np.linspace(a, b, n)\n",
    "    dx = nodes[1] - nodes[0]\n",
    "\n",
    "    weights = dx * np.ones(n)\n",
    "    weights[0] *= 0.5\n",
    "    weights[-1] *= 0.5\n",
    "\n",
    "    return nodes, weights\n",
    "    \n",
    "def _qnwsimp1(n, a, b):\n",
    "    \"\"\"\n",
    "    Compute univariate Simpson quadrature nodes and weights\n",
    "    Parameters\n",
    "    ----------\n",
    "    n : int\n",
    "        The number of nodes\n",
    "    a : int\n",
    "        The lower endpoint\n",
    "    b : int\n",
    "        The upper endpoint\n",
    "    Returns\n",
    "    -------\n",
    "    nodes : np.ndarray(dtype=float)\n",
    "        An n element array of nodes\n",
    "    nodes : np.ndarray(dtype=float)\n",
    "        An n element array of weights\n",
    "    Notes\n",
    "    -----\n",
    "    Based of original function ``qnwsimp1`` in CompEcon toolbox by\n",
    "    Miranda and Fackler\n",
    "    References\n",
    "    ----------\n",
    "    Miranda, Mario J, and Paul L Fackler. Applied Computational\n",
    "    Economics and Finance, MIT Press, 2002.\n",
    "    \"\"\"\n",
    "    if n % 2 == 0:\n",
    "        print(\"WARNING qnwsimp: n must be an odd integer. Increasing by 1\")\n",
    "        n += 1\n",
    "\n",
    "    nodes = np.linspace(a, b, n)\n",
    "    dx = nodes[1] - nodes[0]\n",
    "    weights = np.tile([2.0, 4.0], (n + 1) // 2)\n",
    "    weights = weights[:n]\n",
    "    weights[0] = weights[-1] = 1\n",
    "    weights = (dx / 3.0) * weights\n",
    "\n",
    "    return nodes, weights       \n",
    "        \n",
    "def _qnwlege1(n, a, b):\n",
    "    \"\"\"\n",
    "    Compute univariate Gauss-Legendre quadrature nodes and weights\n",
    "    Parameters\n",
    "    ----------\n",
    "    n : int\n",
    "        The number of nodes\n",
    "    a : int\n",
    "        The lower endpoint\n",
    "    b : int\n",
    "        The upper endpoint\n",
    "    Returns\n",
    "    -------\n",
    "    nodes : np.ndarray(dtype=float)\n",
    "        An n element array of nodes\n",
    "    nodes : np.ndarray(dtype=float)\n",
    "        An n element array of weights\n",
    "    Notes\n",
    "    -----\n",
    "    Based of original function ``qnwlege1`` in CompEcon toolbox by\n",
    "    Miranda and Fackler\n",
    "    References\n",
    "    ----------\n",
    "    Miranda, Mario J, and Paul L Fackler. Applied Computational\n",
    "    Economics and Finance, MIT Press, 2002.\n",
    "    \"\"\"\n",
    "    # import ipdb; ipdb.set_trace()\n",
    "    maxit = 100\n",
    "    m = np.fix((n + 1) / 2.0).astype(int)\n",
    "    xm = 0.5 * (b + a)\n",
    "    xl = 0.5 * (b - a)\n",
    "    nodes = np.zeros(n)\n",
    "\n",
    "    weights = nodes.copy()\n",
    "    i = np.arange(m, dtype='int')\n",
    "\n",
    "    z = np.cos(np.pi * ((i + 1.0) - 0.25) / (n + 0.5))\n",
    "\n",
    "    for its in range(maxit):\n",
    "        p1 = 1.0\n",
    "        p2 = 0.0\n",
    "        for j in range(1, n+1):\n",
    "            p3 = p2\n",
    "            p2 = p1\n",
    "            p1 = ((2 * j - 1) * z * p2 - (j - 1) * p3) / j\n",
    "\n",
    "        pp = n * (z * p1 - p2)/(z * z - 1.0)\n",
    "        z1 = z.copy()\n",
    "        z = z1 - p1/pp\n",
    "        if all(np.abs(z - z1) < 1e-14):\n",
    "            break\n",
    "\n",
    "    if its == maxit - 1:\n",
    "        raise ValueError(\"Maximum iterations in _qnwlege1\")\n",
    "\n",
    "    nodes[i] = xm - xl * z\n",
    "    nodes[- i - 1] = xm + xl * z\n",
    "\n",
    "    weights[i] = 2 * xl / ((1 - z * z) * pp * pp)\n",
    "    weights[- i - 1] = weights[i]\n",
    "\n",
    "    return nodes, weights\n",
    "        \n",
    "def _make_multidim_func(one_d_func, n, *args):\n",
    "    \"\"\"\n",
    "    A helper function to cut down on code repetition. Almost all of the\n",
    "    code in qnwcheb, qnwlege, qnwsimp, qnwtrap is just dealing\n",
    "    various forms of input arguments and then shelling out to the\n",
    "    corresponding 1d version of the function.\n",
    "    This routine does all the argument checking and passes things\n",
    "    through the appropriate 1d function before using a tensor product\n",
    "    to combine weights and nodes.\n",
    "    Parameters\n",
    "    ----------\n",
    "    one_d_func : function\n",
    "        The 1d function to be called along each dimension\n",
    "    n : int or array_like(float)\n",
    "        A length-d iterable of the number of nodes in each dimension\n",
    "    args :\n",
    "        These are the arguments to various qnw____ functions.  For the\n",
    "        majority of the functions this is just a and b, but some differ.\n",
    "    Returns\n",
    "    -------\n",
    "    func : function\n",
    "        The multi-dimensional version of the parameter ``one_d_func``\n",
    "    \"\"\"\n",
    "    args = list(args)\n",
    "    n = np.asarray(n)\n",
    "    args = list(map(np.asarray, args))\n",
    "\n",
    "    if all([x.size == 1 for x in [n] + args]):\n",
    "        return one_d_func(n, *args)\n",
    "\n",
    "    d = n.size\n",
    "\n",
    "    for i in range(len(args)):\n",
    "        if args[i].size == 1:\n",
    "            args[i] = np.repeat(args[i], d)\n",
    "\n",
    "    nodes = []\n",
    "    weights = []\n",
    "\n",
    "    for i in range(d):\n",
    "        ai = [x[i] for x in args]\n",
    "        _1d = one_d_func(n[i], *ai)\n",
    "        nodes.append(_1d[0])\n",
    "        weights.append(_1d[1])\n",
    "\n",
    "    weights = ckron(*weights[::-1])  # reverse ordered tensor product\n",
    "\n",
    "    nodes = gridmake(*nodes)\n",
    "    return nodes, weights    "
   ]
  },
  {
   "cell_type": "markdown",
   "metadata": {},
   "source": [
    "## 5.1 Newton-Cotes Methods\n",
    "\n",
    "\n",
    "\n",
    "\n",
    "Reference: \n",
    "\n",
    "\n",
    "https://nbviewer.jupyter.org/github/birocoles/Disciplina-metodos-computacionais/blob/master/Content/newton-cotes.ipynb"
   ]
  },
  {
   "cell_type": "markdown",
   "metadata": {},
   "source": [
    "Newton-Cotes quadrature methods are designed to approximate the integral of a real-valued\n",
    "function $f(x)$ defined on a bounded interval $[a, b]$ of the real line. Newton-Cotes\n",
    "methods approximate the integrand $f(x)$ between nodes using *low order polynomials*,\n",
    "and sum the integrals of the polynomials to form an approximation to the integral of $f(x)$. \n",
    "\n",
    "Two\n",
    "Newton-Cotes rules are widely used in practice: the **trapezoid rule and Simpson's\n",
    "rule**. Both rules are easy to implement and are typically adequate for computing\n",
    "the area under a continuous function."
   ]
  },
  {
   "cell_type": "markdown",
   "metadata": {},
   "source": [
    "1. Trapezoid rule (based on piecewise linear approximation) \n",
    "2. Simpson’s rule (based on piecewise quadratic approximation)"
   ]
  },
  {
   "cell_type": "markdown",
   "metadata": {
    "collapsed": true,
    "jupyter": {
     "outputs_hidden": true
    }
   },
   "source": [
    "### 5.1.1 Trapezoid Rule\n",
    "\n",
    "![](http://mathworld.wolfram.com/images/eps-gif/TrapezoidalRule_1000.gif)\n",
    "\n",
    "http://mathworld.wolfram.com/Newton-CotesFormulas.html\n",
    "\n",
    "https://en.wikipedia.org/wiki/Newton%E2%80%93Cotes_formulas"
   ]
  },
  {
   "cell_type": "markdown",
   "metadata": {},
   "source": [
    "The trapezoid rule partitions the interval $[a, b]$ into subintervals of equal length, approximates\n",
    "$f(x)$ over each subinterval using linear interpolants, and then sums the areas under the\n",
    "linear segments. The trapezoid rule draws its name from the fact that the area under $f(x)$ is\n",
    "approximated by a series of trapezoids."
   ]
  },
  {
   "cell_type": "markdown",
   "metadata": {
    "collapsed": true,
    "jupyter": {
     "outputs_hidden": true
    }
   },
   "source": [
    "$$\\int \\limits_{x_i}^{x_{i+1}} f \\, (x) \\, d x \\approx \\frac{h}{2} \\left[ f(x_i) + f(x_{i+1})  \\right]\\: .$$"
   ]
  },
  {
   "cell_type": "markdown",
   "metadata": {},
   "source": [
    "where $x_i = a + ih$, with $h$ (called the step size) equal to $h=(b − a) / n $. The $w_i$ are called weights."
   ]
  },
  {
   "cell_type": "markdown",
   "metadata": {},
   "source": [
    "$$\\int _{a}^{b}f(x)\\,dx\\approx \\sum _{{i=0}}^{{n}}w_{i}\\,f(x_{i}).$$\n",
    "\n",
    "\n",
    "where $w_0 = w_n = h/2$ and $w_i = h$, otherwise.\n"
   ]
  },
  {
   "cell_type": "markdown",
   "metadata": {},
   "source": [
    "The trapezoid rule entails the following steps:\n",
    "\n",
    "1.\tCompute the function values $y_i=f(x_i)$ at the nodes.\n",
    "2.\tForm a piecewise linear approximation $\\tilde f(x)$ of $f(x)$ by connecting successive points $(x_i,y_i)$ on the graph of $f(x)$ with straight lines.\n",
    "3.\tThe area under $f(x)$ is then approximated by the area under $\\tilde f(x)$, which consists of a series of trapezoids.\n"
   ]
  },
  {
   "cell_type": "markdown",
   "metadata": {},
   "source": [
    "### An Example \n",
    "\n",
    "First, we define a univariate function and \"sample\" it at several points in its domain.\n",
    "\n",
    "References:\n",
    "\n",
    "http://nbviewer.jupyter.org/github/sbustamante/ComputationalMethods/blob/master/material/numerical-calculus.ipynb#Numerical-Differentiation\n",
    "\n",
    "https://github.com/ipython/ipython/blob/master/examples/IPython%20Kernel/Trapezoid%20Rule.ipynb"
   ]
  },
  {
   "cell_type": "code",
   "execution_count": 5,
   "metadata": {},
   "outputs": [],
   "source": [
    "def Integration( f, X, xmin, xmax, ymin=0, ymax=1, fig=None, leg=True ):\n",
    "    #f(x_i) values\n",
    "    Y = f( X )\n",
    "    \n",
    "    #X array\n",
    "    Xarray = np.linspace( xmin, xmax, 1000 )\n",
    "    #X area\n",
    "    Xarea = np.linspace( X[0], X[-1], 1000 )\n",
    "    #F array\n",
    "    Yarray = f( Xarray )\n",
    "    \n",
    "    #Lagrange polynomial\n",
    "    Ln = interp.lagrange( X, Y )\n",
    "    #Interpolated array\n",
    "    Parray = Ln( Xarray )\n",
    "    #Interpolated array for area\n",
    "    Parea = Ln( Xarea )\n",
    "    \n",
    "    #Plotting\n",
    "    if fig==None:\n",
    "        fig = plt.figure( figsize = (8,5) )\n",
    "    ax = fig.add_subplot(111)\n",
    "    #Function\n",
    "    ax.plot( Xarray, Yarray, linewidth = 3, color = \"blue\", label=\"$f(x)$\" )\n",
    "    #Points\n",
    "    ax.plot( X, Y, \"o\", color=\"red\", label=\"points\", zorder = 10 )\n",
    "    #Interpolator\n",
    "    ax.plot( Xarray, Parray, linewidth = 2, color = \"black\", label=\"$P_{%d}(x)$\"%(len(X)-1) )\n",
    "    #Area\n",
    "    ax.fill_between( Xarea, Parea, color=\"green\", alpha=0.5 )\n",
    "    \n",
    "    #Format\n",
    "    ax.set_title( \"%d-point Integration\"%(len(X)), fontsize=16 )\n",
    "    ax.set_xlim( (xmin, xmax) )\n",
    "    ax.set_ylim( (ymin, ymax) )\n",
    "    ax.set_xlabel( \"$x$\" )\n",
    "    ax.set_ylabel( \"$y$\" )\n",
    "    if leg:\n",
    "        ax.legend( loc=\"upper left\", fontsize=16 )\n",
    "    ax.grid(1)\n",
    "    \n",
    "    return ax"
   ]
  },
  {
   "cell_type": "code",
   "execution_count": 6,
   "metadata": {
    "scrolled": true
   },
   "outputs": [
    {
     "data": {
      "text/plain": [
       "<Axes: title={'center': '2-point Integration'}, xlabel='$x$', ylabel='$y$'>"
      ]
     },
     "execution_count": 6,
     "metadata": {},
     "output_type": "execute_result"
    },
    {
     "data": {
      "image/png": "[encoded data removed]",
      "text/plain": [
       "<Figure size 800x500 with 1 Axes>"
      ]
     },
     "metadata": {},
     "output_type": "display_data"
    }
   ],
   "source": [
    "#Function\n",
    "def f(x):\n",
    "    return 1+np.cos(x)**2+x\n",
    "\n",
    "#Choose a region to integrate over and take only a few points in that region\n",
    "#Quadrature with 2 points (Trapezoidal rule)\n",
    "\n",
    "X = np.array([-0.5,1.5])\n",
    "\n",
    "#Interpolation add-on\n",
    "import scipy.interpolate as interp\n",
    "# Plot both the function and the area below it in the trapezoid approximation\n",
    "Integration( f, X, xmin=-1, xmax=2, ymin=0, ymax=3.5 )\n"
   ]
  },
  {
   "cell_type": "markdown",
   "metadata": {},
   "source": [
    "### The composite trapezoidal rule"
   ]
  },
  {
   "cell_type": "markdown",
   "metadata": {},
   "source": [
    "This formula is obtained when we subdivide the overall interval of integration $[a,b]$ into several subsets of two points, such that we can apply the previous Trapezoidal rule to each subset.\n",
    "\n",
    "Let $f(x)$ be a well-behaved function ($f\\in C^2[a,b]$), and define the step size as $h = (b-a)/N$, where $N$ is the number of intervals we consider. The **Composite Trapezoidal rule** is given by:\n",
    "\n",
    "$$ \\int_a^b f(x) dx = \\frac{h}{2}\\left[ f(a) + 2\\sum_{j=1}^{N-1}f(x_j) + f(b) \\right] - \\frac{b-a}{12}h^2 f^{''}(\\mu)$$\n",
    "\n",
    "for some value $\\mu$ in $(a,b)$."
   ]
  },
  {
   "cell_type": "code",
   "execution_count": 5,
   "metadata": {},
   "outputs": [],
   "source": [
    "#Composite Integration method\n",
    "def CompositeIntegration( f, a, b, N, n, xmin, xmax, ymin=0, ymax=1 ):\n",
    "    #X array\n",
    "    X = np.linspace( a, b, N )\n",
    "    \n",
    "    #Plotting\n",
    "    fig = plt.figure( figsize = (8,5) )\n",
    "    for i in range(0,N-n,n):\n",
    "        Xi = X[i:i+n+1]\n",
    "        ax = Integration( f, Xi, X[i], X[i+n], fig=fig, leg=False )\n",
    "    \n",
    "    #X array\n",
    "    Xarray = np.linspace( xmin, xmax, 1000 )\n",
    "    #F array\n",
    "    Yarray = f( Xarray )\n",
    "    #Function\n",
    "    ax.plot( Xarray, Yarray, linewidth = 3, color = \"blue\", label=\"$f(x)$\", zorder=0 )\n",
    "    #ax.set_title( \"%d-point Quadrature\"%(N), fontsize=16 )\n",
    "    #Format\n",
    "    plt.xlim( (xmin, xmax) )\n",
    "    plt.ylim( (ymin, ymax) )\n",
    "    \n",
    "    return None\n"
   ]
  },
  {
   "cell_type": "code",
   "execution_count": 7,
   "metadata": {},
   "outputs": [
    {
     "data": {
      "image/png": "[encoded data removed]",
      "text/plain": [
       "<Figure size 800x500 with 4 Axes>"
      ]
     },
     "metadata": {},
     "output_type": "display_data"
    }
   ],
   "source": [
    "#Integration with 5 intervals (Trapezoid rule)\n",
    "CompositeIntegration( f, a=-0.5, b=1.5, N=5, n=1, xmin=-1, xmax=2, ymin=0, ymax=3.5)"
   ]
  },
  {
   "cell_type": "markdown",
   "metadata": {},
   "source": [
    "Using simple integration rules we can obtain the formula for the composite Trapezoidal method."
   ]
  },
  {
   "cell_type": "markdown",
   "metadata": {},
   "source": [
    "\\begin{align}\n",
    "\\int_a^b f(x)\\,dx &= \\int_{x_0}^{x_1} f(x) dx + \\int_{x_1}^{x_2} f(x) dx + \\ldots + \\int_{x_{n-1}}^{x_n} f(x) dx,     \\nonumber \\\\ \n",
    "                  &\\approx h \\frac{f(x_0) + f(x_1)}{2} +\n",
    "\t\t  h \\frac{f(x_1) + f(x_2)}{2} + \\ldots + \\nonumber \\\\ \n",
    "\t\t  &\\quad h \\frac{f(x_{n-1}) + f(x_n)}{2} \n",
    "\\end{align}"
   ]
  },
  {
   "cell_type": "markdown",
   "metadata": {},
   "source": [
    "\n",
    "\n",
    "$$\\int_a^b f(x)\\,dx \\approx  \n",
    "\\frac{h}{2}\\left[f(x_0) + 2 f(x_1) + 2 f(x_2) + \\ldots + 2 f(x_{n-1}) + f(x_n)\\right]              \n",
    "$$\n",
    "\n",
    "\n",
    "\n",
    "\n",
    "$$\n",
    "\\int_a^b f(x)\\,dx \\approx h \\left[\\frac{1}{2}f(x_0) + \\sum_{i=1}^{n-1}f(x_i) + \\frac{1}{2}f(x_n) \\right] \\thinspace .\n",
    "$$"
   ]
  },
  {
   "cell_type": "markdown",
   "metadata": {},
   "source": [
    "For example, when $n = 2$\n",
    "\n",
    "\n",
    "$${\\frac  {b-a}{2}}(f_{0}+f_{1})$$"
   ]
  },
  {
   "cell_type": "markdown",
   "metadata": {},
   "source": [
    "### A Simple Implementation of the trapezoidal rule"
   ]
  },
  {
   "cell_type": "code",
   "execution_count": 6,
   "metadata": {},
   "outputs": [],
   "source": [
    "def trapezoidal(f, a, b, n):\n",
    "    h = float(b-a)/n\n",
    "    result = 0.5*f(a) + 0.5*f(b)\n",
    "    for i in range(1, n):\n",
    "        result += f(a + i*h)\n",
    "    result *= h\n",
    "    return result\n",
    "\n"
   ]
  },
  {
   "cell_type": "markdown",
   "metadata": {},
   "source": [
    "Let's use scipy's quadrature routines as a benchmark"
   ]
  },
  {
   "cell_type": "code",
   "execution_count": 7,
   "metadata": {},
   "outputs": [
    {
     "name": "stdout",
     "output_type": "stream",
     "text": [
      "The integral is: 4.245647748216942 +/- 4.713615884518398e-14\n"
     ]
    }
   ],
   "source": [
    "a = -.5\n",
    "b = 1.5\n",
    "\n",
    "#Use scipy\n",
    "from scipy.integrate import quad\n",
    "integral, error = quad(f, a, b)\n",
    "print(\"The integral is:\", integral, \"+/-\", error)"
   ]
  },
  {
   "cell_type": "markdown",
   "metadata": {},
   "source": [
    "Let's compare it to our implementation of the trapezoidal rule"
   ]
  },
  {
   "cell_type": "code",
   "execution_count": 8,
   "metadata": {},
   "outputs": [
    {
     "name": "stdout",
     "output_type": "stream",
     "text": [
      "The trapezoidal approximation with 2 points is: 4.157728605250994\n"
     ]
    }
   ],
   "source": [
    "#Select the number of intervals n\n",
    "n = 2\n",
    "\n",
    "#Now use the function \"trapezoidal\" that we created above\n",
    "integral_trapezoid = trapezoidal(f, a, b, n)\n",
    "\n",
    "print(\"The trapezoidal approximation with\", (n), \"points is:\", integral_trapezoid)"
   ]
  },
  {
   "cell_type": "code",
   "execution_count": 9,
   "metadata": {},
   "outputs": [
    {
     "name": "stdout",
     "output_type": "stream",
     "text": [
      "The trapezoidal approximation with 1000 points is: 4.245647420686521\n"
     ]
    }
   ],
   "source": [
    "#Using more points improves the accuracy of the computed integral\n",
    "\n",
    "#n = 10\n",
    "#n = 100\n",
    "n = 1000\n",
    "\n",
    "#Let's use again the function \"trapezoidal\" that we created above\n",
    "integral_trapezoid = trapezoidal(f, a, b, n)\n",
    "\n",
    "print(\"The trapezoidal approximation with\", (n), \"points is:\", integral_trapezoid)"
   ]
  },
  {
   "cell_type": "markdown",
   "metadata": {},
   "source": [
    "### Properties of the Trapezoid Rule"
   ]
  },
  {
   "cell_type": "markdown",
   "metadata": {},
   "source": [
    "- The trapezoid rule is simple and robust. \n",
    "\n",
    "- It is said to be first order exact because, if\n",
    "not for rounding error, it will exactly compute the integral of any first order polynomial (i.e., a line). \n",
    "\n",
    "- In general, if the integrand $f$ is smooth, the trapezoid rule will yield an\n",
    "approximation error that is $O(h^2)$, that is, the error shrinks quadratically with the width of\n",
    "the subintervals.\n",
    "\n",
    "- Doubling the nodes reduces the error by a factor of four."
   ]
  },
  {
   "cell_type": "markdown",
   "metadata": {},
   "source": [
    "The routine that follows is the Python translation of the Matlab codes that are included in the textbook."
   ]
  },
  {
   "cell_type": "code",
   "execution_count": 10,
   "metadata": {},
   "outputs": [],
   "source": [
    "def qnwtrap(n, a, b):\n",
    "    \"\"\"\n",
    "    Computes multivariate trapezoid rule quadrature nodes and weights.\n",
    "    Parameters\n",
    "    ----------\n",
    "    n : int or array_like(float)\n",
    "        A length-d iterable of the number of nodes in each dimension\n",
    "    a : scalar or array_like(float)\n",
    "        A length-d iterable of lower endpoints. If a scalar is given,\n",
    "        that constant is repeated d times, where d is the number of\n",
    "        dimensions\n",
    "    b : scalar or array_like(float)\n",
    "        A length-d iterable of upper endpoints. If a scalar is given,\n",
    "        that constant is repeated d times, where d is the number of\n",
    "        dimensions\n",
    "    Returns\n",
    "    -------\n",
    "    nodes : np.ndarray(dtype=float)\n",
    "        Quadrature nodes\n",
    "    weights : np.ndarray(dtype=float)\n",
    "        Weights for quadrature nodes\n",
    "    Notes\n",
    "    -----\n",
    "    Based of original function ``qnwtrap`` in CompEcon toolbox by\n",
    "    Miranda and Fackler\n",
    "    References\n",
    "    ----------\n",
    "    Miranda, Mario J, and Paul L Fackler. Applied Computational\n",
    "    Economics and Finance, MIT Press, 2002.\n",
    "    \"\"\"\n",
    "    return _make_multidim_func(_qnwtrap1, n, a, b)"
   ]
  },
  {
   "cell_type": "markdown",
   "metadata": {},
   "source": [
    "###  The Values and Weights of the Integration Nodes"
   ]
  },
  {
   "cell_type": "markdown",
   "metadata": {},
   "source": [
    "Calling the routines above shows how integration boils down to obtaining values for the nodes and weights"
   ]
  },
  {
   "cell_type": "markdown",
   "metadata": {},
   "source": [
    "#### Inputs \n",
    "\n",
    "1. $n$, the number of nodes \n",
    "\n",
    "2. $a$, the left integration limit \n",
    "\n",
    "3.  $b$, the right integration limit"
   ]
  },
  {
   "cell_type": "code",
   "execution_count": 11,
   "metadata": {},
   "outputs": [],
   "source": [
    "# qnwtrap generates integration nodes and weights for trapezoid rule as follows\n",
    "a = -.5\n",
    "b = 1.5\n",
    "n = 5 # must be greater than 1\n",
    "x,w = qnwtrap(n,a,b)"
   ]
  },
  {
   "cell_type": "code",
   "execution_count": 12,
   "metadata": {},
   "outputs": [
    {
     "data": {
      "text/plain": [
       "(array([-0.5,  0. ,  0.5,  1. ,  1.5]), array([0.25, 0.5 , 0.5 , 0.5 , 0.25]))"
      ]
     },
     "execution_count": 12,
     "metadata": {},
     "output_type": "execute_result"
    }
   ],
   "source": [
    "#nodes and weights\n",
    "x,w"
   ]
  },
  {
   "cell_type": "markdown",
   "metadata": {},
   "source": [
    "\n",
    "#### Output\n",
    "1.  $x$ and $w$, the $n×1$ vectors of quadrature nodes and weights, respectively"
   ]
  },
  {
   "cell_type": "markdown",
   "metadata": {},
   "source": [
    "#### An Example\n",
    "\n",
    "To compute the probability that a standard normal random variable is less than 1, execute"
   ]
  },
  {
   "cell_type": "code",
   "execution_count": 13,
   "metadata": {},
   "outputs": [
    {
     "name": "stdout",
     "output_type": "stream",
     "text": [
      "The trapezoidal approximation with 21 points is: 0.8412943312993039\n"
     ]
    }
   ],
   "source": [
    "f = lambda  x: np.exp(-x**2/2)/np.sqrt(2*np.pi)\n",
    "\n",
    "n = 21; a = 0; b = 1 \n",
    "x,w = qnwtrap(n,a,b) \n",
    "prob = 0.5 + w@f(x)\n",
    "print(\"The trapezoidal approximation with\", (n), \"points is:\", prob)"
   ]
  },
  {
   "cell_type": "markdown",
   "metadata": {},
   "source": [
    "The computed answer, 0.8413, is correct to four significant digits"
   ]
  },
  {
   "cell_type": "code",
   "execution_count": 14,
   "metadata": {},
   "outputs": [
    {
     "name": "stdout",
     "output_type": "stream",
     "text": [
      "The trapezoidal approximation with 100 points is: 0.841095702458613\n"
     ]
    }
   ],
   "source": [
    "#Notice the challenge of working with an infinite support\n",
    "n = 100; a = -10; b = 1 \n",
    "x,w = qnwtrap(n,a,b) \n",
    "prob = w@f(x)\n",
    "print(\"The trapezoidal approximation with\", (n), \"points is:\", prob)"
   ]
  },
  {
   "cell_type": "markdown",
   "metadata": {},
   "source": [
    "### 5.1.2 Simpson's rule"
   ]
  },
  {
   "cell_type": "markdown",
   "metadata": {},
   "source": [
    "Simpson's rule is based on piece-wise quadratic, rather than piece-wise linear, approximations\n",
    "to the integrand $f$.\n",
    "\n",
    "\n",
    "\n",
    "![](https://upload.wikimedia.org/wikipedia/commons/thumb/c/ca/Simpsons_method_illustration.svg/440px-Simpsons_method_illustration.svg.png)\n",
    "\n",
    "Simpson's rule can be derived by approximating the integrand $f(x)$ (in blue) by the quadratic interpolant $P(x)$ (in red).\n",
    "\n",
    "\n",
    "https://en.wikipedia.org/wiki/Simpson%27s_rule\n",
    "\n",
    "\n"
   ]
  },
  {
   "cell_type": "markdown",
   "metadata": {},
   "source": [
    "It is based on piecewise quadratic approximations, obtained by connecting successive triplets of graph points ( $\\left[ \\, f(x_{2j-1}) ,\\, f(x_{2j}) ,\\, f(x_{2j+1}) \\, \\right]$), with quadratic functions."
   ]
  },
  {
   "cell_type": "markdown",
   "metadata": {},
   "source": [
    "The area under this quadratic function provides an estimate of the area under $f$ over the\n",
    "subinterval:"
   ]
  },
  {
   "cell_type": "markdown",
   "metadata": {},
   "source": [
    "$$\\int \\limits_{x_{2j-1}}^{x_{2j+1}} f(x)\\, d x \\approx \\frac{h}{3} \\left[ \\, f(x_{2j-1}) + 4 \\, f(x_{2j}) + f(x_{2j+1}) \\, \\right]$$\n",
    "\n",
    "where:\n",
    "\n",
    "- $x_i = a + ih$ are the nodes\n",
    "- $h$ is the step size equal to $ h=(b − a)/n$, with $n$ an odd number. \n",
    "- $w_i$ are the weights.\n"
   ]
  },
  {
   "cell_type": "markdown",
   "metadata": {},
   "source": [
    "Summing up the areas under the quadratic approximants across subintervals yields Simpson's\n",
    "rule:"
   ]
  },
  {
   "cell_type": "markdown",
   "metadata": {},
   "source": [
    "$$\\int_a^b f(x)dx \\approx \\sum_{i=0}^{n} w_if(x_i)\\thinspace .$$\n",
    "\n",
    "- where $w_0 = w_n = h/3$ \n",
    "- $w_i = 4h/3$ if $i$ is even \n",
    "- $w_i = 2h/3$ if $i$ is odd."
   ]
  },
  {
   "cell_type": "code",
   "execution_count": 15,
   "metadata": {},
   "outputs": [
    {
     "data": {
      "text/plain": [
       "<Axes: title={'center': '3-point Integration'}, xlabel='$x$', ylabel='$y$'>"
      ]
     },
     "execution_count": 15,
     "metadata": {},
     "output_type": "execute_result"
    },
    {
     "data": {
      "image/png": "[encoded data removed]",
      "text/plain": [
       "<Figure size 800x500 with 1 Axes>"
      ]
     },
     "metadata": {},
     "output_type": "display_data"
    }
   ],
   "source": [
    "#Integration with 3 points (Simpson's rule)\n",
    "X = np.array([-0.5,0.5,1.5])\n",
    "# change the y-lim to 0-1\n",
    "Integration( f, X, xmin=-1, xmax=2, ymin=0, ymax=0.6 )"
   ]
  },
  {
   "cell_type": "markdown",
   "metadata": {},
   "source": [
    "More formally, let $x_i = a + ih$ for $i = 1, 2, ... ,n$, where\n",
    "$ h=(b − a) /n$ and $n$ is odd. The nodes $x_i$ divide the interval $[a, b]$ into an even number\n",
    "$n$ of subintervals of equal length $h$."
   ]
  },
  {
   "cell_type": "markdown",
   "metadata": {},
   "source": [
    "### The Composite Simpson's rule"
   ]
  },
  {
   "cell_type": "markdown",
   "metadata": {},
   "source": [
    "When we divide the integration interval in sets of three points, we can apply Simpson's rule to each one, obtaining:\n",
    "\n",
    "$$ \\int_a^bf(x)dx = \\frac{h}{3}\\left[ f(a) +2 \\sum_{j=1}^{(n/2)-1}f(x_{2j})+4\\sum_{j=1}^{n/2}f(x_{2j-1})+f(b) \\right] - \\frac{b-a}{180}h^4f^{(4)}(\\mu)$$\n",
    "\n",
    "for some value $\\mu$ in $(a,b)$."
   ]
  },
  {
   "cell_type": "markdown",
   "metadata": {
    "collapsed": true,
    "jupyter": {
     "outputs_hidden": true
    }
   },
   "source": [
    "Simpson's rule is as simple as the trapezoid rule, and thus not much harder to program.\n",
    "Even though Simpson's rule is based on *locally quadratic approximation* of the integrand,\n",
    "it is *third order exact*. That is, it exactly computes the integral of any cubic polynomial.\n",
    "In general, if the integrand is smooth, Simpson's rule yields an approximation error that is\n",
    "$O(h^4)$, and thus falls at twice the geometric rate of the error associated with the trapezoid\n",
    "rule.\n",
    "\n",
    "\n",
    "*Simpson's rule is preferred to the trapezoid rule* when the integrand $f$ is smooth because\n",
    "it retains the algorithmic simplicity of the trapezoid rule while offering **twice the degree of\n",
    "accuracy**. However, the trapezoid rule will often be more accurate than Simpson's rule\n",
    "if the integrand exhibits **discontinuities in its first order derivative**, which can occur in economic\n",
    "applications exhibiting corner solutions. Newton-Cotes rules based on fourth and higher\n",
    "order piecewise polynomial approximations exist, but are more difficult to work with and\n",
    "thus are rarely used."
   ]
  },
  {
   "cell_type": "code",
   "execution_count": 16,
   "metadata": {},
   "outputs": [
    {
     "data": {
      "image/png": "[encoded data removed]",
      "text/plain": [
       "<Figure size 800x500 with 2 Axes>"
      ]
     },
     "metadata": {},
     "output_type": "display_data"
    }
   ],
   "source": [
    "#Integration with 5 intervals (Simpson's rule)\n",
    "CompositeIntegration( f, a=-0.5, b=1.5, N=5, n=2, xmin=-1, xmax=2, ymin=0, ymax=0.5 )"
   ]
  },
  {
   "cell_type": "markdown",
   "metadata": {},
   "source": [
    "### Univariate and multivariate Simpson's rule"
   ]
  },
  {
   "cell_type": "markdown",
   "metadata": {},
   "source": [
    "By using tensor product methods, univariate Newton-Cotes quadrature schemes can be generalized to higher dimensional integration. This principle can be applied to an arbitrary dimension using repeated tensor product operations."
   ]
  },
  {
   "cell_type": "code",
   "execution_count": 17,
   "metadata": {},
   "outputs": [],
   "source": [
    "def qnwsimp(n, a, b):\n",
    "    \"\"\"\n",
    "    Computes multivariate Simpson quadrature nodes and weights.\n",
    "    Parameters\n",
    "    ----------\n",
    "    n : int or array_like(float)\n",
    "        A length-d iterable of the number of nodes in each dimension\n",
    "    a : scalar or array_like(float)\n",
    "        A length-d iterable of lower endpoints. If a scalar is given,\n",
    "        that constant is repeated d times, where d is the number of\n",
    "        dimensions\n",
    "    b : scalar or array_like(float)\n",
    "        A length-d iterable of upper endpoints. If a scalar is given,\n",
    "        that constant is repeated d times, where d is the number of\n",
    "        dimensions\n",
    "    Returns\n",
    "    -------\n",
    "    nodes : np.ndarray(dtype=float)\n",
    "        Quadrature nodes\n",
    "    weights : np.ndarray(dtype=float)\n",
    "        Weights for quadrature nodes\n",
    "    Notes\n",
    "    -----\n",
    "    Based of original function ``qnwsimp`` in CompEcon toolbox by\n",
    "    Miranda and Fackler\n",
    "    References\n",
    "    ----------\n",
    "    Miranda, Mario J, and Paul L Fackler. Applied Computational\n",
    "    Economics and Finance, MIT Press, 2002.\n",
    "    \"\"\"\n",
    "    return _make_multidim_func(_qnwsimp1, n, a, b)"
   ]
  },
  {
   "cell_type": "markdown",
   "metadata": {},
   "source": [
    "### Properties of the Simpson rule"
   ]
  },
  {
   "cell_type": "markdown",
   "metadata": {},
   "source": [
    "1. If $f(x)$ is smooth, Simpson's rule approximation error is proportional to $h^4$\n",
    "\n",
    "2. Doubling the nodes reduces the error by a factor of sixteen\n",
    "\n",
    "3. Simpson's rule is preferred to the trapezoid rule because it is almost as simple, but more accurate\n",
    "\n",
    "4. Newton-Cotes rules based on piecewise polynomials of third and higher degree can be defined, but are not practical"
   ]
  },
  {
   "cell_type": "code",
   "execution_count": 18,
   "metadata": {},
   "outputs": [],
   "source": [
    "# qnwsimp generates integration nodes and weights for Simpson's rule as follows\n",
    "a = -.5\n",
    "b = 1.5\n",
    "n = 3 # n must be an odd integer\n",
    "x,w = qnwsimp(n,a,b)"
   ]
  },
  {
   "cell_type": "code",
   "execution_count": 19,
   "metadata": {},
   "outputs": [
    {
     "data": {
      "text/plain": [
       "(array([-0.5,  0.5,  1.5]), array([0.33333333, 1.33333333, 0.33333333]))"
      ]
     },
     "execution_count": 19,
     "metadata": {},
     "output_type": "execute_result"
    }
   ],
   "source": [
    "#nodes and weights\n",
    "x,w"
   ]
  },
  {
   "cell_type": "markdown",
   "metadata": {},
   "source": [
    "#### An Example\n",
    "\n",
    "To compute the probability that a standard normal random variable is less than 1, execute"
   ]
  },
  {
   "cell_type": "code",
   "execution_count": 20,
   "metadata": {},
   "outputs": [
    {
     "name": "stdout",
     "output_type": "stream",
     "text": [
      "The Simpson's approximation with 11 points is: 0.8413450158884701\n"
     ]
    }
   ],
   "source": [
    "#Let's define the pdf of the standard normal \n",
    "f = lambda  x: np.exp(-x**2/2)/np.sqrt(2*np.pi)\n",
    "\n",
    "n = 11; a = 0; b = 1 \n",
    "x,w = qnwsimp(n,a,b) \n",
    "prob = 0.5 + w@f(x)\n",
    "print(\"The Simpson's approximation with\", (n), \"points is:\", prob)"
   ]
  },
  {
   "cell_type": "markdown",
   "metadata": {},
   "source": [
    "qnwsimp uses fewer nodes than qntrap to obtain a similar degree of accuracy."
   ]
  },
  {
   "cell_type": "code",
   "execution_count": 21,
   "metadata": {},
   "outputs": [
    {
     "name": "stdout",
     "output_type": "stream",
     "text": [
      "The trapezoidal approximation with 5 points is: 2.3991662826140026\n",
      "The Relative Error of the trapezoidal approximation with 5 points is: 0.020747041268399213\n",
      "The Log 10 Relative Error of the trapezoidal approximation with 5 points is: -1.683043829189349\n",
      "The Simpson's approximation with 5 points is: 2.3511948318802554\n",
      "The Relative Error of Simpson's approximation with 5 points is: 0.00033715273475665164\n",
      "The Log 10 Relative Error of the trapezoidal approximation with 5 points is: -3.4721733132677617\n"
     ]
    }
   ],
   "source": [
    "negexp = lambda  x: np.exp(-x)\n",
    "\n",
    "areatrue = np.exp(1.0)-np.exp(-1.0)\n",
    "\n",
    "n = 5\n",
    "#n = 11\n",
    "#n = 21\n",
    "#n = 31\n",
    "a = -1\n",
    "b = 1 \n",
    "\n",
    "x,w = qnwtrap(n,a,b) \n",
    "areatrap = w@negexp(x)\n",
    "print(\"The trapezoidal approximation with\", (n), \"points is:\", areatrap)\n",
    "errortrap=areatrap/areatrue\n",
    "relerrortrap=(areatrap/areatrue)-1.0\n",
    "relerrortrap=np.abs(relerrortrap)\n",
    "print(\"The Relative Error of the trapezoidal approximation with\", (n), \"points is:\", relerrortrap)\n",
    "print(\"The Log 10 Relative Error of the trapezoidal approximation with\", (n), \"points is:\", np.log10(relerrortrap))\n",
    "\n",
    "x,w = qnwsimp(n,a,b) \n",
    "areasimp = w@negexp(x)\n",
    "print(\"The Simpson's approximation with\", (n), \"points is:\", areasimp)\n",
    "errorsimp=areasimp/areatrue\n",
    "relerrorsimp=(areasimp/areatrue)-1.0\n",
    "relerrorsimp=np.abs(relerrorsimp)\n",
    "print(\"The Relative Error of Simpson's approximation with\", (n), \"points is:\", relerrorsimp)\n",
    "print(\"The Log 10 Relative Error of the trapezoidal approximation with\", (n), \"points is:\", np.log10(relerrorsimp))"
   ]
  },
  {
   "cell_type": "code",
   "execution_count": 22,
   "metadata": {},
   "outputs": [
    {
     "name": "stdout",
     "output_type": "stream",
     "text": [
      "The trapezoidal approximation with 5 points is: 1.2071067811865475\n",
      "The Relative Error of the trapezoidal approximation with 5 points is: 0.0946699141100894\n",
      "The Log 10 Relative Error of the trapezoidal approximation with 5 points is: -1.0237880168990077\n",
      "The Simpson's approximation with 5 points is: 1.2761423749153968\n",
      "The Relative Error of Simpson's approximation with 5 points is: 0.042893218813452316\n",
      "The Log 10 Relative Error of the trapezoidal approximation with 5 points is: -1.3676113620036903\n"
     ]
    }
   ],
   "source": [
    "negexp = lambda  x: np.sqrt(np.abs(x))\n",
    "\n",
    "areatrue = 4.0/3.0\n",
    "\n",
    "n = 5\n",
    "#n = 11\n",
    "#n = 21\n",
    "#n = 31\n",
    "a = -1\n",
    "b = 1 \n",
    "\n",
    "x,w = qnwtrap(n,a,b) \n",
    "areatrap = w@negexp(x)\n",
    "print(\"The trapezoidal approximation with\", (n), \"points is:\", areatrap)\n",
    "errortrap=areatrap/areatrue\n",
    "relerrortrap=(areatrap/areatrue)-1.0\n",
    "relerrortrap=np.abs(relerrortrap)\n",
    "print(\"The Relative Error of the trapezoidal approximation with\", (n), \"points is:\", relerrortrap)\n",
    "print(\"The Log 10 Relative Error of the trapezoidal approximation with\", (n), \"points is:\", np.log10(relerrortrap))\n",
    "\n",
    "x,w = qnwsimp(n,a,b) \n",
    "areasimp = w@negexp(x)\n",
    "print(\"The Simpson's approximation with\", (n), \"points is:\", areasimp)\n",
    "errorsimp=areasimp/areatrue\n",
    "relerrorsimp=(areasimp/areatrue)-1.0\n",
    "relerrorsimp=np.abs(relerrorsimp)\n",
    "print(\"The Relative Error of Simpson's approximation with\", (n), \"points is:\", relerrorsimp)\n",
    "print(\"The Log 10 Relative Error of the trapezoidal approximation with\", (n), \"points is:\", np.log10(relerrorsimp))"
   ]
  }
 ],
 "metadata": {
  "kernelspec": {
   "display_name": "Python 3 (ipykernel)",
   "language": "python",
   "name": "python3"
  },
  "language_info": {
   "codemirror_mode": {
    "name": "ipython",
    "version": 3
   },
   "file_extension": ".py",
   "mimetype": "text/x-python",
   "name": "python",
   "nbconvert_exporter": "python",
   "pygments_lexer": "ipython3",
   "version": "3.11.4"
  }
 },
 "nbformat": 4,
 "nbformat_minor": 4
}
