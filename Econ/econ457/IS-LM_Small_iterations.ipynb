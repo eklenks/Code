{
 "cells": [
  {
   "cell_type": "code",
   "execution_count": 1,
   "metadata": {},
   "outputs": [],
   "source": [
    "import numpy as np\n",
    "%matplotlib inline"
   ]
  },
  {
   "cell_type": "markdown",
   "metadata": {},
   "source": [
    "## A Small Open Economy Macro-economic Model:\n",
    "\n",
    "- product equals aggregate demand, $Y = C + I +G +NX$; \n",
    "\n",
    "- consumption function, $C = \\bar C + c(Y−T)$; \n",
    "\n",
    "- investment function, $I = \\bar I − br$; \n",
    "\n",
    "- net exports function, $NX = \\bar{NX} − j(Y−Y_f)+ne\\bar P_f/\\bar P$; \n",
    "\n",
    "\n",
    "- public spending function, $G = T$; \n",
    "\n",
    "- income taxes function, $T = tY$; \n",
    "\n",
    "- monetary equilibrium, $M/P = kY − hr$; \n",
    "\n",
    "- money supply function, $M = \\bar M$;\n",
    "\n",
    "- perfect capital mobility (small open economy), $r =\\bar r_f$."
   ]
  },
  {
   "cell_type": "markdown",
   "metadata": {},
   "source": [
    "## Endogenous variables: \n",
    "\n",
    "- product, $Y$;\n",
    "\n",
    "- consumption, $C$;\n",
    "\n",
    "- investment, $I$;\n",
    "\n",
    "- public spending, $G$;\n",
    "\n",
    "- income taxes, $T$; \n",
    "\n",
    "- net exports, $NX$;\n",
    "\n",
    "- interest rate, $r$.\n",
    "\n",
    "- exchange rate, $e$."
   ]
  },
  {
   "cell_type": "markdown",
   "metadata": {},
   "source": [
    "## Exogenous variables: \n",
    "\n",
    "- foreign product, $\\bar Y_f$;\n",
    "\n",
    "- money supply, $\\bar M$; \n",
    "\n",
    "- price levels (fixed), $\\bar P$ and $\\bar P_f$;\n",
    "\n",
    "- foreign interest rate, $\\bar r_f$;\n",
    "\n",
    "- independent/autonomous consumption, $\\bar C$; \n",
    "\n",
    "- independent/autonomous investment, $\\bar I$; \n",
    "\n",
    "- independent/autonomous net exports, $\\bar{NX}$.\n"
   ]
  },
  {
   "cell_type": "markdown",
   "metadata": {},
   "source": [
    "## Parameters:\n",
    "- $0 < c < 1$ is the marginal propensity to consume; \n",
    "\n",
    "- $b > 0$ is the interest sensitivity of investment; \n",
    "\n",
    "- $k > 0$ is the output sensitivity of the demand for money; \n",
    "\n",
    "- $h > 0$ is the interest sensitivity of the demand for money;\n",
    "\n",
    "- $j > 0$ is the output sensitivity of net exports;\n",
    "\n",
    "- $n > 0$ is the Real exchange rate sensitivity of net exports.\n",
    "\n",
    "- $0 < t < 1$ is the proportional income tax rate; "
   ]
  },
  {
   "cell_type": "markdown",
   "metadata": {},
   "source": [
    "## IS−LM model \n",
    "\n",
    "### Open Economies in the short−medium run"
   ]
  },
  {
   "cell_type": "code",
   "execution_count": 1,
   "metadata": {},
   "outputs": [
    {
     "name": "stdout",
     "output_type": "stream",
     "text": [
      " IS-LM model: small open economy       \n",
      "-----------------------------------------------------------      \n",
      "Exogenous variables: \n",
      "Yf = 1000; M = 210; P = Pf =1; rf=0.01           \n",
      "Endogenous variables:       \n",
      "Production, Y = 395.00;       \n",
      "Consumption, C = 229.19;       \n",
      "Investment, I = 32.00;       \n",
      "Public spending, G = 118.50;       \n",
      "Taxes, T = 118.50;       \n",
      "Net exports, NX = 133.81;       \n",
      "Interest rate (%), r = 1.00;       \n",
      "Exchange rate, e = 7.33 \n"
     ]
    }
   ],
   "source": [
    "import numpy as np\n",
    "import pprint\n",
    "import scipy\n",
    "import scipy.linalg   # SciPy Linear Algebra Library\n",
    "%matplotlib inline\n",
    "# home parameters \n",
    "c = 0.63 #marginal propensity to consume \n",
    "b = 1500 #sensitivity of the investment to the interest rate \n",
    "k = 0.6  #sensitivity of the money demand to income \n",
    "h = 2700 #sensitivity of the money demand to the interest rate\n",
    "j = 0.1  #sensitivity of the net exports to income \n",
    "n = 10  #sensitivity of the net exports to the real exchange rate\n",
    "t = 0.3 #proportional income tax rate\n",
    "# home policy and exogenous variables \n",
    "C_bar = 55 #autonomous consumption \n",
    "I_bar = 47 #autonomous investment \n",
    "M_bar = 210 #money supply \n",
    "P_bar = 1 #price level ( fixed in the short−run )\n",
    "NX_bar = 0 #autonomous net exports \n",
    "# foreign policy and exogenous variables \n",
    "Yf_bar = 1000 #foreign product \n",
    "Pf_bar = 1 #price level ( fixed in the short−run )\n",
    "rf_bar = 0.01 #foreign interest rate\n",
    "# home endogenous variables: Y (product), C (consumption), I (investment), G (public spending), T (taxes), NX (net exports), \n",
    "# r (interest rate), e (nominal exchange rate)\n",
    "# matrix representation of the model : Ax=d \n",
    "# A, coefficient matrix for [Y, C, I, G, T, NX, r, e]\n",
    "A = np.array([\n",
    "    [1, -1, -1, 0, 0, -1, 0, 0], # Y=C+I+G+NX\n",
    "    [-c, 1, 0, 0, c, 0, 0, 0], # C=C_bar+c*(Y−T) \n",
    "    [0, 0, 1, 0, 0, 0, b, 0], # I=I_bar−b*r \n",
    "    [k, 0, 0, 0, 0, 0, -h, 0], # M_bar/P_bar=k*Y−h*r               \n",
    "    [j, 0, 0, 0, 0, 1, 0, -n*Pf_bar/P_bar], # NX=NX_bar−j*(Y-Yf)+n*e*Pf_bar/P_bar              \n",
    "    [-t, 0, 0, 0, 1, 0, 0, 0], # T=tY\n",
    "    [0, 0, 0, 1, -1, 0, 0, 0], # G=T        \n",
    "    [0, 0, 0, 0, 0, 0, 1, 0] ]) # r=rf                                                           \n",
    "# x = [Y, C, I, G, T, NX, r, e] , vector of the endogenous variables \n",
    "x = np.array( [0, 0, 0, 0, 0, 0, 0, 0] )\n",
    "# d, vector of the exogenous variables \n",
    "d = np.array([0,C_bar,I_bar,M_bar/P_bar,NX_bar+j*Yf_bar, 0, 0, rf_bar] )\n",
    "#Compute the solution\n",
    "x=np.linalg.solve(A,d)\n",
    "print(\" IS-LM model: small open economy \\\n",
    "      \\n-----------------------------------------------------------\\\n",
    "      \\nExogenous variables: \\nYf = 1000; M = 210; P = Pf =1; rf=0.01     \\\n",
    "      \\nEndogenous variables: \\\n",
    "      \\nProduction, Y = {0:.2f}; \\\n",
    "      \\nConsumption, C = {1:.2f}; \\\n",
    "      \\nInvestment, I = {2:.2f}; \\\n",
    "      \\nPublic spending, G = {3:.2f}; \\\n",
    "      \\nTaxes, T = {4:.2f}; \\\n",
    "      \\nNet exports, NX = {5:.2f}; \\\n",
    "      \\nInterest rate (%), r = {6:.2f}; \\\n",
    "      \\nExchange rate, e = {7:.2f} \".format(x[0],x[1],x[2],x[3],x[4],x[5],x[6]*100,x[7] ) )"
   ]
  },
  {
   "cell_type": "markdown",
   "metadata": {},
   "source": [
    "Let's try using iterative methods. It is easy to conjecture that Gauss-Jacobi will fail. Unfortunately, also Gauss-Seidel fails."
   ]
  },
  {
   "cell_type": "code",
   "execution_count": 2,
   "metadata": {},
   "outputs": [
    {
     "name": "stdout",
     "output_type": "stream",
     "text": [
      "Ainv:\n",
      " [[ 0.00000000e+00  0.00000000e+00  0.00000000e+00  1.66666667e+00\n",
      "   0.00000000e+00  0.00000000e+00  0.00000000e+00  4.50000000e+03]\n",
      " [ 0.00000000e+00  1.00000000e+00  0.00000000e+00  7.35000000e-01\n",
      "   0.00000000e+00 -6.30000000e-01  0.00000000e+00  1.98450000e+03]\n",
      " [ 0.00000000e+00  0.00000000e+00  1.00000000e+00  0.00000000e+00\n",
      "   0.00000000e+00  0.00000000e+00  0.00000000e+00 -1.50000000e+03]\n",
      " [ 0.00000000e+00  0.00000000e+00  0.00000000e+00  5.00000000e-01\n",
      "   0.00000000e+00  1.00000000e+00  1.00000000e+00  1.35000000e+03]\n",
      " [ 0.00000000e+00  0.00000000e+00  0.00000000e+00  5.00000000e-01\n",
      "   0.00000000e+00  1.00000000e+00  0.00000000e+00  1.35000000e+03]\n",
      " [-1.00000000e+00 -1.00000000e+00 -1.00000000e+00  9.31666667e-01\n",
      "   0.00000000e+00  6.30000000e-01  0.00000000e+00  4.01550000e+03]\n",
      " [ 0.00000000e+00  0.00000000e+00  0.00000000e+00  0.00000000e+00\n",
      "   0.00000000e+00  0.00000000e+00  0.00000000e+00  1.00000000e+00]\n",
      " [-1.00000000e-01 -1.00000000e-01 -1.00000000e-01  1.09833333e-01\n",
      "  -1.00000000e-01  6.30000000e-02  0.00000000e+00  4.46550000e+02]]\n"
     ]
    }
   ],
   "source": [
    "Ainv = np.linalg.inv(A)\n",
    "print(\"Ainv:\\n\", Ainv)"
   ]
  },
  {
   "cell_type": "code",
   "execution_count": 4,
   "metadata": {},
   "outputs": [],
   "source": [
    "def gjacobi(Agj, bgj, maxit, tol):\n",
    "    \"\"\"\n",
    "    Solve a system of linear equations with the Gauss-Jacobi iterative method outlined in the slides.\n",
    "    It relies on the updating eq:\n",
    "        x = inv(Q)(b - Ax)\n",
    "    Where Q is the diagonal matrix obtained from A\n",
    "    \"\"\"\n",
    "    xgj = np.array( [0, 0, 0, 0, 0, 0, 0, 0] )\n",
    "    dxgj = np.array( [0, 0, 0, 0, 0, 0, 0, 0] )\n",
    "        \n",
    "    # Get the diagonal matrix from A (np.diag(A) would extract a vector)\n",
    "    Q = np.diag(np.diag(Agj))\n",
    "\n",
    "    #Compute and display the condition number\n",
    "    condnumb=np.linalg.cond(Agj)\n",
    "    print(\"Condition number of A:\\n\", condnumb)    \n",
    "        \n",
    "    condnumb=np.linalg.cond(Q)\n",
    "    print(\"Condition number of Q:\\n\", condnumb)    \n",
    "        \n",
    "    # Get the inverse of Q\n",
    "    # Note: we could write the formula for the inverse of Q directly\n",
    "    Qinv = np.linalg.inv(Q)\n",
    "            \n",
    "    # Begin the iterations, updating the vector x\n",
    "    for it in np.arange(maxit):\n",
    "        dxgj =  Qinv.dot(bgj - Agj.dot(xgj))\n",
    "        xgj = xgj + dxgj\n",
    "        #We are using the Frobenius norm\n",
    "        #https://docs.scipy.org/doc/numpy/reference/generated/numpy.linalg.norm.html\n",
    "        if np.linalg.norm(dxgj)<tol:\n",
    "        #If we wanted to rely on the Sup norm, we would use the following \n",
    "        #if np.linalg.norm(dx,np.inf)<tol:\n",
    "            break\n",
    "\n",
    "    print(\"x:\\n\", xgj)\n",
    "    print(\"it:\\n\", it)"
   ]
  },
  {
   "cell_type": "code",
   "execution_count": 5,
   "metadata": {},
   "outputs": [
    {
     "name": "stdout",
     "output_type": "stream",
     "text": [
      "Condition number of A:\n",
      " 21040956.267420266\n",
      "Condition number of Q:\n",
      " inf\n"
     ]
    },
    {
     "ename": "LinAlgError",
     "evalue": "Singular matrix",
     "output_type": "error",
     "traceback": [
      "\u001b[0;31m---------------------------------------------------------------------------\u001b[0m",
      "\u001b[0;31mLinAlgError\u001b[0m                               Traceback (most recent call last)",
      "Cell \u001b[0;32mIn[5], line 2\u001b[0m\n\u001b[1;32m      1\u001b[0m \u001b[38;5;66;03m#Calling the Gauss-Jacobi routine will prompt an error message (why?)\u001b[39;00m\n\u001b[0;32m----> 2\u001b[0m \u001b[43mgjacobi\u001b[49m\u001b[43m(\u001b[49m\u001b[43mA\u001b[49m\u001b[43m,\u001b[49m\u001b[43m \u001b[49m\u001b[43md\u001b[49m\u001b[43m,\u001b[49m\u001b[43m \u001b[49m\u001b[38;5;241;43m1000\u001b[39;49m\u001b[43m,\u001b[49m\u001b[43m \u001b[49m\u001b[38;5;241;43m1e-08\u001b[39;49m\u001b[43m)\u001b[49m\n",
      "Cell \u001b[0;32mIn[4], line 23\u001b[0m, in \u001b[0;36mgjacobi\u001b[0;34m(Agj, bgj, maxit, tol)\u001b[0m\n\u001b[1;32m     19\u001b[0m \u001b[38;5;28mprint\u001b[39m(\u001b[38;5;124m\"\u001b[39m\u001b[38;5;124mCondition number of Q:\u001b[39m\u001b[38;5;130;01m\\n\u001b[39;00m\u001b[38;5;124m\"\u001b[39m, condnumb)    \n\u001b[1;32m     21\u001b[0m \u001b[38;5;66;03m# Get the inverse of Q\u001b[39;00m\n\u001b[1;32m     22\u001b[0m \u001b[38;5;66;03m# Note: we could write the formula for the inverse of Q directly\u001b[39;00m\n\u001b[0;32m---> 23\u001b[0m Qinv \u001b[38;5;241m=\u001b[39m \u001b[43mnp\u001b[49m\u001b[38;5;241;43m.\u001b[39;49m\u001b[43mlinalg\u001b[49m\u001b[38;5;241;43m.\u001b[39;49m\u001b[43minv\u001b[49m\u001b[43m(\u001b[49m\u001b[43mQ\u001b[49m\u001b[43m)\u001b[49m\n\u001b[1;32m     25\u001b[0m \u001b[38;5;66;03m# Begin the iterations, updating the vector x\u001b[39;00m\n\u001b[1;32m     26\u001b[0m \u001b[38;5;28;01mfor\u001b[39;00m it \u001b[38;5;129;01min\u001b[39;00m np\u001b[38;5;241m.\u001b[39marange(maxit):\n",
      "File \u001b[0;32m<__array_function__ internals>:200\u001b[0m, in \u001b[0;36minv\u001b[0;34m(*args, **kwargs)\u001b[0m\n",
      "File \u001b[0;32m/Library/Frameworks/Python.framework/Versions/3.11/lib/python3.11/site-packages/numpy/linalg/linalg.py:538\u001b[0m, in \u001b[0;36minv\u001b[0;34m(a)\u001b[0m\n\u001b[1;32m    536\u001b[0m signature \u001b[38;5;241m=\u001b[39m \u001b[38;5;124m'\u001b[39m\u001b[38;5;124mD->D\u001b[39m\u001b[38;5;124m'\u001b[39m \u001b[38;5;28;01mif\u001b[39;00m isComplexType(t) \u001b[38;5;28;01melse\u001b[39;00m \u001b[38;5;124m'\u001b[39m\u001b[38;5;124md->d\u001b[39m\u001b[38;5;124m'\u001b[39m\n\u001b[1;32m    537\u001b[0m extobj \u001b[38;5;241m=\u001b[39m get_linalg_error_extobj(_raise_linalgerror_singular)\n\u001b[0;32m--> 538\u001b[0m ainv \u001b[38;5;241m=\u001b[39m \u001b[43m_umath_linalg\u001b[49m\u001b[38;5;241;43m.\u001b[39;49m\u001b[43minv\u001b[49m\u001b[43m(\u001b[49m\u001b[43ma\u001b[49m\u001b[43m,\u001b[49m\u001b[43m \u001b[49m\u001b[43msignature\u001b[49m\u001b[38;5;241;43m=\u001b[39;49m\u001b[43msignature\u001b[49m\u001b[43m,\u001b[49m\u001b[43m \u001b[49m\u001b[43mextobj\u001b[49m\u001b[38;5;241;43m=\u001b[39;49m\u001b[43mextobj\u001b[49m\u001b[43m)\u001b[49m\n\u001b[1;32m    539\u001b[0m \u001b[38;5;28;01mreturn\u001b[39;00m wrap(ainv\u001b[38;5;241m.\u001b[39mastype(result_t, copy\u001b[38;5;241m=\u001b[39m\u001b[38;5;28;01mFalse\u001b[39;00m))\n",
      "File \u001b[0;32m/Library/Frameworks/Python.framework/Versions/3.11/lib/python3.11/site-packages/numpy/linalg/linalg.py:89\u001b[0m, in \u001b[0;36m_raise_linalgerror_singular\u001b[0;34m(err, flag)\u001b[0m\n\u001b[1;32m     88\u001b[0m \u001b[38;5;28;01mdef\u001b[39;00m \u001b[38;5;21m_raise_linalgerror_singular\u001b[39m(err, flag):\n\u001b[0;32m---> 89\u001b[0m     \u001b[38;5;28;01mraise\u001b[39;00m LinAlgError(\u001b[38;5;124m\"\u001b[39m\u001b[38;5;124mSingular matrix\u001b[39m\u001b[38;5;124m\"\u001b[39m)\n",
      "\u001b[0;31mLinAlgError\u001b[0m: Singular matrix"
     ]
    }
   ],
   "source": [
    "#Calling the Gauss-Jacobi routine will prompt an error message (why?)\n",
    "gjacobi(A, d, 1000, 1e-08)"
   ]
  },
  {
   "cell_type": "code",
   "execution_count": 6,
   "metadata": {},
   "outputs": [],
   "source": [
    "def gseidel(Ags, bgs, maxit, tol, lamb):\n",
    "    \"\"\"\n",
    "    Solve a system of linear equations with the Gauss-Seidel iterative method outlined in the book.\n",
    "    It relies on the updating eq:\n",
    "        x = lambda*inv(Q)(b - Ax)\n",
    "    Where Q is the upper triangular matrix obtained from A    \n",
    "    \"\"\"\n",
    "\n",
    "    #xgs = np.array([1 for _ in np.arange(Ags.shape[1])])\n",
    "    xgs = np.array( [0, 0, 0, 0, 0, 0, 0, 0] )    \n",
    "    \n",
    "    # Get the upper triangular matrix from A\n",
    "    Qtmp1 = np.triu(Ags)\n",
    "    # Get the diagonal matrix from A\n",
    "    Qtmp2 = np.diag(np.diag(Ags))\n",
    "    # Get the Gauss-Seidel update matrix\n",
    "    Q = Qtmp1 + Qtmp2\n",
    "    \n",
    "    #Compute and display the condition number\n",
    "    condnumb=np.linalg.cond(Ags)\n",
    "    print(\"Condition number of A:\\n\", condnumb)    \n",
    "        \n",
    "    condnumb=np.linalg.cond(Q)\n",
    "    print(\"Condition number of Q:\\n\", condnumb)        \n",
    "    \n",
    "    # Get the inverse of Q\n",
    "    Qinv = np.linalg.inv(Q)\n",
    "    \n",
    "    # Begin the iterations, updating the vector x\n",
    "    for it in np.arange(maxit):\n",
    "        dxgs = Qinv.dot(bgs -Ags.dot(xgs))\n",
    "        #Note: we include a relaxation weight to possibly make the updates less drastic\n",
    "        xgs = xgs + lamb*dxgs\n",
    "        if np.linalg.norm(dxgs)<tol:\n",
    "            break\n",
    "            \n",
    "    print(\"x:\\n\", xgs)\n",
    "    print(\"it:\\n\", it)"
   ]
  },
  {
   "cell_type": "code",
   "execution_count": 7,
   "metadata": {},
   "outputs": [
    {
     "name": "stdout",
     "output_type": "stream",
     "text": [
      "Condition number of A:\n",
      " 21040956.267420266\n",
      "Condition number of Q:\n",
      " inf\n"
     ]
    },
    {
     "ename": "LinAlgError",
     "evalue": "Singular matrix",
     "output_type": "error",
     "traceback": [
      "\u001b[0;31m---------------------------------------------------------------------------\u001b[0m",
      "\u001b[0;31mLinAlgError\u001b[0m                               Traceback (most recent call last)",
      "Cell \u001b[0;32mIn[7], line 2\u001b[0m\n\u001b[1;32m      1\u001b[0m \u001b[38;5;66;03m#Call the Gauss-Seidel routine (neglecting the relaxation parameter, as it is set to 1)\u001b[39;00m\n\u001b[0;32m----> 2\u001b[0m \u001b[43mgseidel\u001b[49m\u001b[43m(\u001b[49m\u001b[43mA\u001b[49m\u001b[43m,\u001b[49m\u001b[43m \u001b[49m\u001b[43md\u001b[49m\u001b[43m,\u001b[49m\u001b[43m \u001b[49m\u001b[38;5;241;43m1000\u001b[39;49m\u001b[43m,\u001b[49m\u001b[43m \u001b[49m\u001b[38;5;241;43m1e-08\u001b[39;49m\u001b[43m,\u001b[49m\u001b[43m \u001b[49m\u001b[38;5;241;43m1\u001b[39;49m\u001b[43m)\u001b[49m\n",
      "Cell \u001b[0;32mIn[6], line 27\u001b[0m, in \u001b[0;36mgseidel\u001b[0;34m(Ags, bgs, maxit, tol, lamb)\u001b[0m\n\u001b[1;32m     24\u001b[0m \u001b[38;5;28mprint\u001b[39m(\u001b[38;5;124m\"\u001b[39m\u001b[38;5;124mCondition number of Q:\u001b[39m\u001b[38;5;130;01m\\n\u001b[39;00m\u001b[38;5;124m\"\u001b[39m, condnumb)        \n\u001b[1;32m     26\u001b[0m \u001b[38;5;66;03m# Get the inverse of Q\u001b[39;00m\n\u001b[0;32m---> 27\u001b[0m Qinv \u001b[38;5;241m=\u001b[39m \u001b[43mnp\u001b[49m\u001b[38;5;241;43m.\u001b[39;49m\u001b[43mlinalg\u001b[49m\u001b[38;5;241;43m.\u001b[39;49m\u001b[43minv\u001b[49m\u001b[43m(\u001b[49m\u001b[43mQ\u001b[49m\u001b[43m)\u001b[49m\n\u001b[1;32m     29\u001b[0m \u001b[38;5;66;03m# Begin the iterations, updating the vector x\u001b[39;00m\n\u001b[1;32m     30\u001b[0m \u001b[38;5;28;01mfor\u001b[39;00m it \u001b[38;5;129;01min\u001b[39;00m np\u001b[38;5;241m.\u001b[39marange(maxit):\n",
      "File \u001b[0;32m<__array_function__ internals>:200\u001b[0m, in \u001b[0;36minv\u001b[0;34m(*args, **kwargs)\u001b[0m\n",
      "File \u001b[0;32m/Library/Frameworks/Python.framework/Versions/3.11/lib/python3.11/site-packages/numpy/linalg/linalg.py:538\u001b[0m, in \u001b[0;36minv\u001b[0;34m(a)\u001b[0m\n\u001b[1;32m    536\u001b[0m signature \u001b[38;5;241m=\u001b[39m \u001b[38;5;124m'\u001b[39m\u001b[38;5;124mD->D\u001b[39m\u001b[38;5;124m'\u001b[39m \u001b[38;5;28;01mif\u001b[39;00m isComplexType(t) \u001b[38;5;28;01melse\u001b[39;00m \u001b[38;5;124m'\u001b[39m\u001b[38;5;124md->d\u001b[39m\u001b[38;5;124m'\u001b[39m\n\u001b[1;32m    537\u001b[0m extobj \u001b[38;5;241m=\u001b[39m get_linalg_error_extobj(_raise_linalgerror_singular)\n\u001b[0;32m--> 538\u001b[0m ainv \u001b[38;5;241m=\u001b[39m \u001b[43m_umath_linalg\u001b[49m\u001b[38;5;241;43m.\u001b[39;49m\u001b[43minv\u001b[49m\u001b[43m(\u001b[49m\u001b[43ma\u001b[49m\u001b[43m,\u001b[49m\u001b[43m \u001b[49m\u001b[43msignature\u001b[49m\u001b[38;5;241;43m=\u001b[39;49m\u001b[43msignature\u001b[49m\u001b[43m,\u001b[49m\u001b[43m \u001b[49m\u001b[43mextobj\u001b[49m\u001b[38;5;241;43m=\u001b[39;49m\u001b[43mextobj\u001b[49m\u001b[43m)\u001b[49m\n\u001b[1;32m    539\u001b[0m \u001b[38;5;28;01mreturn\u001b[39;00m wrap(ainv\u001b[38;5;241m.\u001b[39mastype(result_t, copy\u001b[38;5;241m=\u001b[39m\u001b[38;5;28;01mFalse\u001b[39;00m))\n",
      "File \u001b[0;32m/Library/Frameworks/Python.framework/Versions/3.11/lib/python3.11/site-packages/numpy/linalg/linalg.py:89\u001b[0m, in \u001b[0;36m_raise_linalgerror_singular\u001b[0;34m(err, flag)\u001b[0m\n\u001b[1;32m     88\u001b[0m \u001b[38;5;28;01mdef\u001b[39;00m \u001b[38;5;21m_raise_linalgerror_singular\u001b[39m(err, flag):\n\u001b[0;32m---> 89\u001b[0m     \u001b[38;5;28;01mraise\u001b[39;00m LinAlgError(\u001b[38;5;124m\"\u001b[39m\u001b[38;5;124mSingular matrix\u001b[39m\u001b[38;5;124m\"\u001b[39m)\n",
      "\u001b[0;31mLinAlgError\u001b[0m: Singular matrix"
     ]
    }
   ],
   "source": [
    "#Call the Gauss-Seidel routine (neglecting the relaxation parameter, as it is set to 1)\n",
    "gseidel(A, d, 1000, 1e-08, 1)"
   ]
  },
  {
   "cell_type": "code",
   "execution_count": 8,
   "metadata": {},
   "outputs": [
    {
     "data": {
      "text/plain": [
       "array([[ 6.0e-01,  0.0e+00,  0.0e+00,  0.0e+00,  0.0e+00,  0.0e+00,\n",
       "        -2.7e+03,  0.0e+00],\n",
       "       [-6.3e-01,  1.0e+00,  0.0e+00,  0.0e+00,  6.3e-01,  0.0e+00,\n",
       "         0.0e+00,  0.0e+00],\n",
       "       [ 0.0e+00,  0.0e+00,  1.0e+00,  0.0e+00,  0.0e+00,  0.0e+00,\n",
       "         1.5e+03,  0.0e+00],\n",
       "       [ 0.0e+00,  0.0e+00,  0.0e+00,  1.0e+00, -1.0e+00,  0.0e+00,\n",
       "         0.0e+00,  0.0e+00],\n",
       "       [-3.0e-01,  0.0e+00,  0.0e+00,  0.0e+00,  1.0e+00,  0.0e+00,\n",
       "         0.0e+00,  0.0e+00],\n",
       "       [ 1.0e+00, -1.0e+00, -1.0e+00,  0.0e+00,  0.0e+00, -1.0e+00,\n",
       "         0.0e+00,  0.0e+00],\n",
       "       [ 0.0e+00,  0.0e+00,  0.0e+00,  0.0e+00,  0.0e+00,  0.0e+00,\n",
       "         1.0e+00,  0.0e+00],\n",
       "       [ 1.0e-01,  0.0e+00,  0.0e+00,  0.0e+00,  0.0e+00,  1.0e+00,\n",
       "         0.0e+00, -1.0e+01]])"
      ]
     },
     "execution_count": 8,
     "metadata": {},
     "output_type": "execute_result"
    }
   ],
   "source": [
    "#Let's fix the issue, by re-arranging the equations\n",
    "\n",
    "# Anew, re-arranged coefficient matrix for [Y, C, I, G, T, NX, r, e]\n",
    "Anew = np.array([\n",
    "    [k, 0, 0, 0, 0, 0, -h, 0], # M_bar/P_bar=k*Y−h*r               \n",
    "    [-c, 1, 0, 0, c, 0, 0, 0], # C=C_bar+c*(Y−T) \n",
    "    [0, 0, 1, 0, 0, 0, b, 0], # I=I_bar−b*r \n",
    "    [0, 0, 0, 1, -1, 0, 0, 0], # G=T        \n",
    "    [-t, 0, 0, 0, 1, 0, 0, 0], # T=tY\n",
    "    [1, -1, -1, 0, 0, -1, 0, 0], # Y=C+I+G+NX\n",
    "    [0, 0, 0, 0, 0, 0, 1, 0],   # r=rf\n",
    "    [j, 0, 0, 0, 0, 1, 0, -n*Pf_bar/P_bar] ]) # NX=NX_bar−j*(Y-Yf)+n*e*Pf_bar/P_bar\n",
    "\n",
    "Anew"
   ]
  },
  {
   "cell_type": "code",
   "execution_count": 9,
   "metadata": {},
   "outputs": [],
   "source": [
    "# dnew, re-arranged vector of the exogenous variables \n",
    "dnew = np.array([M_bar/P_bar, C_bar, I_bar, 0, 0, 0, rf_bar, NX_bar+j*Yf_bar])"
   ]
  },
  {
   "cell_type": "code",
   "execution_count": 10,
   "metadata": {},
   "outputs": [
    {
     "name": "stdout",
     "output_type": "stream",
     "text": [
      "Condition number of A:\n",
      " 21040956.26742375\n",
      "Condition number of Q:\n",
      " 16.666666666666668\n",
      "x:\n",
      " [3.95000e+02 2.29195e+02 3.20000e+01 1.18500e+02 1.18500e+02 1.33805e+02\n",
      " 1.00000e-02 7.33050e+00]\n",
      "it:\n",
      " 6\n"
     ]
    }
   ],
   "source": [
    "#Calling the Gauss-Jacobi routine will not prompt an error message\n",
    "gjacobi(Anew, dnew, 1000, 1e-08)"
   ]
  },
  {
   "cell_type": "markdown",
   "metadata": {},
   "source": [
    "## Fiscal policy: a tax rate reform from 30% to 20%\n",
    "\n",
    "Let's consider the effect of a \"fiscal shock\": an unexpected decrease in the tax rate. The new value is t = 0.2."
   ]
  },
  {
   "cell_type": "code",
   "execution_count": 11,
   "metadata": {},
   "outputs": [],
   "source": [
    "t = 0.2 # tax rate on income \n",
    "\n",
    "# A, coefficient matrix for [Y, C, I, G, T, NX, r, e]\n",
    "A[5,0]=-t "
   ]
  },
  {
   "cell_type": "code",
   "execution_count": 12,
   "metadata": {},
   "outputs": [
    {
     "data": {
      "text/plain": [
       "array([3.9500e+02, 2.5408e+02, 3.2000e+01, 7.9000e+01, 7.9000e+01,\n",
       "       1.0892e+02, 1.0000e-02, 4.8420e+00])"
      ]
     },
     "execution_count": 12,
     "metadata": {},
     "output_type": "execute_result"
    }
   ],
   "source": [
    "#Compute the solution\n",
    "xnew=np.linalg.solve(A,d)\n",
    "\n",
    "#Report the solution  x = [Y, C, I, G, T, NX, r, e] , vector of the endogeneous variables \n",
    "xnew"
   ]
  },
  {
   "cell_type": "code",
   "execution_count": 13,
   "metadata": {},
   "outputs": [
    {
     "name": "stdout",
     "output_type": "stream",
     "text": [
      " IS-LM model: small open economy       \n",
      "-----------------------------------------------------------      \n",
      "Shock: new value for t = 0.2      \n",
      "Exogenous variables: \n",
      "Yf = 1000; M = 210; P = Pf =1; rf=0.01           \n",
      "Endogenous variables:       \n",
      "Production, Y = 395.00;       \n",
      "Consumption, C = 254.08;       \n",
      "Investment, I = 32.00;       \n",
      "Public spending, G = 79.00;       \n",
      "Taxes, T = 79.00;       \n",
      "Net exports, NX = 108.92;       \n",
      "Interest rate (%), r = 1.00;       \n",
      "Exchange rate, e = 4.84 \n"
     ]
    }
   ],
   "source": [
    "print(\" IS-LM model: small open economy \\\n",
    "      \\n-----------------------------------------------------------\\\n",
    "      \\nShock: new value for t = 0.2\\\n",
    "      \\nExogenous variables: \\nYf = 1000; M = 210; P = Pf =1; rf=0.01     \\\n",
    "      \\nEndogenous variables: \\\n",
    "      \\nProduction, Y = {0:.2f}; \\\n",
    "      \\nConsumption, C = {1:.2f}; \\\n",
    "      \\nInvestment, I = {2:.2f}; \\\n",
    "      \\nPublic spending, G = {3:.2f}; \\\n",
    "      \\nTaxes, T = {4:.2f}; \\\n",
    "      \\nNet exports, NX = {5:.2f}; \\\n",
    "      \\nInterest rate (%), r = {6:.2f}; \\\n",
    "      \\nExchange rate, e = {7:.2f} \".format(xnew[0],xnew[1],xnew[2],xnew[3],xnew[4],xnew[5],xnew[6]*100,xnew[7] ) )"
   ]
  },
  {
   "cell_type": "code",
   "execution_count": 14,
   "metadata": {},
   "outputs": [
    {
     "name": "stdout",
     "output_type": "stream",
     "text": [
      " IS-LM model: small open economy       \n",
      "-----------------------------------------------------------      \n",
      "Changes in endogenous variables (%):      \n",
      "Production, (Ynew-Y)/Y = 0.0000;      \n",
      "Consumption, (Cnew-C)/C = 0.1086;       \n",
      "Investment, (Inew-I)/I = 0.0000;      \n",
      "Public spending, (Gnew-G)/G = -0.3333;      \n",
      "Net exports, (NXnew-NX) = -0.1860;      \n",
      "Exchange rate, (enew-e)/e = -0.3395\n"
     ]
    }
   ],
   "source": [
    "print(\" IS-LM model: small open economy \\\n",
    "      \\n-----------------------------------------------------------\\\n",
    "      \\nChanges in endogenous variables (%):\\\n",
    "      \\nProduction, (Ynew-Y)/Y = {0:.4f};\\\n",
    "      \\nConsumption, (Cnew-C)/C = {1:.4f}; \\\n",
    "      \\nInvestment, (Inew-I)/I = {2:.4f};\\\n",
    "      \\nPublic spending, (Gnew-G)/G = {3:.4f};\\\n",
    "      \\nNet exports, (NXnew-NX) = {4:.4f};\\\n",
    "      \\nExchange rate, (enew-e)/e = {5:.4f}\".format((xnew[0]-x[0])/x[0],(xnew[1]-x[1])/x[1],(xnew[2]-x[2])/x[2],(xnew[3]-x[3])/x[3],(xnew[5]-x[5])/x[5],(xnew[7]-x[7])/x[7] ) )"
   ]
  },
  {
   "cell_type": "markdown",
   "metadata": {},
   "source": [
    "## Monetary policy: monetary authorities increase the money supply from 210 to 230\n",
    "\n",
    "Let's now consider the effect of a \"monetary shock\": an unexpected decrease in the supply of money. The new value is M = 230."
   ]
  },
  {
   "cell_type": "code",
   "execution_count": 15,
   "metadata": {},
   "outputs": [],
   "source": [
    "M_bar = 230.00\n",
    "\n",
    "# x = [Y, C, I, G, T, NX, r, e] , vector of the endogeneous variables \n",
    "# d, vector of the exogeneous variables\n",
    "\n",
    "d = np.array([0,C_bar,I_bar,M_bar/P_bar,NX_bar+j*Yf_bar, 0, 0, rf_bar] )"
   ]
  },
  {
   "cell_type": "code",
   "execution_count": 26,
   "metadata": {},
   "outputs": [],
   "source": [
    "t = 0.3 # tax rate on income \n",
    "\n",
    "# A, coefficient matrix for [Y, C, I, G, T, NX, r, e]\n",
    "A[5,0]=-t "
   ]
  },
  {
   "cell_type": "code",
   "execution_count": 27,
   "metadata": {},
   "outputs": [
    {
     "data": {
      "text/plain": [
       "array([4.28333333e+02, 2.43895000e+02, 3.20000000e+01, 1.28500000e+02,\n",
       "       1.28500000e+02, 1.52438333e+02, 1.00000000e-02, 9.52716667e+00])"
      ]
     },
     "execution_count": 27,
     "metadata": {},
     "output_type": "execute_result"
    }
   ],
   "source": [
    "#Compute the solution\n",
    "xnew=np.linalg.solve(A,d)\n",
    "\n",
    "#Report the solution  x = [Y, C, I, G, T, NX, r, e] , vector of the endogeneous variables \n",
    "xnew"
   ]
  },
  {
   "cell_type": "code",
   "execution_count": 28,
   "metadata": {},
   "outputs": [
    {
     "name": "stdout",
     "output_type": "stream",
     "text": [
      " IS-LM model: small open economy       \n",
      "-----------------------------------------------------------      \n",
      "Shock: new value for M = 230      \n",
      "Exogenous variables: \n",
      "Yf = 1000; P = Pf =1; rf=0.01           \n",
      "Endogenous variables:       \n",
      "Production, Y = 428.33;       \n",
      "Consumption, C = 243.89;       \n",
      "Investment, I = 32.00;       \n",
      "Public spending, G = 128.50;       \n",
      "Taxes, T = 128.50;       \n",
      "Net exports, NX = 152.44;       \n",
      "Interest rate (%), r = 1.00;       \n",
      "Exchange rate, e = 9.53 \n"
     ]
    }
   ],
   "source": [
    "print(\" IS-LM model: small open economy \\\n",
    "      \\n-----------------------------------------------------------\\\n",
    "      \\nShock: new value for M = 230\\\n",
    "      \\nExogenous variables: \\nYf = 1000; P = Pf =1; rf=0.01     \\\n",
    "      \\nEndogenous variables: \\\n",
    "      \\nProduction, Y = {0:.2f}; \\\n",
    "      \\nConsumption, C = {1:.2f}; \\\n",
    "      \\nInvestment, I = {2:.2f}; \\\n",
    "      \\nPublic spending, G = {3:.2f}; \\\n",
    "      \\nTaxes, T = {4:.2f}; \\\n",
    "      \\nNet exports, NX = {5:.2f}; \\\n",
    "      \\nInterest rate (%), r = {6:.2f}; \\\n",
    "      \\nExchange rate, e = {7:.2f} \".format(xnew[0],xnew[1],xnew[2],xnew[3],xnew[4],xnew[5],xnew[6]*100,xnew[7] ) )"
   ]
  },
  {
   "cell_type": "code",
   "execution_count": 29,
   "metadata": {},
   "outputs": [
    {
     "name": "stdout",
     "output_type": "stream",
     "text": [
      " IS-LM model: small open economy       \n",
      "-----------------------------------------------------------      \n",
      "Changes in endogenous variables (%):      \n",
      "Production, (Ynew-Y)/Y = 0.0844;      \n",
      "Consumption, (Cnew-C)/C = 0.0641;       \n",
      "Investment, (Inew-I)/I = -0.0000;      \n",
      "Public spending, (Gnew-G)/G = 0.0844;      \n",
      "Net exports, (NXnew-NX) = 0.1393;      \n",
      "Exchange rate, (enew-e)/e = 0.2997\n"
     ]
    }
   ],
   "source": [
    "print(\" IS-LM model: small open economy \\\n",
    "      \\n-----------------------------------------------------------\\\n",
    "      \\nChanges in endogenous variables (%):\\\n",
    "      \\nProduction, (Ynew-Y)/Y = {0:.4f};\\\n",
    "      \\nConsumption, (Cnew-C)/C = {1:.4f}; \\\n",
    "      \\nInvestment, (Inew-I)/I = {2:.4f};\\\n",
    "      \\nPublic spending, (Gnew-G)/G = {3:.4f};\\\n",
    "      \\nNet exports, (NXnew-NX) = {4:.4f};\\\n",
    "      \\nExchange rate, (enew-e)/e = {5:.4f}\".format((xnew[0]-x[0])/x[0],(xnew[1]-x[1])/x[1],(xnew[2]-x[2])/x[2],(xnew[3]-x[3])/x[3],(xnew[5]-x[5])/x[5],(xnew[7]-x[7])/x[7] ) )"
   ]
  },
  {
   "cell_type": "code",
   "execution_count": null,
   "metadata": {},
   "outputs": [],
   "source": []
  },
  {
   "cell_type": "code",
   "execution_count": null,
   "metadata": {},
   "outputs": [],
   "source": []
  }
 ],
 "metadata": {
  "kernelspec": {
   "display_name": "Python 3 (ipykernel)",
   "language": "python",
   "name": "python3"
  },
  "language_info": {
   "codemirror_mode": {
    "name": "ipython",
    "version": 3
   },
   "file_extension": ".py",
   "mimetype": "text/x-python",
   "name": "python",
   "nbconvert_exporter": "python",
   "pygments_lexer": "ipython3",
   "version": "3.11.4"
  }
 },
 "nbformat": 4,
 "nbformat_minor": 4
}
