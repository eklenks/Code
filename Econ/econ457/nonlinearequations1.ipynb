{
 "cells": [
  {
   "cell_type": "markdown",
   "metadata": {},
   "source": [
    "# 3 Nonlinear Equations"
   ]
  },
  {
   "cell_type": "code",
   "execution_count": 4,
   "metadata": {},
   "outputs": [],
   "source": [
    "import numpy as np\n",
    "from pprint import pprint\n",
    "\n",
    "from sympy import *\n",
    "import sympy as sym\n",
    "init_printing()\n",
    "\n",
    "import matplotlib as mpl\n",
    "# matplotlib for ploting\n",
    "from matplotlib import pyplot as plt\n",
    "from mpl_toolkits.mplot3d import Axes3D     # 3d\n",
    "# for inline interactive plotting\n",
    "%matplotlib inline\n",
    "\n",
    "#mpl.rcParams['savefig.dpi'] = 80\n",
    "mpl.rcParams['figure.dpi'] = 80\n",
    "# from IPython.display import set_matplotlib_formats\n",
    "# set_matplotlib_formats('png', 'pdf')\n",
    "# for better picture quality\n",
    "%config InlineBackend.figure_format = 'retina'\n",
    "#https://www.dataquest.io/blog/jupyter-notebook-tips-tricks-shortcuts/\n",
    "\n",
    "import seaborn as sns\n",
    "sns.set()\n",
    "#sns.set_style(style= \"whitegrid\")\n",
    "#plt.style.available\n",
    "# bold graph style\n",
    "plt.style.use('fivethirtyeight')"
   ]
  },
  {
   "cell_type": "markdown",
   "metadata": {},
   "source": [
    "Not all methods discussed for univariate equation solving can be generalized to the multivariate case.\n",
    "In particular, the bisection method cannot be directly generalized to a multivariate system of equations. Newton’s method, however, can be generalized to multivariate systems.\n",
    "\n",
    "In the **`SciPy`** optimize module, `broyden1` and `broyden2` provide two implementations of Broyden’s method using different approximations of the Jacobian, and the function `optimize.fsolve` provides an implementation of a Newton-like method, where optionally the Jacobian can be specified, if available.\n",
    "\n",
    "As with Newton’s method for a univariate non-linear system of equations, the **initial guess** for the solution\n",
    "is important, and different initial guesses may result in different solutions being found.\n",
    "\n"
   ]
  },
  {
   "cell_type": "markdown",
   "metadata": {},
   "source": [
    "One of the most basic numerical operations encountered in computational economics\n",
    "is to find the solution of a system of non-linear equations. Non-linear equations generally\n",
    "arise in one of two forms. In the non-linear *root finding problem*, a function $f$\n",
    "mapping $R^n$ to $R^n$ is given and one must compute an n-vector $x$, called a *root* of $f$,\n",
    "that satisfies\n",
    "\n",
    "$$f(x) = 0$$\n",
    "\n",
    "\n",
    "In the non-linear fixed-point problem, a function $g$ from $R^n$ to $R^n$ is given and one\n",
    "must compute an n-vector x called a fixed-point of $g$, that satisfies\n",
    "\n",
    "$$x = g(x)$$\n",
    "\n",
    "\n",
    "The two forms are equivalent. The rootfinding problem may be recast as a fixed-point\n",
    "problem by letting $g(x) = x - f(x)$. Conversely, the fixed-point problem may be recast\n",
    "as a root finding problem by letting $f(x) = x - g(x)$.\n",
    "\n",
    "\n",
    "In the related complementarity problem, two n-vectors $a$ and $b$, with $a < b$, and\n",
    "a function $f(.)$ from $R^n$ to $R^n$ are given, and one must compute an n-vector $x \\in [a, b]$,\n",
    "that satisfies\n",
    "\n",
    "\n",
    "$$x_i > a_i \\rightarrow f_i(x) \\forall i = 1,...,n$$\n",
    "\n",
    "$$x_i < b_i \\rightarrow f_i(x) \\forall i = 1,...,n$$\n",
    "\n",
    "\n",
    "The root finding problem is a special case of complementarity problems, in which $a_i =\n",
    "-\\infty$ and $b_i = +\\infty$ for all i. However, the complementarity problem is not simply to\n",
    "find a root that lies within specified bounds. An element $f_i(x)$ may be non-zero at a\n",
    "solution of the complementarity problem, provided that $x_i$ equals one of the bounds\n",
    "$a_i$ or $b_i$.\n",
    "\n",
    "\n",
    "\n",
    "\n",
    "https://github.com/QuantEcon/QuantEcon.lectures.code\n"
   ]
  },
  {
   "cell_type": "markdown",
   "metadata": {},
   "source": [
    "## 3.1 Bisection Method"
   ]
  },
  {
   "cell_type": "markdown",
   "metadata": {},
   "source": [
    "The bisection method is perhaps the simplest and most robust method for computing\n",
    "the root of a continuous real-valued function defined on a bounded interval of the real line.\n",
    "\n"
   ]
  },
  {
   "cell_type": "markdown",
   "metadata": {},
   "source": [
    "The bisection method is an iterative procedure. Each iteration begins with an\n",
    "interval known to contain or to bracket a root of f, meaning the function has different\n",
    "signs at the interval endpoints. The interval is bisected into two subintervals of equal\n",
    "length."
   ]
  },
  {
   "cell_type": "markdown",
   "metadata": {},
   "source": [
    "The bisection method's greatest strength is its robustness. In contrast to other\n",
    "rootfinding methods, the bisection method is guaranteed to compute a root to a\n",
    "prescribed tolerance in a known number of iterations, provided valid data as an input.\n",
    "\n",
    "\n",
    "https://lectures.quantecon.org/py/scipy.html#roots-and-fixed-points"
   ]
  },
  {
   "cell_type": "markdown",
   "metadata": {},
   "source": [
    "https://en.wikipedia.org/wiki/Bisection_method\n",
    "\n",
    "![](https://upload.wikimedia.org/wikipedia/commons/thumb/8/8c/Bisection_method.svg/375px-Bisection_method.svg.png)"
   ]
  },
  {
   "cell_type": "code",
   "execution_count": null,
   "metadata": {},
   "outputs": [],
   "source": [
    "# Display the root finding problem in a figure\n",
    "plt.figure()\n",
    "x = np.linspace(0,3,100)\n",
    "plt.plot(x,x**3-2);\n",
    "plt.plot(x, x-x);"
   ]
  },
  {
   "cell_type": "code",
   "execution_count": null,
   "metadata": {},
   "outputs": [],
   "source": [
    "# set tolerance \n",
    "tol = 10e-10"
   ]
  },
  {
   "cell_type": "code",
   "execution_count": null,
   "metadata": {},
   "outputs": [],
   "source": [
    "def mybisect(fun, a, b, tol=10e-10):\n",
    "    \"\"\"\n",
    "    Implements the bisection root finding algorithm, assuming that f is a\n",
    "    real-valued function on [a, b] satisfying f(a) < 0 < f(b).\n",
    "    \"\"\"\n",
    "    lower, upper = a, b\n",
    "\n",
    "    while upper - lower > tol:\n",
    "        middle = 0.5 * (upper + lower)\n",
    "        # === if root is between lower and middle === #\n",
    "        if fun(middle) > 0:  \n",
    "            lower, upper = lower, middle\n",
    "        # === if root is between middle and upper  === #\n",
    "        else:              \n",
    "            lower, upper = middle, upper\n",
    "\n",
    "    return 0.5 * (upper + lower)"
   ]
  },
  {
   "cell_type": "code",
   "execution_count": null,
   "metadata": {},
   "outputs": [],
   "source": [
    "## Example 1\n",
    "\n",
    "# Define the function whose root we want to compute\n",
    "f =lambda x: x**3-2\n",
    "\n",
    "# Find the root with the bisection routine we wrote\n",
    "mybisect(f, 0, 2)"
   ]
  },
  {
   "cell_type": "markdown",
   "metadata": {},
   "source": [
    "In fact SciPy provides its own bisection function."
   ]
  },
  {
   "cell_type": "code",
   "execution_count": null,
   "metadata": {},
   "outputs": [],
   "source": [
    "from scipy.optimize import bisect\n",
    "f =lambda x: x**3-2\n",
    "\n",
    "# Find the root with the scipy bisection routine\n",
    "bisect(f, 0, 2)"
   ]
  },
  {
   "cell_type": "code",
   "execution_count": null,
   "metadata": {},
   "outputs": [],
   "source": [
    "## Example 2\n",
    "\n",
    "#Consider a more complicated function\n",
    "f = lambda x: np.sin(4 * (x - 0.25)) + x + x**20 - 1"
   ]
  },
  {
   "cell_type": "code",
   "execution_count": null,
   "metadata": {},
   "outputs": [],
   "source": [
    "# Display the root finding problem in a figure\n",
    "plt.figure()\n",
    "x = np.linspace(0,1,100)\n",
    "plt.plot(x,np.sin(4 * (x - 0.25)) + x + x**20 - 1);\n",
    "plt.plot(x, x-x);"
   ]
  },
  {
   "cell_type": "code",
   "execution_count": null,
   "metadata": {},
   "outputs": [],
   "source": [
    "# Find the root with the bisection routine we wrote\n",
    "mybisect(f, 0, 2)"
   ]
  },
  {
   "cell_type": "code",
   "execution_count": null,
   "metadata": {},
   "outputs": [],
   "source": [
    "# Find the root with the scipy bisection routine\n",
    "bisect(f, 0, 2)"
   ]
  },
  {
   "cell_type": "code",
   "execution_count": null,
   "metadata": {},
   "outputs": [],
   "source": [
    "## Example 3\n",
    "#Consider a function with two roots\n",
    "\n",
    "# Display the root finding problem in a figure\n",
    "plt.figure()\n",
    "x = np.linspace(-1,3,100)\n",
    "plt.plot(x,x ** 3 - 2 * x ** 2);\n",
    "plt.plot(x, x-x);"
   ]
  },
  {
   "cell_type": "code",
   "execution_count": null,
   "metadata": {},
   "outputs": [],
   "source": [
    "# Find the root with the scipy bisection routine\n",
    "\n",
    "def f(x):\n",
    "    \"\"\"returns f(x)=x^3-2x^2. Has roots at\n",
    "    x=0 (double root) and x=2\"\"\"\n",
    "    return x ** 3 - 2 * x ** 2\n",
    "\n",
    "# Main program starts here\n",
    "# Find the root with [1.5,3] as the initial range\n",
    "x = bisect(f, 1.5, 3, xtol=1e-6)\n",
    "\n",
    "print(\"The root x is approximately x=%14.12g,\\n\"\n",
    "      \"The error is less than 1e-6.\" % (x))\n",
    "print(\"The error from the exact root is %g.\" % (2 - x))"
   ]
  },
  {
   "cell_type": "markdown",
   "metadata": {
    "collapsed": true,
    "jupyter": {
     "outputs_hidden": true
    }
   },
   "source": [
    "The `bisect()` function takes three compulsory arguments: \n",
    "\n",
    "- (i) the function `f(x)`, \n",
    "\n",
    "- (ii) a lower limit `a` (for which we have chosen 1.5 in our example) and \n",
    "\n",
    "- (ii) an upper limit `b` (for which we have chosen 3). The optional parameter xtol determines the maximum error of the method.\n",
    "\n",
    "One of the requirements of the bisection method is that the interval `[a, b]` has to be chosen such that the function is either positive at`a` and negative at `b`, or that the function is negative at `a` and postive at `b`. In other words: `a` and `b` have to bracket a root."
   ]
  },
  {
   "cell_type": "code",
   "execution_count": null,
   "metadata": {},
   "outputs": [],
   "source": [
    "# Find the root with [0.00000001,3] as the initial range.\n",
    "# The lower bound is now much closer to 0 but still does not find this root.\n",
    "x = bisect(f, 0.00000001, 3, xtol=1e-6)\n",
    "\n",
    "print(\"The root x is approximately x=%14.12g,\\n\"\n",
    "      \"the error is less than 1e-6.\" % (x))\n",
    "print(\"The error from the exact root is %g.\" % (2 - x))"
   ]
  },
  {
   "cell_type": "code",
   "execution_count": null,
   "metadata": {},
   "outputs": [],
   "source": [
    "# Find the root with [-0.5,3] as the initial range.\n",
    "# The lower bound is now much closer to 0 but still does not find this root.\n",
    "x = bisect(f, -0.5, 3, xtol=1e-6)\n",
    "\n",
    "print(\"The root x is approximately x=%14.12g,\\n\"\n",
    "      \"the error is less than 1e-6.\" % (x))\n",
    "print(\"The error from the exact root is %g.\" % (2 - x))"
   ]
  },
  {
   "cell_type": "code",
   "execution_count": null,
   "metadata": {},
   "outputs": [],
   "source": [
    "# Find the root with [-1,3] as the initial range.\n",
    "# The lower bound is now below 0 but we still do not find this root.\n",
    "x = bisect(f, -1, 3, xtol=1e-6)\n",
    "\n",
    "print(\"The root x is approximately x=%14.12g,\\n\"\n",
    "      \"the error is less than 1e-6.\" % (x))\n",
    "print(\"The error from the exact root is %g.\" % (2 - x))"
   ]
  },
  {
   "cell_type": "code",
   "execution_count": null,
   "metadata": {},
   "outputs": [],
   "source": [
    "# Find the root with [-1,1.5] as the initial range.\n",
    "# It fails because we did not bracket the solution!\n",
    "x = bisect(f, -1, 2.1, xtol=1e-6)\n",
    "\n",
    "print(\"The root x is approximately x=%14.12g,\\n\"\n",
    "      \"the error is less than 1e-6.\" % (x))\n",
    "print(\"The error from the exact root is %g.\" % (2 - x))"
   ]
  },
  {
   "cell_type": "markdown",
   "metadata": {},
   "source": [
    "## 3.2 Function Iteration\n",
    "Function iteration is a relatively simple technique that may be used to compute a\n",
    "fixed-point, $x = g(x)$, of a function from $R^n$ to $R^n$. The technique is also applicable\n",
    "to a rootfinding problem $f(x) = 0$, by recasting it as the equivalent fixed-point\n",
    "problem $x = x - f(x)$.\n"
   ]
  },
  {
   "cell_type": "markdown",
   "metadata": {},
   "source": [
    "\n",
    "\n",
    "\n",
    "![](http://www.yaroslavvb.com/research/ideas/hmms/ising-fixed-point-blogpost/HTMLFiles/blogpost_6.gif)\n",
    "\n",
    "ref: \n",
    "\n",
    "https://en.wikipedia.org/wiki/Fixed-point_iteration\n",
    "\n",
    "http://yaroslavvb.blogspot.ca/2007/11/belief-propagation-and-fixed-point.html"
   ]
  },
  {
   "cell_type": "code",
   "execution_count": 5,
   "metadata": {},
   "outputs": [],
   "source": [
    "def myfixedpoint(fun, x0, maxit=1000, tol=10e-10):\n",
    "    \"\"\"\n",
    "    Computes the fixed point of function f, using a function iteration algorithm\n",
    "    \"\"\"\n",
    "    fx = x0\n",
    "    for it in range(maxit):\n",
    "        x = fx\n",
    "        fx = fun(x) \n",
    "        diff = np.linalg.norm(x - fx)\n",
    "\n",
    "        if diff < tol:\n",
    "            \n",
    "            return x"
   ]
  },
  {
   "cell_type": "code",
   "execution_count": 2,
   "metadata": {},
   "outputs": [],
   "source": [
    "def g(x):\n",
    "    return x**0.5\n"
   ]
  },
  {
   "cell_type": "code",
   "execution_count": 6,
   "metadata": {
    "scrolled": true
   },
   "outputs": [
    {
     "data": {
      "image/png": "[encoded data removed]",
      "text/plain": [
       "<Figure size 512x384 with 1 Axes>"
      ]
     },
     "metadata": {
      "image/png": {
       "height": 342,
       "width": 489
      }
     },
     "output_type": "display_data"
    }
   ],
   "source": [
    "# Display the fixed point problem in a figure\n",
    "plt.figure()\n",
    "x = np.linspace(0,2,100)\n",
    "plt.plot(x,x**0.5);\n",
    "plt.plot(x, x);"
   ]
  },
  {
   "cell_type": "code",
   "execution_count": 7,
   "metadata": {},
   "outputs": [
    {
     "data": {
      "image/png": "[encoded data removed]",
      "text/latex": [
       "$\\displaystyle 0.999999998293275$"
      ],
      "text/plain": [
       "0.9999999982932755"
      ]
     },
     "execution_count": 7,
     "metadata": {},
     "output_type": "execute_result"
    }
   ],
   "source": [
    "# Find the fixed point with the routine we wrote\n",
    "myfixedpoint(g, x0=0.4) # 0.4 is an initial guess"
   ]
  },
  {
   "cell_type": "markdown",
   "metadata": {},
   "source": [
    "SciPy has a function for finding (scalar) fixed points too"
   ]
  },
  {
   "cell_type": "code",
   "execution_count": null,
   "metadata": {},
   "outputs": [],
   "source": [
    "from scipy.optimize import fixed_point\n",
    "\n",
    "# Find the fixed point with the scipy routine\n",
    "fixed_point(lambda x: x**0.5, 0.4)  # 0.4 is an initial guess"
   ]
  },
  {
   "cell_type": "markdown",
   "metadata": {},
   "source": [
    "Let's consider an example that is not well-behaved (it leads to an order-2 cycle)"
   ]
  },
  {
   "cell_type": "code",
   "execution_count": null,
   "metadata": {},
   "outputs": [],
   "source": [
    "h = lambda x: 1.0-x"
   ]
  },
  {
   "cell_type": "code",
   "execution_count": null,
   "metadata": {},
   "outputs": [],
   "source": [
    "# Display the fixed point problem in a figure\n",
    "plt.figure()\n",
    "x = np.linspace(0,2,10)\n",
    "plt.plot(x,1.0-x);\n",
    "plt.plot(x, x);"
   ]
  },
  {
   "cell_type": "code",
   "execution_count": null,
   "metadata": {},
   "outputs": [],
   "source": [
    "#This is doomed to fail\n",
    "myfixedpoint(h, x0=0.4) # 0.4 is an initial guess"
   ]
  },
  {
   "cell_type": "code",
   "execution_count": null,
   "metadata": {},
   "outputs": [],
   "source": [
    "#This (surprisingly) does work\n",
    "fixed_point(lambda x: 1.0-x, 0.4)  # 0.4 is an initial guess"
   ]
  },
  {
   "cell_type": "markdown",
   "metadata": {},
   "source": [
    "Alternatively, we can transform the problem into its root-finding counterpart:"
   ]
  },
  {
   "cell_type": "code",
   "execution_count": null,
   "metadata": {},
   "outputs": [],
   "source": [
    "i = lambda x: x-1.0+x"
   ]
  },
  {
   "cell_type": "code",
   "execution_count": null,
   "metadata": {},
   "outputs": [],
   "source": [
    "#This is dangerous, as it might cycle forever\n",
    "mybisect(i, 0, 2)"
   ]
  },
  {
   "cell_type": "code",
   "execution_count": null,
   "metadata": {},
   "outputs": [],
   "source": []
  }
 ],
 "metadata": {
  "kernelspec": {
   "display_name": "Python 3.9.7 ('base')",
   "language": "python",
   "name": "python3"
  },
  "language_info": {
   "codemirror_mode": {
    "name": "ipython",
    "version": 3
   },
   "file_extension": ".py",
   "mimetype": "text/x-python",
   "name": "python",
   "nbconvert_exporter": "python",
   "pygments_lexer": "ipython3",
   "version": "3.9.7"
  },
  "vscode": {
   "interpreter": {
    "hash": "3d597f4c481aa0f25dceb95d2a0067e73c0966dcbd003d741d821a7208527ecf"
   }
  }
 },
 "nbformat": 4,
 "nbformat_minor": 4
}
