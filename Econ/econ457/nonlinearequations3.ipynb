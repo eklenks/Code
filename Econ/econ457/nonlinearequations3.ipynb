{
 "cells": [
  {
   "cell_type": "markdown",
   "metadata": {},
   "source": [
    "# 3 Nonlinear Equations and Complementarity Problems "
   ]
  },
  {
   "cell_type": "code",
   "execution_count": 1,
   "metadata": {
    "collapsed": false
   },
   "outputs": [
    {
     "ename": "ModuleNotFoundError",
     "evalue": "No module named 'seaborn'",
     "output_type": "error",
     "traceback": [
      "\u001b[0;31m---------------------------------------------------------------------------\u001b[0m",
      "\u001b[0;31mModuleNotFoundError\u001b[0m                       Traceback (most recent call last)",
      "Cell \u001b[0;32mIn[1], line 28\u001b[0m\n\u001b[1;32m     25\u001b[0m get_ipython()\u001b[39m.\u001b[39mrun_line_magic(\u001b[39m'\u001b[39m\u001b[39mconfig\u001b[39m\u001b[39m'\u001b[39m, \u001b[39m\"\u001b[39m\u001b[39mInlineBackend.figure_format = \u001b[39m\u001b[39m'\u001b[39m\u001b[39mretina\u001b[39m\u001b[39m'\u001b[39m\u001b[39m\"\u001b[39m)\n\u001b[1;32m     26\u001b[0m \u001b[39m#https://www.dataquest.io/blog/jupyter-notebook-tips-tricks-shortcuts/\u001b[39;00m\n\u001b[0;32m---> 28\u001b[0m \u001b[39mimport\u001b[39;00m \u001b[39mseaborn\u001b[39;00m \u001b[39mas\u001b[39;00m \u001b[39msns\u001b[39;00m\n\u001b[1;32m     29\u001b[0m sns\u001b[39m.\u001b[39mset()\n\u001b[1;32m     30\u001b[0m \u001b[39m#sns.set_style(style= \"whitegrid\")\u001b[39;00m\n\u001b[1;32m     31\u001b[0m \u001b[39m#plt.style.available\u001b[39;00m\n\u001b[1;32m     32\u001b[0m \u001b[39m# bold graph style\u001b[39;00m\n",
      "\u001b[0;31mModuleNotFoundError\u001b[0m: No module named 'seaborn'"
     ]
    }
   ],
   "source": [
    "\n",
    "import numpy as np\n",
    "from numpy import append, array, diagonal, tril, triu\n",
    "from numpy.linalg import inv\n",
    "from scipy.linalg import lu\n",
    "#from scipy.linalg import solve\n",
    "from pprint import pprint\n",
    "from numpy import array, zeros, diag, diagflat, dot\n",
    "\n",
    "from sympy import *\n",
    "import sympy as sym\n",
    "init_printing()\n",
    "\n",
    "import matplotlib as mpl\n",
    "# matplotlib for ploting\n",
    "from matplotlib import pyplot as plt\n",
    "from mpl_toolkits.mplot3d import Axes3D     # 3d\n",
    "# for inline interactive plotting\n",
    "%matplotlib notebook\n",
    "\n",
    "#mpl.rcParams['savefig.dpi'] = 80\n",
    "mpl.rcParams['figure.dpi'] = 80\n",
    "# from IPython.display import set_matplotlib_formats\n",
    "# set_matplotlib_formats('png', 'pdf')\n",
    "# for better picture quality\n",
    "%config InlineBackend.figure_format = 'retina'\n",
    "#https://www.dataquest.io/blog/jupyter-notebook-tips-tricks-shortcuts/\n",
    "\n",
    "import seaborn as sns\n",
    "sns.set()\n",
    "#sns.set_style(style= \"whitegrid\")\n",
    "#plt.style.available\n",
    "# bold graph style\n",
    "plt.style.use('fivethirtyeight')"
   ]
  },
  {
   "cell_type": "markdown",
   "metadata": {
    "collapsed": true
   },
   "source": [
    "### Example: Monopoly"
   ]
  },
  {
   "cell_type": "markdown",
   "metadata": {
    "collapsed": true
   },
   "source": [
    "To illustrate the role of competition on the size of a market, the price of a good and firms' profits, let's start by considering a simple monopoly. Then we will increase the number of firms that are operating in the market.\n",
    "\n",
    "In every case, we use the same inverse demand function for the good, which is $P(q)=\\left( \\dfrac{1}{q} \\right)^{\\epsilon}$\n"
   ]
  },
  {
   "cell_type": "code",
   "execution_count": 2,
   "metadata": {
    "collapsed": true
   },
   "outputs": [],
   "source": [
    "# Begin with a monopolist\n",
    "qm = 1.0 # initial point/guess quantity\n",
    "cm = 0.7 # cost\n",
    "eta = 1.6 # elasticity \n",
    "e = -1/eta #Note: e=-epsilon; using e instead of epsilon simplifies the formulas"
   ]
  },
  {
   "cell_type": "code",
   "execution_count": 3,
   "metadata": {
    "collapsed": false
   },
   "outputs": [
    {
     "data": {
      "image/png": "[encoded data removed]",
      "text/latex": [
       "$$0.6521739130434783$$"
      ],
      "text/plain": [
       "0.6521739130434783"
      ]
     },
     "execution_count": 3,
     "metadata": {},
     "output_type": "execute_result"
    }
   ],
   "source": [
    "#Check that it works (Note: everything that follows is a number)\n",
    "fvalm = qm**e + e*qm**(e-1)*qm - cm*qm # function value (foc)\n",
    "fjacm = e*qm**(e-1)+e*qm**(e-1)+(e-1)*e*qm**(e-2)*qm-cm # function jacobian (derivative, in one dimension)\n",
    "qm = qm - fvalm/fjacm # newton update for the quantity\n",
    "qm"
   ]
  },
  {
   "cell_type": "markdown",
   "metadata": {},
   "source": [
    "### Newton's method in one dimension"
   ]
  },
  {
   "cell_type": "code",
   "execution_count": 4,
   "metadata": {
    "collapsed": false
   },
   "outputs": [
    {
     "name": "stdout",
     "output_type": "stream",
     "text": [
      "The final iteration is: 3\n",
      "The foc value is f: 2.7200464103316335e-15\n",
      "The computed quantity is q: 0.6810667503986678\n",
      "The price is p: 1.2713246007441796\n",
      "The profits are pi: 0.5411605715817014\n",
      "The market size is: 0.6810667503986678\n"
     ]
    }
   ],
   "source": [
    "#Let's find the solution (i.e. the root of the foc)\n",
    "maxit = 1000 # maximum number of iterations\n",
    "tol = 10e-10 # tolerance level for convergence\n",
    "for it in np.arange(maxit):\n",
    "\n",
    "    fvalm = qm**e + e*qm**(e-1)*qm - cm*qm # function value (foc)\n",
    "    fjacm = e*qm**(e-1)+e*qm**(e-1)+(e-1)*e*qm**(e-2)*qm-cm # function jacobian (derivative, in one dimension)\n",
    "    qm = qm - fvalm/fjacm # newton update for the quantity\n",
    "    if abs(fvalm)<tol:\n",
    "        break\n",
    "        \n",
    "print('The final iteration is:',it)\n",
    "print('The foc value is f:',fvalm)\n",
    "print('The computed quantity is q:',qm)\n",
    "\n",
    "#Final computations\n",
    "pm=qm**e #price\n",
    "pim=pm*qm-cm*qm**2 #profits\n",
    "\n",
    "print('The price is p:',pm)\n",
    "print('The profits are pi:',pim)\n",
    "print('The market size is:',qm)"
   ]
  },
  {
   "cell_type": "markdown",
   "metadata": {
    "collapsed": true
   },
   "source": [
    "### Example: Cournot Duopoly"
   ]
  },
  {
   "cell_type": "markdown",
   "metadata": {
    "collapsed": true
   },
   "source": [
    "Now consider a simple Cournot duopoly model, with symmetrc firms, and in which the inverse demand for a good is \t$P(q_{1},q_{2})=\\left( \\dfrac{1}{q_{1}+q_{2}} \\right)^{\\epsilon}$"
   ]
  },
  {
   "cell_type": "code",
   "execution_count": 5,
   "metadata": {
    "collapsed": false
   },
   "outputs": [],
   "source": [
    "# Example from the textbook\n",
    "#q = np.array([1]) # initial point/guess quantity\n",
    "#c = np.array([0.7]) # cost vector\n",
    "#eta = 1.6 # elasticity \n",
    "#e = -1/eta #Note: e=-epsilon; using e instead of epsilon simplifies the formulas\n",
    "#nfirm=1"
   ]
  },
  {
   "cell_type": "code",
   "execution_count": 6,
   "metadata": {
    "collapsed": false
   },
   "outputs": [],
   "source": [
    "# Cournot example. One update (first step) of newton algorithm \n",
    "#fval = np.sum(q)**e + e * np.sum(q)**(e-1)*(q) - np.diag(c).dot(q) # function value\n",
    "#fjac = e*np.sum(q)**(e-1)*(np.ones([nfirm,nfirm]))+e*np.sum(q)**(e-1)*(np.eye(nfirm))+(e-1)*e*np.sum(q)**(e-2)*(q).dot(np.array([1]))-np.diag(c) # function jacbian\n",
    "#q = q - np.linalg.inv(fjac).dot(fval) # newton update for the quantity\n",
    "#q"
   ]
  },
  {
   "cell_type": "code",
   "execution_count": null,
   "metadata": {
    "collapsed": true
   },
   "outputs": [],
   "source": []
  },
  {
   "cell_type": "code",
   "execution_count": 7,
   "metadata": {
    "collapsed": true
   },
   "outputs": [],
   "source": [
    "# Example from the textbook\n",
    "q = np.array([1, 1]) # initial point/guess quantity\n",
    "c = np.array([0.7, 0.7]) # cost vector\n",
    "eta = 1.6 # elasticity \n",
    "e = -1/eta #Note: e=-epsilon; using e instead of epsilon simplifies the formulas"
   ]
  },
  {
   "cell_type": "code",
   "execution_count": 8,
   "metadata": {
    "collapsed": false
   },
   "outputs": [
    {
     "data": {
      "text/plain": [
       "array([ 0.60850935,  0.60850935])"
      ]
     },
     "execution_count": 8,
     "metadata": {},
     "output_type": "execute_result"
    }
   ],
   "source": [
    "# Cournot example. One update (first step) of newton algorithm \n",
    "fval = np.sum(q)**e + e * np.sum(q)**(e-1)*(q) - np.diag(c).dot(q) # function value\n",
    "fjac = e*np.sum(q)**(e-1)*(np.ones([2,2]))+e*np.sum(q)**(e-1)*(np.eye(2))+\\\n",
    "(e-1)*e*np.sum(q)**(e-2)*(q).dot(np.array([1, 1]))-np.diag(c) # function jacbian\n",
    "q = q - np.linalg.inv(fjac).dot(fval) # newton update for the quantity\n",
    "q"
   ]
  },
  {
   "cell_type": "code",
   "execution_count": 9,
   "metadata": {
    "collapsed": false
   },
   "outputs": [
    {
     "data": {
      "text/plain": [
       "array([-0.2542114, -0.2542114])"
      ]
     },
     "execution_count": 9,
     "metadata": {},
     "output_type": "execute_result"
    }
   ],
   "source": [
    "# first step result of objective value, and it should go to zero gradually\n",
    "fval"
   ]
  },
  {
   "cell_type": "code",
   "execution_count": 10,
   "metadata": {
    "collapsed": false
   },
   "outputs": [
    {
     "data": {
      "text/plain": [
       "array([[-0.77598669,  0.12664449],\n",
       "       [ 0.12664449, -0.77598669]])"
      ]
     },
     "execution_count": 10,
     "metadata": {},
     "output_type": "execute_result"
    }
   ],
   "source": [
    "# first step result of jacobian\n",
    "fjac"
   ]
  },
  {
   "cell_type": "markdown",
   "metadata": {},
   "source": [
    "### Newton's method in more than one dimension"
   ]
  },
  {
   "cell_type": "code",
   "execution_count": 11,
   "metadata": {
    "collapsed": false
   },
   "outputs": [
    {
     "name": "stdout",
     "output_type": "stream",
     "text": [
      "The final iteration is: 108\n",
      "The foc value is f: [ -6.65637989e-10  -6.65637989e-10]\n",
      "The computed quantity is q: [ 0.75753663  0.75753663]\n",
      "The price is p: 0.771310028062\n",
      "The total profits are pi: 0.365184752316\n",
      "The market size is: 1.51507326782\n"
     ]
    }
   ],
   "source": [
    "# Example from the textbook\n",
    "# This executes a finite numer of Newton iterations\n",
    "maxit = 1000 # maximum number of iterations\n",
    "tol = 10e-10 # tolerance level for convergence\n",
    "# starting from [0.2 0.2] will cause a convergence problem (Newton's method has limitations)\n",
    "q = np.array([1, 1])\n",
    "c = np.array([0.7, 0.7])\n",
    "eta = 1.6\n",
    "e = -1/eta #Note: e=-epsilon; using e instead of epsilon simplifies the formulas\n",
    "nfirm=2 #duopoly case (used only to compute the total market size)\n",
    "\n",
    "for it in np.arange(maxit):\n",
    "\n",
    "    fval = np.sum(q)**e + e * np.sum(q)**(e-1)*(q) - np.diag(c).dot(q)\n",
    "    fjac = e*np.sum(q)**(e-1)*(np.ones([2,2]))+e*np.sum(q)**(e-1)*(np.eye(2))+(e-1)*e*np.sum(q)**(e-2)*(q).dot(np.array([1, 1]))-np.diag(c)\n",
    "    q = q - np.linalg.inv(fjac).dot(fval)\n",
    "    if np.linalg.norm(fval)<tol:\n",
    "        break\n",
    "        \n",
    "print('The final iteration is:',it)\n",
    "print('The foc value is f:',fval)\n",
    "print('The computed quantity is q:',q)\n",
    "\n",
    "#Final computations\n",
    "pd=np.sum(q)**e #price\n",
    "pid=pd*q[0]-c[0]*q[0]**2 #profits\n",
    "\n",
    "print('The price is p:',pd)\n",
    "print('The total profits are pi:',pid*nfirm)\n",
    "print('The market size is:',np.sum(q))\n"
   ]
  },
  {
   "cell_type": "markdown",
   "metadata": {
    "collapsed": false
   },
   "source": [
    "### Example: Multi-firm"
   ]
  },
  {
   "cell_type": "markdown",
   "metadata": {},
   "source": [
    "Now consider a general Multi-firm model, with $I>1$ symmetric firms, and in which the inverse demand for a good is $P(q)=\\left( \\dfrac{1}{q} \\right)^{\\epsilon}$ and the aggregate quantity is $q=q_{1}+q_{2}+...+q_{I}=\\sum_{i=1}^{I}q_{i}$"
   ]
  },
  {
   "cell_type": "code",
   "execution_count": 17,
   "metadata": {
    "collapsed": false
   },
   "outputs": [
    {
     "name": "stdout",
     "output_type": "stream",
     "text": [
      "q1: 0.2\n",
      "c1: 0.7\n",
      "The final iteration is: 5\n",
      "The foc value is f: [  1.93134397e-12   1.93134397e-12]\n",
      "The computed quantity is q: [ 0.75753663  0.75753663]\n",
      "The price is p: 0.771310027752\n",
      "The total profits are pi: 0.365184751564\n",
      "The market size is: 1.5150732688\n"
     ]
    }
   ],
   "source": [
    "# Let's extend the example from the textbook to a many firms set-up\n",
    "# This executes a finite numer of Newton iterations\n",
    "maxit = 1000 # maximum number of iterations\n",
    "tol = 10e-10 # tolerance level for convergence\n",
    "eta = 1.6\n",
    "e = -1/eta\n",
    "nfirm=2 #this allows us to select the number of firms (used to solve the system of foc's)\n",
    "#nfirm=5 #increased competition\n",
    "#nfirm=1000 #close to perfect competition\n",
    "\n",
    "#Initializations of the vectors of quantities and costs: we use lists and later convert them to arrays\n",
    "qlist = []\n",
    "clist = []\n",
    "\n",
    "#These alternative initializations don't work necessarily\n",
    "#qmf=np.array([])\n",
    "#cmf=np.array([])\n",
    "#qmf = ones(nfirm)\n",
    "\n",
    "#Let's assign the desired initial guesses and vector of costs\n",
    "for it in np.arange(nfirm):\n",
    "    qlist.append(1.0)\n",
    "    clist.append(0.7)\n",
    "\n",
    "#Create a vector of ones and convert the lists to arrays for matematical manipulation\n",
    "vecone=np.array(qlist)\n",
    "qmf=np.array(qlist)\n",
    "qmf=qmf*0.2\n",
    "cmf=np.array(clist)\n",
    "    \n",
    "print('q1:',qmf[0])\n",
    "#print('q2:',qmf[1])\n",
    "print('c1:',cmf[0])\n",
    "#print('c2:',cmf[1])\n",
    "\n",
    "it=0\n",
    "\n",
    "for it in np.arange(maxit):\n",
    "\n",
    "    fvalmf = np.sum(qmf)**e + e * np.sum(qmf)**(e-1)*(qmf) - np.diag(cmf).dot(qmf)\n",
    "    fjacmf = e*np.sum(qmf)**(e-1)*(np.ones([nfirm,nfirm]))+e*np.sum(qmf)**(e-1)*(np.eye(nfirm))+\\\n",
    "    (e-1)*e*np.sum(qmf)**(e-2)*(qmf).dot(np.eye(nfirm))-np.diag(cmf)\n",
    "    #(e-1)*e*np.sum(qmf)**(e-2)*(qmf).dot(vecone)-np.diag(cmf)\n",
    "    qmf = qmf - np.linalg.inv(fjacmf).dot(fvalmf)\n",
    "    if np.linalg.norm(fvalmf)<tol:\n",
    "        break\n",
    "        \n",
    "print('The final iteration is:',it)\n",
    "print('The foc value is f:',fvalmf)\n",
    "print('The computed quantity is q:',qmf)\n",
    "\n",
    "#Final computations\n",
    "pmf=np.sum(qmf)**e #price\n",
    "pimf=pmf*qmf[0]-cmf[0]*qmf[0]**2 #profits\n",
    "\n",
    "print('The price is p:',pmf)\n",
    "print('The total profits are pi:',pimf*nfirm)\n",
    "print('The market size is:',np.sum(qmf))"
   ]
  }
 ],
 "metadata": {
  "kernelspec": {
   "display_name": "Python 3.9.7 ('base')",
   "language": "python",
   "name": "python3"
  },
  "language_info": {
   "codemirror_mode": {
    "name": "ipython",
    "version": 3
   },
   "file_extension": ".py",
   "mimetype": "text/x-python",
   "name": "python",
   "nbconvert_exporter": "python",
   "pygments_lexer": "ipython3",
   "version": "3.9.7"
  },
  "vscode": {
   "interpreter": {
    "hash": "3d597f4c481aa0f25dceb95d2a0067e73c0966dcbd003d741d821a7208527ecf"
   }
  }
 },
 "nbformat": 4,
 "nbformat_minor": 2
}
