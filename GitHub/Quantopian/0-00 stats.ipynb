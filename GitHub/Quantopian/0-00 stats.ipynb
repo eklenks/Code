{
 "cells": [
  {
   "cell_type": "markdown",
   "metadata": {},
   "source": [
    "## NumPy\n",
    "Elements of a list begin indexing from $0$ and end at $n - 1$, where $n$ is the length of the array. (len(x)-1)\n",
    "can slice 2-d array with A[:, 0]"
   ]
  },
  {
   "cell_type": "code",
   "execution_count": 10,
   "metadata": {},
   "outputs": [
    {
     "name": "stdout",
     "output_type": "stream",
     "text": [
      "[[1 2]\n",
      " [3 4]] [1.25276297 1.60943791 0.69314718 2.07944154 1.43508453] 4.54\n"
     ]
    }
   ],
   "source": [
    "import numpy as np\n",
    "import matplotlib.pyplot as plt\n",
    "#Arrays are indexed in the same way as lists in Python\n",
    "stock_list = [3.5, 5, 2, 8, 4.2]\n",
    "returns = np.array(stock_list)\n",
    "A = np.array([[1, 2], [3, 4]])\n",
    "mean = np.mean(returns)\n",
    "print (A, np.log(returns), mean)\n",
    "# correlation\n",
    "#print(\"AAPL and SPY: \", np.corrcoef(x1,x2)[0,1])"
   ]
  },
  {
   "cell_type": "code",
   "execution_count": 11,
   "metadata": {},
   "outputs": [
    {
     "data": {
      "image/png": "[encoded data removed]",
      "text/plain": [
       "<Figure size 640x480 with 1 Axes>"
      ]
     },
     "metadata": {},
     "output_type": "display_data"
    }
   ],
   "source": [
    "# creat n x 100 array\n",
    "N = 10\n",
    "assets = np.zeros((N, 100))\n",
    "returns = np.zeros((N, 100))\n",
    "#random dist'n (mean, std dev, N)\n",
    "R_1 = np.random.normal(1.01, 0.03, 100)\n",
    "returns[0] = R_1 #daily returns asset 1\n",
    "assets[0] = np.cumprod(R_1) #cumulative asset price\n",
    "\n",
    "# Generate assets that are correlated with R_1\n",
    "for i in range(1, N):\n",
    "    R_i = R_1 + np.random.normal(0.001, 0.02, 100)\n",
    "    returns[i] = R_i # Set each row of returns equal to the new R_i array\n",
    "    assets[i] = np.cumprod(R_i)\n",
    "\n",
    "mean_returns = [(np.mean(R) - 1)*100 for R in returns]\n",
    "return_volatilities = [np.std(R) for R in returns]\n",
    "\n",
    "plt.bar(np.arange(len(mean_returns)), mean_returns)\n",
    "plt.xlabel('Stock')\n",
    "plt.ylabel('Returns')\n",
    "plt.title('Returns for {0} Random Assets'.format(N));"
   ]
  },
  {
   "cell_type": "markdown",
   "metadata": {},
   "source": [
    "### Calculating Expected Return"
   ]
  },
  {
   "cell_type": "code",
   "execution_count": 12,
   "metadata": {},
   "outputs": [
    {
     "name": "stdout",
     "output_type": "stream",
     "text": [
      "Expected return of the portfolio:  0.6329924372579137\n"
     ]
    }
   ],
   "source": [
    "#generate n random wheights\n",
    "weights = np.random.uniform(0, 1, N)\n",
    "# rescale so they add to 1\n",
    "weights = weights/np.sum(weights)\n",
    "#mean return is dot product of two arrays - weights * returns\n",
    "p_returns = np.dot(weights, mean_returns)\n",
    "print (\"Expected return of the portfolio: \", p_returns)"
   ]
  },
  {
   "cell_type": "markdown",
   "metadata": {},
   "source": [
    "### Calculating portfolio Variance\n",
    "\n",
    "$$ \\sigma_p^2 = \\omega \\ C \\ \\omega^\\intercal$$"
   ]
  },
  {
   "cell_type": "code",
   "execution_count": 14,
   "metadata": {},
   "outputs": [
    {
     "name": "stdout",
     "output_type": "stream",
     "text": [
      "Portfolio volatility:  0.03179648645159103\n",
      "Portfolio volatility:  0.03179648645159103\n"
     ]
    }
   ],
   "source": [
    "cov_mat = np.cov(returns) #10 by 10 matrix of covariances - C\n",
    "# Calculating the portfolio volatility\n",
    "var_p = np.dot(np.dot(weights, cov_mat), weights.T)\n",
    "vol_p = np.sqrt(var_p)\n",
    "print (\"Portfolio volatility: \", vol_p)\n",
    "#alternative calculation\n",
    "vol_p_alt = np.sqrt(np.var(np.dot(weights, returns), ddof=1))\n",
    "print (\"Portfolio volatility: \", vol_p_alt)"
   ]
  },
  {
   "cell_type": "markdown",
   "metadata": {},
   "source": [
    "#### Calculating Sharpe Ratio\n",
    "$$R = \\frac{E[r_a - r_b]}{\\sqrt{Var(r_a - r_b)}}$$\n"
   ]
  },
  {
   "cell_type": "code",
   "execution_count": null,
   "metadata": {},
   "outputs": [],
   "source": [
    "def sharpe_ratio(asset, riskfree):\n",
    "    return np.mean(asset - riskfree)/np.std(asset - riskfree)\n",
    "\n",
    "start = '2012-01-01'\n",
    "end = '2015-01-01'\n",
    "# Use an ETF that tracks 3-month T-bills as our risk-free rate of return\n",
    "treasury_ret = get_pricing('BIL', fields='price', start_date=start, end_date=end).pct_change()[1:]\n",
    "pricing = get_pricing('AMZN', fields='price', start_date=start, end_date=end)\n",
    "returns = pricing.pct_change()[1:] # Get the returns on the asset\n",
    "\n",
    "# Compute the running Sharpe ratio\n",
    "running_sharpe = [sharpe_ratio(returns[i-90:i], treasury_ret[i-90:i]) for i in range(90, len(returns))]\n",
    "\n",
    "# Plot running Sharpe ratio up to 100 days before the end of the data set\n",
    "_, ax1 = plt.subplots()\n",
    "ax1.plot(range(90, len(returns)-100), running_sharpe[:-100]);\n",
    "ticks = ax1.get_xticks()\n",
    "ax1.set_xticklabels([pricing.index[i].date() for i in ticks[:-1]]) # Label x-axis with dates\n",
    "plt.xlabel('Date')\n",
    "plt.ylabel('Sharpe Ratio');"
   ]
  },
  {
   "cell_type": "code",
   "execution_count": null,
   "metadata": {},
   "outputs": [],
   "source": [
    "# Compute the mean and std of the running Sharpe ratios up to 100 days before the end\n",
    "mean_rs = np.mean(running_sharpe[:-100])\n",
    "std_rs = np.std(running_sharpe[:-100])\n",
    "\n",
    "# Plot running Sharpe ratio\n",
    "_, ax2 = plt.subplots()\n",
    "ax2.set_xticklabels([pricing.index[i].date() for i in ticks[:-1]]) # Label x-axis with dates\n",
    "ax2.plot(range(90, len(returns)), running_sharpe)\n",
    "\n",
    "# Plot its mean and the +/- 1 standard deviation lines\n",
    "ax2.axhline(mean_rs)\n",
    "ax2.axhline(mean_rs + std_rs, linestyle='--')\n",
    "ax2.axhline(mean_rs - std_rs, linestyle='--')\n",
    "\n",
    "# Indicate where we computed the mean and standard deviations\n",
    "# Everything after this is 'out of sample' which we are comparing with the estimated mean and std\n",
    "ax2.axvline(len(returns) - 100, color='pink');\n",
    "plt.xlabel('Date')\n",
    "plt.ylabel('Sharpe Ratio')\n",
    "plt.legend(['Sharpe Ratio', 'Mean', '+/- 1 Standard Deviation'])\n",
    "\n",
    "print ('Mean of running Sharpe ratio:', mean_rs)\n",
    "print ('std of running Sharpe ratio:', std_rs)"
   ]
  }
 ],
 "metadata": {
  "kernelspec": {
   "display_name": "Python 3",
   "language": "python",
   "name": "python3"
  },
  "language_info": {
   "codemirror_mode": {
    "name": "ipython",
    "version": 3
   },
   "file_extension": ".py",
   "mimetype": "text/x-python",
   "name": "python",
   "nbconvert_exporter": "python",
   "pygments_lexer": "ipython3",
   "version": "3.10.4"
  }
 },
 "nbformat": 4,
 "nbformat_minor": 2
}
