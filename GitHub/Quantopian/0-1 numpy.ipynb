{
 "cells": [
  {
   "cell_type": "markdown",
   "metadata": {},
   "source": [
    "# NumPy\n",
    "NumPy is an incredibly powerful package in Python that is ubiquitous throughout the Quantopian platform. It has strong integration with Pandas, another tool we will be covering in the lecture series. NumPy adds support for multi-dimensional arrays and mathematical functions that allow you to easily perform linear algebra calculations. This lecture will be a collection of linear algebra examples computed using NumPy."
   ]
  },
  {
   "cell_type": "code",
   "execution_count": 1,
   "metadata": {
    "collapsed": true
   },
   "outputs": [],
   "source": [
    "import numpy as np\n",
    "import matplotlib.pyplot as plt"
   ]
  },
  {
   "cell_type": "markdown",
   "metadata": {},
   "source": [
    "### Basic NumPy arrays"
   ]
  },
  {
   "cell_type": "markdown",
   "metadata": {},
   "source": [
    "The most basic way that we could make use of NumPy in finance is calculating the mean return of a portfolio. Say that we have a list containing the historical return of several stocks."
   ]
  },
  {
   "cell_type": "code",
   "execution_count": 2,
   "metadata": {
    "collapsed": true
   },
   "outputs": [],
   "source": [
    "stock_list = [3.5, 5, 2, 8, 4.2]"
   ]
  },
  {
   "cell_type": "markdown",
   "metadata": {},
   "source": [
    "We can make an array by calling a function on the list:"
   ]
  },
  {
   "cell_type": "code",
   "execution_count": 3,
   "metadata": {
    "collapsed": false
   },
   "outputs": [
    {
     "name": "stdout",
     "output_type": "stream",
     "text": [
      "[3.5 5.  2.  8.  4.2] <class 'numpy.ndarray'>\n"
     ]
    }
   ],
   "source": [
    "returns = np.array(stock_list)\n",
    "print(returns, type(returns))"
   ]
  },
  {
   "cell_type": "markdown",
   "metadata": {},
   "source": [
    "You'll notice that the type of our array is 'ndarray', not just 'array'. This is because NumPy arrays can be created with multiple dimensions. If we pass np.array() a list of lists, it will create a 2-dimensional array. If we pass a list of lists of lists, it will create a 3-dimensional array, and so on and so forth."
   ]
  },
  {
   "cell_type": "code",
   "execution_count": 4,
   "metadata": {
    "collapsed": false
   },
   "outputs": [
    {
     "name": "stdout",
     "output_type": "stream",
     "text": [
      "[[1 2]\n",
      " [3 4]] <class 'numpy.ndarray'>\n"
     ]
    }
   ],
   "source": [
    "A = np.array([[1, 2], [3, 4]])\n",
    "print (A, type(A))"
   ]
  },
  {
   "cell_type": "markdown",
   "metadata": {},
   "source": [
    "We can access the dimensions of an array by looking at its `shape` member variable."
   ]
  },
  {
   "cell_type": "code",
   "execution_count": 5,
   "metadata": {
    "collapsed": false
   },
   "outputs": [
    {
     "name": "stdout",
     "output_type": "stream",
     "text": [
      "(2, 2)\n"
     ]
    }
   ],
   "source": [
    "print (A.shape)"
   ]
  },
  {
   "cell_type": "markdown",
   "metadata": {},
   "source": [
    "Arrays are indexed in much the same way as lists in Python. Elements of a list begin indexing from $0$ and end at $n - 1$, where $n$ is the length of the array."
   ]
  },
  {
   "cell_type": "code",
   "execution_count": 6,
   "metadata": {
    "collapsed": false
   },
   "outputs": [
    {
     "name": "stdout",
     "output_type": "stream",
     "text": [
      "3.5 4.2\n"
     ]
    }
   ],
   "source": [
    "print (returns[0], returns[len(returns) - 1])"
   ]
  },
  {
   "cell_type": "markdown",
   "metadata": {},
   "source": [
    "We can take a slice of an array using a colon, just like in a list."
   ]
  },
  {
   "cell_type": "code",
   "execution_count": 7,
   "metadata": {
    "collapsed": false
   },
   "outputs": [
    {
     "name": "stdout",
     "output_type": "stream",
     "text": [
      "[5. 2.]\n"
     ]
    }
   ],
   "source": [
    "print (returns[1:3])"
   ]
  },
  {
   "cell_type": "markdown",
   "metadata": {},
   "source": [
    "A slice of an array, like in a list, will select a group of elements in the array starting from the first element indicated and going up to (but not including) the last element indicated.\n",
    "\n",
    "In the case of multidimensional arrays, many of the same conventions with slicing and indexing hold. We can access the first column of a 2-dimensional array like so:"
   ]
  },
  {
   "cell_type": "code",
   "execution_count": 8,
   "metadata": {
    "collapsed": false
   },
   "outputs": [
    {
     "name": "stdout",
     "output_type": "stream",
     "text": [
      "[1 3]\n"
     ]
    }
   ],
   "source": [
    "print (A[:, 0])"
   ]
  },
  {
   "cell_type": "markdown",
   "metadata": {},
   "source": [
    "And the first row of a 2-dimensional array like so:"
   ]
  },
  {
   "cell_type": "code",
   "execution_count": 9,
   "metadata": {
    "collapsed": false
   },
   "outputs": [
    {
     "name": "stdout",
     "output_type": "stream",
     "text": [
      "[1 2]\n"
     ]
    }
   ],
   "source": [
    "print (A[0, :])"
   ]
  },
  {
   "cell_type": "markdown",
   "metadata": {},
   "source": [
    "Notice that each slice of the array returns yet another array!"
   ]
  },
  {
   "cell_type": "code",
   "execution_count": 10,
   "metadata": {
    "collapsed": false
   },
   "outputs": [
    {
     "name": "stdout",
     "output_type": "stream",
     "text": [
      "<class 'numpy.ndarray'>\n"
     ]
    }
   ],
   "source": [
    "print (type(A[0,:]))"
   ]
  },
  {
   "cell_type": "markdown",
   "metadata": {},
   "source": [
    "Passing only one index to a 2-dimensional array will result in returning the row with the given index as well, providing us with another way to access individual rows."
   ]
  },
  {
   "cell_type": "code",
   "execution_count": 11,
   "metadata": {
    "collapsed": false
   },
   "outputs": [
    {
     "name": "stdout",
     "output_type": "stream",
     "text": [
      "[1 2]\n"
     ]
    }
   ],
   "source": [
    "print (A[0])"
   ]
  },
  {
   "cell_type": "markdown",
   "metadata": {},
   "source": [
    "Accessing the index of an individual element will return only the element."
   ]
  },
  {
   "cell_type": "code",
   "execution_count": 12,
   "metadata": {
    "collapsed": false
   },
   "outputs": [
    {
     "name": "stdout",
     "output_type": "stream",
     "text": [
      "4\n"
     ]
    }
   ],
   "source": [
    "print (A[1, 1])"
   ]
  },
  {
   "cell_type": "markdown",
   "metadata": {},
   "source": [
    "#### Array functions\n",
    "\n",
    "Functions built into NumPy can be easily called on arrays. Most functions are applied to an array element-wise (as scalar multiplication is). For example, if we call `log()` on an array, the logarithm will be taken of each element."
   ]
  },
  {
   "cell_type": "code",
   "execution_count": 13,
   "metadata": {
    "collapsed": false
   },
   "outputs": [
    {
     "name": "stdout",
     "output_type": "stream",
     "text": [
      "[1.25276297 1.60943791 0.69314718 2.07944154 1.43508453]\n"
     ]
    }
   ],
   "source": [
    "print (np.log(returns))"
   ]
  },
  {
   "cell_type": "markdown",
   "metadata": {},
   "source": [
    "Some functions return a single value. This is because they treat the array as a collection (similar to a list), performing the designated function. For example, the `mean()` function will do exactly what you expect, calculating the mean of an array."
   ]
  },
  {
   "cell_type": "code",
   "execution_count": 14,
   "metadata": {
    "collapsed": false
   },
   "outputs": [
    {
     "name": "stdout",
     "output_type": "stream",
     "text": [
      "4.54\n"
     ]
    }
   ],
   "source": [
    "print (np.mean(returns))"
   ]
  },
  {
   "cell_type": "markdown",
   "metadata": {},
   "source": [
    "Or the `max()` function will return the maximum element of an array."
   ]
  },
  {
   "cell_type": "code",
   "execution_count": 15,
   "metadata": {
    "collapsed": false
   },
   "outputs": [
    {
     "name": "stdout",
     "output_type": "stream",
     "text": [
      "8.0\n"
     ]
    }
   ],
   "source": [
    "print (np.max(returns))"
   ]
  },
  {
   "cell_type": "markdown",
   "metadata": {},
   "source": [
    "For further reading on the universal functions in NumPy, check out the [documentation](https://docs.scipy.org/doc/numpy/user/quickstart.html#universal-functions)."
   ]
  },
  {
   "cell_type": "markdown",
   "metadata": {},
   "source": [
    "### Return to the returns\n",
    "\n",
    "Now let's modify our returns array with scalar values. If we add a scalar value to an array it will be added to every element of the array. If we multiply an array by a scalar value it will be multiplied against every element of the array. If we do both, both will happen!"
   ]
  },
  {
   "cell_type": "code",
   "execution_count": 42,
   "metadata": {
    "collapsed": false,
    "scrolled": false
   },
   "outputs": [
    {
     "data": {
      "text/plain": [
       "array([[6.96300011, 7.09878451, 6.94076016, 7.00545156, 7.02808806,\n",
       "        6.96155703, 7.0388251 , 7.03517044, 7.15253688, 7.05159267,\n",
       "        7.0387063 , 7.02186595, 7.0629599 , 7.15880367, 6.97851448,\n",
       "        7.03483088, 6.97359135, 6.96582365, 6.96495793, 6.94322361,\n",
       "        7.03755577, 7.04632085, 7.04708673, 6.99335746, 7.00644976,\n",
       "        6.96979092, 6.98543764, 7.04348324, 6.96072692, 7.02424209,\n",
       "        6.95472339, 7.03720905, 6.9836365 , 7.01634943, 7.0090665 ,\n",
       "        6.9417776 , 7.06821693, 7.09778202, 7.11050411, 7.04015638,\n",
       "        6.95161752, 7.03342166, 7.06738201, 6.99440702, 6.98452565,\n",
       "        7.00724654, 6.99769086, 7.05945249, 6.97134126, 7.02764321,\n",
       "        6.95485   , 7.04084283, 7.01318415, 6.99131506, 7.03845074,\n",
       "        6.92082026, 6.96969135, 7.03432304, 7.01522244, 7.10808312,\n",
       "        7.05243949, 6.97284089, 7.01815696, 7.04959509, 7.06154467,\n",
       "        7.04473854, 7.0321088 , 6.99388317, 6.97406502, 7.01839421,\n",
       "        7.01745476, 6.97878224, 6.96386787, 6.95906616, 6.92070514,\n",
       "        7.00629039, 7.04234196, 6.99354515, 7.03825114, 7.03061802,\n",
       "        7.02104117, 6.97576835, 6.90051207, 7.04215426, 7.04597295,\n",
       "        7.02881212, 7.0932917 , 7.08431393, 7.04647175, 7.07510189,\n",
       "        6.98371193, 6.97441114, 7.07578137, 7.02219353, 7.02260401,\n",
       "        6.93437303, 6.98590486, 7.11265309, 7.02294427, 6.95871876],\n",
       "       [6.9251607 , 7.09286065, 6.89711591, 7.00271719, 7.04445619,\n",
       "        6.97712951, 7.01662658, 7.00884805, 7.13384888, 7.06061676,\n",
       "        7.09123138, 7.00196329, 7.09346634, 7.10669582, 6.9485501 ,\n",
       "        7.03010542, 6.95512517, 6.93598302, 6.90319692, 6.98492241,\n",
       "        6.9770096 , 6.96482436, 7.05007593, 6.96968001, 7.03705139,\n",
       "        6.99363863, 6.95061018, 7.06507487, 7.05256396, 7.04714962,\n",
       "        7.0290108 , 6.99355591, 7.00694597, 6.99163831, 7.01020333,\n",
       "        6.97002417, 7.11931019, 7.10670049, 7.07533297, 7.07257737,\n",
       "        6.96420667, 7.01273906, 7.02394391, 7.03130658, 6.958699  ,\n",
       "        7.02702886, 6.98596165, 7.1585277 , 6.96730304, 7.07053901,\n",
       "        6.93519797, 7.02943877, 6.96351141, 6.98674161, 7.05724071,\n",
       "        6.87059908, 6.95054131, 7.03716768, 6.94406039, 7.08309745,\n",
       "        7.02064916, 6.98420427, 7.01751791, 7.10632445, 7.06836455,\n",
       "        7.00373867, 7.08204589, 7.0456442 , 6.95960739, 7.01931255,\n",
       "        7.03598571, 6.91438237, 6.92532226, 7.01627811, 6.8994787 ,\n",
       "        7.03859744, 7.06392879, 7.00387262, 7.05019153, 7.0591318 ,\n",
       "        6.97557366, 6.97784727, 6.90545554, 7.01193744, 7.12033243,\n",
       "        7.07160093, 7.02242539, 7.0677455 , 7.05570106, 7.03975551,\n",
       "        7.04482138, 6.97361266, 7.08365995, 7.04837682, 7.05670167,\n",
       "        6.95091547, 7.01953706, 7.09297101, 7.01948134, 6.96161804],\n",
       "       [7.08211954, 7.09748182, 6.95370876, 6.95877009, 6.97560138,\n",
       "        7.00348841, 7.06355999, 6.97406616, 7.12908817, 7.04274516,\n",
       "        7.04096326, 7.05914906, 7.09565322, 7.14190336, 7.05043711,\n",
       "        6.946471  , 6.98662237, 7.02740011, 6.9428465 , 6.98358966,\n",
       "        7.06762697, 7.04068747, 7.01937964, 7.07142649, 6.95814189,\n",
       "        6.8887863 , 6.95882795, 7.08493679, 6.93170275, 6.98450685,\n",
       "        7.00674247, 6.98610686, 6.93235818, 6.98006332, 7.02446141,\n",
       "        6.94632698, 7.12663415, 7.0753599 , 7.14611884, 7.01871442,\n",
       "        6.98339054, 6.99322056, 7.04389477, 6.99965225, 7.02969334,\n",
       "        7.02223695, 7.04950572, 7.14000079, 6.99804299, 6.93746306,\n",
       "        6.92816946, 6.99270423, 7.01524439, 7.00355079, 6.98103747,\n",
       "        6.86333786, 6.97484848, 7.04380309, 6.98703572, 7.14358562,\n",
       "        7.03062601, 6.95424048, 7.02905917, 7.15015246, 7.03689081,\n",
       "        7.04708147, 7.04777435, 6.97259836, 6.8952266 , 6.95117076,\n",
       "        6.96148938, 6.9964776 , 7.00567819, 6.9633752 , 6.87570195,\n",
       "        6.97345839, 7.01100952, 6.95498889, 7.03447748, 7.03126038,\n",
       "        6.97477368, 6.9588787 , 6.87318096, 6.99018151, 6.98704157,\n",
       "        6.99479904, 7.07765477, 7.11344726, 7.02293251, 7.07808606,\n",
       "        6.93223168, 6.94898854, 7.02325586, 7.05834994, 7.05314119,\n",
       "        6.93047769, 7.05428876, 7.06618628, 7.01052651, 6.93911624],\n",
       "       [6.94627945, 7.12813323, 6.93978193, 7.09615981, 7.0499011 ,\n",
       "        6.98351321, 7.02601025, 6.99513024, 7.19389653, 6.99626284,\n",
       "        7.00989829, 7.05026559, 7.090983  , 7.11494323, 6.99670501,\n",
       "        7.01035186, 6.96292815, 7.06984388, 7.04550154, 6.94129977,\n",
       "        7.00768032, 7.05888143, 7.12606892, 6.97209716, 7.01245411,\n",
       "        6.90469144, 6.97585475, 7.06270058, 6.9063153 , 7.06719759,\n",
       "        6.98976789, 7.01679634, 7.01303657, 7.0012955 , 7.06791109,\n",
       "        6.97327791, 7.07308245, 7.12840718, 7.08137991, 6.97489077,\n",
       "        6.962341  , 7.09143092, 7.12716664, 7.04706728, 6.96412328,\n",
       "        6.99151579, 7.00556708, 6.99754086, 6.94269365, 6.98562339,\n",
       "        6.95955699, 7.07304145, 7.02906855, 6.94102853, 6.99267685,\n",
       "        6.93729335, 6.89132924, 6.93031253, 7.04428041, 7.173374  ,\n",
       "        7.01127375, 7.00110661, 7.0063392 , 6.97039263, 7.0783144 ,\n",
       "        7.05572246, 7.10782793, 6.99503412, 6.96383056, 7.00429744,\n",
       "        7.05414163, 6.91561297, 7.00731199, 6.91279413, 6.8811815 ,\n",
       "        6.98595171, 7.0016161 , 7.02534074, 7.12294964, 7.0121203 ,\n",
       "        7.02074345, 7.01748723, 6.89077543, 7.04397707, 7.02732961,\n",
       "        7.00314417, 7.02991793, 7.12404373, 6.99018642, 7.09397861,\n",
       "        6.96596518, 7.0013673 , 7.01603704, 7.05220872, 7.078443  ,\n",
       "        6.98988561, 6.96058438, 7.11842298, 7.04349874, 6.90528543],\n",
       "       [7.00450273, 7.07745876, 6.90897845, 7.06319934, 7.02620316,\n",
       "        6.94987099, 7.03206337, 7.09281373, 7.17335228, 7.05871173,\n",
       "        6.99404649, 7.00581101, 7.10389826, 7.15744235, 6.95774964,\n",
       "        6.99781097, 6.99357367, 6.94255759, 6.95160956, 6.95709364,\n",
       "        7.01696913, 7.05609619, 6.94316686, 6.98019331, 7.08584874,\n",
       "        7.00661247, 6.979523  , 7.0792942 , 6.95803736, 6.99470831,\n",
       "        7.00913606, 7.02812133, 6.92551954, 7.04915574, 7.06145997,\n",
       "        6.96166447, 7.10187569, 7.13128807, 7.10573638, 6.97316512,\n",
       "        6.99745226, 7.02362545, 7.11349975, 7.02993076, 6.95201412,\n",
       "        7.03867317, 7.00100528, 7.00030339, 6.92548047, 7.06376764,\n",
       "        6.95962772, 7.10654939, 7.03347144, 7.02477702, 7.04849036,\n",
       "        6.9780218 , 6.88797525, 7.02531118, 7.00125718, 7.07423206,\n",
       "        7.01096584, 6.98335116, 6.99276171, 7.08899928, 7.09715356,\n",
       "        7.02918225, 7.04815507, 6.93435931, 6.94105174, 7.05967755,\n",
       "        6.98494377, 6.92427114, 7.03901837, 6.9684406 , 6.90022878,\n",
       "        7.00951332, 7.06757029, 7.05885317, 7.10131707, 7.05990673,\n",
       "        6.98903311, 6.95313022, 6.94012529, 6.95087615, 7.08429837,\n",
       "        7.00761093, 7.08135508, 7.06836818, 7.0439422 , 7.09539061,\n",
       "        6.94710811, 6.95667815, 7.13384275, 7.04909531, 7.05354713,\n",
       "        6.93090694, 6.99904152, 7.12655573, 7.02012074, 6.91128002],\n",
       "       [6.97413988, 7.03799448, 6.87337923, 7.05435238, 7.05320958,\n",
       "        7.00765649, 6.98933962, 7.01386889, 7.13249036, 7.05979483,\n",
       "        7.07921894, 7.08389785, 7.05578961, 7.13346078, 6.93270124,\n",
       "        7.05802349, 7.00350488, 6.98803153, 6.91552745, 6.86798966,\n",
       "        7.06653081, 7.00215648, 7.04529586, 6.99256612, 6.99153196,\n",
       "        6.90745934, 6.94344559, 7.02817938, 7.01555618, 6.94391216,\n",
       "        7.03055358, 6.96880852, 7.03101676, 6.99274824, 7.01595043,\n",
       "        7.08422374, 7.03203965, 7.07114345, 7.17846678, 7.04897493,\n",
       "        6.95624064, 7.05721856, 7.12668403, 7.02140423, 6.9738385 ,\n",
       "        6.98217109, 7.0345228 , 7.0400024 , 6.994696  , 7.06818013,\n",
       "        6.92183066, 6.97575632, 6.97475153, 6.97607741, 7.07178119,\n",
       "        6.90272425, 6.95402596, 7.04726316, 6.97644455, 7.09810724,\n",
       "        7.04575927, 6.9519832 , 6.97959726, 7.0604056 , 7.05959315,\n",
       "        7.04359452, 7.05540192, 6.99422771, 6.99450882, 6.9927196 ,\n",
       "        6.94426089, 6.94725625, 6.92536659, 6.95661545, 6.83383448,\n",
       "        7.10254796, 7.10466797, 6.98848911, 7.1129927 , 7.05881948,\n",
       "        7.02684279, 7.05680844, 7.00796069, 7.01928155, 7.07621339,\n",
       "        7.03036706, 7.14478673, 7.09925137, 7.05525801, 7.06271402,\n",
       "        6.97985032, 6.93054063, 7.11050165, 7.0490739 , 6.95348431,\n",
       "        6.87640744, 7.00869993, 7.16952955, 7.00857466, 6.99963754],\n",
       "       [7.038231  , 7.06715011, 6.97526241, 6.94233195, 7.02804505,\n",
       "        6.95265663, 7.03641626, 6.98242876, 7.10944296, 7.01647921,\n",
       "        7.0814848 , 7.0086631 , 7.04073031, 7.14138921, 6.872868  ,\n",
       "        7.05479793, 6.95046329, 6.94747824, 6.92323319, 6.97754176,\n",
       "        6.9842748 , 7.01874794, 7.01992763, 6.98058982, 7.00273535,\n",
       "        7.01782494, 7.0039484 , 7.01442659, 7.00840293, 7.02741038,\n",
       "        6.89258364, 7.04983377, 7.001027  , 7.02665983, 7.05528001,\n",
       "        6.9834632 , 7.01701972, 7.13922552, 7.11066702, 7.02629455,\n",
       "        7.02814546, 7.0017601 , 7.04684539, 7.04269928, 6.96338655,\n",
       "        7.04659086, 6.96274397, 7.08093887, 7.00659656, 7.01569976,\n",
       "        6.95564517, 7.07797772, 6.98036638, 6.98818739, 7.01085195,\n",
       "        6.88839554, 6.93293886, 7.12294881, 7.03037619, 7.1377021 ,\n",
       "        7.03738087, 6.95933455, 6.97661672, 7.00698275, 7.10411931,\n",
       "        7.03343749, 6.99688036, 6.96269963, 6.96592859, 6.99013374,\n",
       "        7.03121702, 6.99652936, 6.91055622, 6.95334535, 6.91890359,\n",
       "        7.06128855, 7.02690804, 7.00328586, 7.03417272, 7.00867908,\n",
       "        7.00096437, 7.02157205, 6.94578703, 6.90791057, 7.03075136,\n",
       "        7.02167426, 7.05874965, 7.10750313, 7.04202179, 7.1435563 ,\n",
       "        6.93881856, 7.00164273, 7.04948607, 7.05199691, 7.03598275,\n",
       "        6.95504341, 6.98356353, 7.12640562, 7.00212841, 6.97555138],\n",
       "       [6.949799  , 7.10472118, 6.95622391, 7.04391782, 7.03290387,\n",
       "        6.99180344, 7.08646707, 7.08447738, 7.00372343, 7.04611186,\n",
       "        7.06126106, 7.01640727, 7.06295676, 7.14520567, 6.95533544,\n",
       "        7.0388755 , 7.00168657, 6.98758255, 7.03789993, 6.96884205,\n",
       "        7.02409656, 7.10104154, 7.01955169, 7.01875891, 7.02344807,\n",
       "        7.03427868, 7.00712687, 6.99186995, 7.0534146 , 7.05388628,\n",
       "        6.96317662, 6.99510033, 6.96996744, 7.01736608, 7.09539305,\n",
       "        6.94764222, 7.02420109, 7.12073923, 7.16419874, 7.0655601 ,\n",
       "        6.94804375, 7.056077  , 7.04753189, 7.03180715, 6.93182501,\n",
       "        7.03860487, 6.97313335, 7.13526549, 7.01522741, 7.08764068,\n",
       "        6.93609624, 7.07725468, 7.11955661, 6.95791936, 7.04633329,\n",
       "        6.90392978, 6.95283848, 7.08447408, 7.01660392, 7.1220365 ,\n",
       "        7.06616091, 6.9784124 , 7.00093357, 7.02197749, 7.06943671,\n",
       "        7.04813409, 7.05567974, 7.0041089 , 7.0189234 , 7.0942879 ,\n",
       "        7.03202245, 7.01331922, 6.93492468, 6.96788954, 6.90216661,\n",
       "        6.98330293, 7.00617174, 6.99590837, 7.07028174, 7.02087107,\n",
       "        7.05927762, 6.99297923, 6.93376421, 7.04932144, 7.00751593,\n",
       "        7.00157952, 7.04637489, 7.11450787, 7.05233854, 7.05974807,\n",
       "        7.02495825, 7.03070396, 7.11999005, 7.00993587, 6.98022314,\n",
       "        6.96706869, 7.02911942, 7.11883069, 7.03344536, 6.94417387],\n",
       "       [7.02058661, 7.14635061, 6.92003592, 6.97357079, 7.05497356,\n",
       "        6.973996  , 7.06024631, 7.06977021, 7.16637312, 7.05460655,\n",
       "        7.03968471, 7.03087917, 6.99009138, 7.19045125, 6.94746565,\n",
       "        7.07211195, 7.02041579, 6.99846456, 7.00110886, 6.87385308,\n",
       "        7.04372027, 7.06205058, 7.05920929, 7.01160209, 6.93132469,\n",
       "        6.93730419, 6.92368461, 7.03483632, 6.93255136, 6.99893325,\n",
       "        6.95062783, 7.02607613, 7.00478287, 7.01970532, 6.94471333,\n",
       "        6.92864754, 6.99737942, 7.09852675, 7.10275384, 6.99488964,\n",
       "        6.97423727, 7.03881975, 7.03831889, 7.02080458, 6.94320702,\n",
       "        7.05166691, 7.00782335, 7.07870054, 7.00178722, 6.99748415,\n",
       "        6.96763655, 7.06397961, 7.00570477, 6.98751181, 6.99603675,\n",
       "        6.96572282, 7.04197404, 7.04741133, 6.99439233, 7.11924809,\n",
       "        7.03721554, 6.94476343, 7.01972717, 7.10523131, 7.08559072,\n",
       "        6.97797591, 7.0430535 , 6.97780731, 6.93039414, 6.99662887,\n",
       "        7.03892362, 7.02614709, 6.98907211, 6.92817305, 6.94042268,\n",
       "        7.03737328, 7.06038497, 7.0480687 , 7.05487882, 6.98180442,\n",
       "        7.05601261, 6.94591658, 6.85212163, 7.06026003, 6.97432644,\n",
       "        7.00696176, 7.10119077, 7.10684831, 7.0162925 , 7.07996188,\n",
       "        7.02090404, 6.97696757, 7.1274751 , 7.02132932, 7.00955576,\n",
       "        6.97705847, 7.0005354 , 7.08998184, 7.01784233, 6.96139429],\n",
       "       [6.92870506, 7.11176924, 6.93664936, 7.03886203, 6.96257733,\n",
       "        6.94468218, 6.96138031, 7.03708155, 7.14488394, 7.06642369,\n",
       "        7.02060929, 7.01641574, 7.07233649, 7.16972229, 6.97486513,\n",
       "        7.03552991, 6.97441143, 6.94633539, 6.95399118, 7.04336722,\n",
       "        7.00640789, 7.03178783, 7.04606673, 6.99786776, 6.9990493 ,\n",
       "        7.01147928, 7.02493841, 7.01085034, 7.00114886, 6.98970268,\n",
       "        6.93404489, 7.07039993, 6.9406606 , 7.015301  , 6.94625524,\n",
       "        6.96499638, 7.06402366, 6.99855807, 7.14054003, 7.08251303,\n",
       "        6.98122366, 7.00563416, 7.08712165, 6.9714078 , 7.0107852 ,\n",
       "        7.00206905, 7.04631468, 6.9609631 , 7.00573694, 7.05817626,\n",
       "        6.95990466, 6.98327219, 7.02786528, 7.00744674, 7.00245464,\n",
       "        6.87107796, 6.91069476, 7.07705801, 6.95243949, 7.04161691,\n",
       "        7.04851548, 7.01291242, 7.01705267, 7.07113113, 7.10612712,\n",
       "        7.02509093, 6.97472582, 6.99120192, 6.92160803, 7.08712617,\n",
       "        7.00411792, 6.96967267, 7.02214437, 6.96895642, 6.97188682,\n",
       "        7.06786685, 7.05186902, 7.02786674, 7.0459585 , 7.06616338,\n",
       "        7.02971061, 6.94968301, 6.9165637 , 7.02640173, 7.09343459,\n",
       "        7.09949623, 7.0509689 , 7.07523808, 7.04909459, 7.0542379 ,\n",
       "        7.08332196, 7.06138028, 7.05844776, 7.09278288, 7.08294191,\n",
       "        6.91167476, 7.01267006, 7.16343513, 7.02138456, 7.00327165]])"
      ]
     },
     "execution_count": 42,
     "metadata": {},
     "output_type": "execute_result"
    }
   ],
   "source": [
    "returns*2 + 5"
   ]
  },
  {
   "cell_type": "markdown",
   "metadata": {},
   "source": [
    "NumPy also has functions specifically built to operate on arrays. Let's take the mean and standard deviation of this group of returns."
   ]
  },
  {
   "cell_type": "code",
   "execution_count": 17,
   "metadata": {
    "collapsed": false
   },
   "outputs": [
    {
     "name": "stdout",
     "output_type": "stream",
     "text": [
      "Mean:  4.54 Std Dev:  1.9915822855207364\n"
     ]
    }
   ],
   "source": [
    "print (\"Mean: \", np.mean(returns), \"Std Dev: \", np.std(returns))"
   ]
  },
  {
   "cell_type": "markdown",
   "metadata": {},
   "source": [
    "Let's simulate a universe of stocks using NumPy's functions. First we need to create the arrays to hold the assets and returns that we will use to build a portfolio. This is because arrays are created with a fixed size. Their dimensions can't be changed without creating a new array."
   ]
  },
  {
   "cell_type": "code",
   "execution_count": 18,
   "metadata": {
    "collapsed": true
   },
   "outputs": [],
   "source": [
    "N = 10\n",
    "assets = np.zeros((N, 100))\n",
    "returns = np.zeros((N, 100))"
   ]
  },
  {
   "cell_type": "markdown",
   "metadata": {},
   "source": [
    "This function, `zeroes()`, creates a NumPy array with the given dimensions that is entirely filled in with $0$. We can pass a single value or a tuple of as many dimensions as we like. Passing in the tuple `(N, 100)`, will return a two-dimensional array with $N$ rows and $100$ columns. Our result is a $N \\times 100$ array.\n",
    "\n",
    "Now we will simulate a base asset. We want the universe of stocks to be correlated with each other so we will use this initial value to generate the others."
   ]
  },
  {
   "cell_type": "code",
   "execution_count": 19,
   "metadata": {
    "collapsed": false
   },
   "outputs": [],
   "source": [
    "R_1 = np.random.normal(1.01, 0.03, 100)\n",
    "returns[0] = R_1\n",
    "assets[0] = np.cumprod(R_1)"
   ]
  },
  {
   "cell_type": "markdown",
   "metadata": {},
   "source": [
    "The `random` module in NumPy is exceedingly useful. It contains methods for sampling from many different probability distributions, some of which are covered in the [random variables lecture](https://www.quantopian.com/lectures/random-variables) in the Quantopian lecture series. In this case we draw $N = 100$ random samples from a normal distribution with mean $1.01$ and standard deviation $0.03$. We treat these as the daily percentage returns of our asset and take the cumulative product of these samples to get the current price.\n",
    "\n",
    "The way we have generated our universe, the the individual $R_i$ vectors are each 1-dimensional arrays and the `returns` and `assets` variables contain 2-dimensional arrays. Above, we set the initial row of both `returns` and `assets` to be the first $R_i$ vector and the cumulative asset price based on those returns, respectively.\n",
    "\n",
    "We will now use this base asset to create a few other random assets that are correlated with it."
   ]
  },
  {
   "cell_type": "code",
   "execution_count": 20,
   "metadata": {
    "collapsed": false
   },
   "outputs": [],
   "source": [
    "# Generate assets that are correlated with R_1\n",
    "for i in range(1, N):\n",
    "    R_i = R_1 + np.random.normal(0.001, 0.02, 100)\n",
    "    returns[i] = R_i # Set each row of returns equal to the new R_i array\n",
    "    assets[i] = np.cumprod(R_i)\n",
    "    \n",
    "mean_returns = [(np.mean(R) - 1)*100 for R in returns]\n",
    "return_volatilities = [np.std(R) for R in returns]"
   ]
  },
  {
   "cell_type": "markdown",
   "metadata": {},
   "source": [
    "Here we generate the remaining $N - 1$ securities that we want in our universe by adding random noise to $R_1$. This ensures that our $N - 1$ other assets will be correlated with the base asset because they have some underlying information that is shared.\n",
    "\n",
    "Let's plot what the mean return of each asset looks like:"
   ]
  },
  {
   "cell_type": "code",
   "execution_count": 21,
   "metadata": {
    "collapsed": false,
    "scrolled": false
   },
   "outputs": [
    {
     "data": {
      "image/png": "[encoded data removed]",
      "text/plain": [
       "<Figure size 640x480 with 1 Axes>"
      ]
     },
     "metadata": {},
     "output_type": "display_data"
    }
   ],
   "source": [
    "plt.bar(np.arange(len(mean_returns)), mean_returns)\n",
    "plt.xlabel('Stock')\n",
    "plt.ylabel('Returns')\n",
    "plt.title('Returns for {0} Random Assets'.format(N));"
   ]
  },
  {
   "cell_type": "markdown",
   "metadata": {},
   "source": [
    "### Calculating Expected Return\n",
    "\n",
    "So we have a universe of stocks. Great! Now let's put them together in a portfolio and calculate its expected return and risk.\n",
    "\n",
    "We will start off by generating $N$ random weights for each asset in our portfolio."
   ]
  },
  {
   "cell_type": "code",
   "execution_count": 22,
   "metadata": {
    "collapsed": false
   },
   "outputs": [],
   "source": [
    "weights = np.random.uniform(0, 1, N)\n",
    "weights = weights/np.sum(weights)"
   ]
  },
  {
   "cell_type": "markdown",
   "metadata": {},
   "source": [
    "We have to rescale the weights so that they all add up to $1$. We do this by scaling the weights vector by the sum total of all the weights. This step ensures that we will be using $100\\%$ of the portfolio's cash.\n",
    "\n",
    "To calculate the mean return of the portfolio, we have to scale each asset's return by its designated weight. We can pull each element of each array and multiply them individually, but it's quicker to use NumPy's linear algebra methods. The function that we want is `dot()`. This will calculate the dot product between two arrays for us. So if $v = \\left[ 1, 2, 3 \\right]$ and $w = \\left[4, 5, 6 \\right]$, then:\n",
    "\n",
    "$$ v \\cdot w = 1 \\times 4 + 2 \\times 5 + 3 \\times 6 $$\n",
    "\n",
    "For a one-dimensional vector, the dot product will multiply each element pointwise and add all the products together! In our case, we have a vector of weights, $\\omega = \\left[ \\omega_1, \\omega_2, \\dots \\omega_N\\right]$ and a vector of returns, $\\mu = \\left[ \\mu_1, \\mu_2, \\dots, \\mu_N\\right]$. If we take the dot product of these two we will get:\n",
    "\n",
    "$$ \\omega \\cdot \\mu = \\omega_1\\mu_1 + \\omega_2\\mu_2 + \\dots + \\omega_N\\mu_N = \\mu_P $$\n",
    "\n",
    "This yields the sum of all the asset returns scaled by their respective weights. This the the portfolio's overall expected return!"
   ]
  },
  {
   "cell_type": "code",
   "execution_count": 23,
   "metadata": {
    "collapsed": false
   },
   "outputs": [
    {
     "name": "stdout",
     "output_type": "stream",
     "text": [
      "Expected return of the portfolio:  0.7807924578306588\n"
     ]
    }
   ],
   "source": [
    "p_returns = np.dot(weights, mean_returns)\n",
    "print (\"Expected return of the portfolio: \", p_returns)"
   ]
  },
  {
   "cell_type": "markdown",
   "metadata": {},
   "source": [
    "Calculating the mean return is fairly intuitive and does not require too much explanation of linear algebra. However, calculating the variance of our portfolio requires a bit more background."
   ]
  },
  {
   "cell_type": "markdown",
   "metadata": {},
   "source": [
    "#### Beware of NaN values\n",
    "\n",
    "Most of the time, all of these calculations will work without an issue. However, when working with real data we run the risk of having `nan` values in our arrays. This is NumPy's way of saying that the data there is missing or doesn't exist. These `nan` values can lead to errors in mathematical calculations so it is important to be aware of whether your array contains `nan` values and to know how to drop them."
   ]
  },
  {
   "cell_type": "code",
   "execution_count": 24,
   "metadata": {
    "collapsed": false
   },
   "outputs": [
    {
     "name": "stdout",
     "output_type": "stream",
     "text": [
      "[ 1.  2. nan  4.  5.]\n"
     ]
    }
   ],
   "source": [
    "v = np.array([1, 2, np.nan, 4, 5])\n",
    "print (v)"
   ]
  },
  {
   "cell_type": "markdown",
   "metadata": {},
   "source": [
    "Let's see what happens when we try to take the mean of this array."
   ]
  },
  {
   "cell_type": "code",
   "execution_count": 25,
   "metadata": {
    "collapsed": false
   },
   "outputs": [
    {
     "name": "stdout",
     "output_type": "stream",
     "text": [
      "nan\n"
     ]
    }
   ],
   "source": [
    "print (np.mean(v))"
   ]
  },
  {
   "cell_type": "markdown",
   "metadata": {},
   "source": [
    "Clearly, `nan` values can have a large impact on our calculations. Fortunately, we can check for `nan` values with the `isnan()` function."
   ]
  },
  {
   "cell_type": "code",
   "execution_count": 26,
   "metadata": {
    "collapsed": false
   },
   "outputs": [
    {
     "data": {
      "text/plain": [
       "array([False, False,  True, False, False])"
      ]
     },
     "execution_count": 26,
     "metadata": {},
     "output_type": "execute_result"
    }
   ],
   "source": [
    "np.isnan(v)"
   ]
  },
  {
   "cell_type": "markdown",
   "metadata": {},
   "source": [
    "Calling `isnan()` on an array will call the function on each value of the array, returning a value of `True` if the element is `nan` and `False` if the element is valid. Now, knowing whether your array contains `nan` values is all well and good, but how do we remove `nan`s? Handily enough, NumPy arrays can be indexed by boolean values (`True` or `False`). If we use a boolean array to index an array, we will remove all values of the array that register as `False` under the condition. We use the `isnan()` function in create a boolean array, assigning a `True` value to everything that is *not* `nan` and a `False` to the `nan`s and we use that to index the same array."
   ]
  },
  {
   "cell_type": "code",
   "execution_count": 27,
   "metadata": {
    "collapsed": false
   },
   "outputs": [
    {
     "name": "stdout",
     "output_type": "stream",
     "text": [
      "[1. 2. 4. 5.]\n"
     ]
    }
   ],
   "source": [
    "ix = ~np.isnan(v) # the ~ indicates a logical not, inverting the bools\n",
    "print (v[ix]) # We can also just write v = v[~np.isnan(v)]"
   ]
  },
  {
   "cell_type": "code",
   "execution_count": 28,
   "metadata": {
    "collapsed": false
   },
   "outputs": [
    {
     "name": "stdout",
     "output_type": "stream",
     "text": [
      "3.0\n"
     ]
    }
   ],
   "source": [
    "print (np.mean(v[ix]))"
   ]
  },
  {
   "cell_type": "markdown",
   "metadata": {},
   "source": [
    "There are a few shortcuts to this process in the form of NumPy functions specifically built to handle them, such as `nanmean()`."
   ]
  },
  {
   "cell_type": "code",
   "execution_count": 29,
   "metadata": {
    "collapsed": false
   },
   "outputs": [
    {
     "name": "stdout",
     "output_type": "stream",
     "text": [
      "3.0\n"
     ]
    }
   ],
   "source": [
    "print (np.nanmean(v))"
   ]
  },
  {
   "cell_type": "markdown",
   "metadata": {},
   "source": [
    "The `nanmean()` function simply calculates the mean of the array as if there were no `nan` values at all! There are a few more of these functions, so feel free to read more about them in the [documentation](https://docs.scipy.org/doc/numpy/user/index.html). These indeterminate values are more an issue with data than linear algebra itself so it is helpful that there are ways to handle them."
   ]
  },
  {
   "cell_type": "markdown",
   "metadata": {},
   "source": [
    "### Conclusion\n",
    "\n",
    "Linear algebra is pervasive in finance and in general. For example, the calculation of *optimal* weights according to modern portfolio theory is done using linear algebra techniques. The arrays and functions in NumPy allow us to handle these calculations in an intuitive way. For a quick intro to linear algebra and how to use NumPy to do more significant matrix calculations, proceed to the next section."
   ]
  },
  {
   "cell_type": "markdown",
   "metadata": {},
   "source": [
    "## A brief foray into linear algebra\n",
    "\n",
    "Let's start with a basic overview of some linear algebra. Linear algebra comes down to the multiplication and composition of scalar and matrix values. A scalar value is just a real number that we multiply against an array. When we scale a matrix or array using a scalar, we multiply each individual element of that matrix or array by the scalar.\n",
    "\n",
    "A matrix is a collection of values, typically represented by an $m \\times n$ grid, where $m$ is the number of rows and $n$ is the number of columns. The edge lengths $m$ and $n$ do not necessarily have to be different. If we have $m = n$, we call this a square matrix. A particularly interesting case of a matrix is when $m = 1$ or $n = 1$. In this case we have a special case of a matrix that we call a vector. While there is a matrix object in NumPy we will be doing everything using NumPy arrays because they can have dimensions greater than $2$. For the purpose of this section, we will be using matrix and array interchangeably.\n",
    "\n",
    "We can express the matrix equation as:\n",
    "\n",
    "$$ y = A\\cdot x $$\n",
    "\n",
    "Where $A$ is an $m \\times n$ matrix, $y$ is a $m \\times 1$ vector, and $x$ is a $n \\times 1$ vector. On the right-hand side of the equation we are multiplying a matrix by a vector. This requires a little bit more clarification, lest we think that we can go about multiplying any matrices by any other matrices.\n",
    "\n",
    "#### Matrix multiplication\n",
    "\n",
    "With matrix multiplication, the order in which the matrices are multiplied matters. Multiplying a matrix on the left side by another matrix may be just fine, but multiplying on the right may be undefined."
   ]
  },
  {
   "cell_type": "code",
   "execution_count": 30,
   "metadata": {
    "collapsed": true
   },
   "outputs": [],
   "source": [
    "A = np.array([\n",
    "        [1, 2, 3, 12, 6],\n",
    "        [4, 5, 6, 15, 20],\n",
    "        [7, 8, 9, 10, 10]        \n",
    "    ])\n",
    "B = np.array([\n",
    "        [4, 4, 2],\n",
    "        [2, 3, 1],\n",
    "        [6, 5, 8],\n",
    "        [9, 9, 9]\n",
    "    ])"
   ]
  },
  {
   "cell_type": "markdown",
   "metadata": {},
   "source": [
    "Notice that the above-defined matrices, $A$ and $B$, have different dimensions. $A$ is $3 \\times 5$ and $B$ is $4 \\times 3$. The general rule of what can and cannot be multiplied in which order is based on the dimensions of the matrices. Specifically, the number of columns in the matrix on the left must be equal to the number of rows in the matrix on the right. In super informal terms, let's say that we have an $m \\times n$ matrix and a $p \\times q$ matrix. If we multiply the first by the second on the right, we get the following:\n",
    "\n",
    "$$ (m \\times n) \\cdot (p \\times q) = (m \\times q) $$\n",
    "\n",
    "So the resultant product has the same number of rows as the left matrix and the same number of columns as the right matrix. This limitation of matrix multiplication with regards to dimensions is important to keep track of when writing code. To demonstrate this, we use the `dot()` function to multiply our matrices below:"
   ]
  },
  {
   "cell_type": "code",
   "execution_count": 31,
   "metadata": {
    "collapsed": false
   },
   "outputs": [
    {
     "ename": "ValueError",
     "evalue": "shapes (3,5) and (4,3) not aligned: 5 (dim 1) != 4 (dim 0)",
     "output_type": "error",
     "traceback": [
      "\u001b[1;31m---------------------------------------------------------------------------\u001b[0m",
      "\u001b[1;31mValueError\u001b[0m                                Traceback (most recent call last)",
      "Cell \u001b[1;32mIn[31], line 1\u001b[0m\n\u001b[1;32m----> 1\u001b[0m \u001b[38;5;28mprint\u001b[39m (\u001b[43mnp\u001b[49m\u001b[38;5;241;43m.\u001b[39;49m\u001b[43mdot\u001b[49m\u001b[43m(\u001b[49m\u001b[43mA\u001b[49m\u001b[43m,\u001b[49m\u001b[43m \u001b[49m\u001b[43mB\u001b[49m\u001b[43m)\u001b[49m)\n",
      "File \u001b[1;32m<__array_function__ internals>:200\u001b[0m, in \u001b[0;36mdot\u001b[1;34m(*args, **kwargs)\u001b[0m\n",
      "\u001b[1;31mValueError\u001b[0m: shapes (3,5) and (4,3) not aligned: 5 (dim 1) != 4 (dim 0)"
     ]
    }
   ],
   "source": [
    "print (np.dot(A, B))"
   ]
  },
  {
   "cell_type": "markdown",
   "metadata": {},
   "source": [
    "These results make sense in accordance with our rule. Multiplying a $3 \\times 5$ matrix on the right by a $4 \\times 3$ matrix results in an error while multiplying a $4 \\times 3$ matrix on the right by a $3 \\times 5$ matrix results in a $4 \\times 5$ matrix."
   ]
  },
  {
   "cell_type": "code",
   "execution_count": 32,
   "metadata": {
    "collapsed": false
   },
   "outputs": [
    {
     "name": "stdout",
     "output_type": "stream",
     "text": [
      "[[ 34  44  54 128 124]\n",
      " [ 21  27  33  79  82]\n",
      " [ 82 101 120 227 216]\n",
      " [108 135 162 333 324]]\n"
     ]
    }
   ],
   "source": [
    "print (np.dot(B, A))"
   ]
  },
  {
   "cell_type": "markdown",
   "metadata": {},
   "source": [
    "### Portfolio Variance\n",
    "\n",
    "Let's return to our portfolio example from before. We calculated the expected return of the portfolio, but how do we calculate the variance? We start by trying to evaluate the portfolio as a sum of each individual asset, scaled by it's weight.\n",
    "\n",
    "$$ VAR[P] = VAR[\\omega_1 S_1 + \\omega_2 S_2 + \\cdots + \\omega_N S_N] $$\n",
    "\n",
    "Where $S_0, \\cdots, S_N$ are the assets contained within our universe. If all of our assets were independent of each other, we could simply evaluate this as\n",
    "\n",
    "$$ VAR[P] = VAR[\\omega_1 S_1] + VAR[\\omega_2 S_2] + \\cdots + VAR[\\omega_N S_N] = \\omega_1^2\\sigma_1^2 + \\omega_2^2\\sigma_2^2 + \\cdots + \\omega_N^2\\sigma_N^2 $$\n",
    "\n",
    "However, all of our assets depend on each other by their construction. They are all in some way related to our base asset and therefore each other. We thus have to calculate the variance of the portfolio by including the individual pairwise covariances of each asset. Our formula for the variance of the portfolio:\n",
    "\n",
    "$$ VAR[P] = \\sigma_P^2 = \\sum_i \\omega_i^2\\sigma_i^2 + \\sum_i\\sum_{i\\neq j} \\omega_i\\omega_j\\sigma_i\\sigma_j\\rho_{i, j}, \\ i, j \\in \\lbrace 1, 2, \\cdots, N \\rbrace $$\n",
    "\n",
    "Where $\\rho_{i,j}$ is the correlation between $S_i$ and $S_j$, $\\rho_{i, j} = \\frac{COV[S_i, S_j]}{\\sigma_i\\sigma_j}$. This seems exceedingly complicated, but we can easily handle all of this using NumPy arrays. First, we calculate the covariance matrix that relates all the individual stocks in our universe."
   ]
  },
  {
   "cell_type": "code",
   "execution_count": 33,
   "metadata": {
    "collapsed": false
   },
   "outputs": [
    {
     "name": "stdout",
     "output_type": "stream",
     "text": [
      "[[0.00060904 0.00056258 0.0005751  0.00059563 0.00060927 0.00061116\n",
      "  0.00053727 0.00051437 0.0006083  0.00051703]\n",
      " [0.00056258 0.00085508 0.00054228 0.00050678 0.00060272 0.00065668\n",
      "  0.00054131 0.00049531 0.00049377 0.00053853]\n",
      " [0.0005751  0.00054228 0.00099083 0.0005845  0.0005804  0.00058964\n",
      "  0.00051038 0.00043276 0.00061553 0.00044671]\n",
      " [0.00059563 0.00050678 0.0005845  0.00103622 0.00066391 0.00058663\n",
      "  0.00049553 0.00049353 0.00058607 0.00042816]\n",
      " [0.00060927 0.00060272 0.0005804  0.00066391 0.00097069 0.00065204\n",
      "  0.00057243 0.00051382 0.00056796 0.00056619]\n",
      " [0.00061116 0.00065668 0.00058964 0.00058663 0.00065204 0.00109976\n",
      "  0.00057579 0.00051616 0.00059559 0.00053468]\n",
      " [0.00053727 0.00054131 0.00051038 0.00049553 0.00057243 0.00057579\n",
      "  0.00081563 0.00051954 0.00053898 0.00045819]\n",
      " [0.00051437 0.00049531 0.00043276 0.00049353 0.00051382 0.00051616\n",
      "  0.00051954 0.00076204 0.00051304 0.00039841]\n",
      " [0.0006083  0.00049377 0.00061553 0.00058607 0.00056796 0.00059559\n",
      "  0.00053898 0.00051304 0.0008943  0.00045497]\n",
      " [0.00051703 0.00053853 0.00044671 0.00042816 0.00056619 0.00053468\n",
      "  0.00045819 0.00039841 0.00045497 0.00083421]]\n"
     ]
    }
   ],
   "source": [
    "cov_mat = np.cov(returns)\n",
    "print (cov_mat)"
   ]
  },
  {
   "cell_type": "markdown",
   "metadata": {},
   "source": [
    "This array is not formatted particularly nicely, but a covariance matrix is a very important concept. The covariance matrix is of the form:\n",
    "\n",
    "$$ \\left[\\begin{matrix}\n",
    "VAR[S_1] & COV[S_1, S_2] & \\cdots & COV[S_1, S_N] \\\\\n",
    "COV[S_2, S_1] & VAR[S_2] & \\cdots & COV[S_2, S_N] \\\\\n",
    "\\vdots & \\vdots & \\ddots & \\vdots \\\\\n",
    "COV[S_N, S_1] & COV[S_N, S_2] & \\cdots & VAR[S_N]\n",
    "\\end{matrix}\\right] $$\n",
    "\n",
    "So each diagonal entry is the variance of that asset at that index and each off-diagonal holds the covariance of two assets indexed by the column and row number. What is important is that once we have the covariance matrix we are able to do some very quick linear algebra to calculate the variance of the overall portfolio. We can represent the variance of the portfolio in array form as:\n",
    "\n",
    "$$ \\sigma_p^2 = \\omega \\ C \\ \\omega^\\intercal$$\n",
    "\n",
    "Where $C$ is the covariance matrix of all the assets and $\\omega$ is the array containing the weights of each individual asset. The superscript $\\intercal$ on the second $\\omega$ listed above denotes the **transpose** of $\\omega$. For a reference on the evaluation of the variance of a portfolio as a matrix equation, please see the Wikipedia article on [modern portfolio theory](https://en.wikipedia.org/wiki/Modern_portfolio_theory).\n",
    "\n",
    "The transpose of an array is what you get when you switch the rows and columns of an array. This has the effect of reflecting an array across what you might imagine as a diagonal. For example, take our array $A$ from before:"
   ]
  },
  {
   "cell_type": "code",
   "execution_count": 34,
   "metadata": {
    "collapsed": false
   },
   "outputs": [
    {
     "name": "stdout",
     "output_type": "stream",
     "text": [
      "[[ 1  2  3 12  6]\n",
      " [ 4  5  6 15 20]\n",
      " [ 7  8  9 10 10]]\n"
     ]
    }
   ],
   "source": [
    "print (A)"
   ]
  },
  {
   "cell_type": "markdown",
   "metadata": {},
   "source": [
    "The transpose looks like a mirror image of the same array."
   ]
  },
  {
   "cell_type": "code",
   "execution_count": 35,
   "metadata": {
    "collapsed": false
   },
   "outputs": [
    {
     "name": "stdout",
     "output_type": "stream",
     "text": [
      "[[ 1  4  7]\n",
      " [ 2  5  8]\n",
      " [ 3  6  9]\n",
      " [12 15 10]\n",
      " [ 6 20 10]]\n"
     ]
    }
   ],
   "source": [
    "print (np.transpose(A))"
   ]
  },
  {
   "cell_type": "markdown",
   "metadata": {},
   "source": [
    "But $\\omega$ here is a 1-dimensional array, a vector! It makes perfect to take the transpose of $A$, a $3 \\times 5$ array, as the output will be a $5 \\times 3$ array, but a 1-dimensional array is not quite as intuitive. A typical 1-dimensional array can be thought of as a $1 \\times n$ horizontal vector. Thus, taking the tranpose of this array essentially means changing it into a $n \\times 1$ vertical vector. This makes sense because 1-dimensional arrays are still arrays and any multiplication done between 1-dimensional and higher dimensional arrays must keep in line with our dimensionality issue of matrix multiplication.\n",
    "\n",
    "To make a long story short, we think of $\\omega$ as $1 \\times N$ since we have $N$ securities. This makes it so that $\\omega^\\intercal$ is $N \\times 1$. Again, our covariance matrix is $N \\times N$. So the overall multiplication works out like so, in informal terms:\n",
    "\n",
    "$$ \\text{Dimensions}(\\sigma_p^2) = \\text{Dimensions}(\\omega C \\omega^\\intercal) = (1 \\times N)\\cdot (N \\times N)\\cdot (N \\times 1) = (1 \\times 1)$$\n",
    "\n",
    "Multiplying the covariance matrix on the left by the plain horizontal vector and on the right by that vector's transpose results in the calculation of a single scalar ($1 \\times 1$) value, our portfolio's variance.\n",
    "\n",
    "So knowing this, let's proceed and calculate the portfolio variance! We can easily calculate the product of these arrays by using `dot()` for matrix multiplication, though this time we have to do it twice."
   ]
  },
  {
   "cell_type": "code",
   "execution_count": 36,
   "metadata": {
    "collapsed": false,
    "scrolled": false
   },
   "outputs": [
    {
     "name": "stdout",
     "output_type": "stream",
     "text": [
      "Portfolio volatility:  0.02488696835061939\n"
     ]
    }
   ],
   "source": [
    "# Calculating the portfolio volatility\n",
    "var_p = np.dot(np.dot(weights, cov_mat), weights.T)\n",
    "vol_p = np.sqrt(var_p)\n",
    "print (\"Portfolio volatility: \", vol_p)"
   ]
  },
  {
   "cell_type": "markdown",
   "metadata": {},
   "source": [
    "To confirm this calculation, let's simply evaluate the volatility of the portfolio using only NumPy functions."
   ]
  },
  {
   "cell_type": "code",
   "execution_count": 37,
   "metadata": {
    "collapsed": false
   },
   "outputs": [
    {
     "name": "stdout",
     "output_type": "stream",
     "text": [
      "Portfolio volatility:  0.024886968350619383\n"
     ]
    }
   ],
   "source": [
    "# Confirming calculation\n",
    "vol_p_alt = np.sqrt(np.var(np.dot(weights, returns), ddof=1))\n",
    "print (\"Portfolio volatility: \", vol_p_alt)"
   ]
  },
  {
   "cell_type": "markdown",
   "metadata": {},
   "source": [
    "The `ddof` parameter is a simple integer input that tells the function the number of degrees of freedom to take into account. This is a more statistical concept, but what this tells us that our matrix calculation is correct!\n",
    "\n",
    "A lot of this might not make sense at first glance. It helps to go back and forth between the theory and the code representations until you have a better grasp of the mathematics involved. It is definitely not necessary to be an expert on linear algebra and on matrix operations, but linear algebra can help to streamline the process of working with large amounts of data. For further reading on NumPy, check out the [documentation](https://docs.scipy.org/doc/numpy/user/index.html)."
   ]
  }
 ],
 "metadata": {
  "kernelspec": {
   "display_name": "Python 3",
   "language": "python",
   "name": "python3"
  },
  "language_info": {
   "codemirror_mode": {
    "name": "ipython",
    "version": 3
   },
   "file_extension": ".py",
   "mimetype": "text/x-python",
   "name": "python",
   "nbconvert_exporter": "python",
   "pygments_lexer": "ipython3",
   "version": "3.10.4"
  }
 },
 "nbformat": 4,
 "nbformat_minor": 0
}
