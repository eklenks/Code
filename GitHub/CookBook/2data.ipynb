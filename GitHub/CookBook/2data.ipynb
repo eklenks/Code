{
 "cells": [
  {
   "cell_type": "markdown",
   "id": "3ddbb763",
   "metadata": {},
   "source": [
    "Please run those two cells before running the Notebook!\n",
    "\n",
    "As those plotting settings are standard throughout the book, we do not show them in the book every time we plot something."
   ]
  },
  {
   "cell_type": "code",
   "execution_count": 3,
   "id": "ad411993",
   "metadata": {
    "ExecuteTime": {
     "end_time": "2020-01-29T10:48:06.120195Z",
     "start_time": "2020-01-29T10:48:05.814125Z"
    }
   },
   "outputs": [],
   "source": [
    "# %matplotlib inline\n",
    "%config InlineBackend.figure_format = \"retina\""
   ]
  },
  {
   "cell_type": "code",
   "execution_count": 4,
   "id": "280fdc8a",
   "metadata": {
    "ExecuteTime": {
     "end_time": "2020-01-29T10:48:13.141309Z",
     "start_time": "2020-01-29T10:48:13.137453Z"
    }
   },
   "outputs": [],
   "source": [
    "import matplotlib.pyplot as plt\n",
    "import seaborn as sns\n",
    "\n",
    "import warnings\n",
    "warnings.simplefilter(action=\"ignore\", category=FutureWarning)\n",
    "\n",
    "# feel free to modify, for example, change the context to \"notebook\"\n",
    "sns.set_theme(context=\"talk\", style=\"whitegrid\", \n",
    "              palette=\"colorblind\", color_codes=True, \n",
    "              rc={\"figure.figsize\": [12, 8]})"
   ]
  },
  {
   "cell_type": "markdown",
   "metadata": {},
   "source": [
    "# Chapter 2 - Data Preprocessing"
   ]
  },
  {
   "cell_type": "markdown",
   "metadata": {},
   "source": [
    "## 2.1 Converting prices to returns"
   ]
  },
  {
   "cell_type": "markdown",
   "metadata": {},
   "source": [
    "### How to do it..."
   ]
  },
  {
   "cell_type": "markdown",
   "metadata": {},
   "source": [
    "1. Import the libraries:"
   ]
  },
  {
   "cell_type": "code",
   "execution_count": 3,
   "metadata": {
    "ExecuteTime": {
     "end_time": "2019-11-30T14:56:23.665431Z",
     "start_time": "2019-11-30T14:56:23.662859Z"
    }
   },
   "outputs": [],
   "source": [
    "import pandas as pd \n",
    "import numpy as np\n",
    "import yfinance as yf"
   ]
  },
  {
   "cell_type": "markdown",
   "metadata": {},
   "source": [
    "2. Download the data and keep the adjusted close prices only:"
   ]
  },
  {
   "cell_type": "code",
   "execution_count": 4,
   "metadata": {
    "ExecuteTime": {
     "end_time": "2019-11-30T14:56:26.081194Z",
     "start_time": "2019-11-30T14:56:25.792578Z"
    }
   },
   "outputs": [],
   "source": [
    "df = yf.download(\"AAPL\", \n",
    "                 start=\"2010-01-01\", \n",
    "                 end=\"2020-12-31\",\n",
    "                 progress=False)\n",
    "\n",
    "df = df.loc[:, [\"Adj Close\"]]"
   ]
  },
  {
   "cell_type": "markdown",
   "metadata": {},
   "source": [
    "3. Convert adjusted close prices to simple and log returns:"
   ]
  },
  {
   "cell_type": "code",
   "execution_count": 5,
   "metadata": {
    "ExecuteTime": {
     "end_time": "2019-11-30T14:56:27.550400Z",
     "start_time": "2019-11-30T14:56:27.543542Z"
    }
   },
   "outputs": [],
   "source": [
    "df[\"simple_rtn\"] = df[\"Adj Close\"].pct_change()\n",
    "df[\"log_rtn\"] = np.log(df[\"Adj Close\"]/df[\"Adj Close\"].shift(1))"
   ]
  },
  {
   "cell_type": "markdown",
   "metadata": {},
   "source": [
    "4. Inspect the output:"
   ]
  },
  {
   "cell_type": "code",
   "execution_count": 6,
   "metadata": {
    "ExecuteTime": {
     "end_time": "2019-11-30T14:56:28.623109Z",
     "start_time": "2019-11-30T14:56:28.615548Z"
    }
   },
   "outputs": [
    {
     "data": {
      "text/html": [
       "<div>\n",
       "<style scoped>\n",
       "    .dataframe tbody tr th:only-of-type {\n",
       "        vertical-align: middle;\n",
       "    }\n",
       "\n",
       "    .dataframe tbody tr th {\n",
       "        vertical-align: top;\n",
       "    }\n",
       "\n",
       "    .dataframe thead th {\n",
       "        text-align: right;\n",
       "    }\n",
       "</style>\n",
       "<table border=\"1\" class=\"dataframe\">\n",
       "  <thead>\n",
       "    <tr style=\"text-align: right;\">\n",
       "      <th></th>\n",
       "      <th>Adj Close</th>\n",
       "      <th>simple_rtn</th>\n",
       "      <th>log_rtn</th>\n",
       "    </tr>\n",
       "    <tr>\n",
       "      <th>Date</th>\n",
       "      <th></th>\n",
       "      <th></th>\n",
       "      <th></th>\n",
       "    </tr>\n",
       "  </thead>\n",
       "  <tbody>\n",
       "    <tr>\n",
       "      <th>2009-12-31</th>\n",
       "      <td>6.444379</td>\n",
       "      <td>NaN</td>\n",
       "      <td>NaN</td>\n",
       "    </tr>\n",
       "    <tr>\n",
       "      <th>2010-01-04</th>\n",
       "      <td>6.544686</td>\n",
       "      <td>0.015565</td>\n",
       "      <td>0.015445</td>\n",
       "    </tr>\n",
       "    <tr>\n",
       "      <th>2010-01-05</th>\n",
       "      <td>6.556003</td>\n",
       "      <td>0.001729</td>\n",
       "      <td>0.001728</td>\n",
       "    </tr>\n",
       "    <tr>\n",
       "      <th>2010-01-06</th>\n",
       "      <td>6.451722</td>\n",
       "      <td>-0.015906</td>\n",
       "      <td>-0.016034</td>\n",
       "    </tr>\n",
       "    <tr>\n",
       "      <th>2010-01-07</th>\n",
       "      <td>6.439794</td>\n",
       "      <td>-0.001849</td>\n",
       "      <td>-0.001851</td>\n",
       "    </tr>\n",
       "  </tbody>\n",
       "</table>\n",
       "</div>"
      ],
      "text/plain": [
       "            Adj Close  simple_rtn   log_rtn\n",
       "Date                                       \n",
       "2009-12-31   6.444379         NaN       NaN\n",
       "2010-01-04   6.544686    0.015565  0.015445\n",
       "2010-01-05   6.556003    0.001729  0.001728\n",
       "2010-01-06   6.451722   -0.015906 -0.016034\n",
       "2010-01-07   6.439794   -0.001849 -0.001851"
      ]
     },
     "execution_count": 6,
     "metadata": {},
     "output_type": "execute_result"
    }
   ],
   "source": [
    "df.head()"
   ]
  },
  {
   "cell_type": "markdown",
   "metadata": {},
   "source": [
    "## 2.2 Adjusting the returns for inflation"
   ]
  },
  {
   "cell_type": "markdown",
   "metadata": {},
   "source": [
    "### How to do it..."
   ]
  },
  {
   "cell_type": "markdown",
   "metadata": {},
   "source": [
    "0. Recreating the steps from the previous recipe:"
   ]
  },
  {
   "cell_type": "code",
   "execution_count": 5,
   "metadata": {},
   "outputs": [],
   "source": [
    "import yfinance as yf\n",
    "\n",
    "df = yf.download(\"AAPL\", \n",
    "                 start=\"2010-01-01\", \n",
    "                 end=\"2020-12-31\",\n",
    "                 progress=False)\n",
    "\n",
    "df = df.loc[:, [\"Adj Close\"]]"
   ]
  },
  {
   "cell_type": "markdown",
   "metadata": {},
   "source": [
    "1. Import libraries and authenticate:"
   ]
  },
  {
   "cell_type": "code",
   "execution_count": 6,
   "metadata": {
    "ExecuteTime": {
     "end_time": "2019-11-30T14:52:47.939066Z",
     "start_time": "2019-11-30T14:52:47.902169Z"
    }
   },
   "outputs": [],
   "source": [
    "import pandas as pd\n",
    "import nasdaqdatalink\n",
    "\n",
    "nasdaqdatalink.ApiConfig.api_key = \"YOUR_KEY_HERE\""
   ]
  },
  {
   "cell_type": "markdown",
   "metadata": {
    "ExecuteTime": {
     "end_time": "2019-04-17T19:59:22.672136Z",
     "start_time": "2019-04-17T19:59:21.804305Z"
    }
   },
   "source": [
    "2. Resample daily prices to monthly:"
   ]
  },
  {
   "cell_type": "code",
   "execution_count": 7,
   "metadata": {},
   "outputs": [
    {
     "data": {
      "text/html": [
       "<div>\n",
       "<style scoped>\n",
       "    .dataframe tbody tr th:only-of-type {\n",
       "        vertical-align: middle;\n",
       "    }\n",
       "\n",
       "    .dataframe tbody tr th {\n",
       "        vertical-align: top;\n",
       "    }\n",
       "\n",
       "    .dataframe thead th {\n",
       "        text-align: right;\n",
       "    }\n",
       "</style>\n",
       "<table border=\"1\" class=\"dataframe\">\n",
       "  <thead>\n",
       "    <tr style=\"text-align: right;\">\n",
       "      <th></th>\n",
       "      <th>Adj Close</th>\n",
       "    </tr>\n",
       "    <tr>\n",
       "      <th>Date</th>\n",
       "      <th></th>\n",
       "    </tr>\n",
       "  </thead>\n",
       "  <tbody>\n",
       "    <tr>\n",
       "      <th>2009-12-31</th>\n",
       "      <td>6.434927</td>\n",
       "    </tr>\n",
       "    <tr>\n",
       "      <th>2010-01-31</th>\n",
       "      <td>5.864813</td>\n",
       "    </tr>\n",
       "    <tr>\n",
       "      <th>2010-02-28</th>\n",
       "      <td>6.248349</td>\n",
       "    </tr>\n",
       "    <tr>\n",
       "      <th>2010-03-31</th>\n",
       "      <td>7.176042</td>\n",
       "    </tr>\n",
       "    <tr>\n",
       "      <th>2010-04-30</th>\n",
       "      <td>7.972735</td>\n",
       "    </tr>\n",
       "    <tr>\n",
       "      <th>...</th>\n",
       "      <td>...</td>\n",
       "    </tr>\n",
       "    <tr>\n",
       "      <th>2020-08-31</th>\n",
       "      <td>127.677979</td>\n",
       "    </tr>\n",
       "    <tr>\n",
       "      <th>2020-09-30</th>\n",
       "      <td>114.587616</td>\n",
       "    </tr>\n",
       "    <tr>\n",
       "      <th>2020-10-31</th>\n",
       "      <td>107.710991</td>\n",
       "    </tr>\n",
       "    <tr>\n",
       "      <th>2020-11-30</th>\n",
       "      <td>117.996666</td>\n",
       "    </tr>\n",
       "    <tr>\n",
       "      <th>2020-12-31</th>\n",
       "      <td>132.536850</td>\n",
       "    </tr>\n",
       "  </tbody>\n",
       "</table>\n",
       "<p>133 rows × 1 columns</p>\n",
       "</div>"
      ],
      "text/plain": [
       "             Adj Close\n",
       "Date                  \n",
       "2009-12-31    6.434927\n",
       "2010-01-31    5.864813\n",
       "2010-02-28    6.248349\n",
       "2010-03-31    7.176042\n",
       "2010-04-30    7.972735\n",
       "...                ...\n",
       "2020-08-31  127.677979\n",
       "2020-09-30  114.587616\n",
       "2020-10-31  107.710991\n",
       "2020-11-30  117.996666\n",
       "2020-12-31  132.536850\n",
       "\n",
       "[133 rows x 1 columns]"
      ]
     },
     "execution_count": 7,
     "metadata": {},
     "output_type": "execute_result"
    }
   ],
   "source": [
    "df = df.resample(\"M\").last()\n",
    "df"
   ]
  },
  {
   "cell_type": "markdown",
   "metadata": {},
   "source": [
    "3. Download inflation data from Nasdaq Data Link:"
   ]
  },
  {
   "cell_type": "code",
   "execution_count": 8,
   "metadata": {
    "ExecuteTime": {
     "end_time": "2019-11-30T15:04:08.530881Z",
     "start_time": "2019-11-30T15:04:07.551059Z"
    }
   },
   "outputs": [],
   "source": [
    "df_cpi = (\n",
    "    nasdaqdatalink.get(dataset=\"RATEINF/CPI_USA\", \n",
    "                       start_date=\"2009-12-01\", \n",
    "                       end_date=\"2020-12-31\")\n",
    "    .rename(columns={\"Value\": \"cpi\"})\n",
    ")"
   ]
  },
  {
   "cell_type": "code",
   "execution_count": 9,
   "metadata": {},
   "outputs": [
    {
     "data": {
      "text/html": [
       "<div>\n",
       "<style scoped>\n",
       "    .dataframe tbody tr th:only-of-type {\n",
       "        vertical-align: middle;\n",
       "    }\n",
       "\n",
       "    .dataframe tbody tr th {\n",
       "        vertical-align: top;\n",
       "    }\n",
       "\n",
       "    .dataframe thead th {\n",
       "        text-align: right;\n",
       "    }\n",
       "</style>\n",
       "<table border=\"1\" class=\"dataframe\">\n",
       "  <thead>\n",
       "    <tr style=\"text-align: right;\">\n",
       "      <th></th>\n",
       "      <th>cpi</th>\n",
       "    </tr>\n",
       "    <tr>\n",
       "      <th>Date</th>\n",
       "      <th></th>\n",
       "    </tr>\n",
       "  </thead>\n",
       "  <tbody>\n",
       "    <tr>\n",
       "      <th>2009-12-31</th>\n",
       "      <td>215.949</td>\n",
       "    </tr>\n",
       "    <tr>\n",
       "      <th>2010-01-31</th>\n",
       "      <td>216.687</td>\n",
       "    </tr>\n",
       "    <tr>\n",
       "      <th>2010-02-28</th>\n",
       "      <td>216.741</td>\n",
       "    </tr>\n",
       "    <tr>\n",
       "      <th>2010-03-31</th>\n",
       "      <td>217.631</td>\n",
       "    </tr>\n",
       "    <tr>\n",
       "      <th>2010-04-30</th>\n",
       "      <td>218.009</td>\n",
       "    </tr>\n",
       "    <tr>\n",
       "      <th>...</th>\n",
       "      <td>...</td>\n",
       "    </tr>\n",
       "    <tr>\n",
       "      <th>2020-08-31</th>\n",
       "      <td>259.918</td>\n",
       "    </tr>\n",
       "    <tr>\n",
       "      <th>2020-09-30</th>\n",
       "      <td>260.280</td>\n",
       "    </tr>\n",
       "    <tr>\n",
       "      <th>2020-10-31</th>\n",
       "      <td>260.388</td>\n",
       "    </tr>\n",
       "    <tr>\n",
       "      <th>2020-11-30</th>\n",
       "      <td>260.229</td>\n",
       "    </tr>\n",
       "    <tr>\n",
       "      <th>2020-12-31</th>\n",
       "      <td>260.474</td>\n",
       "    </tr>\n",
       "  </tbody>\n",
       "</table>\n",
       "<p>133 rows × 1 columns</p>\n",
       "</div>"
      ],
      "text/plain": [
       "                cpi\n",
       "Date               \n",
       "2009-12-31  215.949\n",
       "2010-01-31  216.687\n",
       "2010-02-28  216.741\n",
       "2010-03-31  217.631\n",
       "2010-04-30  218.009\n",
       "...             ...\n",
       "2020-08-31  259.918\n",
       "2020-09-30  260.280\n",
       "2020-10-31  260.388\n",
       "2020-11-30  260.229\n",
       "2020-12-31  260.474\n",
       "\n",
       "[133 rows x 1 columns]"
      ]
     },
     "execution_count": 9,
     "metadata": {},
     "output_type": "execute_result"
    }
   ],
   "source": [
    "df_cpi"
   ]
  },
  {
   "cell_type": "markdown",
   "metadata": {
    "tags": []
   },
   "source": [
    "4. Join inflation data to prices:"
   ]
  },
  {
   "cell_type": "code",
   "execution_count": 10,
   "metadata": {
    "ExecuteTime": {
     "end_time": "2019-11-30T15:04:09.581935Z",
     "start_time": "2019-11-30T15:04:09.578186Z"
    }
   },
   "outputs": [],
   "source": [
    "df = df.join(df_cpi, how=\"left\")"
   ]
  },
  {
   "cell_type": "markdown",
   "metadata": {},
   "source": [
    "5. Calculate simple returns and inflation rate:"
   ]
  },
  {
   "cell_type": "code",
   "execution_count": 11,
   "metadata": {
    "ExecuteTime": {
     "end_time": "2019-11-30T15:04:10.604378Z",
     "start_time": "2019-11-30T15:04:10.597383Z"
    }
   },
   "outputs": [],
   "source": [
    "df[\"simple_rtn\"] = df[\"Adj Close\"].pct_change()\n",
    "df[\"inflation_rate\"] = df[\"cpi\"].pct_change()"
   ]
  },
  {
   "cell_type": "markdown",
   "metadata": {},
   "source": [
    "6. Adjust the returns for inflation:"
   ]
  },
  {
   "cell_type": "code",
   "execution_count": 12,
   "metadata": {
    "ExecuteTime": {
     "end_time": "2019-11-30T15:04:11.654169Z",
     "start_time": "2019-11-30T15:04:11.642959Z"
    }
   },
   "outputs": [
    {
     "data": {
      "text/html": [
       "<div>\n",
       "<style scoped>\n",
       "    .dataframe tbody tr th:only-of-type {\n",
       "        vertical-align: middle;\n",
       "    }\n",
       "\n",
       "    .dataframe tbody tr th {\n",
       "        vertical-align: top;\n",
       "    }\n",
       "\n",
       "    .dataframe thead th {\n",
       "        text-align: right;\n",
       "    }\n",
       "</style>\n",
       "<table border=\"1\" class=\"dataframe\">\n",
       "  <thead>\n",
       "    <tr style=\"text-align: right;\">\n",
       "      <th></th>\n",
       "      <th>Adj Close</th>\n",
       "      <th>cpi</th>\n",
       "      <th>simple_rtn</th>\n",
       "      <th>inflation_rate</th>\n",
       "      <th>real_rtn</th>\n",
       "    </tr>\n",
       "    <tr>\n",
       "      <th>Date</th>\n",
       "      <th></th>\n",
       "      <th></th>\n",
       "      <th></th>\n",
       "      <th></th>\n",
       "      <th></th>\n",
       "    </tr>\n",
       "  </thead>\n",
       "  <tbody>\n",
       "    <tr>\n",
       "      <th>2009-12-31</th>\n",
       "      <td>6.434927</td>\n",
       "      <td>215.949</td>\n",
       "      <td>NaN</td>\n",
       "      <td>NaN</td>\n",
       "      <td>NaN</td>\n",
       "    </tr>\n",
       "    <tr>\n",
       "      <th>2010-01-31</th>\n",
       "      <td>5.864813</td>\n",
       "      <td>216.687</td>\n",
       "      <td>-0.088597</td>\n",
       "      <td>0.003417</td>\n",
       "      <td>-0.091701</td>\n",
       "    </tr>\n",
       "    <tr>\n",
       "      <th>2010-02-28</th>\n",
       "      <td>6.248349</td>\n",
       "      <td>216.741</td>\n",
       "      <td>0.065396</td>\n",
       "      <td>0.000249</td>\n",
       "      <td>0.065131</td>\n",
       "    </tr>\n",
       "    <tr>\n",
       "      <th>2010-03-31</th>\n",
       "      <td>7.176042</td>\n",
       "      <td>217.631</td>\n",
       "      <td>0.148470</td>\n",
       "      <td>0.004106</td>\n",
       "      <td>0.143773</td>\n",
       "    </tr>\n",
       "    <tr>\n",
       "      <th>2010-04-30</th>\n",
       "      <td>7.972735</td>\n",
       "      <td>218.009</td>\n",
       "      <td>0.111021</td>\n",
       "      <td>0.001737</td>\n",
       "      <td>0.109095</td>\n",
       "    </tr>\n",
       "  </tbody>\n",
       "</table>\n",
       "</div>"
      ],
      "text/plain": [
       "            Adj Close      cpi  simple_rtn  inflation_rate  real_rtn\n",
       "Date                                                                \n",
       "2009-12-31   6.434927  215.949         NaN             NaN       NaN\n",
       "2010-01-31   5.864813  216.687   -0.088597        0.003417 -0.091701\n",
       "2010-02-28   6.248349  216.741    0.065396        0.000249  0.065131\n",
       "2010-03-31   7.176042  217.631    0.148470        0.004106  0.143773\n",
       "2010-04-30   7.972735  218.009    0.111021        0.001737  0.109095"
      ]
     },
     "execution_count": 12,
     "metadata": {},
     "output_type": "execute_result"
    }
   ],
   "source": [
    "df[\"real_rtn\"] = (\n",
    "    (df[\"simple_rtn\"] + 1) / (df[\"inflation_rate\"] + 1) - 1\n",
    ")\n",
    "df.head()"
   ]
  },
  {
   "cell_type": "markdown",
   "metadata": {},
   "source": [
    "### There's more"
   ]
  },
  {
   "cell_type": "markdown",
   "metadata": {},
   "source": [
    "1. Import the library:"
   ]
  },
  {
   "cell_type": "code",
   "execution_count": 13,
   "metadata": {},
   "outputs": [
    {
     "name": "stderr",
     "output_type": "stream",
     "text": [
      "/opt/homebrew/Caskroom/miniforge/base/envs/pff2/lib/python3.9/site-packages/cpi/__init__.py:46: StaleDataWarning: CPI data is out of date. To accurately inflate to today's dollars, you must run `cpi.update()`.\n",
      "  warnings.warn(StaleDataWarning())\n"
     ]
    }
   ],
   "source": [
    "import cpi"
   ]
  },
  {
   "cell_type": "code",
   "execution_count": 14,
   "metadata": {},
   "outputs": [],
   "source": [
    "# in the case of seeing the `StaleDataWarning: CPI data is out of date`\n",
    "cpi.update()"
   ]
  },
  {
   "cell_type": "markdown",
   "metadata": {},
   "source": [
    "2. Obtain the default CPI series:"
   ]
  },
  {
   "cell_type": "code",
   "execution_count": 15,
   "metadata": {},
   "outputs": [
    {
     "data": {
      "text/plain": [
       "<Series: CUUR0000SA0: All items in U.S. city average, all urban consumers, not seasonally adjusted>"
      ]
     },
     "execution_count": 15,
     "metadata": {},
     "output_type": "execute_result"
    }
   ],
   "source": [
    "cpi_series = cpi.series.get()\n",
    "cpi_series"
   ]
  },
  {
   "cell_type": "code",
   "execution_count": 16,
   "metadata": {},
   "outputs": [
    {
     "name": "stdout",
     "output_type": "stream",
     "text": [
      "CUUR0000SA0: All items in U.S. city average, all urban consumers, not seasonally adjusted\n"
     ]
    }
   ],
   "source": [
    "print(cpi_series)"
   ]
  },
  {
   "cell_type": "markdown",
   "metadata": {},
   "source": [
    "3. Convert the object into a `pandas` DataFrame:"
   ]
  },
  {
   "cell_type": "code",
   "execution_count": 17,
   "metadata": {},
   "outputs": [],
   "source": [
    "df_cpi_2 = cpi_series.to_dataframe()"
   ]
  },
  {
   "cell_type": "markdown",
   "metadata": {},
   "source": [
    "4. Filter the DataFrame and view the top 12 observations:"
   ]
  },
  {
   "cell_type": "code",
   "execution_count": 18,
   "metadata": {},
   "outputs": [
    {
     "data": {
      "text/html": [
       "<div>\n",
       "<style scoped>\n",
       "    .dataframe tbody tr th:only-of-type {\n",
       "        vertical-align: middle;\n",
       "    }\n",
       "\n",
       "    .dataframe tbody tr th {\n",
       "        vertical-align: top;\n",
       "    }\n",
       "\n",
       "    .dataframe thead th {\n",
       "        text-align: right;\n",
       "    }\n",
       "</style>\n",
       "<table border=\"1\" class=\"dataframe\">\n",
       "  <thead>\n",
       "    <tr style=\"text-align: right;\">\n",
       "      <th></th>\n",
       "      <th>value</th>\n",
       "    </tr>\n",
       "    <tr>\n",
       "      <th>date</th>\n",
       "      <th></th>\n",
       "    </tr>\n",
       "  </thead>\n",
       "  <tbody>\n",
       "    <tr>\n",
       "      <th>2010-01-01</th>\n",
       "      <td>216.687</td>\n",
       "    </tr>\n",
       "    <tr>\n",
       "      <th>2010-02-01</th>\n",
       "      <td>216.741</td>\n",
       "    </tr>\n",
       "    <tr>\n",
       "      <th>2010-03-01</th>\n",
       "      <td>217.631</td>\n",
       "    </tr>\n",
       "    <tr>\n",
       "      <th>2010-04-01</th>\n",
       "      <td>218.009</td>\n",
       "    </tr>\n",
       "    <tr>\n",
       "      <th>2010-05-01</th>\n",
       "      <td>218.178</td>\n",
       "    </tr>\n",
       "    <tr>\n",
       "      <th>2010-06-01</th>\n",
       "      <td>217.965</td>\n",
       "    </tr>\n",
       "    <tr>\n",
       "      <th>2010-07-01</th>\n",
       "      <td>218.011</td>\n",
       "    </tr>\n",
       "    <tr>\n",
       "      <th>2010-08-01</th>\n",
       "      <td>218.312</td>\n",
       "    </tr>\n",
       "    <tr>\n",
       "      <th>2010-09-01</th>\n",
       "      <td>218.439</td>\n",
       "    </tr>\n",
       "    <tr>\n",
       "      <th>2010-10-01</th>\n",
       "      <td>218.711</td>\n",
       "    </tr>\n",
       "    <tr>\n",
       "      <th>2010-11-01</th>\n",
       "      <td>218.803</td>\n",
       "    </tr>\n",
       "    <tr>\n",
       "      <th>2010-12-01</th>\n",
       "      <td>219.179</td>\n",
       "    </tr>\n",
       "  </tbody>\n",
       "</table>\n",
       "</div>"
      ],
      "text/plain": [
       "              value\n",
       "date               \n",
       "2010-01-01  216.687\n",
       "2010-02-01  216.741\n",
       "2010-03-01  217.631\n",
       "2010-04-01  218.009\n",
       "2010-05-01  218.178\n",
       "2010-06-01  217.965\n",
       "2010-07-01  218.011\n",
       "2010-08-01  218.312\n",
       "2010-09-01  218.439\n",
       "2010-10-01  218.711\n",
       "2010-11-01  218.803\n",
       "2010-12-01  219.179"
      ]
     },
     "execution_count": 18,
     "metadata": {},
     "output_type": "execute_result"
    }
   ],
   "source": [
    "df_cpi_2.query(\"period_type == 'monthly' and year >= 2010\") \\\n",
    "        .loc[:, [\"date\", \"value\"]] \\\n",
    "        .set_index(\"date\") \\\n",
    "        .head(12)"
   ]
  },
  {
   "cell_type": "markdown",
   "metadata": {},
   "source": [
    "## 2.3 Changing the frequency of time series data"
   ]
  },
  {
   "cell_type": "markdown",
   "metadata": {},
   "source": [
    "### How to do it..."
   ]
  },
  {
   "cell_type": "markdown",
   "metadata": {},
   "source": [
    "0. Obtain the log returns in case of starting in this recipe:"
   ]
  },
  {
   "cell_type": "code",
   "execution_count": 20,
   "metadata": {
    "ExecuteTime": {
     "end_time": "2020-01-18T19:31:22.287848Z",
     "start_time": "2020-01-18T19:31:21.259418Z"
    }
   },
   "outputs": [
    {
     "data": {
      "text/html": [
       "<div>\n",
       "<style scoped>\n",
       "    .dataframe tbody tr th:only-of-type {\n",
       "        vertical-align: middle;\n",
       "    }\n",
       "\n",
       "    .dataframe tbody tr th {\n",
       "        vertical-align: top;\n",
       "    }\n",
       "\n",
       "    .dataframe thead th {\n",
       "        text-align: right;\n",
       "    }\n",
       "</style>\n",
       "<table border=\"1\" class=\"dataframe\">\n",
       "  <thead>\n",
       "    <tr style=\"text-align: right;\">\n",
       "      <th></th>\n",
       "      <th>log_rtn</th>\n",
       "    </tr>\n",
       "    <tr>\n",
       "      <th>Date</th>\n",
       "      <th></th>\n",
       "    </tr>\n",
       "  </thead>\n",
       "  <tbody>\n",
       "    <tr>\n",
       "      <th>2000-01-03</th>\n",
       "      <td>0.085034</td>\n",
       "    </tr>\n",
       "    <tr>\n",
       "      <th>2000-01-04</th>\n",
       "      <td>-0.088077</td>\n",
       "    </tr>\n",
       "    <tr>\n",
       "      <th>2000-01-05</th>\n",
       "      <td>0.014527</td>\n",
       "    </tr>\n",
       "    <tr>\n",
       "      <th>2000-01-06</th>\n",
       "      <td>-0.090514</td>\n",
       "    </tr>\n",
       "    <tr>\n",
       "      <th>2000-01-07</th>\n",
       "      <td>0.046281</td>\n",
       "    </tr>\n",
       "  </tbody>\n",
       "</table>\n",
       "</div>"
      ],
      "text/plain": [
       "             log_rtn\n",
       "Date                \n",
       "2000-01-03  0.085034\n",
       "2000-01-04 -0.088077\n",
       "2000-01-05  0.014527\n",
       "2000-01-06 -0.090514\n",
       "2000-01-07  0.046281"
      ]
     },
     "execution_count": 20,
     "metadata": {},
     "output_type": "execute_result"
    }
   ],
   "source": [
    "import pandas as pd \n",
    "import yfinance as yf\n",
    "import numpy as np\n",
    "\n",
    "# download data \n",
    "df = yf.download(\"AAPL\", \n",
    "                 start=\"2000-01-01\", \n",
    "                 end=\"2010-12-31\", \n",
    "                 auto_adjust=False,\n",
    "                 progress=False)\n",
    "\n",
    "# keep only the adjusted close price\n",
    "df = df.loc[:, [\"Adj Close\"]] \\\n",
    "       .rename(columns={\"Adj Close\": \"adj_close\"})\n",
    "\n",
    "# calculate simple returns\n",
    "df[\"log_rtn\"] = np.log(df[\"adj_close\"]/df[\"adj_close\"].shift(1))\n",
    "\n",
    "# remove redundant data\n",
    "df = df.drop(\"adj_close\", axis=1) \\\n",
    "       .dropna(axis=0)\n",
    "\n",
    "df.head()"
   ]
  },
  {
   "cell_type": "markdown",
   "metadata": {
    "ExecuteTime": {
     "end_time": "2019-04-17T19:59:24.710535Z",
     "start_time": "2019-04-17T19:59:23.359839Z"
    }
   },
   "source": [
    "1. Import the libraries:"
   ]
  },
  {
   "cell_type": "code",
   "execution_count": 21,
   "metadata": {
    "ExecuteTime": {
     "end_time": "2020-01-18T19:31:22.518995Z",
     "start_time": "2020-01-18T19:31:22.516127Z"
    }
   },
   "outputs": [],
   "source": [
    "import pandas as pd \n",
    "import numpy as np"
   ]
  },
  {
   "cell_type": "markdown",
   "metadata": {
    "ExecuteTime": {
     "end_time": "2019-04-17T19:59:24.710535Z",
     "start_time": "2019-04-17T19:59:23.359839Z"
    }
   },
   "source": [
    "2. Define the function for calculating the realized volatility:"
   ]
  },
  {
   "cell_type": "code",
   "execution_count": 22,
   "metadata": {
    "ExecuteTime": {
     "end_time": "2020-01-18T19:31:23.284265Z",
     "start_time": "2020-01-18T19:31:23.281316Z"
    }
   },
   "outputs": [],
   "source": [
    "def realized_volatility(x):\n",
    "    return np.sqrt(np.sum(x**2))"
   ]
  },
  {
   "cell_type": "markdown",
   "metadata": {},
   "source": [
    "3. Calculate monthly realized volatility:"
   ]
  },
  {
   "cell_type": "code",
   "execution_count": 25,
   "metadata": {
    "ExecuteTime": {
     "end_time": "2020-01-18T19:31:23.828166Z",
     "start_time": "2020-01-18T19:31:23.658707Z"
    }
   },
   "outputs": [],
   "source": [
    "df_rv = (\n",
    "    df.groupby(pd.Grouper(freq=\"M\"))\n",
    "    .apply(realized_volatility)\n",
    "    .rename(columns={\"log_rtn\": \"rv\"})\n",
    ")"
   ]
  },
  {
   "cell_type": "markdown",
   "metadata": {},
   "source": [
    "4. Annualize the values:"
   ]
  },
  {
   "cell_type": "code",
   "execution_count": 26,
   "metadata": {
    "ExecuteTime": {
     "end_time": "2020-01-18T19:31:24.018004Z",
     "start_time": "2020-01-18T19:31:24.013998Z"
    }
   },
   "outputs": [],
   "source": [
    "df_rv.rv = df_rv[\"rv\"] * np.sqrt(12)"
   ]
  },
  {
   "cell_type": "markdown",
   "metadata": {},
   "source": [
    "5. Plot the results:"
   ]
  },
  {
   "cell_type": "code",
   "execution_count": 28,
   "metadata": {
    "ExecuteTime": {
     "end_time": "2020-01-18T19:33:05.785614Z",
     "start_time": "2020-01-18T19:33:03.920890Z"
    }
   },
   "outputs": [
    {
     "data": {
      "image/png": "[encoded data removed]",
      "text/plain": [
       "<Figure size 864x576 with 2 Axes>"
      ]
     },
     "metadata": {
      "image/png": {
       "height": 551,
       "width": 839
      }
     },
     "output_type": "display_data"
    }
   ],
   "source": [
    "fig, ax = plt.subplots(2, 1, sharex=True)\n",
    "ax[0].plot(df)\n",
    "ax[0].set_title(\"Apple's log returns (2000-2012)\")\n",
    "ax[1].plot(df_rv)\n",
    "ax[1].set_title(\"Annualized realized volatility\")\n",
    "\n",
    "sns.despine()\n",
    "plt.tight_layout()\n",
    "# plt.savefig('images/figure_2_5', dpi=200)"
   ]
  },
  {
   "cell_type": "markdown",
   "metadata": {},
   "source": [
    "## 2.4 Different ways of imputing missing data"
   ]
  },
  {
   "cell_type": "markdown",
   "metadata": {},
   "source": [
    "### How to do it..."
   ]
  },
  {
   "cell_type": "markdown",
   "metadata": {},
   "source": [
    "1. Import the libraries:"
   ]
  },
  {
   "cell_type": "code",
   "execution_count": 29,
   "metadata": {},
   "outputs": [],
   "source": [
    "import pandas as pd\n",
    "import numpy as np\n",
    "import nasdaqdatalink"
   ]
  },
  {
   "cell_type": "markdown",
   "metadata": {},
   "source": [
    "2. Download the inflation data from Nasdaq Data Link:"
   ]
  },
  {
   "cell_type": "code",
   "execution_count": 30,
   "metadata": {},
   "outputs": [],
   "source": [
    "nasdaqdatalink.ApiConfig.api_key = \"YOUR_KEY_HERE\" \n",
    "\n",
    "df = (\n",
    "    nasdaqdatalink.get(dataset=\"RATEINF/CPI_USA\", \n",
    "                       start_date=\"2015-01-01\", \n",
    "                       end_date=\"2020-12-31\")\n",
    "    .rename(columns={\"Value\": \"cpi\"})\n",
    ")"
   ]
  },
  {
   "cell_type": "markdown",
   "metadata": {},
   "source": [
    "3. Introduce 5 missing values at random:"
   ]
  },
  {
   "cell_type": "code",
   "execution_count": 31,
   "metadata": {},
   "outputs": [
    {
     "data": {
      "text/html": [
       "<div>\n",
       "<style scoped>\n",
       "    .dataframe tbody tr th:only-of-type {\n",
       "        vertical-align: middle;\n",
       "    }\n",
       "\n",
       "    .dataframe tbody tr th {\n",
       "        vertical-align: top;\n",
       "    }\n",
       "\n",
       "    .dataframe thead th {\n",
       "        text-align: right;\n",
       "    }\n",
       "</style>\n",
       "<table border=\"1\" class=\"dataframe\">\n",
       "  <thead>\n",
       "    <tr style=\"text-align: right;\">\n",
       "      <th></th>\n",
       "      <th>cpi</th>\n",
       "      <th>cpi_missing</th>\n",
       "    </tr>\n",
       "    <tr>\n",
       "      <th>Date</th>\n",
       "      <th></th>\n",
       "      <th></th>\n",
       "    </tr>\n",
       "  </thead>\n",
       "  <tbody>\n",
       "    <tr>\n",
       "      <th>2015-01-31</th>\n",
       "      <td>233.707</td>\n",
       "      <td>NaN</td>\n",
       "    </tr>\n",
       "    <tr>\n",
       "      <th>2015-02-28</th>\n",
       "      <td>234.722</td>\n",
       "      <td>234.722</td>\n",
       "    </tr>\n",
       "    <tr>\n",
       "      <th>2015-03-31</th>\n",
       "      <td>236.119</td>\n",
       "      <td>236.119</td>\n",
       "    </tr>\n",
       "    <tr>\n",
       "      <th>2015-04-30</th>\n",
       "      <td>236.599</td>\n",
       "      <td>236.599</td>\n",
       "    </tr>\n",
       "    <tr>\n",
       "      <th>2015-05-31</th>\n",
       "      <td>237.805</td>\n",
       "      <td>NaN</td>\n",
       "    </tr>\n",
       "  </tbody>\n",
       "</table>\n",
       "</div>"
      ],
      "text/plain": [
       "                cpi  cpi_missing\n",
       "Date                            \n",
       "2015-01-31  233.707          NaN\n",
       "2015-02-28  234.722      234.722\n",
       "2015-03-31  236.119      236.119\n",
       "2015-04-30  236.599      236.599\n",
       "2015-05-31  237.805          NaN"
      ]
     },
     "execution_count": 31,
     "metadata": {},
     "output_type": "execute_result"
    }
   ],
   "source": [
    "np.random.seed(42)\n",
    "rand_indices = np.random.choice(df.index, 5, replace=False)\n",
    "\n",
    "df[\"cpi_missing\"] = df.loc[:, \"cpi\"]\n",
    "df.loc[rand_indices, \"cpi_missing\"] = np.nan\n",
    "df.head()"
   ]
  },
  {
   "cell_type": "markdown",
   "metadata": {},
   "source": [
    "4. Fill the missing values using different methods:"
   ]
  },
  {
   "cell_type": "code",
   "execution_count": 32,
   "metadata": {},
   "outputs": [],
   "source": [
    "for method in [\"bfill\", \"ffill\"]:\n",
    "    df[f\"method_{method}\"] = (\n",
    "        df[[\"cpi_missing\"]].fillna(method=method)\n",
    "    )"
   ]
  },
  {
   "cell_type": "markdown",
   "metadata": {},
   "source": [
    "5. Inspect the results by displaying the rows in which we created the missing values:"
   ]
  },
  {
   "cell_type": "code",
   "execution_count": 33,
   "metadata": {},
   "outputs": [
    {
     "data": {
      "text/html": [
       "<div>\n",
       "<style scoped>\n",
       "    .dataframe tbody tr th:only-of-type {\n",
       "        vertical-align: middle;\n",
       "    }\n",
       "\n",
       "    .dataframe tbody tr th {\n",
       "        vertical-align: top;\n",
       "    }\n",
       "\n",
       "    .dataframe thead th {\n",
       "        text-align: right;\n",
       "    }\n",
       "</style>\n",
       "<table border=\"1\" class=\"dataframe\">\n",
       "  <thead>\n",
       "    <tr style=\"text-align: right;\">\n",
       "      <th></th>\n",
       "      <th>cpi</th>\n",
       "      <th>cpi_missing</th>\n",
       "      <th>method_bfill</th>\n",
       "      <th>method_ffill</th>\n",
       "    </tr>\n",
       "    <tr>\n",
       "      <th>Date</th>\n",
       "      <th></th>\n",
       "      <th></th>\n",
       "      <th></th>\n",
       "      <th></th>\n",
       "    </tr>\n",
       "  </thead>\n",
       "  <tbody>\n",
       "    <tr>\n",
       "      <th>2015-01-31</th>\n",
       "      <td>233.707</td>\n",
       "      <td>NaN</td>\n",
       "      <td>234.722</td>\n",
       "      <td>NaN</td>\n",
       "    </tr>\n",
       "    <tr>\n",
       "      <th>2015-05-31</th>\n",
       "      <td>237.805</td>\n",
       "      <td>NaN</td>\n",
       "      <td>238.638</td>\n",
       "      <td>236.599</td>\n",
       "    </tr>\n",
       "    <tr>\n",
       "      <th>2016-07-31</th>\n",
       "      <td>240.647</td>\n",
       "      <td>NaN</td>\n",
       "      <td>240.849</td>\n",
       "      <td>241.038</td>\n",
       "    </tr>\n",
       "    <tr>\n",
       "      <th>2017-05-31</th>\n",
       "      <td>244.733</td>\n",
       "      <td>NaN</td>\n",
       "      <td>244.955</td>\n",
       "      <td>244.524</td>\n",
       "    </tr>\n",
       "    <tr>\n",
       "      <th>2020-03-31</th>\n",
       "      <td>258.115</td>\n",
       "      <td>NaN</td>\n",
       "      <td>256.389</td>\n",
       "      <td>258.678</td>\n",
       "    </tr>\n",
       "  </tbody>\n",
       "</table>\n",
       "</div>"
      ],
      "text/plain": [
       "                cpi  cpi_missing  method_bfill  method_ffill\n",
       "Date                                                        \n",
       "2015-01-31  233.707          NaN       234.722           NaN\n",
       "2015-05-31  237.805          NaN       238.638       236.599\n",
       "2016-07-31  240.647          NaN       240.849       241.038\n",
       "2017-05-31  244.733          NaN       244.955       244.524\n",
       "2020-03-31  258.115          NaN       256.389       258.678"
      ]
     },
     "execution_count": 33,
     "metadata": {},
     "output_type": "execute_result"
    }
   ],
   "source": [
    "df.loc[rand_indices].sort_index()"
   ]
  },
  {
   "cell_type": "markdown",
   "metadata": {},
   "source": [
    "6. Plot the results for years 2015-2016:"
   ]
  },
  {
   "cell_type": "code",
   "execution_count": 34,
   "metadata": {
    "tags": []
   },
   "outputs": [
    {
     "data": {
      "image/png": "[encoded data removed]",
      "text/plain": [
       "<Figure size 864x576 with 1 Axes>"
      ]
     },
     "metadata": {
      "image/png": {
       "height": 550,
       "width": 839
      }
     },
     "output_type": "display_data"
    }
   ],
   "source": [
    "df.loc[:\"2017-01-01\"] \\\n",
    "  .drop(columns=[\"cpi_missing\"]) \\\n",
    "  .plot(title=\"Different ways of filling missing values\");\n",
    "\n",
    "sns.despine()\n",
    "plt.tight_layout()\n",
    "# plt.savefig('images/figure_2_8', dpi=200)"
   ]
  },
  {
   "cell_type": "markdown",
   "metadata": {},
   "source": [
    "### There's more"
   ]
  },
  {
   "cell_type": "markdown",
   "metadata": {},
   "source": [
    "1. Use linear interpolation to fill the missing values:"
   ]
  },
  {
   "cell_type": "code",
   "execution_count": 35,
   "metadata": {},
   "outputs": [],
   "source": [
    "df[\"method_interpolate\"] = df[[\"cpi_missing\"]].interpolate()"
   ]
  },
  {
   "cell_type": "markdown",
   "metadata": {},
   "source": [
    "2. Inspect the results:"
   ]
  },
  {
   "cell_type": "code",
   "execution_count": 36,
   "metadata": {},
   "outputs": [
    {
     "data": {
      "text/html": [
       "<div>\n",
       "<style scoped>\n",
       "    .dataframe tbody tr th:only-of-type {\n",
       "        vertical-align: middle;\n",
       "    }\n",
       "\n",
       "    .dataframe tbody tr th {\n",
       "        vertical-align: top;\n",
       "    }\n",
       "\n",
       "    .dataframe thead th {\n",
       "        text-align: right;\n",
       "    }\n",
       "</style>\n",
       "<table border=\"1\" class=\"dataframe\">\n",
       "  <thead>\n",
       "    <tr style=\"text-align: right;\">\n",
       "      <th></th>\n",
       "      <th>cpi</th>\n",
       "      <th>cpi_missing</th>\n",
       "      <th>method_bfill</th>\n",
       "      <th>method_ffill</th>\n",
       "      <th>method_interpolate</th>\n",
       "    </tr>\n",
       "    <tr>\n",
       "      <th>Date</th>\n",
       "      <th></th>\n",
       "      <th></th>\n",
       "      <th></th>\n",
       "      <th></th>\n",
       "      <th></th>\n",
       "    </tr>\n",
       "  </thead>\n",
       "  <tbody>\n",
       "    <tr>\n",
       "      <th>2015-01-31</th>\n",
       "      <td>233.707</td>\n",
       "      <td>NaN</td>\n",
       "      <td>234.722</td>\n",
       "      <td>NaN</td>\n",
       "      <td>NaN</td>\n",
       "    </tr>\n",
       "    <tr>\n",
       "      <th>2015-05-31</th>\n",
       "      <td>237.805</td>\n",
       "      <td>NaN</td>\n",
       "      <td>238.638</td>\n",
       "      <td>236.599</td>\n",
       "      <td>237.6185</td>\n",
       "    </tr>\n",
       "    <tr>\n",
       "      <th>2016-07-31</th>\n",
       "      <td>240.647</td>\n",
       "      <td>NaN</td>\n",
       "      <td>240.849</td>\n",
       "      <td>241.038</td>\n",
       "      <td>240.9435</td>\n",
       "    </tr>\n",
       "    <tr>\n",
       "      <th>2017-05-31</th>\n",
       "      <td>244.733</td>\n",
       "      <td>NaN</td>\n",
       "      <td>244.955</td>\n",
       "      <td>244.524</td>\n",
       "      <td>244.7395</td>\n",
       "    </tr>\n",
       "    <tr>\n",
       "      <th>2020-03-31</th>\n",
       "      <td>258.115</td>\n",
       "      <td>NaN</td>\n",
       "      <td>256.389</td>\n",
       "      <td>258.678</td>\n",
       "      <td>257.5335</td>\n",
       "    </tr>\n",
       "  </tbody>\n",
       "</table>\n",
       "</div>"
      ],
      "text/plain": [
       "                cpi  cpi_missing  method_bfill  method_ffill  \\\n",
       "Date                                                           \n",
       "2015-01-31  233.707          NaN       234.722           NaN   \n",
       "2015-05-31  237.805          NaN       238.638       236.599   \n",
       "2016-07-31  240.647          NaN       240.849       241.038   \n",
       "2017-05-31  244.733          NaN       244.955       244.524   \n",
       "2020-03-31  258.115          NaN       256.389       258.678   \n",
       "\n",
       "            method_interpolate  \n",
       "Date                            \n",
       "2015-01-31                 NaN  \n",
       "2015-05-31            237.6185  \n",
       "2016-07-31            240.9435  \n",
       "2017-05-31            244.7395  \n",
       "2020-03-31            257.5335  "
      ]
     },
     "execution_count": 36,
     "metadata": {},
     "output_type": "execute_result"
    }
   ],
   "source": [
    "df.loc[rand_indices].sort_index()"
   ]
  },
  {
   "cell_type": "markdown",
   "metadata": {},
   "source": [
    "3. Plot the results:"
   ]
  },
  {
   "cell_type": "code",
   "execution_count": 37,
   "metadata": {},
   "outputs": [
    {
     "data": {
      "image/png": "[encoded data removed]",
      "text/plain": [
       "<Figure size 864x576 with 1 Axes>"
      ]
     },
     "metadata": {
      "image/png": {
       "height": 550,
       "width": 839
      }
     },
     "output_type": "display_data"
    }
   ],
   "source": [
    "df.loc[:\"2017-01-01\"] \\\n",
    "  .drop(columns=[\"cpi_missing\"]) \\\n",
    "  .plot(title=\"Different ways of filling missing values\");\n",
    "\n",
    "sns.despine()\n",
    "plt.tight_layout()\n",
    "# plt.savefig('images/figure_2_10', dpi=200)"
   ]
  },
  {
   "cell_type": "markdown",
   "metadata": {},
   "source": [
    "## 2.5 Converting currencies"
   ]
  },
  {
   "cell_type": "markdown",
   "metadata": {},
   "source": [
    "### How to do it..."
   ]
  },
  {
   "cell_type": "markdown",
   "metadata": {},
   "source": [
    "1. Import the libraries:"
   ]
  },
  {
   "cell_type": "code",
   "execution_count": 38,
   "metadata": {},
   "outputs": [],
   "source": [
    "import pandas as pd \n",
    "import yfinance as yf\n",
    "from forex_python.converter import CurrencyRates\n"
   ]
  },
  {
   "cell_type": "markdown",
   "metadata": {},
   "source": [
    "2. Download Apple's OHLC prices from January 2020:"
   ]
  },
  {
   "cell_type": "code",
   "execution_count": 39,
   "metadata": {},
   "outputs": [],
   "source": [
    "df = yf.download(\"AAPL\", \n",
    "                 start=\"2020-01-01\", \n",
    "                 end=\"2020-01-31\",\n",
    "                 progress=False)\n",
    "df = df.drop(columns=[\"Adj Close\", \"Volume\"])"
   ]
  },
  {
   "cell_type": "markdown",
   "metadata": {},
   "source": [
    "3. Instantiate the `CurrencyRates` object:"
   ]
  },
  {
   "cell_type": "code",
   "execution_count": 40,
   "metadata": {},
   "outputs": [],
   "source": [
    "c = CurrencyRates()"
   ]
  },
  {
   "cell_type": "markdown",
   "metadata": {},
   "source": [
    "4. Download the USD/EUR rate for each required date:"
   ]
  },
  {
   "cell_type": "code",
   "execution_count": 41,
   "metadata": {},
   "outputs": [],
   "source": [
    "df[\"usd_eur\"] = [c.get_rate(\"USD\", \"EUR\", date) for date in df.index]"
   ]
  },
  {
   "cell_type": "markdown",
   "metadata": {},
   "source": [
    "5. Convert the prices in USD to EUR:"
   ]
  },
  {
   "cell_type": "code",
   "execution_count": 43,
   "metadata": {},
   "outputs": [
    {
     "data": {
      "text/html": [
       "<div>\n",
       "<style scoped>\n",
       "    .dataframe tbody tr th:only-of-type {\n",
       "        vertical-align: middle;\n",
       "    }\n",
       "\n",
       "    .dataframe tbody tr th {\n",
       "        vertical-align: top;\n",
       "    }\n",
       "\n",
       "    .dataframe thead th {\n",
       "        text-align: right;\n",
       "    }\n",
       "</style>\n",
       "<table border=\"1\" class=\"dataframe\">\n",
       "  <thead>\n",
       "    <tr style=\"text-align: right;\">\n",
       "      <th></th>\n",
       "      <th>Open</th>\n",
       "      <th>High</th>\n",
       "      <th>Low</th>\n",
       "      <th>Close</th>\n",
       "      <th>usd_eur</th>\n",
       "      <th>Open_EUR</th>\n",
       "      <th>High_EUR</th>\n",
       "      <th>Low_EUR</th>\n",
       "      <th>Close_EUR</th>\n",
       "      <th>usd_eur_EUR</th>\n",
       "      <th>Open_EUR_EUR</th>\n",
       "      <th>High_EUR_EUR</th>\n",
       "      <th>Low_EUR_EUR</th>\n",
       "    </tr>\n",
       "    <tr>\n",
       "      <th>Date</th>\n",
       "      <th></th>\n",
       "      <th></th>\n",
       "      <th></th>\n",
       "      <th></th>\n",
       "      <th></th>\n",
       "      <th></th>\n",
       "      <th></th>\n",
       "      <th></th>\n",
       "      <th></th>\n",
       "      <th></th>\n",
       "      <th></th>\n",
       "      <th></th>\n",
       "      <th></th>\n",
       "    </tr>\n",
       "  </thead>\n",
       "  <tbody>\n",
       "    <tr>\n",
       "      <th>2019-12-31</th>\n",
       "      <td>72.482</td>\n",
       "      <td>73.420</td>\n",
       "      <td>72.380</td>\n",
       "      <td>73.412</td>\n",
       "      <td>0.890</td>\n",
       "      <td>64.521</td>\n",
       "      <td>65.355</td>\n",
       "      <td>64.429</td>\n",
       "      <td>65.348</td>\n",
       "      <td>0.792</td>\n",
       "      <td>57.433</td>\n",
       "      <td>58.176</td>\n",
       "      <td>57.352</td>\n",
       "    </tr>\n",
       "    <tr>\n",
       "      <th>2020-01-02</th>\n",
       "      <td>74.060</td>\n",
       "      <td>75.150</td>\n",
       "      <td>73.798</td>\n",
       "      <td>75.088</td>\n",
       "      <td>0.893</td>\n",
       "      <td>66.166</td>\n",
       "      <td>67.140</td>\n",
       "      <td>65.932</td>\n",
       "      <td>67.084</td>\n",
       "      <td>0.798</td>\n",
       "      <td>59.114</td>\n",
       "      <td>59.984</td>\n",
       "      <td>58.905</td>\n",
       "    </tr>\n",
       "    <tr>\n",
       "      <th>2020-01-03</th>\n",
       "      <td>74.287</td>\n",
       "      <td>75.145</td>\n",
       "      <td>74.125</td>\n",
       "      <td>74.357</td>\n",
       "      <td>0.897</td>\n",
       "      <td>66.643</td>\n",
       "      <td>67.413</td>\n",
       "      <td>66.498</td>\n",
       "      <td>66.706</td>\n",
       "      <td>0.805</td>\n",
       "      <td>59.786</td>\n",
       "      <td>60.476</td>\n",
       "      <td>59.655</td>\n",
       "    </tr>\n",
       "    <tr>\n",
       "      <th>2020-01-06</th>\n",
       "      <td>73.448</td>\n",
       "      <td>74.990</td>\n",
       "      <td>73.188</td>\n",
       "      <td>74.950</td>\n",
       "      <td>0.893</td>\n",
       "      <td>65.613</td>\n",
       "      <td>66.991</td>\n",
       "      <td>65.381</td>\n",
       "      <td>66.956</td>\n",
       "      <td>0.798</td>\n",
       "      <td>58.615</td>\n",
       "      <td>59.846</td>\n",
       "      <td>58.407</td>\n",
       "    </tr>\n",
       "    <tr>\n",
       "      <th>2020-01-07</th>\n",
       "      <td>74.960</td>\n",
       "      <td>75.225</td>\n",
       "      <td>74.370</td>\n",
       "      <td>74.598</td>\n",
       "      <td>0.895</td>\n",
       "      <td>67.096</td>\n",
       "      <td>67.334</td>\n",
       "      <td>66.568</td>\n",
       "      <td>66.772</td>\n",
       "      <td>0.801</td>\n",
       "      <td>60.058</td>\n",
       "      <td>60.270</td>\n",
       "      <td>59.585</td>\n",
       "    </tr>\n",
       "  </tbody>\n",
       "</table>\n",
       "</div>"
      ],
      "text/plain": [
       "              Open    High     Low   Close  usd_eur  Open_EUR  High_EUR  \\\n",
       "Date                                                                      \n",
       "2019-12-31  72.482  73.420  72.380  73.412    0.890    64.521    65.355   \n",
       "2020-01-02  74.060  75.150  73.798  75.088    0.893    66.166    67.140   \n",
       "2020-01-03  74.287  75.145  74.125  74.357    0.897    66.643    67.413   \n",
       "2020-01-06  73.448  74.990  73.188  74.950    0.893    65.613    66.991   \n",
       "2020-01-07  74.960  75.225  74.370  74.598    0.895    67.096    67.334   \n",
       "\n",
       "            Low_EUR  Close_EUR  usd_eur_EUR  Open_EUR_EUR  High_EUR_EUR  \\\n",
       "Date                                                                      \n",
       "2019-12-31   64.429     65.348        0.792        57.433        58.176   \n",
       "2020-01-02   65.932     67.084        0.798        59.114        59.984   \n",
       "2020-01-03   66.498     66.706        0.805        59.786        60.476   \n",
       "2020-01-06   65.381     66.956        0.798        58.615        59.846   \n",
       "2020-01-07   66.568     66.772        0.801        60.058        60.270   \n",
       "\n",
       "            Low_EUR_EUR  \n",
       "Date                     \n",
       "2019-12-31       57.352  \n",
       "2020-01-02       58.905  \n",
       "2020-01-03       59.655  \n",
       "2020-01-06       58.407  \n",
       "2020-01-07       59.585  "
      ]
     },
     "execution_count": 43,
     "metadata": {},
     "output_type": "execute_result"
    }
   ],
   "source": [
    "for column in df.columns[:-1]:\n",
    "    df[f\"{column}_EUR\"] = df[column] * df[\"usd_eur\"]\n",
    "df.head().round(3)"
   ]
  },
  {
   "cell_type": "markdown",
   "metadata": {},
   "source": [
    "### There's more"
   ]
  },
  {
   "cell_type": "markdown",
   "metadata": {},
   "source": [
    "1. Get the USD exchange rates to 31 available currencies:"
   ]
  },
  {
   "cell_type": "code",
   "execution_count": 44,
   "metadata": {},
   "outputs": [
    {
     "data": {
      "text/plain": [
       "{'EUR': 0.8815232722143864,\n",
       " 'JPY': 115.10930888575459,\n",
       " 'BGN': 1.7240832157968968,\n",
       " 'CZK': 21.573519040902678,\n",
       " 'DKK': 6.557475317348377,\n",
       " 'GBP': 0.7357457686882933,\n",
       " 'HUF': 314.92418899858956,\n",
       " 'PLN': 4.00925599435825,\n",
       " 'RON': 4.360719322990127,\n",
       " 'SEK': 9.313998589562763,\n",
       " 'CHF': 0.9195169252468264,\n",
       " 'ISK': 124.47108603667135,\n",
       " 'NOK': 8.844763751763047,\n",
       " 'HRK': 6.643335684062059,\n",
       " 'RUB': 80.11204160789843,\n",
       " 'TRY': 13.8285437235543,\n",
       " 'AUD': 1.3744710860366711,\n",
       " 'BRL': 5.007757404795486,\n",
       " 'CAD': 1.2688645980253879,\n",
       " 'CNY': 6.317789139633286,\n",
       " 'HKD': 7.8040373765867415,\n",
       " 'IDR': 14342.489421720733,\n",
       " 'INR': 74.58876939351198,\n",
       " 'KRW': 1190.259167842031,\n",
       " 'MXN': 20.193846967559942,\n",
       " 'MYR': 4.185472496473907,\n",
       " 'NZD': 1.470292665726375,\n",
       " 'PHP': 51.11071932299012,\n",
       " 'SGD': 1.3445874471086037,\n",
       " 'THB': 32.264633286318755,\n",
       " 'ZAR': 15.030677009873058}"
      ]
     },
     "execution_count": 44,
     "metadata": {},
     "output_type": "execute_result"
    }
   ],
   "source": [
    "usd_rates = c.get_rates(\"USD\")\n",
    "usd_rates"
   ]
  },
  {
   "cell_type": "code",
   "execution_count": 45,
   "metadata": {},
   "outputs": [
    {
     "data": {
      "text/plain": [
       "31"
      ]
     },
     "execution_count": 45,
     "metadata": {},
     "output_type": "execute_result"
    }
   ],
   "source": [
    "len(usd_rates)"
   ]
  },
  {
   "cell_type": "markdown",
   "metadata": {},
   "source": [
    "2. Download the USD/EUR exchange rate from Yahoo Finance:"
   ]
  },
  {
   "cell_type": "code",
   "execution_count": 46,
   "metadata": {},
   "outputs": [
    {
     "data": {
      "text/html": [
       "<div>\n",
       "<style scoped>\n",
       "    .dataframe tbody tr th:only-of-type {\n",
       "        vertical-align: middle;\n",
       "    }\n",
       "\n",
       "    .dataframe tbody tr th {\n",
       "        vertical-align: top;\n",
       "    }\n",
       "\n",
       "    .dataframe thead th {\n",
       "        text-align: right;\n",
       "    }\n",
       "</style>\n",
       "<table border=\"1\" class=\"dataframe\">\n",
       "  <thead>\n",
       "    <tr style=\"text-align: right;\">\n",
       "      <th></th>\n",
       "      <th>Open</th>\n",
       "      <th>High</th>\n",
       "      <th>Low</th>\n",
       "      <th>Close</th>\n",
       "      <th>Adj Close</th>\n",
       "      <th>Volume</th>\n",
       "    </tr>\n",
       "    <tr>\n",
       "      <th>Date</th>\n",
       "      <th></th>\n",
       "      <th></th>\n",
       "      <th></th>\n",
       "      <th></th>\n",
       "      <th></th>\n",
       "      <th></th>\n",
       "    </tr>\n",
       "  </thead>\n",
       "  <tbody>\n",
       "    <tr>\n",
       "      <th>2003-12-01</th>\n",
       "      <td>0.83098</td>\n",
       "      <td>0.83724</td>\n",
       "      <td>0.83056</td>\n",
       "      <td>0.83577</td>\n",
       "      <td>0.83577</td>\n",
       "      <td>0</td>\n",
       "    </tr>\n",
       "    <tr>\n",
       "      <th>2003-12-02</th>\n",
       "      <td>0.83605</td>\n",
       "      <td>0.83710</td>\n",
       "      <td>0.82583</td>\n",
       "      <td>0.82720</td>\n",
       "      <td>0.82720</td>\n",
       "      <td>0</td>\n",
       "    </tr>\n",
       "    <tr>\n",
       "      <th>2003-12-03</th>\n",
       "      <td>0.82713</td>\n",
       "      <td>0.82802</td>\n",
       "      <td>0.82440</td>\n",
       "      <td>0.82488</td>\n",
       "      <td>0.82488</td>\n",
       "      <td>0</td>\n",
       "    </tr>\n",
       "    <tr>\n",
       "      <th>2003-12-04</th>\n",
       "      <td>0.82508</td>\n",
       "      <td>0.83029</td>\n",
       "      <td>0.82345</td>\n",
       "      <td>0.82775</td>\n",
       "      <td>0.82775</td>\n",
       "      <td>0</td>\n",
       "    </tr>\n",
       "    <tr>\n",
       "      <th>2003-12-05</th>\n",
       "      <td>0.82795</td>\n",
       "      <td>0.82878</td>\n",
       "      <td>0.82028</td>\n",
       "      <td>0.82055</td>\n",
       "      <td>0.82055</td>\n",
       "      <td>0</td>\n",
       "    </tr>\n",
       "  </tbody>\n",
       "</table>\n",
       "</div>"
      ],
      "text/plain": [
       "               Open     High      Low    Close  Adj Close  Volume\n",
       "Date                                                             \n",
       "2003-12-01  0.83098  0.83724  0.83056  0.83577    0.83577       0\n",
       "2003-12-02  0.83605  0.83710  0.82583  0.82720    0.82720       0\n",
       "2003-12-03  0.82713  0.82802  0.82440  0.82488    0.82488       0\n",
       "2003-12-04  0.82508  0.83029  0.82345  0.82775    0.82775       0\n",
       "2003-12-05  0.82795  0.82878  0.82028  0.82055    0.82055       0"
      ]
     },
     "execution_count": 46,
     "metadata": {},
     "output_type": "execute_result"
    }
   ],
   "source": [
    "df = yf.download(\"USDEUR=X\", \n",
    "                 start=\"2000-01-01\", \n",
    "                 end=\"2010-12-31\",\n",
    "                 progress=False)\n",
    "df.head()"
   ]
  },
  {
   "cell_type": "markdown",
   "metadata": {},
   "source": [
    "## 2.6 Different ways of aggregating trade data"
   ]
  },
  {
   "cell_type": "markdown",
   "metadata": {},
   "source": [
    "### How to do it..."
   ]
  },
  {
   "cell_type": "markdown",
   "metadata": {},
   "source": [
    "1. Import the libraries:"
   ]
  },
  {
   "cell_type": "code",
   "execution_count": 47,
   "metadata": {},
   "outputs": [],
   "source": [
    "from binance.spot import Spot as Client\n",
    "import pandas as pd \n",
    "import numpy as np\n"
   ]
  },
  {
   "cell_type": "markdown",
   "metadata": {},
   "source": [
    "2. Instantiate the Binance client and download the last 500 `BTCEUR` trades:"
   ]
  },
  {
   "cell_type": "code",
   "execution_count": 48,
   "metadata": {},
   "outputs": [],
   "source": [
    "spot_client = Client(base_url=\"https://api3.binance.com\")\n",
    "r = spot_client.trades(\"BTCEUR\")"
   ]
  },
  {
   "cell_type": "markdown",
   "metadata": {},
   "source": [
    "3. Process the downloaded trades into a `pandas` DataFrame:"
   ]
  },
  {
   "cell_type": "code",
   "execution_count": 52,
   "metadata": {},
   "outputs": [
    {
     "data": {
      "text/html": [
       "<div>\n",
       "<style scoped>\n",
       "    .dataframe tbody tr th:only-of-type {\n",
       "        vertical-align: middle;\n",
       "    }\n",
       "\n",
       "    .dataframe tbody tr th {\n",
       "        vertical-align: top;\n",
       "    }\n",
       "\n",
       "    .dataframe thead th {\n",
       "        text-align: right;\n",
       "    }\n",
       "</style>\n",
       "<table border=\"1\" class=\"dataframe\">\n",
       "  <thead>\n",
       "    <tr style=\"text-align: right;\">\n",
       "      <th></th>\n",
       "      <th>id</th>\n",
       "      <th>price</th>\n",
       "      <th>qty</th>\n",
       "      <th>quoteQty</th>\n",
       "      <th>time</th>\n",
       "    </tr>\n",
       "  </thead>\n",
       "  <tbody>\n",
       "    <tr>\n",
       "      <th>0</th>\n",
       "      <td>77999355</td>\n",
       "      <td>33285.50</td>\n",
       "      <td>0.00288</td>\n",
       "      <td>95.862240</td>\n",
       "      <td>2022-02-23 19:41:15.896</td>\n",
       "    </tr>\n",
       "    <tr>\n",
       "      <th>1</th>\n",
       "      <td>77999356</td>\n",
       "      <td>33286.84</td>\n",
       "      <td>0.00336</td>\n",
       "      <td>111.843782</td>\n",
       "      <td>2022-02-23 19:41:15.896</td>\n",
       "    </tr>\n",
       "    <tr>\n",
       "      <th>2</th>\n",
       "      <td>77999357</td>\n",
       "      <td>33275.29</td>\n",
       "      <td>0.00813</td>\n",
       "      <td>270.528108</td>\n",
       "      <td>2022-02-23 19:41:15.941</td>\n",
       "    </tr>\n",
       "    <tr>\n",
       "      <th>3</th>\n",
       "      <td>77999358</td>\n",
       "      <td>33277.44</td>\n",
       "      <td>0.01001</td>\n",
       "      <td>333.107174</td>\n",
       "      <td>2022-02-23 19:41:17.896</td>\n",
       "    </tr>\n",
       "    <tr>\n",
       "      <th>4</th>\n",
       "      <td>77999359</td>\n",
       "      <td>33275.29</td>\n",
       "      <td>0.01001</td>\n",
       "      <td>333.085653</td>\n",
       "      <td>2022-02-23 19:41:17.900</td>\n",
       "    </tr>\n",
       "    <tr>\n",
       "      <th>...</th>\n",
       "      <td>...</td>\n",
       "      <td>...</td>\n",
       "      <td>...</td>\n",
       "      <td>...</td>\n",
       "      <td>...</td>\n",
       "    </tr>\n",
       "    <tr>\n",
       "      <th>495</th>\n",
       "      <td>77999850</td>\n",
       "      <td>33268.98</td>\n",
       "      <td>0.00067</td>\n",
       "      <td>22.290217</td>\n",
       "      <td>2022-02-23 19:50:56.806</td>\n",
       "    </tr>\n",
       "    <tr>\n",
       "      <th>496</th>\n",
       "      <td>77999851</td>\n",
       "      <td>33268.49</td>\n",
       "      <td>0.00249</td>\n",
       "      <td>82.838540</td>\n",
       "      <td>2022-02-23 19:50:56.806</td>\n",
       "    </tr>\n",
       "    <tr>\n",
       "      <th>497</th>\n",
       "      <td>77999852</td>\n",
       "      <td>33268.98</td>\n",
       "      <td>0.02126</td>\n",
       "      <td>707.298515</td>\n",
       "      <td>2022-02-23 19:50:58.903</td>\n",
       "    </tr>\n",
       "    <tr>\n",
       "      <th>498</th>\n",
       "      <td>77999853</td>\n",
       "      <td>33268.00</td>\n",
       "      <td>0.00596</td>\n",
       "      <td>198.277280</td>\n",
       "      <td>2022-02-23 19:50:58.903</td>\n",
       "    </tr>\n",
       "    <tr>\n",
       "      <th>499</th>\n",
       "      <td>77999854</td>\n",
       "      <td>33268.52</td>\n",
       "      <td>0.00150</td>\n",
       "      <td>49.902780</td>\n",
       "      <td>2022-02-23 19:50:59.291</td>\n",
       "    </tr>\n",
       "  </tbody>\n",
       "</table>\n",
       "<p>500 rows × 5 columns</p>\n",
       "</div>"
      ],
      "text/plain": [
       "           id     price      qty    quoteQty                    time\n",
       "0    77999355  33285.50  0.00288   95.862240 2022-02-23 19:41:15.896\n",
       "1    77999356  33286.84  0.00336  111.843782 2022-02-23 19:41:15.896\n",
       "2    77999357  33275.29  0.00813  270.528108 2022-02-23 19:41:15.941\n",
       "3    77999358  33277.44  0.01001  333.107174 2022-02-23 19:41:17.896\n",
       "4    77999359  33275.29  0.01001  333.085653 2022-02-23 19:41:17.900\n",
       "..        ...       ...      ...         ...                     ...\n",
       "495  77999850  33268.98  0.00067   22.290217 2022-02-23 19:50:56.806\n",
       "496  77999851  33268.49  0.00249   82.838540 2022-02-23 19:50:56.806\n",
       "497  77999852  33268.98  0.02126  707.298515 2022-02-23 19:50:58.903\n",
       "498  77999853  33268.00  0.00596  198.277280 2022-02-23 19:50:58.903\n",
       "499  77999854  33268.52  0.00150   49.902780 2022-02-23 19:50:59.291\n",
       "\n",
       "[500 rows x 5 columns]"
      ]
     },
     "execution_count": 52,
     "metadata": {},
     "output_type": "execute_result"
    }
   ],
   "source": [
    "df = (\n",
    "    pd.DataFrame(r)\n",
    "    .drop(columns=[\"isBuyerMaker\", \"isBestMatch\"])\n",
    ")\n",
    "df[\"time\"] = pd.to_datetime(df[\"time\"], unit=\"ms\")\n",
    "\n",
    "for column in [\"price\", \"qty\", \"quoteQty\"]:\n",
    "    df[column] = pd.to_numeric(df[column])\n",
    "df"
   ]
  },
  {
   "cell_type": "markdown",
   "metadata": {},
   "source": [
    "4. Define a function aggregating the raw trades information:"
   ]
  },
  {
   "cell_type": "code",
   "execution_count": 50,
   "metadata": {},
   "outputs": [],
   "source": [
    "def get_bars(df, add_time=False):\n",
    "    \"\"\"[summary]\n",
    "\n",
    "    Args:\n",
    "        df ([type]): [description]\n",
    "\n",
    "    Returns:\n",
    "        [type]: [description]\n",
    "    \"\"\"\n",
    "    ohlc = df[\"price\"].ohlc()\n",
    "    vwap = (\n",
    "        df.apply(lambda x: np.average(x[\"price\"], weights=x[\"qty\"]))\n",
    "        .to_frame(\"vwap\")\n",
    "    )\n",
    "    vol = df[\"qty\"].sum().to_frame(\"vol\")\n",
    "    cnt = df[\"qty\"].size().to_frame(\"cnt\")\n",
    "    \n",
    "    if add_time:\n",
    "        time = df[\"time\"].last().to_frame(\"time\")\n",
    "        res = pd.concat([time, ohlc, vwap, vol, cnt], axis=1)\n",
    "    else:\n",
    "        res = pd.concat([ohlc, vwap, vol, cnt], axis=1)\n",
    "    return res"
   ]
  },
  {
   "cell_type": "markdown",
   "metadata": {},
   "source": [
    "5. Get time bars:"
   ]
  },
  {
   "cell_type": "code",
   "execution_count": 51,
   "metadata": {},
   "outputs": [
    {
     "data": {
      "text/html": [
       "<div>\n",
       "<style scoped>\n",
       "    .dataframe tbody tr th:only-of-type {\n",
       "        vertical-align: middle;\n",
       "    }\n",
       "\n",
       "    .dataframe tbody tr th {\n",
       "        vertical-align: top;\n",
       "    }\n",
       "\n",
       "    .dataframe thead th {\n",
       "        text-align: right;\n",
       "    }\n",
       "</style>\n",
       "<table border=\"1\" class=\"dataframe\">\n",
       "  <thead>\n",
       "    <tr style=\"text-align: right;\">\n",
       "      <th></th>\n",
       "      <th>open</th>\n",
       "      <th>high</th>\n",
       "      <th>low</th>\n",
       "      <th>close</th>\n",
       "      <th>vwap</th>\n",
       "      <th>vol</th>\n",
       "      <th>cnt</th>\n",
       "    </tr>\n",
       "    <tr>\n",
       "      <th>time</th>\n",
       "      <th></th>\n",
       "      <th></th>\n",
       "      <th></th>\n",
       "      <th></th>\n",
       "      <th></th>\n",
       "      <th></th>\n",
       "      <th></th>\n",
       "    </tr>\n",
       "  </thead>\n",
       "  <tbody>\n",
       "    <tr>\n",
       "      <th>2022-02-23 19:41:00</th>\n",
       "      <td>33285.50</td>\n",
       "      <td>33286.84</td>\n",
       "      <td>33254.00</td>\n",
       "      <td>33269.47</td>\n",
       "      <td>33269.239073</td>\n",
       "      <td>0.71050</td>\n",
       "      <td>52</td>\n",
       "    </tr>\n",
       "    <tr>\n",
       "      <th>2022-02-23 19:42:00</th>\n",
       "      <td>33265.24</td>\n",
       "      <td>33265.63</td>\n",
       "      <td>33226.18</td>\n",
       "      <td>33231.76</td>\n",
       "      <td>33237.848521</td>\n",
       "      <td>2.26604</td>\n",
       "      <td>110</td>\n",
       "    </tr>\n",
       "    <tr>\n",
       "      <th>2022-02-23 19:43:00</th>\n",
       "      <td>33234.74</td>\n",
       "      <td>33250.30</td>\n",
       "      <td>33215.73</td>\n",
       "      <td>33240.09</td>\n",
       "      <td>33231.975184</td>\n",
       "      <td>0.70111</td>\n",
       "      <td>73</td>\n",
       "    </tr>\n",
       "    <tr>\n",
       "      <th>2022-02-23 19:44:00</th>\n",
       "      <td>33240.10</td>\n",
       "      <td>33240.10</td>\n",
       "      <td>33216.23</td>\n",
       "      <td>33231.33</td>\n",
       "      <td>33234.523449</td>\n",
       "      <td>0.81760</td>\n",
       "      <td>21</td>\n",
       "    </tr>\n",
       "    <tr>\n",
       "      <th>2022-02-23 19:45:00</th>\n",
       "      <td>33227.68</td>\n",
       "      <td>33286.04</td>\n",
       "      <td>33226.31</td>\n",
       "      <td>33279.94</td>\n",
       "      <td>33245.756842</td>\n",
       "      <td>3.39557</td>\n",
       "      <td>89</td>\n",
       "    </tr>\n",
       "    <tr>\n",
       "      <th>2022-02-23 19:46:00</th>\n",
       "      <td>33270.23</td>\n",
       "      <td>33305.45</td>\n",
       "      <td>33266.54</td>\n",
       "      <td>33279.62</td>\n",
       "      <td>33284.459090</td>\n",
       "      <td>0.46893</td>\n",
       "      <td>31</td>\n",
       "    </tr>\n",
       "    <tr>\n",
       "      <th>2022-02-23 19:47:00</th>\n",
       "      <td>33283.24</td>\n",
       "      <td>33328.46</td>\n",
       "      <td>33273.90</td>\n",
       "      <td>33322.05</td>\n",
       "      <td>33295.109170</td>\n",
       "      <td>0.30348</td>\n",
       "      <td>32</td>\n",
       "    </tr>\n",
       "    <tr>\n",
       "      <th>2022-02-23 19:48:00</th>\n",
       "      <td>33308.50</td>\n",
       "      <td>33333.98</td>\n",
       "      <td>33297.37</td>\n",
       "      <td>33315.46</td>\n",
       "      <td>33315.803656</td>\n",
       "      <td>0.58047</td>\n",
       "      <td>37</td>\n",
       "    </tr>\n",
       "    <tr>\n",
       "      <th>2022-02-23 19:49:00</th>\n",
       "      <td>33310.42</td>\n",
       "      <td>33322.00</td>\n",
       "      <td>33281.73</td>\n",
       "      <td>33294.93</td>\n",
       "      <td>33309.609233</td>\n",
       "      <td>0.22579</td>\n",
       "      <td>21</td>\n",
       "    </tr>\n",
       "    <tr>\n",
       "      <th>2022-02-23 19:50:00</th>\n",
       "      <td>33283.21</td>\n",
       "      <td>33294.20</td>\n",
       "      <td>33268.00</td>\n",
       "      <td>33268.52</td>\n",
       "      <td>33281.789160</td>\n",
       "      <td>0.73358</td>\n",
       "      <td>34</td>\n",
       "    </tr>\n",
       "  </tbody>\n",
       "</table>\n",
       "</div>"
      ],
      "text/plain": [
       "                         open      high       low     close          vwap  \\\n",
       "time                                                                        \n",
       "2022-02-23 19:41:00  33285.50  33286.84  33254.00  33269.47  33269.239073   \n",
       "2022-02-23 19:42:00  33265.24  33265.63  33226.18  33231.76  33237.848521   \n",
       "2022-02-23 19:43:00  33234.74  33250.30  33215.73  33240.09  33231.975184   \n",
       "2022-02-23 19:44:00  33240.10  33240.10  33216.23  33231.33  33234.523449   \n",
       "2022-02-23 19:45:00  33227.68  33286.04  33226.31  33279.94  33245.756842   \n",
       "2022-02-23 19:46:00  33270.23  33305.45  33266.54  33279.62  33284.459090   \n",
       "2022-02-23 19:47:00  33283.24  33328.46  33273.90  33322.05  33295.109170   \n",
       "2022-02-23 19:48:00  33308.50  33333.98  33297.37  33315.46  33315.803656   \n",
       "2022-02-23 19:49:00  33310.42  33322.00  33281.73  33294.93  33309.609233   \n",
       "2022-02-23 19:50:00  33283.21  33294.20  33268.00  33268.52  33281.789160   \n",
       "\n",
       "                         vol  cnt  \n",
       "time                               \n",
       "2022-02-23 19:41:00  0.71050   52  \n",
       "2022-02-23 19:42:00  2.26604  110  \n",
       "2022-02-23 19:43:00  0.70111   73  \n",
       "2022-02-23 19:44:00  0.81760   21  \n",
       "2022-02-23 19:45:00  3.39557   89  \n",
       "2022-02-23 19:46:00  0.46893   31  \n",
       "2022-02-23 19:47:00  0.30348   32  \n",
       "2022-02-23 19:48:00  0.58047   37  \n",
       "2022-02-23 19:49:00  0.22579   21  \n",
       "2022-02-23 19:50:00  0.73358   34  "
      ]
     },
     "execution_count": 51,
     "metadata": {},
     "output_type": "execute_result"
    }
   ],
   "source": [
    "df_grouped_time = df.groupby(pd.Grouper(key=\"time\", freq=\"1Min\"))\n",
    "time_bars = get_bars(df_grouped_time)\n",
    "time_bars"
   ]
  },
  {
   "cell_type": "markdown",
   "metadata": {},
   "source": [
    "6. Get tick bars:"
   ]
  },
  {
   "cell_type": "code",
   "execution_count": 53,
   "metadata": {},
   "outputs": [
    {
     "data": {
      "text/html": [
       "<div>\n",
       "<style scoped>\n",
       "    .dataframe tbody tr th:only-of-type {\n",
       "        vertical-align: middle;\n",
       "    }\n",
       "\n",
       "    .dataframe tbody tr th {\n",
       "        vertical-align: top;\n",
       "    }\n",
       "\n",
       "    .dataframe thead th {\n",
       "        text-align: right;\n",
       "    }\n",
       "</style>\n",
       "<table border=\"1\" class=\"dataframe\">\n",
       "  <thead>\n",
       "    <tr style=\"text-align: right;\">\n",
       "      <th></th>\n",
       "      <th>time</th>\n",
       "      <th>open</th>\n",
       "      <th>high</th>\n",
       "      <th>low</th>\n",
       "      <th>close</th>\n",
       "      <th>vwap</th>\n",
       "      <th>vol</th>\n",
       "      <th>cnt</th>\n",
       "    </tr>\n",
       "    <tr>\n",
       "      <th>tick_group</th>\n",
       "      <th></th>\n",
       "      <th></th>\n",
       "      <th></th>\n",
       "      <th></th>\n",
       "      <th></th>\n",
       "      <th></th>\n",
       "      <th></th>\n",
       "      <th></th>\n",
       "    </tr>\n",
       "  </thead>\n",
       "  <tbody>\n",
       "    <tr>\n",
       "      <th>0</th>\n",
       "      <td>2022-02-23 19:41:57.784</td>\n",
       "      <td>33285.50</td>\n",
       "      <td>33286.84</td>\n",
       "      <td>33254.00</td>\n",
       "      <td>33270.89</td>\n",
       "      <td>33269.220356</td>\n",
       "      <td>0.65723</td>\n",
       "      <td>50</td>\n",
       "    </tr>\n",
       "    <tr>\n",
       "      <th>1</th>\n",
       "      <td>2022-02-23 19:42:29.168</td>\n",
       "      <td>33269.47</td>\n",
       "      <td>33269.47</td>\n",
       "      <td>33243.50</td>\n",
       "      <td>33243.50</td>\n",
       "      <td>33249.679200</td>\n",
       "      <td>0.75967</td>\n",
       "      <td>50</td>\n",
       "    </tr>\n",
       "    <tr>\n",
       "      <th>2</th>\n",
       "      <td>2022-02-23 19:42:43.886</td>\n",
       "      <td>33241.86</td>\n",
       "      <td>33244.71</td>\n",
       "      <td>33226.18</td>\n",
       "      <td>33230.04</td>\n",
       "      <td>33233.334328</td>\n",
       "      <td>1.45604</td>\n",
       "      <td>50</td>\n",
       "    </tr>\n",
       "    <tr>\n",
       "      <th>3</th>\n",
       "      <td>2022-02-23 19:43:37.837</td>\n",
       "      <td>33234.89</td>\n",
       "      <td>33244.70</td>\n",
       "      <td>33215.73</td>\n",
       "      <td>33222.93</td>\n",
       "      <td>33228.599024</td>\n",
       "      <td>0.31810</td>\n",
       "      <td>50</td>\n",
       "    </tr>\n",
       "    <tr>\n",
       "      <th>4</th>\n",
       "      <td>2022-02-23 19:44:28.440</td>\n",
       "      <td>33222.72</td>\n",
       "      <td>33250.30</td>\n",
       "      <td>33216.23</td>\n",
       "      <td>33216.98</td>\n",
       "      <td>33234.604510</td>\n",
       "      <td>1.26310</td>\n",
       "      <td>50</td>\n",
       "    </tr>\n",
       "    <tr>\n",
       "      <th>5</th>\n",
       "      <td>2022-02-23 19:45:15.153</td>\n",
       "      <td>33226.01</td>\n",
       "      <td>33258.29</td>\n",
       "      <td>33221.43</td>\n",
       "      <td>33233.13</td>\n",
       "      <td>33236.663489</td>\n",
       "      <td>1.87995</td>\n",
       "      <td>50</td>\n",
       "    </tr>\n",
       "    <tr>\n",
       "      <th>6</th>\n",
       "      <td>2022-02-23 19:46:02.625</td>\n",
       "      <td>33233.13</td>\n",
       "      <td>33286.04</td>\n",
       "      <td>33233.13</td>\n",
       "      <td>33284.14</td>\n",
       "      <td>33256.233756</td>\n",
       "      <td>1.56017</td>\n",
       "      <td>50</td>\n",
       "    </tr>\n",
       "    <tr>\n",
       "      <th>7</th>\n",
       "      <td>2022-02-23 19:47:47.964</td>\n",
       "      <td>33284.89</td>\n",
       "      <td>33305.45</td>\n",
       "      <td>33266.54</td>\n",
       "      <td>33293.35</td>\n",
       "      <td>33284.115017</td>\n",
       "      <td>0.63715</td>\n",
       "      <td>50</td>\n",
       "    </tr>\n",
       "    <tr>\n",
       "      <th>8</th>\n",
       "      <td>2022-02-23 19:49:05.929</td>\n",
       "      <td>33294.13</td>\n",
       "      <td>33333.98</td>\n",
       "      <td>33294.13</td>\n",
       "      <td>33314.63</td>\n",
       "      <td>33314.426886</td>\n",
       "      <td>0.78777</td>\n",
       "      <td>50</td>\n",
       "    </tr>\n",
       "    <tr>\n",
       "      <th>9</th>\n",
       "      <td>2022-02-23 19:50:59.291</td>\n",
       "      <td>33313.24</td>\n",
       "      <td>33322.00</td>\n",
       "      <td>33268.00</td>\n",
       "      <td>33268.52</td>\n",
       "      <td>33286.482830</td>\n",
       "      <td>0.88389</td>\n",
       "      <td>50</td>\n",
       "    </tr>\n",
       "  </tbody>\n",
       "</table>\n",
       "</div>"
      ],
      "text/plain": [
       "                              time      open      high       low     close  \\\n",
       "tick_group                                                                   \n",
       "0          2022-02-23 19:41:57.784  33285.50  33286.84  33254.00  33270.89   \n",
       "1          2022-02-23 19:42:29.168  33269.47  33269.47  33243.50  33243.50   \n",
       "2          2022-02-23 19:42:43.886  33241.86  33244.71  33226.18  33230.04   \n",
       "3          2022-02-23 19:43:37.837  33234.89  33244.70  33215.73  33222.93   \n",
       "4          2022-02-23 19:44:28.440  33222.72  33250.30  33216.23  33216.98   \n",
       "5          2022-02-23 19:45:15.153  33226.01  33258.29  33221.43  33233.13   \n",
       "6          2022-02-23 19:46:02.625  33233.13  33286.04  33233.13  33284.14   \n",
       "7          2022-02-23 19:47:47.964  33284.89  33305.45  33266.54  33293.35   \n",
       "8          2022-02-23 19:49:05.929  33294.13  33333.98  33294.13  33314.63   \n",
       "9          2022-02-23 19:50:59.291  33313.24  33322.00  33268.00  33268.52   \n",
       "\n",
       "                    vwap      vol  cnt  \n",
       "tick_group                              \n",
       "0           33269.220356  0.65723   50  \n",
       "1           33249.679200  0.75967   50  \n",
       "2           33233.334328  1.45604   50  \n",
       "3           33228.599024  0.31810   50  \n",
       "4           33234.604510  1.26310   50  \n",
       "5           33236.663489  1.87995   50  \n",
       "6           33256.233756  1.56017   50  \n",
       "7           33284.115017  0.63715   50  \n",
       "8           33314.426886  0.78777   50  \n",
       "9           33286.482830  0.88389   50  "
      ]
     },
     "execution_count": 53,
     "metadata": {},
     "output_type": "execute_result"
    }
   ],
   "source": [
    "bar_size = 50 \n",
    "df[\"tick_group\"] = (\n",
    "    pd.Series(list(range(len(df))))\n",
    "    .div(bar_size)\n",
    "    .apply(np.floor)\n",
    "    .astype(int)\n",
    "    .values\n",
    ")\n",
    "df_grouped_ticks = df.groupby(\"tick_group\")\n",
    "tick_bars = get_bars(df_grouped_ticks, add_time=True)\n",
    "tick_bars"
   ]
  },
  {
   "cell_type": "markdown",
   "metadata": {},
   "source": [
    "7. Get volume bars:"
   ]
  },
  {
   "cell_type": "code",
   "execution_count": 54,
   "metadata": {},
   "outputs": [
    {
     "data": {
      "text/html": [
       "<div>\n",
       "<style scoped>\n",
       "    .dataframe tbody tr th:only-of-type {\n",
       "        vertical-align: middle;\n",
       "    }\n",
       "\n",
       "    .dataframe tbody tr th {\n",
       "        vertical-align: top;\n",
       "    }\n",
       "\n",
       "    .dataframe thead th {\n",
       "        text-align: right;\n",
       "    }\n",
       "</style>\n",
       "<table border=\"1\" class=\"dataframe\">\n",
       "  <thead>\n",
       "    <tr style=\"text-align: right;\">\n",
       "      <th></th>\n",
       "      <th>time</th>\n",
       "      <th>open</th>\n",
       "      <th>high</th>\n",
       "      <th>low</th>\n",
       "      <th>close</th>\n",
       "      <th>vwap</th>\n",
       "      <th>vol</th>\n",
       "      <th>cnt</th>\n",
       "    </tr>\n",
       "    <tr>\n",
       "      <th>vol_group</th>\n",
       "      <th></th>\n",
       "      <th></th>\n",
       "      <th></th>\n",
       "      <th></th>\n",
       "      <th></th>\n",
       "      <th></th>\n",
       "      <th></th>\n",
       "      <th></th>\n",
       "    </tr>\n",
       "  </thead>\n",
       "  <tbody>\n",
       "    <tr>\n",
       "      <th>0</th>\n",
       "      <td>2022-02-23 19:42:19.499</td>\n",
       "      <td>33285.50</td>\n",
       "      <td>33286.84</td>\n",
       "      <td>33246.90</td>\n",
       "      <td>33250.00</td>\n",
       "      <td>33264.436711</td>\n",
       "      <td>0.99446</td>\n",
       "      <td>85</td>\n",
       "    </tr>\n",
       "    <tr>\n",
       "      <th>1</th>\n",
       "      <td>2022-02-23 19:42:31.215</td>\n",
       "      <td>33246.91</td>\n",
       "      <td>33253.07</td>\n",
       "      <td>33226.18</td>\n",
       "      <td>33226.87</td>\n",
       "      <td>33240.193454</td>\n",
       "      <td>0.86169</td>\n",
       "      <td>46</td>\n",
       "    </tr>\n",
       "    <tr>\n",
       "      <th>2</th>\n",
       "      <td>2022-02-23 19:43:04.416</td>\n",
       "      <td>33232.23</td>\n",
       "      <td>33244.71</td>\n",
       "      <td>33230.04</td>\n",
       "      <td>33239.77</td>\n",
       "      <td>33232.363594</td>\n",
       "      <td>1.12313</td>\n",
       "      <td>33</td>\n",
       "    </tr>\n",
       "    <tr>\n",
       "      <th>3</th>\n",
       "      <td>2022-02-23 19:44:01.139</td>\n",
       "      <td>33240.00</td>\n",
       "      <td>33250.30</td>\n",
       "      <td>33215.73</td>\n",
       "      <td>33240.10</td>\n",
       "      <td>33232.135781</td>\n",
       "      <td>0.71425</td>\n",
       "      <td>72</td>\n",
       "    </tr>\n",
       "    <tr>\n",
       "      <th>4</th>\n",
       "      <td>2022-02-23 19:45:12.130</td>\n",
       "      <td>33240.10</td>\n",
       "      <td>33258.29</td>\n",
       "      <td>33216.23</td>\n",
       "      <td>33241.21</td>\n",
       "      <td>33238.411739</td>\n",
       "      <td>1.25593</td>\n",
       "      <td>44</td>\n",
       "    </tr>\n",
       "    <tr>\n",
       "      <th>5</th>\n",
       "      <td>2022-02-23 19:45:15.146</td>\n",
       "      <td>33241.21</td>\n",
       "      <td>33241.21</td>\n",
       "      <td>33232.03</td>\n",
       "      <td>33233.13</td>\n",
       "      <td>33234.773416</td>\n",
       "      <td>0.83403</td>\n",
       "      <td>15</td>\n",
       "    </tr>\n",
       "    <tr>\n",
       "      <th>6</th>\n",
       "      <td>2022-02-23 19:45:21.810</td>\n",
       "      <td>33233.13</td>\n",
       "      <td>33253.41</td>\n",
       "      <td>33233.13</td>\n",
       "      <td>33248.69</td>\n",
       "      <td>33236.027748</td>\n",
       "      <td>1.21260</td>\n",
       "      <td>20</td>\n",
       "    </tr>\n",
       "    <tr>\n",
       "      <th>7</th>\n",
       "      <td>2022-02-23 19:46:23.762</td>\n",
       "      <td>33248.69</td>\n",
       "      <td>33286.04</td>\n",
       "      <td>33242.90</td>\n",
       "      <td>33281.10</td>\n",
       "      <td>33270.171474</td>\n",
       "      <td>0.99072</td>\n",
       "      <td>45</td>\n",
       "    </tr>\n",
       "    <tr>\n",
       "      <th>8</th>\n",
       "      <td>2022-02-23 19:48:32.173</td>\n",
       "      <td>33280.33</td>\n",
       "      <td>33333.98</td>\n",
       "      <td>33273.90</td>\n",
       "      <td>33301.66</td>\n",
       "      <td>33300.233202</td>\n",
       "      <td>0.98864</td>\n",
       "      <td>69</td>\n",
       "    </tr>\n",
       "    <tr>\n",
       "      <th>9</th>\n",
       "      <td>2022-02-23 19:50:36.613</td>\n",
       "      <td>33301.65</td>\n",
       "      <td>33322.00</td>\n",
       "      <td>33274.39</td>\n",
       "      <td>33283.79</td>\n",
       "      <td>33296.304224</td>\n",
       "      <td>0.94414</td>\n",
       "      <td>53</td>\n",
       "    </tr>\n",
       "    <tr>\n",
       "      <th>10</th>\n",
       "      <td>2022-02-23 19:50:59.291</td>\n",
       "      <td>33283.81</td>\n",
       "      <td>33294.20</td>\n",
       "      <td>33268.00</td>\n",
       "      <td>33268.52</td>\n",
       "      <td>33280.873796</td>\n",
       "      <td>0.28348</td>\n",
       "      <td>18</td>\n",
       "    </tr>\n",
       "  </tbody>\n",
       "</table>\n",
       "</div>"
      ],
      "text/plain": [
       "                             time      open      high       low     close  \\\n",
       "vol_group                                                                   \n",
       "0         2022-02-23 19:42:19.499  33285.50  33286.84  33246.90  33250.00   \n",
       "1         2022-02-23 19:42:31.215  33246.91  33253.07  33226.18  33226.87   \n",
       "2         2022-02-23 19:43:04.416  33232.23  33244.71  33230.04  33239.77   \n",
       "3         2022-02-23 19:44:01.139  33240.00  33250.30  33215.73  33240.10   \n",
       "4         2022-02-23 19:45:12.130  33240.10  33258.29  33216.23  33241.21   \n",
       "5         2022-02-23 19:45:15.146  33241.21  33241.21  33232.03  33233.13   \n",
       "6         2022-02-23 19:45:21.810  33233.13  33253.41  33233.13  33248.69   \n",
       "7         2022-02-23 19:46:23.762  33248.69  33286.04  33242.90  33281.10   \n",
       "8         2022-02-23 19:48:32.173  33280.33  33333.98  33273.90  33301.66   \n",
       "9         2022-02-23 19:50:36.613  33301.65  33322.00  33274.39  33283.79   \n",
       "10        2022-02-23 19:50:59.291  33283.81  33294.20  33268.00  33268.52   \n",
       "\n",
       "                   vwap      vol  cnt  \n",
       "vol_group                              \n",
       "0          33264.436711  0.99446   85  \n",
       "1          33240.193454  0.86169   46  \n",
       "2          33232.363594  1.12313   33  \n",
       "3          33232.135781  0.71425   72  \n",
       "4          33238.411739  1.25593   44  \n",
       "5          33234.773416  0.83403   15  \n",
       "6          33236.027748  1.21260   20  \n",
       "7          33270.171474  0.99072   45  \n",
       "8          33300.233202  0.98864   69  \n",
       "9          33296.304224  0.94414   53  \n",
       "10         33280.873796  0.28348   18  "
      ]
     },
     "execution_count": 54,
     "metadata": {},
     "output_type": "execute_result"
    }
   ],
   "source": [
    "bar_size = 1 \n",
    "df[\"cum_qty\"] = df[\"qty\"].cumsum()\n",
    "df[\"vol_group\"] = (\n",
    "    df[\"cum_qty\"]\n",
    "    .div(bar_size)\n",
    "    .apply(np.floor)\n",
    "    .astype(int)\n",
    "    .values\n",
    ")\n",
    "df_grouped_ticks = df.groupby(\"vol_group\")\n",
    "volume_bars = get_bars(df_grouped_ticks, add_time=True)\n",
    "volume_bars"
   ]
  },
  {
   "cell_type": "markdown",
   "metadata": {},
   "source": [
    "8. Get dollar bars:"
   ]
  },
  {
   "cell_type": "code",
   "execution_count": 55,
   "metadata": {},
   "outputs": [
    {
     "data": {
      "text/html": [
       "<div>\n",
       "<style scoped>\n",
       "    .dataframe tbody tr th:only-of-type {\n",
       "        vertical-align: middle;\n",
       "    }\n",
       "\n",
       "    .dataframe tbody tr th {\n",
       "        vertical-align: top;\n",
       "    }\n",
       "\n",
       "    .dataframe thead th {\n",
       "        text-align: right;\n",
       "    }\n",
       "</style>\n",
       "<table border=\"1\" class=\"dataframe\">\n",
       "  <thead>\n",
       "    <tr style=\"text-align: right;\">\n",
       "      <th></th>\n",
       "      <th>time</th>\n",
       "      <th>open</th>\n",
       "      <th>high</th>\n",
       "      <th>low</th>\n",
       "      <th>close</th>\n",
       "      <th>vwap</th>\n",
       "      <th>vol</th>\n",
       "      <th>cnt</th>\n",
       "    </tr>\n",
       "    <tr>\n",
       "      <th>value_group</th>\n",
       "      <th></th>\n",
       "      <th></th>\n",
       "      <th></th>\n",
       "      <th></th>\n",
       "      <th></th>\n",
       "      <th></th>\n",
       "      <th></th>\n",
       "      <th></th>\n",
       "    </tr>\n",
       "  </thead>\n",
       "  <tbody>\n",
       "    <tr>\n",
       "      <th>0</th>\n",
       "      <td>2022-02-23 19:42:29.230</td>\n",
       "      <td>33285.50</td>\n",
       "      <td>33286.84</td>\n",
       "      <td>33239.96</td>\n",
       "      <td>33239.96</td>\n",
       "      <td>33258.572184</td>\n",
       "      <td>1.42997</td>\n",
       "      <td>103</td>\n",
       "    </tr>\n",
       "    <tr>\n",
       "      <th>1</th>\n",
       "      <td>2022-02-23 19:43:17.962</td>\n",
       "      <td>33239.96</td>\n",
       "      <td>33244.71</td>\n",
       "      <td>33226.18</td>\n",
       "      <td>33231.41</td>\n",
       "      <td>33233.221296</td>\n",
       "      <td>1.57424</td>\n",
       "      <td>66</td>\n",
       "    </tr>\n",
       "    <tr>\n",
       "      <th>2</th>\n",
       "      <td>2022-02-23 19:44:58.211</td>\n",
       "      <td>33231.40</td>\n",
       "      <td>33250.30</td>\n",
       "      <td>33215.73</td>\n",
       "      <td>33231.33</td>\n",
       "      <td>33233.232079</td>\n",
       "      <td>1.49104</td>\n",
       "      <td>87</td>\n",
       "    </tr>\n",
       "    <tr>\n",
       "      <th>3</th>\n",
       "      <td>2022-02-23 19:45:15.146</td>\n",
       "      <td>33227.68</td>\n",
       "      <td>33258.29</td>\n",
       "      <td>33226.31</td>\n",
       "      <td>33233.13</td>\n",
       "      <td>33238.544792</td>\n",
       "      <td>1.28824</td>\n",
       "      <td>39</td>\n",
       "    </tr>\n",
       "    <tr>\n",
       "      <th>4</th>\n",
       "      <td>2022-02-23 19:45:59.597</td>\n",
       "      <td>33233.13</td>\n",
       "      <td>33286.04</td>\n",
       "      <td>33233.13</td>\n",
       "      <td>33280.92</td>\n",
       "      <td>33243.191526</td>\n",
       "      <td>1.70740</td>\n",
       "      <td>43</td>\n",
       "    </tr>\n",
       "    <tr>\n",
       "      <th>5</th>\n",
       "      <td>2022-02-23 19:48:32.173</td>\n",
       "      <td>33279.94</td>\n",
       "      <td>33333.98</td>\n",
       "      <td>33266.54</td>\n",
       "      <td>33301.66</td>\n",
       "      <td>33293.331944</td>\n",
       "      <td>1.48456</td>\n",
       "      <td>91</td>\n",
       "    </tr>\n",
       "    <tr>\n",
       "      <th>6</th>\n",
       "      <td>2022-02-23 19:50:59.291</td>\n",
       "      <td>33301.65</td>\n",
       "      <td>33322.00</td>\n",
       "      <td>33268.00</td>\n",
       "      <td>33268.52</td>\n",
       "      <td>33292.741055</td>\n",
       "      <td>1.22762</td>\n",
       "      <td>71</td>\n",
       "    </tr>\n",
       "  </tbody>\n",
       "</table>\n",
       "</div>"
      ],
      "text/plain": [
       "                               time      open      high       low     close  \\\n",
       "value_group                                                                   \n",
       "0           2022-02-23 19:42:29.230  33285.50  33286.84  33239.96  33239.96   \n",
       "1           2022-02-23 19:43:17.962  33239.96  33244.71  33226.18  33231.41   \n",
       "2           2022-02-23 19:44:58.211  33231.40  33250.30  33215.73  33231.33   \n",
       "3           2022-02-23 19:45:15.146  33227.68  33258.29  33226.31  33233.13   \n",
       "4           2022-02-23 19:45:59.597  33233.13  33286.04  33233.13  33280.92   \n",
       "5           2022-02-23 19:48:32.173  33279.94  33333.98  33266.54  33301.66   \n",
       "6           2022-02-23 19:50:59.291  33301.65  33322.00  33268.00  33268.52   \n",
       "\n",
       "                     vwap      vol  cnt  \n",
       "value_group                              \n",
       "0            33258.572184  1.42997  103  \n",
       "1            33233.221296  1.57424   66  \n",
       "2            33233.232079  1.49104   87  \n",
       "3            33238.544792  1.28824   39  \n",
       "4            33243.191526  1.70740   43  \n",
       "5            33293.331944  1.48456   91  \n",
       "6            33292.741055  1.22762   71  "
      ]
     },
     "execution_count": 55,
     "metadata": {},
     "output_type": "execute_result"
    }
   ],
   "source": [
    "bar_size = 50000 \n",
    "df[\"cum_value\"] = df[\"quoteQty\"].cumsum()\n",
    "df[\"value_group\"] = (\n",
    "    df[\"cum_value\"]\n",
    "    .div(bar_size)\n",
    "    .apply(np.floor)\n",
    "    .astype(int)\n",
    "    .values\n",
    ")\n",
    "df_grouped_ticks = df.groupby(\"value_group\")\n",
    "dollar_bars = get_bars(df_grouped_ticks, add_time=True)\n",
    "dollar_bars"
   ]
  }
 ],
 "metadata": {
  "interpreter": {
   "hash": "0117835dafdb051235b33d006a7ad155411608685e1d44af6fb551f6db3e7774"
  },
  "kernelspec": {
   "display_name": "Python 3.9.10 ('pff2')",
   "language": "python",
   "name": "python3"
  },
  "language_info": {
   "codemirror_mode": {
    "name": "ipython",
    "version": 3
   },
   "file_extension": ".py",
   "mimetype": "text/x-python",
   "name": "python",
   "nbconvert_exporter": "python",
   "pygments_lexer": "ipython3",
   "version": "3.9.10"
  }
 },
 "nbformat": 4,
 "nbformat_minor": 5
}
