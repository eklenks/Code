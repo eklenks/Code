{
 "cells": [
  {
   "cell_type": "markdown",
   "metadata": {},
   "source": [
    "References: \n",
    "\n",
    "- [Galenko, A., Popova, E., and Popova, I. (2012). **Trading in the presence of cointegration.** *The Journal of Alternative Investments*, 15(1):85–97.](http://www.ntuzov.com/Nik_Site/Niks_files/Research/papers/stat_arb/Galenko_2007.pdf)\n"
   ]
  },
  {
   "cell_type": "markdown",
   "metadata": {},
   "source": [
    "# Multivariate Cointegration Framework"
   ]
  },
  {
   "cell_type": "markdown",
   "metadata": {},
   "source": [
    "## Introduction"
   ]
  },
  {
   "cell_type": "markdown",
   "metadata": {},
   "source": [
    "The cointegration relations between time series imply that the time series are bound together. Over time the time series\n",
    "might drift apart for a short period of time, but they ought to re-converge. A trading strategy on $N \\: (N \\geq 3)$ cointegrated assets that have a positive expectation of profit can be designed based on this property. \n",
    "\n",
    "In this notebook, the trading strategy will be demonstrated, and an empirical example of applying this strategy to four European stock indices will be given."
   ]
  },
  {
   "cell_type": "markdown",
   "metadata": {},
   "source": [
    "## Multivariate Cointegration"
   ]
  },
  {
   "cell_type": "markdown",
   "metadata": {},
   "source": [
    "Cointegration is defined by the stochastic relationships among the asset log returns.\n",
    "\n",
    "Let $P_i$, where $i = 1, 2, \\ldots, N$ denote the price of $N$ assets. The continuously compounded asset\n",
    "returns, i.e. log-returns at time $t > 0$ can be written as:\n",
    "\n",
    "\\begin{equation*}\n",
    "r_t^i = \\ln{P_t^i} - \\ln{P_{t-1}^i}\n",
    "\\end{equation*}\n",
    "\n",
    "Now construct a process $Y_t$ as a linear combination of the $N$ asset prices:\n",
    "\n",
    "\\begin{equation*}\n",
    "Y_t = \\sum_{i=1}^N b^i \\ln{P_t^i}\n",
    "\\end{equation*}\n",
    "\n",
    "where $b^i$ denotes the $i$-th element for a finite vector $\\mathbf{b}$.\n",
    "\n",
    "The corresponding asset returns series $Z_t$ can be defined as:\n",
    "\n",
    "\\begin{equation*}\n",
    "Z_t = Y_t - Y_{t-1} = \\sum_{i=1}^N b^i r_t^i\n",
    "\\end{equation*}\n",
    "\n",
    "Assume that the memory of the process $Y_t$ does not extend into the infinite past, which can be expressed as the\n",
    "following expression in terms of the autocovariance of the process $Y_t$:\n",
    "\n",
    "\\begin{equation*}\n",
    "\\lim_{p \\to \\infty} \\text{Cov} \\lbrack Y_t, Y_{t-p} \\rbrack = 0\n",
    "\\end{equation*} \n",
    "\n",
    "Then the **log-price** process $Y_t$ is stationary, if and only if the following three conditions on\n",
    "**log-returns** process $Z_t$ are satisfied:\n",
    "\n",
    "\\begin{gather*}\n",
    "E[Z_t] = 0 \\\\\n",
    "\\text{Var }Z_t = -2 \\sum_{p=1}^{\\infty} \\text{Cov} \\lbrack Z_t, Z_{t-p} \\rbrack \\\\\n",
    "\\sum_{p=1}^{\\infty} p \\text{ Cov} \\lbrack Z_t, Z_{t-p} \\rbrack < \\infty\n",
    "\\end{gather*}\n",
    "\n",
    "When $Y_t$ is stationary, the log-price series of the assets are cointegrated.\n",
    "\n",
    "For equity markets, the log-returns time series can be assumed as stationary and thus satisfy the above conditions.\n",
    "Therefore, when it comes to empirical applications, the Johansen test could be directly applied to the log price series\n",
    "to derive the vector $\\mathbf{b}$."
   ]
  },
  {
   "cell_type": "markdown",
   "metadata": {},
   "source": [
    "## Trading Strategy"
   ]
  },
  {
   "cell_type": "markdown",
   "metadata": {},
   "source": [
    "The core idea of the strategy is to bet on the spread formed by the cointegrated $N$ assets that have gone apart\n",
    "but are expected to mean revert in the future.\n",
    "\n",
    "The trading strategy, using the notation in the above section, can be described as follows.\n",
    "\n",
    "1. Estimate the cointegration vector $\\hat{\\mathbf{b}}$ with Johansen test using training data.\n",
    "2. Construct the realization $\\hat{Y}_t$ of the process $Y_t$ by calculating $\\hat{\\mathbf{b}}^T \\ln P_t$, and calculate $\\hat{Z}_t = \\hat{Y}_t - \\hat{Y}_{t-1}$.\n",
    "3. Compute the finite sum $\\sum_{p=1}^P \\hat{Z}_{t-p}$, where the lag $P$ is an input argument.\n",
    "4. Partition the assets into two sets $L$ and $S$ according to the sign of the element in the cointegration vector $\\hat{\\mathbf{b}}$. For each asset $i$,\n",
    "\n",
    "\\begin{eqnarray*}\n",
    "i \\in L \\iff b^i \\geq 0 \\\\\n",
    "i \\in S \\iff b^i < 0\n",
    "\\end{eqnarray*}\n",
    "\n",
    "5. Following the formulae below, calculate the number of assets to trade so that the notional of the positions would equal to $C$.\n",
    "\n",
    "\\begin{eqnarray*}\n",
    "    \\Bigg \\lfloor \\frac{-b^i C \\text{ sgn} \\bigg( \\sum_{p=1}^{P} Z_{t-p} \\bigg)}{P_t^i \\sum_{j \\in L} b^j} \\Bigg \\rfloor, \\: i \\in L \\\\\n",
    "    \\Bigg \\lfloor \\frac{b^i C \\text{ sgn} \\bigg( \\sum_{p=1}^{P} Z_{t-p} \\bigg)}{P_t^i \\sum_{j \\in L} b^j} \\Bigg \\rfloor, \\: i \\in S\n",
    "\\end{eqnarray*}\n",
    "\n",
    "6. Open the positions on time $t$ and close the positions on time $t+1$.\n",
    "7. Every once in a while - once per month (22 trading days) for example, re-estimate the cointegration vector. If it is time for a re-estimate, go to step 1; otherwise, go to step 2.\n",
    "\n",
    "\n",
    "The strategy is trading at daily frequency and always in the market."
   ]
  },
  {
   "cell_type": "markdown",
   "metadata": {},
   "source": [
    "## Usage of the Module"
   ]
  },
  {
   "cell_type": "markdown",
   "metadata": {},
   "source": [
    "In this section, the usage of multivariate cointegration trading strategy will be demonstrated with an empirical example of four European stock indices, i.e. DAX (Germany), CAC 40 (France), FTSE 100 (UK), and AEX (Netherlands). Price history from Jan 2nd, 1996 to Dec 28th, 2006 was used. The module allows two missing data imputation methods: forward-fill and polynomial spline. In the following demonstration, missing data due to the difference in working days in different countries was imputed with a forward-fill method in order to avoid the introduction of phantom returns on non-trading days.\n",
    "\n",
    "Trading for out-of-sample tests starts on Nov 6th, 2001 and ends on Dec 28th, 2006. The cointegration vector $\\mathbf{b}$ was estimated using the Johansen test. The notional value of the long positions and short positions each day was set to $\\$10 \\text{M}$, respectively. To be specific, each day $\\$10 \\text{M}$ were invested in longs and another $\\$10 \\text{M}$ were invested in shorts, resulting in a $\\$20 \\text{M}$ portfolio."
   ]
  },
  {
   "cell_type": "code",
   "execution_count": 1,
   "metadata": {},
   "outputs": [],
   "source": [
    "%matplotlib inline"
   ]
  },
  {
   "cell_type": "code",
   "execution_count": 2,
   "metadata": {},
   "outputs": [],
   "source": [
    "# Importing libraries\n",
    "import pandas as pd\n",
    "import numpy as np\n",
    "\n",
    "from arbitragelab.cointegration_approach.multi_coint import MultivariateCointegration\n",
    "from arbitragelab.trading import MultivariateCointegrationTradingRule"
   ]
  },
  {
   "cell_type": "code",
   "execution_count": 3,
   "metadata": {},
   "outputs": [],
   "source": [
    "# Loading data\n",
    "euro_stocks_df = pd.read_csv(\"multi_coint.csv\", parse_dates=['Date'])\n",
    "euro_stocks_df.set_index(\"Date\", inplace=True)\n",
    "\n",
    "# Out-of-sample data split time point\n",
    "split_point = pd.Timestamp(2001, 11, 6)\n",
    "\n",
    "# Indexing with DateTimeIndex is always inclusive. Removing the last data point in the training data\n",
    "train_df = euro_stocks_df.loc[:split_point].iloc[:-1]\n",
    "trade_df = euro_stocks_df.loc[split_point:]"
   ]
  },
  {
   "cell_type": "code",
   "execution_count": 4,
   "metadata": {},
   "outputs": [
    {
     "data": {
      "text/html": [
       "<div>\n",
       "<style scoped>\n",
       "    .dataframe tbody tr th:only-of-type {\n",
       "        vertical-align: middle;\n",
       "    }\n",
       "\n",
       "    .dataframe tbody tr th {\n",
       "        vertical-align: top;\n",
       "    }\n",
       "\n",
       "    .dataframe thead th {\n",
       "        text-align: right;\n",
       "    }\n",
       "</style>\n",
       "<table border=\"1\" class=\"dataframe\">\n",
       "  <thead>\n",
       "    <tr style=\"text-align: right;\">\n",
       "      <th></th>\n",
       "      <th>AEX</th>\n",
       "      <th>DAX</th>\n",
       "      <th>FTSE</th>\n",
       "      <th>CAC</th>\n",
       "    </tr>\n",
       "    <tr>\n",
       "      <th>Date</th>\n",
       "      <th></th>\n",
       "      <th></th>\n",
       "      <th></th>\n",
       "      <th></th>\n",
       "    </tr>\n",
       "  </thead>\n",
       "  <tbody>\n",
       "    <tr>\n",
       "      <th>2001-10-30</th>\n",
       "      <td>452.63</td>\n",
       "      <td>4543.98</td>\n",
       "      <td>5003.60</td>\n",
       "      <td>4251.93</td>\n",
       "    </tr>\n",
       "    <tr>\n",
       "      <th>2001-10-31</th>\n",
       "      <td>460.33</td>\n",
       "      <td>4559.13</td>\n",
       "      <td>5039.71</td>\n",
       "      <td>4341.29</td>\n",
       "    </tr>\n",
       "    <tr>\n",
       "      <th>2001-11-01</th>\n",
       "      <td>464.99</td>\n",
       "      <td>4636.13</td>\n",
       "      <td>5071.23</td>\n",
       "      <td>4366.94</td>\n",
       "    </tr>\n",
       "    <tr>\n",
       "      <th>2001-11-02</th>\n",
       "      <td>468.15</td>\n",
       "      <td>4583.31</td>\n",
       "      <td>5129.54</td>\n",
       "      <td>4369.40</td>\n",
       "    </tr>\n",
       "    <tr>\n",
       "      <th>2001-11-05</th>\n",
       "      <td>482.97</td>\n",
       "      <td>4755.11</td>\n",
       "      <td>5209.12</td>\n",
       "      <td>4485.34</td>\n",
       "    </tr>\n",
       "  </tbody>\n",
       "</table>\n",
       "</div>"
      ],
      "text/plain": [
       "               AEX      DAX     FTSE      CAC\n",
       "Date                                         \n",
       "2001-10-30  452.63  4543.98  5003.60  4251.93\n",
       "2001-10-31  460.33  4559.13  5039.71  4341.29\n",
       "2001-11-01  464.99  4636.13  5071.23  4366.94\n",
       "2001-11-02  468.15  4583.31  5129.54  4369.40\n",
       "2001-11-05  482.97  4755.11  5209.12  4485.34"
      ]
     },
     "execution_count": 4,
     "metadata": {},
     "output_type": "execute_result"
    }
   ],
   "source": [
    "# Checking train data\n",
    "train_df.tail()"
   ]
  },
  {
   "cell_type": "code",
   "execution_count": 5,
   "metadata": {},
   "outputs": [
    {
     "data": {
      "text/html": [
       "<div>\n",
       "<style scoped>\n",
       "    .dataframe tbody tr th:only-of-type {\n",
       "        vertical-align: middle;\n",
       "    }\n",
       "\n",
       "    .dataframe tbody tr th {\n",
       "        vertical-align: top;\n",
       "    }\n",
       "\n",
       "    .dataframe thead th {\n",
       "        text-align: right;\n",
       "    }\n",
       "</style>\n",
       "<table border=\"1\" class=\"dataframe\">\n",
       "  <thead>\n",
       "    <tr style=\"text-align: right;\">\n",
       "      <th></th>\n",
       "      <th>AEX</th>\n",
       "      <th>DAX</th>\n",
       "      <th>FTSE</th>\n",
       "      <th>CAC</th>\n",
       "    </tr>\n",
       "    <tr>\n",
       "      <th>Date</th>\n",
       "      <th></th>\n",
       "      <th></th>\n",
       "      <th></th>\n",
       "      <th></th>\n",
       "    </tr>\n",
       "  </thead>\n",
       "  <tbody>\n",
       "    <tr>\n",
       "      <th>2001-11-06</th>\n",
       "      <td>482.17</td>\n",
       "      <td>4707.65</td>\n",
       "      <td>5214.06</td>\n",
       "      <td>4461.69</td>\n",
       "    </tr>\n",
       "    <tr>\n",
       "      <th>2001-11-07</th>\n",
       "      <td>490.19</td>\n",
       "      <td>4860.66</td>\n",
       "      <td>5216.27</td>\n",
       "      <td>4493.27</td>\n",
       "    </tr>\n",
       "    <tr>\n",
       "      <th>2001-11-08</th>\n",
       "      <td>500.14</td>\n",
       "      <td>4993.57</td>\n",
       "      <td>5278.09</td>\n",
       "      <td>4573.04</td>\n",
       "    </tr>\n",
       "    <tr>\n",
       "      <th>2001-11-09</th>\n",
       "      <td>488.86</td>\n",
       "      <td>4910.07</td>\n",
       "      <td>5244.21</td>\n",
       "      <td>4514.28</td>\n",
       "    </tr>\n",
       "    <tr>\n",
       "      <th>2001-11-12</th>\n",
       "      <td>476.29</td>\n",
       "      <td>4820.37</td>\n",
       "      <td>5146.23</td>\n",
       "      <td>4376.58</td>\n",
       "    </tr>\n",
       "  </tbody>\n",
       "</table>\n",
       "</div>"
      ],
      "text/plain": [
       "               AEX      DAX     FTSE      CAC\n",
       "Date                                         \n",
       "2001-11-06  482.17  4707.65  5214.06  4461.69\n",
       "2001-11-07  490.19  4860.66  5216.27  4493.27\n",
       "2001-11-08  500.14  4993.57  5278.09  4573.04\n",
       "2001-11-09  488.86  4910.07  5244.21  4514.28\n",
       "2001-11-12  476.29  4820.37  5146.23  4376.58"
      ]
     },
     "execution_count": 5,
     "metadata": {},
     "output_type": "execute_result"
    }
   ],
   "source": [
    "# Checking test data\n",
    "trade_df.head()"
   ]
  },
  {
   "cell_type": "markdown",
   "metadata": {},
   "source": [
    "### Optimize and Generate Trading Signal"
   ]
  },
  {
   "cell_type": "markdown",
   "metadata": {},
   "source": [
    "For the following test, the cointegration vector will be estimated with all training data and will not be updated monthly, but this can easily be made by re-running the MultivariateCointegration optimization."
   ]
  },
  {
   "cell_type": "code",
   "execution_count": 6,
   "metadata": {},
   "outputs": [],
   "source": [
    "# Initializing the optimizer\n",
    "optimizer = MultivariateCointegration()\n",
    "\n",
    "# Set the trainging deatset\n",
    "optimizer.set_train_dataset(train_df)\n",
    "\n",
    "# Imputing all missing values\n",
    "optimizer.fillna_inplace(nan_method='ffill')"
   ]
  },
  {
   "cell_type": "code",
   "execution_count": 7,
   "metadata": {},
   "outputs": [],
   "source": [
    "# Generating the cointegration vector to later use in a trading strategy\n",
    "coint_vec = optimizer.get_coint_vec()"
   ]
  },
  {
   "cell_type": "markdown",
   "metadata": {},
   "source": [
    "Now we can now use the MultivariateCointegrationTradingRule from the Spread Trading module to feed in new price values and get signls - number of shares to trade per asset. With the mechanism of providing price values one by one to the strategy, it's easier to integrate this strategy in an existing trading pipeline."
   ]
  },
  {
   "cell_type": "code",
   "execution_count": 8,
   "metadata": {},
   "outputs": [],
   "source": [
    "# Creating a strategy\n",
    "strategy = MultivariateCointegrationTradingRule(coint_vec)"
   ]
  },
  {
   "cell_type": "markdown",
   "metadata": {},
   "source": [
    "Now we use a loop to simulate a live data feed.\n"
   ]
  },
  {
   "cell_type": "code",
   "execution_count": 9,
   "metadata": {},
   "outputs": [],
   "source": [
    "# Adding initial price values\n",
    "strategy.update_price_values(trade_df.iloc[0])\n",
    "\n",
    "# Feeding price values to the strategy one by one\n",
    "for ind in range(trade_df[:5].shape[0]):\n",
    "\n",
    "    time = trade_df.index[ind]\n",
    "    value = trade_df.iloc[ind]\n",
    "\n",
    "    strategy.update_price_values(value)\n",
    "\n",
    "    # Getting signal - number of shares to trade per asset\n",
    "    pos_shares, neg_shares, pos_notional, neg_notional = strategy.get_signal()\n",
    "\n",
    "    # Close previous trade\n",
    "    strategy.update_trades(update_timestamp=time)\n",
    "\n",
    "    # Add a new trade\n",
    "    strategy.add_trade(start_timestamp=time, pos_shares=pos_shares, neg_shares=neg_shares)"
   ]
  },
  {
   "cell_type": "code",
   "execution_count": 10,
   "metadata": {},
   "outputs": [
    {
     "data": {
      "text/plain": [
       "{Timestamp('2001-11-12 00:00:00'): {'start_prices': AEX      476.29\n",
       "  CAC     4376.58\n",
       "  DAX     4820.37\n",
       "  FTSE    5146.23\n",
       "  Name: 2001-11-12 00:00:00, dtype: float64,\n",
       "  'price_series': ['AEX', 'CAC', 'DAX', 'FTSE'],\n",
       "  'uuid': None,\n",
       "  'pos_shares': AEX    20996.0\n",
       "  dtype: float64,\n",
       "  'neg_shares': DAX     -598.0\n",
       "  FTSE   -1258.0\n",
       "  CAC     -148.0\n",
       "  dtype: float64,\n",
       "  'latest_update_timestamp': Timestamp('2001-11-12 00:00:00')}}"
      ]
     },
     "execution_count": 10,
     "metadata": {},
     "output_type": "execute_result"
    }
   ],
   "source": [
    "# Currently open trades in a strategy\n",
    "open_trades = strategy.open_trades\n",
    "\n",
    "open_trades"
   ]
  },
  {
   "cell_type": "markdown",
   "metadata": {},
   "source": [
    "Only one trade is io all trades but one were closed."
   ]
  },
  {
   "cell_type": "code",
   "execution_count": 11,
   "metadata": {},
   "outputs": [
    {
     "data": {
      "text/plain": [
       "{Timestamp('2001-11-06 00:00:00'): {'t1': Timestamp('2001-11-07 00:00:00'),\n",
       "  'pt': AEX      490.19\n",
       "  CAC     4493.27\n",
       "  DAX     4860.66\n",
       "  FTSE    5216.27\n",
       "  Name: 2001-11-07 00:00:00, dtype: float64,\n",
       "  'uuid': None,\n",
       "  'start_prices': AEX      482.17\n",
       "  CAC     4461.69\n",
       "  DAX     4707.65\n",
       "  FTSE    5214.06\n",
       "  Name: 2001-11-06 00:00:00, dtype: float64,\n",
       "  'end_prices': AEX      490.19\n",
       "  CAC     4493.27\n",
       "  DAX     4860.66\n",
       "  FTSE    5216.27\n",
       "  Name: 2001-11-07 00:00:00, dtype: float64,\n",
       "  'pos_shares': AEX   -0.0\n",
       "  dtype: float64,\n",
       "  'neg_shares': DAX     0.0\n",
       "  FTSE    0.0\n",
       "  CAC     0.0\n",
       "  dtype: float64},\n",
       " Timestamp('2001-11-07 00:00:00'): {'t1': Timestamp('2001-11-08 00:00:00'),\n",
       "  'pt': AEX      500.14\n",
       "  CAC     4573.04\n",
       "  DAX     4993.57\n",
       "  FTSE    5278.09\n",
       "  Name: 2001-11-08 00:00:00, dtype: float64,\n",
       "  'uuid': None,\n",
       "  'start_prices': AEX      490.19\n",
       "  CAC     4493.27\n",
       "  DAX     4860.66\n",
       "  FTSE    5216.27\n",
       "  Name: 2001-11-07 00:00:00, dtype: float64,\n",
       "  'end_prices': AEX      500.14\n",
       "  CAC     4573.04\n",
       "  DAX     4993.57\n",
       "  FTSE    5278.09\n",
       "  Name: 2001-11-08 00:00:00, dtype: float64,\n",
       "  'pos_shares': AEX    20401.0\n",
       "  dtype: float64,\n",
       "  'neg_shares': DAX     -593.0\n",
       "  FTSE   -1241.0\n",
       "  CAC     -144.0\n",
       "  dtype: float64},\n",
       " Timestamp('2001-11-08 00:00:00'): {'t1': Timestamp('2001-11-09 00:00:00'),\n",
       "  'pt': AEX      488.86\n",
       "  CAC     4514.28\n",
       "  DAX     4910.07\n",
       "  FTSE    5244.21\n",
       "  Name: 2001-11-09 00:00:00, dtype: float64,\n",
       "  'uuid': None,\n",
       "  'start_prices': AEX      500.14\n",
       "  CAC     4573.04\n",
       "  DAX     4993.57\n",
       "  FTSE    5278.09\n",
       "  Name: 2001-11-08 00:00:00, dtype: float64,\n",
       "  'end_prices': AEX      488.86\n",
       "  CAC     4514.28\n",
       "  DAX     4910.07\n",
       "  FTSE    5244.21\n",
       "  Name: 2001-11-09 00:00:00, dtype: float64,\n",
       "  'pos_shares': AEX    19995.0\n",
       "  dtype: float64,\n",
       "  'neg_shares': DAX     -577.0\n",
       "  FTSE   -1227.0\n",
       "  CAC     -142.0\n",
       "  dtype: float64},\n",
       " Timestamp('2001-11-09 00:00:00'): {'t1': Timestamp('2001-11-12 00:00:00'),\n",
       "  'pt': AEX      476.29\n",
       "  CAC     4376.58\n",
       "  DAX     4820.37\n",
       "  FTSE    5146.23\n",
       "  Name: 2001-11-12 00:00:00, dtype: float64,\n",
       "  'uuid': None,\n",
       "  'start_prices': AEX      488.86\n",
       "  CAC     4514.28\n",
       "  DAX     4910.07\n",
       "  FTSE    5244.21\n",
       "  Name: 2001-11-09 00:00:00, dtype: float64,\n",
       "  'end_prices': AEX      476.29\n",
       "  CAC     4376.58\n",
       "  DAX     4820.37\n",
       "  FTSE    5146.23\n",
       "  Name: 2001-11-12 00:00:00, dtype: float64,\n",
       "  'pos_shares': AEX    20456.0\n",
       "  dtype: float64,\n",
       "  'neg_shares': DAX     -587.0\n",
       "  FTSE   -1235.0\n",
       "  CAC     -144.0\n",
       "  dtype: float64}}"
      ]
     },
     "execution_count": 11,
     "metadata": {},
     "output_type": "execute_result"
    }
   ],
   "source": [
    "# Checking all closed trades\n",
    "closed_trades = strategy.closed_trades\n",
    "\n",
    "closed_trades"
   ]
  },
  {
   "cell_type": "markdown",
   "metadata": {},
   "source": [
    "We see the closed trades with signals - a number of shares to trade for each set of prices in our testing dataset.\n",
    "\n",
    "### Strategy outputs\n",
    "\n",
    "We can see the following data:\n",
    "* Dictionary key:\n",
    "    * Timestamp at which the trade was opened\n",
    "* Dctionary value:\n",
    "    * t1: Timestamp at which the trade was closed\n",
    "    * pt: Prices at which the trade was closed\n",
    "    * uuid: Trade ID that can be provided for each trade\n",
    "    * start_prices: Prices at which spread was opened\n",
    "    * end_prices: Prices at which spread was closed\n",
    "    * pos_shares: Ticker and number of shares to go long\n",
    "    * neg_shares: Ticker and number of shares to go short "
   ]
  },
  {
   "cell_type": "markdown",
   "metadata": {},
   "source": [
    "## Discussion"
   ]
  },
  {
   "cell_type": "markdown",
   "metadata": {},
   "source": [
    "In general, from the conducted experiments, we discovered that the rolling window setup is better than the cumulative window setup. Also, re-estimating the cointegration vector monthly improves the performance of the strategy. It is better to exclude further history when estimating the cointegration vector, as the cointegration relationship between the $N$ assets are time-varying. It also provides circumstantial evidence that the following assumptions of the model are reasonable:\n",
    "\n",
    "\\begin{eqnarray*}\n",
    "\\lim_{p \\to \\infty} \\text{Cov} \\lbrack Y_t, Y_{t-p} \\rbrack = 0 \\\\\n",
    "\\sum_{p=1}^{\\infty} p \\text{ Cov} \\lbrack Z_t, Z_{t-p} \\rbrack < \\infty\n",
    "\\end{eqnarray*}\n",
    "\n",
    "These two assumptions indicate that long-term memory for the cointegrated assets will be almost non-existent. \n",
    "\n",
    "However, this trading strategy also has its limitations. Since the index value of AEX is much smaller than DAX, FTSE, and CAC 40, the number of AEX shares/contracts that need to be traded is much larger than its counterpart. Therefore, when the prices of the assets are different in the order of magnitude, it is better to double-check the position limit before trading the strategy."
   ]
  },
  {
   "cell_type": "markdown",
   "metadata": {},
   "source": [
    "## Conclusion"
   ]
  },
  {
   "cell_type": "markdown",
   "metadata": {},
   "source": [
    "This notebook demonstrated a trading strategy using the properties of cointegration among $N$ assets, and included an empirical example of trading four European stock indices (AEX, DAX, FTSE, and CAC).\n",
    "\n",
    "### Key Takeaways\n",
    "\n",
    "- The cointegration relation can be defined by the properties of compounded returns rather than asset prices.\n",
    "- It is possible to trade a strategy that has positive profit expectancy based on this cointegration relation of $N$ assets."
   ]
  },
  {
   "cell_type": "markdown",
   "metadata": {},
   "source": [
    "## Reference"
   ]
  },
  {
   "cell_type": "markdown",
   "metadata": {},
   "source": [
    "1. [Galenko, A., Popova, E. and Popova, I., 2012. Trading in the presence of cointegration. The Journal of Alternative Investments, 15(1), pp.85-97.](http://www.ntuzov.com/Nik_Site/Niks_files/Research/papers/stat_arb/Galenko_2007.pdf)"
   ]
  }
 ],
 "metadata": {
  "kernelspec": {
   "display_name": "arblab3.8",
   "language": "python",
   "name": "arblab3.8"
  },
  "language_info": {
   "codemirror_mode": {
    "name": "ipython",
    "version": 3
   },
   "file_extension": ".py",
   "mimetype": "text/x-python",
   "name": "python",
   "nbconvert_exporter": "python",
   "pygments_lexer": "ipython3",
   "version": "3.8.13"
  }
 },
 "nbformat": 4,
 "nbformat_minor": 4
}
