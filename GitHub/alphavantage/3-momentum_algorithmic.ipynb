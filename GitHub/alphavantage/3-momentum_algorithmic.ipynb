{
 "cells": [
  {
   "cell_type": "markdown",
   "metadata": {},
   "source": [
    "# Developing \"Momentum\" Trading Strategy\n",
    "* Many differnt takes on this strategy\n",
    "* Sometimes referred to as trend following\n",
    "* Whatever you do and call it, you first need to research potential trading signals"
   ]
  },
  {
   "cell_type": "code",
   "execution_count": 3,
   "metadata": {},
   "outputs": [],
   "source": [
    "import numpy as np\n",
    "import pandas as pd\n",
    "import pandas_datareader as pdr\n",
    "import matplotlib.pyplot as plt\n"
   ]
  },
  {
   "cell_type": "code",
   "execution_count": 36,
   "metadata": {},
   "outputs": [],
   "source": []
  },
  {
   "cell_type": "markdown",
   "metadata": {},
   "source": [
    "### 1. Download data: \n",
    "* Many services for this, some paid some free \n",
    "* Yahoo Finance API\n",
    "* Typically trading \"systems\" involve a number of securities\n",
    "* For this demonstration we are just going to look at GLD --> the gold ETF"
   ]
  },
  {
   "cell_type": "code",
   "execution_count": 7,
   "metadata": {},
   "outputs": [
    {
     "data": {
      "text/html": [
       "<div>\n",
       "<style scoped>\n",
       "    .dataframe tbody tr th:only-of-type {\n",
       "        vertical-align: middle;\n",
       "    }\n",
       "\n",
       "    .dataframe tbody tr th {\n",
       "        vertical-align: top;\n",
       "    }\n",
       "\n",
       "    .dataframe thead th {\n",
       "        text-align: right;\n",
       "    }\n",
       "</style>\n",
       "<table border=\"1\" class=\"dataframe\">\n",
       "  <thead>\n",
       "    <tr style=\"text-align: right;\">\n",
       "      <th></th>\n",
       "      <th>day</th>\n",
       "      <th>Open</th>\n",
       "      <th>High</th>\n",
       "      <th>Low</th>\n",
       "      <th>Close</th>\n",
       "    </tr>\n",
       "    <tr>\n",
       "      <th>Date</th>\n",
       "      <th></th>\n",
       "      <th></th>\n",
       "      <th></th>\n",
       "      <th></th>\n",
       "      <th></th>\n",
       "    </tr>\n",
       "  </thead>\n",
       "  <tbody>\n",
       "    <tr>\n",
       "      <th>2016-04-11</th>\n",
       "      <td>1</td>\n",
       "      <td>119.470001</td>\n",
       "      <td>120.300003</td>\n",
       "      <td>119.419998</td>\n",
       "      <td>120.029999</td>\n",
       "    </tr>\n",
       "    <tr>\n",
       "      <th>2016-04-12</th>\n",
       "      <td>2</td>\n",
       "      <td>120.230003</td>\n",
       "      <td>120.349998</td>\n",
       "      <td>119.550003</td>\n",
       "      <td>120.050003</td>\n",
       "    </tr>\n",
       "    <tr>\n",
       "      <th>2016-04-13</th>\n",
       "      <td>3</td>\n",
       "      <td>119.370003</td>\n",
       "      <td>119.430000</td>\n",
       "      <td>118.559998</td>\n",
       "      <td>118.769997</td>\n",
       "    </tr>\n",
       "    <tr>\n",
       "      <th>2016-04-14</th>\n",
       "      <td>4</td>\n",
       "      <td>118.089996</td>\n",
       "      <td>118.190002</td>\n",
       "      <td>116.949997</td>\n",
       "      <td>117.110001</td>\n",
       "    </tr>\n",
       "    <tr>\n",
       "      <th>2016-04-15</th>\n",
       "      <td>5</td>\n",
       "      <td>117.330002</td>\n",
       "      <td>118.120003</td>\n",
       "      <td>117.190002</td>\n",
       "      <td>117.919998</td>\n",
       "    </tr>\n",
       "  </tbody>\n",
       "</table>\n",
       "</div>"
      ],
      "text/plain": [
       "            day        Open        High         Low       Close\n",
       "Date                                                           \n",
       "2016-04-11    1  119.470001  120.300003  119.419998  120.029999\n",
       "2016-04-12    2  120.230003  120.349998  119.550003  120.050003\n",
       "2016-04-13    3  119.370003  119.430000  118.559998  118.769997\n",
       "2016-04-14    4  118.089996  118.190002  116.949997  117.110001\n",
       "2016-04-15    5  117.330002  118.120003  117.190002  117.919998"
      ]
     },
     "execution_count": 7,
     "metadata": {},
     "output_type": "execute_result"
    }
   ],
   "source": [
    "gld = pdr.get_data_yahoo('GLD')\n",
    "day = np.arange(1, len(gld) + 1)\n",
    "gld['day'] = day\n",
    "gld.drop(columns=['Adj Close', 'Volume'], inplace = True)\n",
    "gld = gld[['day', 'Open', 'High', 'Low', 'Close']]\n",
    "gld.head()"
   ]
  },
  {
   "cell_type": "code",
   "execution_count": 8,
   "metadata": {},
   "outputs": [
    {
     "name": "stdout",
     "output_type": "stream",
     "text": [
      "<class 'pandas.core.frame.DataFrame'>\n",
      "DatetimeIndex: 1258 entries, 2016-04-11 to 2021-04-08\n",
      "Data columns (total 5 columns):\n",
      " #   Column  Non-Null Count  Dtype  \n",
      "---  ------  --------------  -----  \n",
      " 0   day     1258 non-null   int64  \n",
      " 1   Open    1258 non-null   float64\n",
      " 2   High    1258 non-null   float64\n",
      " 3   Low     1258 non-null   float64\n",
      " 4   Close   1258 non-null   float64\n",
      "dtypes: float64(4), int64(1)\n",
      "memory usage: 59.0 KB\n"
     ]
    }
   ],
   "source": [
    "gld.info()"
   ]
  },
  {
   "cell_type": "markdown",
   "metadata": {},
   "source": [
    "### 2. Add data/transform data\n",
    "* calculate signal based on some price or statistical action\n",
    "* we are going to try a moving average crossover to generate signals\n",
    "* for this strategy we will always by \"in\" a trade, either long or short\n",
    "* we are modeling; this means real life variation should be expected"
   ]
  },
  {
   "cell_type": "markdown",
   "metadata": {},
   "source": [
    "#### Add moving averages to the data frame"
   ]
  },
  {
   "cell_type": "code",
   "execution_count": 27,
   "metadata": {},
   "outputs": [
    {
     "data": {
      "text/html": [
       "<div>\n",
       "<style scoped>\n",
       "    .dataframe tbody tr th:only-of-type {\n",
       "        vertical-align: middle;\n",
       "    }\n",
       "\n",
       "    .dataframe tbody tr th {\n",
       "        vertical-align: top;\n",
       "    }\n",
       "\n",
       "    .dataframe thead th {\n",
       "        text-align: right;\n",
       "    }\n",
       "</style>\n",
       "<table border=\"1\" class=\"dataframe\">\n",
       "  <thead>\n",
       "    <tr style=\"text-align: right;\">\n",
       "      <th></th>\n",
       "      <th>day</th>\n",
       "      <th>Open</th>\n",
       "      <th>High</th>\n",
       "      <th>Low</th>\n",
       "      <th>Close</th>\n",
       "      <th>9-day</th>\n",
       "      <th>21-day</th>\n",
       "      <th>signal</th>\n",
       "      <th>return</th>\n",
       "      <th>system_return</th>\n",
       "      <th>entry</th>\n",
       "    </tr>\n",
       "    <tr>\n",
       "      <th>Date</th>\n",
       "      <th></th>\n",
       "      <th></th>\n",
       "      <th></th>\n",
       "      <th></th>\n",
       "      <th></th>\n",
       "      <th></th>\n",
       "      <th></th>\n",
       "      <th></th>\n",
       "      <th></th>\n",
       "      <th></th>\n",
       "      <th></th>\n",
       "    </tr>\n",
       "  </thead>\n",
       "  <tbody>\n",
       "    <tr>\n",
       "      <th>2016-06-07</th>\n",
       "      <td>41</td>\n",
       "      <td>118.500000</td>\n",
       "      <td>119.019997</td>\n",
       "      <td>118.410004</td>\n",
       "      <td>118.820000</td>\n",
       "      <td>117.052222</td>\n",
       "      <td>NaN</td>\n",
       "      <td>-1</td>\n",
       "      <td>-0.000841</td>\n",
       "      <td>0.000841</td>\n",
       "      <td>0.0</td>\n",
       "    </tr>\n",
       "    <tr>\n",
       "      <th>2016-06-08</th>\n",
       "      <td>42</td>\n",
       "      <td>120.300003</td>\n",
       "      <td>120.779999</td>\n",
       "      <td>120.230003</td>\n",
       "      <td>120.580002</td>\n",
       "      <td>117.452222</td>\n",
       "      <td>119.066192</td>\n",
       "      <td>-1</td>\n",
       "      <td>0.014704</td>\n",
       "      <td>-0.014704</td>\n",
       "      <td>0.0</td>\n",
       "    </tr>\n",
       "    <tr>\n",
       "      <th>2016-06-09</th>\n",
       "      <td>43</td>\n",
       "      <td>120.610001</td>\n",
       "      <td>121.480003</td>\n",
       "      <td>120.550003</td>\n",
       "      <td>121.250000</td>\n",
       "      <td>117.971111</td>\n",
       "      <td>119.079049</td>\n",
       "      <td>-1</td>\n",
       "      <td>0.005541</td>\n",
       "      <td>-0.005541</td>\n",
       "      <td>0.0</td>\n",
       "    </tr>\n",
       "    <tr>\n",
       "      <th>2016-06-10</th>\n",
       "      <td>44</td>\n",
       "      <td>121.550003</td>\n",
       "      <td>122.099998</td>\n",
       "      <td>121.180000</td>\n",
       "      <td>121.739998</td>\n",
       "      <td>118.651110</td>\n",
       "      <td>119.060953</td>\n",
       "      <td>-1</td>\n",
       "      <td>0.004033</td>\n",
       "      <td>-0.004033</td>\n",
       "      <td>0.0</td>\n",
       "    </tr>\n",
       "    <tr>\n",
       "      <th>2016-06-13</th>\n",
       "      <td>45</td>\n",
       "      <td>122.800003</td>\n",
       "      <td>122.830002</td>\n",
       "      <td>122.029999</td>\n",
       "      <td>122.639999</td>\n",
       "      <td>119.382222</td>\n",
       "      <td>119.131429</td>\n",
       "      <td>-1</td>\n",
       "      <td>0.007366</td>\n",
       "      <td>-0.007366</td>\n",
       "      <td>0.0</td>\n",
       "    </tr>\n",
       "    <tr>\n",
       "      <th>2016-06-14</th>\n",
       "      <td>46</td>\n",
       "      <td>123.000000</td>\n",
       "      <td>123.059998</td>\n",
       "      <td>122.300003</td>\n",
       "      <td>122.769997</td>\n",
       "      <td>120.141110</td>\n",
       "      <td>119.181905</td>\n",
       "      <td>1</td>\n",
       "      <td>0.001059</td>\n",
       "      <td>0.001059</td>\n",
       "      <td>2.0</td>\n",
       "    </tr>\n",
       "  </tbody>\n",
       "</table>\n",
       "</div>"
      ],
      "text/plain": [
       "            day        Open        High         Low       Close       9-day  \\\n",
       "Date                                                                          \n",
       "2016-06-07   41  118.500000  119.019997  118.410004  118.820000  117.052222   \n",
       "2016-06-08   42  120.300003  120.779999  120.230003  120.580002  117.452222   \n",
       "2016-06-09   43  120.610001  121.480003  120.550003  121.250000  117.971111   \n",
       "2016-06-10   44  121.550003  122.099998  121.180000  121.739998  118.651110   \n",
       "2016-06-13   45  122.800003  122.830002  122.029999  122.639999  119.382222   \n",
       "2016-06-14   46  123.000000  123.059998  122.300003  122.769997  120.141110   \n",
       "\n",
       "                21-day  signal    return  system_return  entry  \n",
       "Date                                                            \n",
       "2016-06-07         NaN      -1 -0.000841       0.000841    0.0  \n",
       "2016-06-08  119.066192      -1  0.014704      -0.014704    0.0  \n",
       "2016-06-09  119.079049      -1  0.005541      -0.005541    0.0  \n",
       "2016-06-10  119.060953      -1  0.004033      -0.004033    0.0  \n",
       "2016-06-13  119.131429      -1  0.007366      -0.007366    0.0  \n",
       "2016-06-14  119.181905       1  0.001059       0.001059    2.0  "
      ]
     },
     "execution_count": 27,
     "metadata": {},
     "output_type": "execute_result"
    }
   ],
   "source": [
    "gld['9-day'] = gld['Close'].rolling(9).mean()\n",
    "gld['21-day'] = gld['Close'].rolling(21).mean()\n",
    "gld[19:25]"
   ]
  },
  {
   "cell_type": "markdown",
   "metadata": {},
   "source": [
    "#### Add \"signal\" column  "
   ]
  },
  {
   "cell_type": "code",
   "execution_count": 28,
   "metadata": {},
   "outputs": [
    {
     "data": {
      "text/html": [
       "<div>\n",
       "<style scoped>\n",
       "    .dataframe tbody tr th:only-of-type {\n",
       "        vertical-align: middle;\n",
       "    }\n",
       "\n",
       "    .dataframe tbody tr th {\n",
       "        vertical-align: top;\n",
       "    }\n",
       "\n",
       "    .dataframe thead th {\n",
       "        text-align: right;\n",
       "    }\n",
       "</style>\n",
       "<table border=\"1\" class=\"dataframe\">\n",
       "  <thead>\n",
       "    <tr style=\"text-align: right;\">\n",
       "      <th></th>\n",
       "      <th>day</th>\n",
       "      <th>Open</th>\n",
       "      <th>High</th>\n",
       "      <th>Low</th>\n",
       "      <th>Close</th>\n",
       "      <th>9-day</th>\n",
       "      <th>21-day</th>\n",
       "      <th>signal</th>\n",
       "      <th>return</th>\n",
       "      <th>system_return</th>\n",
       "      <th>entry</th>\n",
       "    </tr>\n",
       "    <tr>\n",
       "      <th>Date</th>\n",
       "      <th></th>\n",
       "      <th></th>\n",
       "      <th></th>\n",
       "      <th></th>\n",
       "      <th></th>\n",
       "      <th></th>\n",
       "      <th></th>\n",
       "      <th></th>\n",
       "      <th></th>\n",
       "      <th></th>\n",
       "      <th></th>\n",
       "    </tr>\n",
       "  </thead>\n",
       "  <tbody>\n",
       "    <tr>\n",
       "      <th>2016-06-08</th>\n",
       "      <td>42</td>\n",
       "      <td>120.300003</td>\n",
       "      <td>120.779999</td>\n",
       "      <td>120.230003</td>\n",
       "      <td>120.580002</td>\n",
       "      <td>117.452222</td>\n",
       "      <td>119.066192</td>\n",
       "      <td>-1</td>\n",
       "      <td>0.014704</td>\n",
       "      <td>-0.014704</td>\n",
       "      <td>0.0</td>\n",
       "    </tr>\n",
       "    <tr>\n",
       "      <th>2016-06-09</th>\n",
       "      <td>43</td>\n",
       "      <td>120.610001</td>\n",
       "      <td>121.480003</td>\n",
       "      <td>120.550003</td>\n",
       "      <td>121.250000</td>\n",
       "      <td>117.971111</td>\n",
       "      <td>119.079049</td>\n",
       "      <td>-1</td>\n",
       "      <td>0.005541</td>\n",
       "      <td>-0.005541</td>\n",
       "      <td>0.0</td>\n",
       "    </tr>\n",
       "    <tr>\n",
       "      <th>2016-06-10</th>\n",
       "      <td>44</td>\n",
       "      <td>121.550003</td>\n",
       "      <td>122.099998</td>\n",
       "      <td>121.180000</td>\n",
       "      <td>121.739998</td>\n",
       "      <td>118.651110</td>\n",
       "      <td>119.060953</td>\n",
       "      <td>-1</td>\n",
       "      <td>0.004033</td>\n",
       "      <td>-0.004033</td>\n",
       "      <td>0.0</td>\n",
       "    </tr>\n",
       "    <tr>\n",
       "      <th>2016-06-13</th>\n",
       "      <td>45</td>\n",
       "      <td>122.800003</td>\n",
       "      <td>122.830002</td>\n",
       "      <td>122.029999</td>\n",
       "      <td>122.639999</td>\n",
       "      <td>119.382222</td>\n",
       "      <td>119.131429</td>\n",
       "      <td>1</td>\n",
       "      <td>0.007366</td>\n",
       "      <td>-0.007366</td>\n",
       "      <td>0.0</td>\n",
       "    </tr>\n",
       "    <tr>\n",
       "      <th>2016-06-14</th>\n",
       "      <td>46</td>\n",
       "      <td>123.000000</td>\n",
       "      <td>123.059998</td>\n",
       "      <td>122.300003</td>\n",
       "      <td>122.769997</td>\n",
       "      <td>120.141110</td>\n",
       "      <td>119.181905</td>\n",
       "      <td>1</td>\n",
       "      <td>0.001059</td>\n",
       "      <td>0.001059</td>\n",
       "      <td>2.0</td>\n",
       "    </tr>\n",
       "  </tbody>\n",
       "</table>\n",
       "</div>"
      ],
      "text/plain": [
       "            day        Open        High         Low       Close       9-day  \\\n",
       "Date                                                                          \n",
       "2016-06-08   42  120.300003  120.779999  120.230003  120.580002  117.452222   \n",
       "2016-06-09   43  120.610001  121.480003  120.550003  121.250000  117.971111   \n",
       "2016-06-10   44  121.550003  122.099998  121.180000  121.739998  118.651110   \n",
       "2016-06-13   45  122.800003  122.830002  122.029999  122.639999  119.382222   \n",
       "2016-06-14   46  123.000000  123.059998  122.300003  122.769997  120.141110   \n",
       "\n",
       "                21-day  signal    return  system_return  entry  \n",
       "Date                                                            \n",
       "2016-06-08  119.066192      -1  0.014704      -0.014704    0.0  \n",
       "2016-06-09  119.079049      -1  0.005541      -0.005541    0.0  \n",
       "2016-06-10  119.060953      -1  0.004033      -0.004033    0.0  \n",
       "2016-06-13  119.131429       1  0.007366      -0.007366    0.0  \n",
       "2016-06-14  119.181905       1  0.001059       0.001059    2.0  "
      ]
     },
     "execution_count": 28,
     "metadata": {},
     "output_type": "execute_result"
    }
   ],
   "source": [
    "gld['signal'] = np.where(gld['9-day'] > gld['21-day'], 1, 0)\n",
    "gld['signal'] = np.where(gld['9-day'] < gld['21-day'], -1, gld['signal'])\n",
    "gld.dropna(inplace=True)\n",
    "gld.head()"
   ]
  },
  {
   "cell_type": "markdown",
   "metadata": {},
   "source": [
    "#### Calculate Instantaneous returns/system returns"
   ]
  },
  {
   "cell_type": "code",
   "execution_count": 29,
   "metadata": {},
   "outputs": [
    {
     "data": {
      "text/html": [
       "<div>\n",
       "<style scoped>\n",
       "    .dataframe tbody tr th:only-of-type {\n",
       "        vertical-align: middle;\n",
       "    }\n",
       "\n",
       "    .dataframe tbody tr th {\n",
       "        vertical-align: top;\n",
       "    }\n",
       "\n",
       "    .dataframe thead th {\n",
       "        text-align: right;\n",
       "    }\n",
       "</style>\n",
       "<table border=\"1\" class=\"dataframe\">\n",
       "  <thead>\n",
       "    <tr style=\"text-align: right;\">\n",
       "      <th></th>\n",
       "      <th>day</th>\n",
       "      <th>Open</th>\n",
       "      <th>High</th>\n",
       "      <th>Low</th>\n",
       "      <th>Close</th>\n",
       "      <th>9-day</th>\n",
       "      <th>21-day</th>\n",
       "      <th>signal</th>\n",
       "      <th>return</th>\n",
       "      <th>system_return</th>\n",
       "      <th>entry</th>\n",
       "    </tr>\n",
       "    <tr>\n",
       "      <th>Date</th>\n",
       "      <th></th>\n",
       "      <th></th>\n",
       "      <th></th>\n",
       "      <th></th>\n",
       "      <th></th>\n",
       "      <th></th>\n",
       "      <th></th>\n",
       "      <th></th>\n",
       "      <th></th>\n",
       "      <th></th>\n",
       "      <th></th>\n",
       "    </tr>\n",
       "  </thead>\n",
       "  <tbody>\n",
       "    <tr>\n",
       "      <th>2016-06-08</th>\n",
       "      <td>42</td>\n",
       "      <td>120.300003</td>\n",
       "      <td>120.779999</td>\n",
       "      <td>120.230003</td>\n",
       "      <td>120.580002</td>\n",
       "      <td>117.452222</td>\n",
       "      <td>119.066192</td>\n",
       "      <td>-1</td>\n",
       "      <td>NaN</td>\n",
       "      <td>NaN</td>\n",
       "      <td>NaN</td>\n",
       "    </tr>\n",
       "    <tr>\n",
       "      <th>2016-06-09</th>\n",
       "      <td>43</td>\n",
       "      <td>120.610001</td>\n",
       "      <td>121.480003</td>\n",
       "      <td>120.550003</td>\n",
       "      <td>121.250000</td>\n",
       "      <td>117.971111</td>\n",
       "      <td>119.079049</td>\n",
       "      <td>-1</td>\n",
       "      <td>0.005541</td>\n",
       "      <td>-0.005541</td>\n",
       "      <td>0.0</td>\n",
       "    </tr>\n",
       "    <tr>\n",
       "      <th>2016-06-10</th>\n",
       "      <td>44</td>\n",
       "      <td>121.550003</td>\n",
       "      <td>122.099998</td>\n",
       "      <td>121.180000</td>\n",
       "      <td>121.739998</td>\n",
       "      <td>118.651110</td>\n",
       "      <td>119.060953</td>\n",
       "      <td>-1</td>\n",
       "      <td>0.004033</td>\n",
       "      <td>-0.004033</td>\n",
       "      <td>0.0</td>\n",
       "    </tr>\n",
       "    <tr>\n",
       "      <th>2016-06-13</th>\n",
       "      <td>45</td>\n",
       "      <td>122.800003</td>\n",
       "      <td>122.830002</td>\n",
       "      <td>122.029999</td>\n",
       "      <td>122.639999</td>\n",
       "      <td>119.382222</td>\n",
       "      <td>119.131429</td>\n",
       "      <td>1</td>\n",
       "      <td>0.007366</td>\n",
       "      <td>0.007366</td>\n",
       "      <td>2.0</td>\n",
       "    </tr>\n",
       "    <tr>\n",
       "      <th>2016-06-14</th>\n",
       "      <td>46</td>\n",
       "      <td>123.000000</td>\n",
       "      <td>123.059998</td>\n",
       "      <td>122.300003</td>\n",
       "      <td>122.769997</td>\n",
       "      <td>120.141110</td>\n",
       "      <td>119.181905</td>\n",
       "      <td>1</td>\n",
       "      <td>0.001059</td>\n",
       "      <td>0.001059</td>\n",
       "      <td>0.0</td>\n",
       "    </tr>\n",
       "  </tbody>\n",
       "</table>\n",
       "</div>"
      ],
      "text/plain": [
       "            day        Open        High         Low       Close       9-day  \\\n",
       "Date                                                                          \n",
       "2016-06-08   42  120.300003  120.779999  120.230003  120.580002  117.452222   \n",
       "2016-06-09   43  120.610001  121.480003  120.550003  121.250000  117.971111   \n",
       "2016-06-10   44  121.550003  122.099998  121.180000  121.739998  118.651110   \n",
       "2016-06-13   45  122.800003  122.830002  122.029999  122.639999  119.382222   \n",
       "2016-06-14   46  123.000000  123.059998  122.300003  122.769997  120.141110   \n",
       "\n",
       "                21-day  signal    return  system_return  entry  \n",
       "Date                                                            \n",
       "2016-06-08  119.066192      -1       NaN            NaN    NaN  \n",
       "2016-06-09  119.079049      -1  0.005541      -0.005541    0.0  \n",
       "2016-06-10  119.060953      -1  0.004033      -0.004033    0.0  \n",
       "2016-06-13  119.131429       1  0.007366       0.007366    2.0  \n",
       "2016-06-14  119.181905       1  0.001059       0.001059    0.0  "
      ]
     },
     "execution_count": 29,
     "metadata": {},
     "output_type": "execute_result"
    }
   ],
   "source": [
    "gld['return'] = np.log(gld['Close']).diff()\n",
    "gld['system_return'] = gld['signal'] * gld['return']\n",
    "gld['entry'] = gld.signal.diff()\n",
    "gld.head()"
   ]
  },
  {
   "cell_type": "markdown",
   "metadata": {},
   "source": [
    "#### Plot trades on time series"
   ]
  },
  {
   "cell_type": "code",
   "execution_count": 30,
   "metadata": {},
   "outputs": [
    {
     "data": {
      "image/png": "[encoded data removed]",
      "text/plain": [
       "<Figure size 864x432 with 1 Axes>"
      ]
     },
     "metadata": {
      "needs_background": "light"
     },
     "output_type": "display_data"
    }
   ],
   "source": [
    "plt.rcParams['figure.figsize'] = 12, 6\n",
    "plt.grid(True, alpha = .3)\n",
    "plt.plot(gld.iloc[-252:]['Close'], label = 'GLD')\n",
    "plt.plot(gld.iloc[-252:]['9-day'], label = '9-day')\n",
    "plt.plot(gld.iloc[-252:]['21-day'], label = '21-day')\n",
    "plt.plot(gld[-252:].loc[gld.entry == 2].index, gld[-252:]['9-day'][gld.entry == 2], '^',\n",
    "         color = 'g', markersize = 12)\n",
    "plt.plot(gld[-252:].loc[gld.entry == -2].index, gld[-252:]['21-day'][gld.entry == -2], 'v',\n",
    "         color = 'r', markersize = 12)\n",
    "plt.legend(loc=2);"
   ]
  },
  {
   "cell_type": "code",
   "execution_count": 31,
   "metadata": {},
   "outputs": [
    {
     "data": {
      "image/png": "[encoded data removed]",
      "text/plain": [
       "<Figure size 864x432 with 1 Axes>"
      ]
     },
     "metadata": {
      "needs_background": "light"
     },
     "output_type": "display_data"
    }
   ],
   "source": [
    "plt.plot(np.exp(gld['return']).cumprod(), label='Buy/Hold')\n",
    "plt.plot(np.exp(gld['system_return']).cumprod(), label='System')\n",
    "plt.legend(loc=2)\n",
    "plt.grid(True, alpha=.3)"
   ]
  },
  {
   "cell_type": "code",
   "execution_count": 32,
   "metadata": {},
   "outputs": [
    {
     "data": {
      "text/plain": [
       "0.3653996523304317"
      ]
     },
     "execution_count": 32,
     "metadata": {},
     "output_type": "execute_result"
    }
   ],
   "source": [
    "np.exp(gld['return']).cumprod()[-1] -1"
   ]
  },
  {
   "cell_type": "code",
   "execution_count": 33,
   "metadata": {},
   "outputs": [
    {
     "data": {
      "text/plain": [
       "0.6523109676509895"
      ]
     },
     "execution_count": 33,
     "metadata": {},
     "output_type": "execute_result"
    }
   ],
   "source": [
    "np.exp(gld['system_return']).cumprod()[-1] -1"
   ]
  },
  {
   "cell_type": "code",
   "execution_count": null,
   "metadata": {},
   "outputs": [],
   "source": []
  },
  {
   "cell_type": "code",
   "execution_count": 49,
   "metadata": {},
   "outputs": [],
   "source": []
  },
  {
   "cell_type": "code",
   "execution_count": null,
   "metadata": {},
   "outputs": [],
   "source": []
  },
  {
   "cell_type": "code",
   "execution_count": null,
   "metadata": {},
   "outputs": [],
   "source": []
  },
  {
   "cell_type": "code",
   "execution_count": 45,
   "metadata": {},
   "outputs": [],
   "source": []
  },
  {
   "cell_type": "code",
   "execution_count": null,
   "metadata": {},
   "outputs": [],
   "source": []
  }
 ],
 "metadata": {
  "kernelspec": {
   "display_name": "Python 3",
   "language": "python",
   "name": "python3"
  },
  "language_info": {
   "codemirror_mode": {
    "name": "ipython",
    "version": 3
   },
   "file_extension": ".py",
   "mimetype": "text/x-python",
   "name": "python",
   "nbconvert_exporter": "python",
   "pygments_lexer": "ipython3",
   "version": "3.7.5"
  }
 },
 "nbformat": 4,
 "nbformat_minor": 5
}
