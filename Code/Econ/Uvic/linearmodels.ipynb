{
 "cells": [
  {
   "cell_type": "markdown",
   "metadata": {},
   "source": [
    "## 2 Solving Simple Linear Models"
   ]
  },
  {
   "cell_type": "code",
   "execution_count": 1,
   "metadata": {},
   "outputs": [
    {
     "data": {
      "text/plain": [
       "tuple"
      ]
     },
     "execution_count": 1,
     "metadata": {},
     "output_type": "execute_result"
    }
   ],
   "source": [
    "#Let's solve the most basic IS-LM model for a closed economy\n",
    "\n",
    "#Note: we can import packages in different ways\n",
    "#This is the standard way\n",
    "import numpy as np\n",
    "#This is an alternative way that allows to use more compact commands\n",
    "from scipy.linalg import inv, solve, det\n",
    "\n",
    "#Assign the appropriate values to the matrix of coefficients A\n",
    "#Notice that we are using round brackets: in principle this makes the matrix immutable\n",
    "A = ((1, 0.0005),\n",
    "     (1, -0.00025))\n",
    "\n",
    "#Check that it is a matrix and not a list (which is a collection of mutable objects, and use square brackets)\n",
    "type(A)"
   ]
  },
  {
   "cell_type": "code",
   "execution_count": 2,
   "metadata": {},
   "outputs": [
    {
     "name": "stdout",
     "output_type": "stream",
     "text": [
      "('apple', 'banana', 'cherry')\n"
     ]
    }
   ],
   "source": [
    "a_tuple = (\"apple\", \"banana\", \"cherry\")\n",
    "print(a_tuple)"
   ]
  },
  {
   "cell_type": "code",
   "execution_count": 3,
   "metadata": {},
   "outputs": [
    {
     "data": {
      "text/plain": [
       "tuple"
      ]
     },
     "execution_count": 3,
     "metadata": {},
     "output_type": "execute_result"
    }
   ],
   "source": [
    "#Assign the appropriate values to the vector of constants b\n",
    "b = (0.55, -0.2)\n",
    "\n",
    "#Check that it is a vector\n",
    "type(b)"
   ]
  },
  {
   "cell_type": "code",
   "execution_count": 4,
   "metadata": {},
   "outputs": [
    {
     "data": {
      "text/plain": [
       "numpy.ndarray"
      ]
     },
     "execution_count": 4,
     "metadata": {},
     "output_type": "execute_result"
    }
   ],
   "source": [
    "#Change the type of the matrix to allow changes in its entries\n",
    "A = np.array(A)\n",
    "\n",
    "#Check that it is a matrix\n",
    "#Most linear algebra operations work with both tuples and arrays\n",
    "type(A)"
   ]
  },
  {
   "cell_type": "code",
   "execution_count": 5,
   "metadata": {},
   "outputs": [
    {
     "data": {
      "text/plain": [
       "-0.00075"
      ]
     },
     "execution_count": 5,
     "metadata": {},
     "output_type": "execute_result"
    }
   ],
   "source": [
    "#Check that A is non-singular, hence invertible\n",
    "#Note the simple syntax, namely without the need to type \"scipy.linalg.det(A)\"\n",
    "det(A)\n",
    "\n",
    "#Not used\n",
    "#b = np.array(b)\n",
    "#b=b.T #Column vector"
   ]
  },
  {
   "cell_type": "code",
   "execution_count": 6,
   "metadata": {},
   "outputs": [
    {
     "data": {
      "text/plain": [
       "array([[ 3.33333333e-01,  6.66666667e-01],\n",
       "       [ 1.33333333e+03, -1.33333333e+03]])"
      ]
     },
     "execution_count": 6,
     "metadata": {},
     "output_type": "execute_result"
    }
   ],
   "source": [
    "#Compute and display the inverse\n",
    "A_inv = inv(A)\n",
    "A_inv"
   ]
  },
  {
   "cell_type": "code",
   "execution_count": 7,
   "metadata": {},
   "outputs": [
    {
     "data": {
      "text/plain": [
       "array([5.e-02, 1.e+03])"
      ]
     },
     "execution_count": 7,
     "metadata": {},
     "output_type": "execute_result"
    }
   ],
   "source": [
    "#Compute the solution to the system of two linear equations\n",
    "x = np.dot(A_inv, b)\n",
    "\n",
    "x"
   ]
  },
  {
   "cell_type": "code",
   "execution_count": 8,
   "metadata": {},
   "outputs": [
    {
     "data": {
      "text/plain": [
       "array([ 0.55, -0.2 ])"
      ]
     },
     "execution_count": 8,
     "metadata": {},
     "output_type": "execute_result"
    }
   ],
   "source": [
    "#Check that the solution is correct (the multiplication A*x should equal b)\n",
    "np.dot(A, x)"
   ]
  },
  {
   "cell_type": "code",
   "execution_count": 9,
   "metadata": {},
   "outputs": [],
   "source": [
    "#If we wanted to change the first entry in the matrix we could type\n",
    "A[0,0] = 2"
   ]
  },
  {
   "cell_type": "code",
   "execution_count": 10,
   "metadata": {},
   "outputs": [
    {
     "data": {
      "text/plain": [
       "array([[ 2.0e+00,  5.0e-04],\n",
       "       [ 1.0e+00, -2.5e-04]])"
      ]
     },
     "execution_count": 10,
     "metadata": {},
     "output_type": "execute_result"
    }
   ],
   "source": [
    "#Let's check that we are working with the updated matrix\n",
    "A"
   ]
  },
  {
   "cell_type": "code",
   "execution_count": 11,
   "metadata": {},
   "outputs": [
    {
     "ename": "TypeError",
     "evalue": "'tuple' object does not support item assignment",
     "output_type": "error",
     "traceback": [
      "\u001b[0;31m---------------------------------------------------------------------------\u001b[0m",
      "\u001b[0;31mTypeError\u001b[0m                                 Traceback (most recent call last)",
      "Cell \u001b[0;32mIn[11], line 3\u001b[0m\n\u001b[1;32m      1\u001b[0m \u001b[38;5;66;03m#If we wanted to change the first entry in the vector we could type\u001b[39;00m\n\u001b[1;32m      2\u001b[0m \u001b[38;5;66;03m#This prompts an error as b is immutable\u001b[39;00m\n\u001b[0;32m----> 3\u001b[0m \u001b[43mb\u001b[49m\u001b[43m[\u001b[49m\u001b[38;5;241;43m0\u001b[39;49m\u001b[43m]\u001b[49m\u001b[38;5;241m=\u001b[39m\u001b[38;5;241m0.5\u001b[39m\n",
      "\u001b[0;31mTypeError\u001b[0m: 'tuple' object does not support item assignment"
     ]
    }
   ],
   "source": [
    "#If we wanted to change the first entry in the vector we could type\n",
    "#This prompts an error as b is immutable\n",
    "b[0]=0.5"
   ]
  },
  {
   "cell_type": "code",
   "execution_count": 12,
   "metadata": {},
   "outputs": [],
   "source": [
    "#Wrapping up:\n",
    "# -lists use square brackets and allow the programmer to change their values\n",
    "# -tuples use round brackets and do not allow the programmer to change their values (can prevent \"user error\")"
   ]
  },
  {
   "cell_type": "code",
   "execution_count": 13,
   "metadata": {},
   "outputs": [
    {
     "data": {
      "text/plain": [
       "list"
      ]
     },
     "execution_count": 13,
     "metadata": {},
     "output_type": "execute_result"
    }
   ],
   "source": [
    "#Assign the appropriate values to the (3x3) matrix of coefficients Anew\n",
    "Anew = [(0, 1, 0),\n",
    "     (1, 0.0005, 0),\n",
    "     (1, -0.00025, 0.2)]\n",
    "\n",
    "#The type\n",
    "type(Anew)"
   ]
  },
  {
   "cell_type": "code",
   "execution_count": 14,
   "metadata": {},
   "outputs": [
    {
     "data": {
      "text/plain": [
       "list"
      ]
     },
     "execution_count": 14,
     "metadata": {},
     "output_type": "execute_result"
    }
   ],
   "source": [
    "#Assign the appropriate values to the vector of constants b\n",
    "bnew = [1000, 0.55, 0]\n",
    "\n",
    "#Check that it is a vector\n",
    "type(bnew)"
   ]
  },
  {
   "cell_type": "code",
   "execution_count": 15,
   "metadata": {
    "scrolled": true
   },
   "outputs": [
    {
     "data": {
      "text/plain": [
       "-0.2"
      ]
     },
     "execution_count": 15,
     "metadata": {},
     "output_type": "execute_result"
    }
   ],
   "source": [
    "#Check that Anew is non-singular, hence invertible\n",
    "det(Anew)"
   ]
  },
  {
   "cell_type": "code",
   "execution_count": 16,
   "metadata": {},
   "outputs": [],
   "source": [
    "#Compute the inverse\n",
    "Anew_inv = inv(Anew)"
   ]
  },
  {
   "cell_type": "code",
   "execution_count": 17,
   "metadata": {},
   "outputs": [
    {
     "data": {
      "text/plain": [
       "array([5.e-02, 1.e+03, 1.e+00])"
      ]
     },
     "execution_count": 17,
     "metadata": {},
     "output_type": "execute_result"
    }
   ],
   "source": [
    "#Compute the solution to the system of three linear equations\n",
    "xnew = np.dot(Anew_inv, bnew)\n",
    "\n",
    "xnew"
   ]
  },
  {
   "cell_type": "code",
   "execution_count": 18,
   "metadata": {},
   "outputs": [
    {
     "data": {
      "text/plain": [
       "1.0"
      ]
     },
     "execution_count": 18,
     "metadata": {},
     "output_type": "execute_result"
    }
   ],
   "source": [
    "#Compute the equilibrium price level\n",
    "P=1/xnew[2]\n",
    "\n",
    "P"
   ]
  }
 ],
 "metadata": {
  "kernelspec": {
   "display_name": "Python 3 (ipykernel)",
   "language": "python",
   "name": "python3"
  },
  "language_info": {
   "codemirror_mode": {
    "name": "ipython",
    "version": 3
   },
   "file_extension": ".py",
   "mimetype": "text/x-python",
   "name": "python",
   "nbconvert_exporter": "python",
   "pygments_lexer": "ipython3",
   "version": "3.11.4"
  }
 },
 "nbformat": 4,
 "nbformat_minor": 2
}
