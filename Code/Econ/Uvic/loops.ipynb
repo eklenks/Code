{
 "cells": [
  {
   "cell_type": "code",
   "execution_count": 2,
   "metadata": {},
   "outputs": [
    {
     "name": "stdout",
     "output_type": "stream",
     "text": [
      "The current iteration is 0\n",
      "The current iteration is 1\n",
      "The current iteration is 2\n",
      "The current iteration is 3\n",
      "The current iteration is 4\n",
      "The current iteration is 5\n",
      "The current iteration is 6\n",
      "The current iteration is 7\n",
      "The current iteration is 8\n",
      "The current iteration is 9\n",
      "The Program is done and the value of the counter is: 9\n"
     ]
    }
   ],
   "source": [
    "#1.1 A basic do-loop example\n",
    "#Note: the variable i, an integer, performs the job of a \"counter\" \n",
    "#Note: we need to specify the range and include a colon at the end of the statement\n",
    "for i in range(10):\n",
    "    print('The current iteration is',i)\n",
    "#Now the for loop is over and I have to eliminate the indentation\n",
    "print('The Program is done and the value of the counter is:',i)"
   ]
  },
  {
   "cell_type": "code",
   "execution_count": 5,
   "metadata": {},
   "outputs": [
    {
     "name": "stdout",
     "output_type": "stream",
     "text": [
      "The current iteration is 0\n",
      "The counting task is at 1\n",
      "---\n",
      "The current iteration is 1\n",
      "The counting task is at 2\n",
      "---\n",
      "The current iteration is 2\n",
      "The counting task is at 3\n",
      "---\n",
      "The current iteration is 3\n",
      "The counting task is at 4\n",
      "---\n",
      "The current iteration is 4\n",
      "The counting task is at 5\n",
      "---\n",
      "The current iteration is 5\n",
      "The counting task is at 6\n",
      "---\n",
      "The current iteration is 6\n",
      "The counting task is at 7\n",
      "---\n",
      "The current iteration is 7\n",
      "The counting task is at 8\n",
      "---\n",
      "The current iteration is 8\n",
      "The counting task is at 9\n",
      "---\n",
      "The current iteration is 9\n",
      "The counting task is at 10\n",
      "---\n",
      "The Program is done and the value of the counter i is: 9\n",
      "The Program is done and the rescaled counter i+1 is: 10\n"
     ]
    }
   ],
   "source": [
    "#1.1b A basic do-loop example\n",
    "#Note: we need to specify the range and include a colon at the end of the statement\n",
    "for i in range(10):\n",
    "    #Now we added a more standard way of counting\n",
    "    print('The current iteration is',i)    \n",
    "    print('The counting task is at',i+1)\n",
    "    print('---')\n",
    "    \n",
    "#Now the for loop is over and I have to eliminate the indentation\n",
    "print('The Program is done and the value of the counter i is:',i)\n",
    "print('The Program is done and the rescaled counter i+1 is:',i+1)"
   ]
  },
  {
   "cell_type": "code",
   "execution_count": 14,
   "metadata": {},
   "outputs": [
    {
     "name": "stdout",
     "output_type": "stream",
     "text": [
      "The current iteration is 0\n",
      "The current iteration is 1\n",
      "The current iteration is 2\n",
      "The current iteration is 3\n",
      "The current iteration is 4\n",
      "The current iteration is 5\n",
      "The current iteration is 6\n",
      "The current iteration is 7\n",
      "The current iteration is 8\n",
      "The current iteration is 9\n",
      "The Program is done and the value of the counter is: 9\n"
     ]
    }
   ],
   "source": [
    "#1.3 A basic while-loop example\n",
    "\n",
    "#Note: now we need to specify a variable representing the range and an initial value for the counter\n",
    "max_iteration = 9\n",
    "i = 8\n",
    "inew = 0\n",
    "\n",
    "#Note: the variable i, an integer, performs the job of a \"counter\" \n",
    "while i < max_iteration:\n",
    "\n",
    "    #Note the indentation (four blanks exactly, or one Tab stroke)\n",
    "    #Here we update the counter\n",
    "    i=inew\n",
    "    #Now we ask Python to execute some instructions (i.e., print the intermediate steps)\n",
    "    print('The current iteration is',i)\n",
    "    #Note the counter has to increase otherwise the loop will run forever\n",
    "    inew = i + 1    \n",
    "\n",
    "#Now the for loop is over and I have to eliminate the indentation\n",
    "print('The Program is done and the value of the counter is:',i)"
   ]
  },
  {
   "cell_type": "code",
   "execution_count": 15,
   "metadata": {},
   "outputs": [
    {
     "name": "stdout",
     "output_type": "stream",
     "text": [
      "The current iteration is 0\n",
      "_____________________________\n",
      "The current iteration is 1\n",
      "_____________________________\n",
      "The current iteration is 2\n",
      "_____________________________\n",
      "The current iteration is 3\n",
      "_____________________________\n",
      "The current iteration is 4\n",
      "_____________________________\n",
      "The current iteration is 5\n",
      "_____________________________\n",
      "The current iteration is 6\n",
      "_____________________________\n",
      "The current iteration is 7\n",
      "_____________________________\n",
      "The current iteration is 8\n",
      "_____________________________\n",
      "The current iteration is 9\n",
      "_____________________________\n",
      "The Program is done and the value of the counter is: 10\n"
     ]
    }
   ],
   "source": [
    "#1.4 A simpler way of iterating (we drop inew)\n",
    "\n",
    "#Note: now we need to specify a variable representing the range and an initial value for the counter\n",
    "max_iteration = 10\n",
    "i = 0\n",
    "\n",
    "#Note: the variable i, an integer, performs the job of a \"counter\" \n",
    "while i < max_iteration:\n",
    "\n",
    "    #Note the indentation (four blanks exactly, or one Tab stroke)\n",
    "    #Now we ask Python to execute some instructions (i.e., print the intermediate steps)\n",
    "    print('The current iteration is',i)\n",
    "    print('_____________________________')\n",
    "    #Note the counter has to increase otherwise the loop will run forever\n",
    "    i = i + 1    \n",
    "\n",
    "#Now the while loop is over and I have to eliminate the indentation\n",
    "print('The Program is done and the value of the counter is:',i)"
   ]
  },
  {
   "cell_type": "markdown",
   "metadata": {},
   "source": [
    "## 2 If statements"
   ]
  },
  {
   "cell_type": "code",
   "execution_count": 1,
   "metadata": {},
   "outputs": [
    {
     "name": "stdout",
     "output_type": "stream",
     "text": [
      "The current iteration is 0\n",
      "The current iteration is 1\n",
      "The current iteration is 2\n",
      "The current iteration is 3\n",
      "The current iteration is 4\n",
      "The current iteration is 5\n",
      "The current iteration is 6\n",
      "_____________________________\n",
      "The current iteration is 7\n",
      "_____________________________\n",
      "The current iteration is 8\n",
      "_____________________________\n",
      "The current iteration is 9\n",
      "_____________________________\n",
      "The Program is done and the value of the counter is: 9\n"
     ]
    }
   ],
   "source": [
    "#2.1a A basic example of an if statement inside a do-loop\n",
    "\n",
    "#Note: the variable i, an integer, performs the job of a \"counter\" \n",
    "#Note: we need to specify the range and include a colon at the end of the statement\n",
    "for i in range(10):\n",
    "\n",
    "    #Note the indentation (four blanks exactly, or one Tab stroke)\n",
    "    #Now we ask Python to execute some instructions (i.e., print the intermediate steps)\n",
    "    print('The current iteration is',i)\n",
    "    \n",
    "    #Now we add a condition on what should be executed\n",
    "    if i > 5:\n",
    "        print('_____________________________')\n",
    "\n",
    "#Now the for loop is over and I have to eliminate the indentation\n",
    "print('The Program is done and the value of the counter is:',i)"
   ]
  },
  {
   "cell_type": "code",
   "execution_count": 4,
   "metadata": {},
   "outputs": [
    {
     "name": "stdout",
     "output_type": "stream",
     "text": [
      "The current iteration is 0\n",
      "The current iteration is 1\n",
      "The current iteration is 2\n",
      "The current iteration is 3\n",
      "The current iteration is 4\n",
      "The current iteration is 5\n",
      "The current iteration is 6\n",
      "_____________________________\n",
      "The current iteration is 7\n",
      "_____________________________\n",
      "The current iteration is 8\n",
      "_____________________________\n",
      "The current iteration is 9\n",
      "_____________________________\n",
      "The Program is done and the value of the counter is: 9\n"
     ]
    }
   ],
   "source": [
    "#2.1b We can achieve the same result with a more complicated code\n",
    "for i in range(6):\n",
    "\n",
    "    #Note the indentation (four blanks exactly, or one Tab stroke)\n",
    "    #Now we ask Python to execute some instructions (i.e., print the intermediate steps)\n",
    "    print('The current iteration is',i)\n",
    "    \n",
    "\n",
    "for i in range(6,10,1):\n",
    "\n",
    "    #Note the indentation (four blanks exactly, or one Tab stroke)\n",
    "    #Now we ask Python to execute some instructions (i.e., print the intermediate steps)\n",
    "    print('The current iteration is',i)\n",
    "    \n",
    "    print('_____________________________')\n",
    "\n",
    "#Now the for loop is over and I have to eliminate the indentation\n",
    "print('The Program is done and the value of the counter is:',i)\n"
   ]
  },
  {
   "cell_type": "code",
   "execution_count": 5,
   "metadata": {},
   "outputs": [
    {
     "name": "stdout",
     "output_type": "stream",
     "text": [
      "The current iteration is 0\n",
      "*****************************\n",
      "The current iteration is 1\n",
      "*****************************\n",
      "The current iteration is 2\n",
      "*****************************\n",
      "The current iteration is 3\n",
      "*****************************\n",
      "The current iteration is 4\n",
      "*****************************\n",
      "The current iteration is 5\n",
      "*****************************\n",
      "The current iteration is 6\n",
      "_____________________________\n",
      "The current iteration is 7\n",
      "_____________________________\n",
      "The current iteration is 8\n",
      "_____________________________\n",
      "The current iteration is 9\n",
      "_____________________________\n",
      "The Program is done and the value of the counter is: 9\n"
     ]
    }
   ],
   "source": [
    "#2.2 A basic example of if/else statements inside a do-loop\n",
    "\n",
    "#Note: the variable i, an integer, performs the job of a \"counter\" \n",
    "#Note: we need to specify the range and include a colon at the end of the statement\n",
    "for i in range(10):\n",
    "\n",
    "    #Note the indentation (four blanks exactly, or one Tab stroke)\n",
    "    #Now we ask Python to execute some instructions (i.e., print the intermediate steps)\n",
    "    print('The current iteration is',i)\n",
    "    \n",
    "    #Now we add a condition on what should be executed\n",
    "    if i > 5:\n",
    "        print('_____________________________')\n",
    "    else:    \n",
    "        print('*****************************')\n",
    "    \n",
    "              \n",
    "#Now the for loop is over and I have to eliminate the indentation\n",
    "print('The Program is done and the value of the counter is:',i)"
   ]
  },
  {
   "cell_type": "code",
   "execution_count": 6,
   "metadata": {},
   "outputs": [
    {
     "name": "stdout",
     "output_type": "stream",
     "text": [
      "The current iteration is 0\n",
      "_____________________________\n",
      "The current iteration is 1\n",
      "*****************************\n",
      "The current iteration is 2\n",
      "?????????????????????????????\n",
      "The current iteration is 3\n",
      "$$$$$$$$$$$$$$$$$$$$$$$$$$$$$\n",
      "The current iteration is 4\n",
      "$$$$$$$$$$$$$$$$$$$$$$$$$$$$$\n",
      "The current iteration is 5\n",
      "$$$$$$$$$$$$$$$$$$$$$$$$$$$$$\n",
      "The current iteration is 6\n",
      "$$$$$$$$$$$$$$$$$$$$$$$$$$$$$\n",
      "The current iteration is 7\n",
      "$$$$$$$$$$$$$$$$$$$$$$$$$$$$$\n",
      "The current iteration is 8\n",
      "$$$$$$$$$$$$$$$$$$$$$$$$$$$$$\n",
      "The current iteration is 9\n",
      "$$$$$$$$$$$$$$$$$$$$$$$$$$$$$\n",
      "The Program is done and the value of the counter is: 9\n"
     ]
    }
   ],
   "source": [
    "#2.3 A basic example of an if/else statements inside a do-loop\n",
    "\n",
    "#Note: the variable i, an integer, performs the job of a \"counter\" \n",
    "#Note: we need to specify the range and include a colon at the end of the statement\n",
    "for i in range(10):\n",
    "\n",
    "    #Note the indentation (four blanks exactly, or one Tab stroke)\n",
    "    #Now we ask Python to execute some instructions (i.e., print the intermediate steps)\n",
    "    print('The current iteration is',i)\n",
    "    \n",
    "    #Now we add a condition on what should be executed\n",
    "    if i == 0:\n",
    "        print('_____________________________')\n",
    "    elif i == 1:    \n",
    "        print('*****************************')\n",
    "    elif i == 2:    \n",
    "        print('?????????????????????????????')        \n",
    "    else:    \n",
    "        print('$$$$$$$$$$$$$$$$$$$$$$$$$$$$$')\n",
    "    \n",
    "              \n",
    "#Now the for loop is over and I have to eliminate the indentation\n",
    "print('The Program is done and the value of the counter is:',i)"
   ]
  }
 ],
 "metadata": {
  "kernelspec": {
   "display_name": "Python 3 (ipykernel)",
   "language": "python",
   "name": "python3"
  },
  "language_info": {
   "codemirror_mode": {
    "name": "ipython",
    "version": 3
   },
   "file_extension": ".py",
   "mimetype": "text/x-python",
   "name": "python",
   "nbconvert_exporter": "python",
   "pygments_lexer": "ipython3",
   "version": "3.11.4"
  }
 },
 "nbformat": 4,
 "nbformat_minor": 2
}
