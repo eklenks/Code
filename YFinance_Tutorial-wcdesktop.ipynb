{
 "cells": [
  {
   "attachments": {},
   "cell_type": "markdown",
   "id": "09535de7",
   "metadata": {},
   "source": [
    "## Import yfinance and Pandas"
   ]
  },
  {
   "cell_type": "code",
   "execution_count": 1,
   "id": "caf4642b",
   "metadata": {},
   "outputs": [],
   "source": [
    "import pandas as pd\n",
    "import yfinance as yf"
   ]
  },
  {
   "cell_type": "code",
   "execution_count": 2,
   "id": "54f9d62e",
   "metadata": {},
   "outputs": [
    {
     "data": {
      "text/plain": [
       "['Ticker',\n",
       " 'Tickers',\n",
       " '__all__',\n",
       " '__author__',\n",
       " '__builtins__',\n",
       " '__cached__',\n",
       " '__doc__',\n",
       " '__file__',\n",
       " '__loader__',\n",
       " '__name__',\n",
       " '__package__',\n",
       " '__path__',\n",
       " '__spec__',\n",
       " '__version__',\n",
       " 'base',\n",
       " 'data',\n",
       " 'download',\n",
       " 'exceptions',\n",
       " 'multi',\n",
       " 'pdr_override',\n",
       " 'scrapers',\n",
       " 'set_tz_cache_location',\n",
       " 'shared',\n",
       " 'ticker',\n",
       " 'tickers',\n",
       " 'utils',\n",
       " 'version']"
      ]
     },
     "execution_count": 2,
     "metadata": {},
     "output_type": "execute_result"
    }
   ],
   "source": [
    "dir(yf)"
   ]
  },
  {
   "attachments": {},
   "cell_type": "markdown",
   "id": "7665fba6",
   "metadata": {},
   "source": [
    "## How to Download Historical Price Data Using yfinance"
   ]
  },
  {
   "attachments": {},
   "cell_type": "markdown",
   "id": "9f117abb",
   "metadata": {},
   "source": [
    "First, we need to create a ticker object and then use that object to get our data. Creating a ticker object is straightforward:"
   ]
  },
  {
   "cell_type": "code",
   "execution_count": 3,
   "id": "99934d0c",
   "metadata": {},
   "outputs": [
    {
     "data": {
      "text/plain": [
       "yfinance.Ticker object <GOOG>"
      ]
     },
     "execution_count": 3,
     "metadata": {},
     "output_type": "execute_result"
    }
   ],
   "source": [
    "goog = yf.Ticker('goog')\n",
    "goog"
   ]
  },
  {
   "cell_type": "code",
   "execution_count": 4,
   "id": "5b854da1",
   "metadata": {},
   "outputs": [
    {
     "data": {
      "text/html": [
       "<div>\n",
       "<style scoped>\n",
       "    .dataframe tbody tr th:only-of-type {\n",
       "        vertical-align: middle;\n",
       "    }\n",
       "\n",
       "    .dataframe tbody tr th {\n",
       "        vertical-align: top;\n",
       "    }\n",
       "\n",
       "    .dataframe thead th {\n",
       "        text-align: right;\n",
       "    }\n",
       "</style>\n",
       "<table border=\"1\" class=\"dataframe\">\n",
       "  <thead>\n",
       "    <tr style=\"text-align: right;\">\n",
       "      <th></th>\n",
       "      <th>Open</th>\n",
       "      <th>High</th>\n",
       "      <th>Low</th>\n",
       "      <th>Close</th>\n",
       "      <th>Volume</th>\n",
       "      <th>Dividends</th>\n",
       "      <th>Stock Splits</th>\n",
       "    </tr>\n",
       "    <tr>\n",
       "      <th>Date</th>\n",
       "      <th></th>\n",
       "      <th></th>\n",
       "      <th></th>\n",
       "      <th></th>\n",
       "      <th></th>\n",
       "      <th></th>\n",
       "      <th></th>\n",
       "    </tr>\n",
       "  </thead>\n",
       "  <tbody>\n",
       "    <tr>\n",
       "      <th>2023-06-05 00:00:00-04:00</th>\n",
       "      <td>124.610001</td>\n",
       "      <td>127.989998</td>\n",
       "      <td>124.379997</td>\n",
       "      <td>126.629997</td>\n",
       "      <td>22672500</td>\n",
       "      <td>0.0</td>\n",
       "      <td>0.0</td>\n",
       "    </tr>\n",
       "    <tr>\n",
       "      <th>2023-06-06 00:00:00-04:00</th>\n",
       "      <td>126.599998</td>\n",
       "      <td>128.880005</td>\n",
       "      <td>125.970001</td>\n",
       "      <td>127.910004</td>\n",
       "      <td>19450100</td>\n",
       "      <td>0.0</td>\n",
       "      <td>0.0</td>\n",
       "    </tr>\n",
       "    <tr>\n",
       "      <th>2023-06-07 00:00:00-04:00</th>\n",
       "      <td>127.574997</td>\n",
       "      <td>129.550003</td>\n",
       "      <td>122.629997</td>\n",
       "      <td>122.940002</td>\n",
       "      <td>34179300</td>\n",
       "      <td>0.0</td>\n",
       "      <td>0.0</td>\n",
       "    </tr>\n",
       "    <tr>\n",
       "      <th>2023-06-08 00:00:00-04:00</th>\n",
       "      <td>122.584999</td>\n",
       "      <td>123.730003</td>\n",
       "      <td>122.010002</td>\n",
       "      <td>122.669998</td>\n",
       "      <td>24815000</td>\n",
       "      <td>0.0</td>\n",
       "      <td>0.0</td>\n",
       "    </tr>\n",
       "    <tr>\n",
       "      <th>2023-06-09 00:00:00-04:00</th>\n",
       "      <td>122.559998</td>\n",
       "      <td>124.285004</td>\n",
       "      <td>122.419998</td>\n",
       "      <td>122.870003</td>\n",
       "      <td>20304500</td>\n",
       "      <td>0.0</td>\n",
       "      <td>0.0</td>\n",
       "    </tr>\n",
       "  </tbody>\n",
       "</table>\n",
       "</div>"
      ],
      "text/plain": [
       "                                 Open        High         Low       Close  \\\n",
       "Date                                                                        \n",
       "2023-06-05 00:00:00-04:00  124.610001  127.989998  124.379997  126.629997   \n",
       "2023-06-06 00:00:00-04:00  126.599998  128.880005  125.970001  127.910004   \n",
       "2023-06-07 00:00:00-04:00  127.574997  129.550003  122.629997  122.940002   \n",
       "2023-06-08 00:00:00-04:00  122.584999  123.730003  122.010002  122.669998   \n",
       "2023-06-09 00:00:00-04:00  122.559998  124.285004  122.419998  122.870003   \n",
       "\n",
       "                             Volume  Dividends  Stock Splits  \n",
       "Date                                                          \n",
       "2023-06-05 00:00:00-04:00  22672500        0.0           0.0  \n",
       "2023-06-06 00:00:00-04:00  19450100        0.0           0.0  \n",
       "2023-06-07 00:00:00-04:00  34179300        0.0           0.0  \n",
       "2023-06-08 00:00:00-04:00  24815000        0.0           0.0  \n",
       "2023-06-09 00:00:00-04:00  20304500        0.0           0.0  "
      ]
     },
     "execution_count": 4,
     "metadata": {},
     "output_type": "execute_result"
    }
   ],
   "source": [
    "data = goog.history()\n",
    "data.head()"
   ]
  },
  {
   "cell_type": "code",
   "execution_count": 5,
   "id": "63a90c26",
   "metadata": {},
   "outputs": [
    {
     "data": {
      "text/html": [
       "<div>\n",
       "<style scoped>\n",
       "    .dataframe tbody tr th:only-of-type {\n",
       "        vertical-align: middle;\n",
       "    }\n",
       "\n",
       "    .dataframe tbody tr th {\n",
       "        vertical-align: top;\n",
       "    }\n",
       "\n",
       "    .dataframe thead th {\n",
       "        text-align: right;\n",
       "    }\n",
       "</style>\n",
       "<table border=\"1\" class=\"dataframe\">\n",
       "  <thead>\n",
       "    <tr style=\"text-align: right;\">\n",
       "      <th></th>\n",
       "      <th>Open</th>\n",
       "      <th>High</th>\n",
       "      <th>Low</th>\n",
       "      <th>Close</th>\n",
       "      <th>Volume</th>\n",
       "      <th>Dividends</th>\n",
       "      <th>Stock Splits</th>\n",
       "    </tr>\n",
       "    <tr>\n",
       "      <th>Datetime</th>\n",
       "      <th></th>\n",
       "      <th></th>\n",
       "      <th></th>\n",
       "      <th></th>\n",
       "      <th></th>\n",
       "      <th></th>\n",
       "      <th></th>\n",
       "    </tr>\n",
       "  </thead>\n",
       "  <tbody>\n",
       "    <tr>\n",
       "      <th>2023-06-05 09:30:00-04:00</th>\n",
       "      <td>125.339996</td>\n",
       "      <td>127.544998</td>\n",
       "      <td>124.820000</td>\n",
       "      <td>126.629898</td>\n",
       "      <td>6669771</td>\n",
       "      <td>0.0</td>\n",
       "      <td>0.0</td>\n",
       "    </tr>\n",
       "    <tr>\n",
       "      <th>2023-06-05 10:30:00-04:00</th>\n",
       "      <td>126.616501</td>\n",
       "      <td>127.800003</td>\n",
       "      <td>126.480003</td>\n",
       "      <td>127.739998</td>\n",
       "      <td>3514060</td>\n",
       "      <td>0.0</td>\n",
       "      <td>0.0</td>\n",
       "    </tr>\n",
       "    <tr>\n",
       "      <th>2023-06-05 11:30:00-04:00</th>\n",
       "      <td>127.730003</td>\n",
       "      <td>127.989998</td>\n",
       "      <td>127.290001</td>\n",
       "      <td>127.512703</td>\n",
       "      <td>2074554</td>\n",
       "      <td>0.0</td>\n",
       "      <td>0.0</td>\n",
       "    </tr>\n",
       "    <tr>\n",
       "      <th>2023-06-05 12:30:00-04:00</th>\n",
       "      <td>127.519997</td>\n",
       "      <td>127.785004</td>\n",
       "      <td>127.150002</td>\n",
       "      <td>127.305000</td>\n",
       "      <td>1773545</td>\n",
       "      <td>0.0</td>\n",
       "      <td>0.0</td>\n",
       "    </tr>\n",
       "    <tr>\n",
       "      <th>2023-06-05 13:30:00-04:00</th>\n",
       "      <td>127.309998</td>\n",
       "      <td>127.459999</td>\n",
       "      <td>126.550003</td>\n",
       "      <td>126.839996</td>\n",
       "      <td>2015875</td>\n",
       "      <td>0.0</td>\n",
       "      <td>0.0</td>\n",
       "    </tr>\n",
       "  </tbody>\n",
       "</table>\n",
       "</div>"
      ],
      "text/plain": [
       "                                 Open        High         Low       Close  \\\n",
       "Datetime                                                                    \n",
       "2023-06-05 09:30:00-04:00  125.339996  127.544998  124.820000  126.629898   \n",
       "2023-06-05 10:30:00-04:00  126.616501  127.800003  126.480003  127.739998   \n",
       "2023-06-05 11:30:00-04:00  127.730003  127.989998  127.290001  127.512703   \n",
       "2023-06-05 12:30:00-04:00  127.519997  127.785004  127.150002  127.305000   \n",
       "2023-06-05 13:30:00-04:00  127.309998  127.459999  126.550003  126.839996   \n",
       "\n",
       "                            Volume  Dividends  Stock Splits  \n",
       "Datetime                                                     \n",
       "2023-06-05 09:30:00-04:00  6669771        0.0           0.0  \n",
       "2023-06-05 10:30:00-04:00  3514060        0.0           0.0  \n",
       "2023-06-05 11:30:00-04:00  2074554        0.0           0.0  \n",
       "2023-06-05 12:30:00-04:00  1773545        0.0           0.0  \n",
       "2023-06-05 13:30:00-04:00  2015875        0.0           0.0  "
      ]
     },
     "execution_count": 5,
     "metadata": {},
     "output_type": "execute_result"
    }
   ],
   "source": [
    "data = goog.history(interval='1h', start='2023-06-03', end='2023-06-12')\n",
    "data.head()"
   ]
  },
  {
   "attachments": {},
   "cell_type": "markdown",
   "id": "462ee114",
   "metadata": {},
   "source": [
    "### Download Multiple Tickers Using yfinance"
   ]
  },
  {
   "cell_type": "code",
   "execution_count": 6,
   "id": "9134fef5",
   "metadata": {},
   "outputs": [
    {
     "name": "stdout",
     "output_type": "stream",
     "text": [
      "[*********************100%***********************]  2 of 2 completed\n"
     ]
    },
    {
     "data": {
      "text/html": [
       "<div>\n",
       "<style scoped>\n",
       "    .dataframe tbody tr th:only-of-type {\n",
       "        vertical-align: middle;\n",
       "    }\n",
       "\n",
       "    .dataframe tbody tr th {\n",
       "        vertical-align: top;\n",
       "    }\n",
       "\n",
       "    .dataframe thead tr th {\n",
       "        text-align: left;\n",
       "    }\n",
       "\n",
       "    .dataframe thead tr:last-of-type th {\n",
       "        text-align: right;\n",
       "    }\n",
       "</style>\n",
       "<table border=\"1\" class=\"dataframe\">\n",
       "  <thead>\n",
       "    <tr>\n",
       "      <th></th>\n",
       "      <th colspan=\"2\" halign=\"left\">Adj Close</th>\n",
       "      <th colspan=\"2\" halign=\"left\">Close</th>\n",
       "      <th colspan=\"2\" halign=\"left\">High</th>\n",
       "      <th colspan=\"2\" halign=\"left\">Low</th>\n",
       "      <th colspan=\"2\" halign=\"left\">Open</th>\n",
       "      <th colspan=\"2\" halign=\"left\">Volume</th>\n",
       "    </tr>\n",
       "    <tr>\n",
       "      <th></th>\n",
       "      <th>GOOG</th>\n",
       "      <th>META</th>\n",
       "      <th>GOOG</th>\n",
       "      <th>META</th>\n",
       "      <th>GOOG</th>\n",
       "      <th>META</th>\n",
       "      <th>GOOG</th>\n",
       "      <th>META</th>\n",
       "      <th>GOOG</th>\n",
       "      <th>META</th>\n",
       "      <th>GOOG</th>\n",
       "      <th>META</th>\n",
       "    </tr>\n",
       "    <tr>\n",
       "      <th>Date</th>\n",
       "      <th></th>\n",
       "      <th></th>\n",
       "      <th></th>\n",
       "      <th></th>\n",
       "      <th></th>\n",
       "      <th></th>\n",
       "      <th></th>\n",
       "      <th></th>\n",
       "      <th></th>\n",
       "      <th></th>\n",
       "      <th></th>\n",
       "      <th></th>\n",
       "    </tr>\n",
       "  </thead>\n",
       "  <tbody>\n",
       "    <tr>\n",
       "      <th>2023-06-05</th>\n",
       "      <td>126.629997</td>\n",
       "      <td>271.390015</td>\n",
       "      <td>126.629997</td>\n",
       "      <td>271.390015</td>\n",
       "      <td>127.989998</td>\n",
       "      <td>275.570007</td>\n",
       "      <td>124.379997</td>\n",
       "      <td>269.559998</td>\n",
       "      <td>124.610001</td>\n",
       "      <td>270.299988</td>\n",
       "      <td>22672500</td>\n",
       "      <td>20742900</td>\n",
       "    </tr>\n",
       "    <tr>\n",
       "      <th>2023-06-06</th>\n",
       "      <td>127.910004</td>\n",
       "      <td>271.119995</td>\n",
       "      <td>127.910004</td>\n",
       "      <td>271.119995</td>\n",
       "      <td>128.880005</td>\n",
       "      <td>276.570007</td>\n",
       "      <td>125.970001</td>\n",
       "      <td>269.690002</td>\n",
       "      <td>126.599998</td>\n",
       "      <td>270.140015</td>\n",
       "      <td>19450100</td>\n",
       "      <td>19419000</td>\n",
       "    </tr>\n",
       "    <tr>\n",
       "      <th>2023-06-07</th>\n",
       "      <td>122.940002</td>\n",
       "      <td>263.600006</td>\n",
       "      <td>122.940002</td>\n",
       "      <td>263.600006</td>\n",
       "      <td>129.550003</td>\n",
       "      <td>274.250000</td>\n",
       "      <td>122.629997</td>\n",
       "      <td>262.799988</td>\n",
       "      <td>127.574997</td>\n",
       "      <td>271.670013</td>\n",
       "      <td>34179300</td>\n",
       "      <td>26163600</td>\n",
       "    </tr>\n",
       "    <tr>\n",
       "      <th>2023-06-08</th>\n",
       "      <td>122.669998</td>\n",
       "      <td>264.579987</td>\n",
       "      <td>122.669998</td>\n",
       "      <td>264.579987</td>\n",
       "      <td>123.730003</td>\n",
       "      <td>267.649994</td>\n",
       "      <td>122.010002</td>\n",
       "      <td>258.880005</td>\n",
       "      <td>122.584999</td>\n",
       "      <td>260.619995</td>\n",
       "      <td>24815000</td>\n",
       "      <td>20899400</td>\n",
       "    </tr>\n",
       "    <tr>\n",
       "      <th>2023-06-09</th>\n",
       "      <td>122.870003</td>\n",
       "      <td>264.950012</td>\n",
       "      <td>122.870003</td>\n",
       "      <td>264.950012</td>\n",
       "      <td>124.285004</td>\n",
       "      <td>267.950012</td>\n",
       "      <td>122.419998</td>\n",
       "      <td>261.700012</td>\n",
       "      <td>122.559998</td>\n",
       "      <td>262.480011</td>\n",
       "      <td>20304500</td>\n",
       "      <td>16938500</td>\n",
       "    </tr>\n",
       "  </tbody>\n",
       "</table>\n",
       "</div>"
      ],
      "text/plain": [
       "             Adj Close                   Close                    High  \\\n",
       "                  GOOG        META        GOOG        META        GOOG   \n",
       "Date                                                                     \n",
       "2023-06-05  126.629997  271.390015  126.629997  271.390015  127.989998   \n",
       "2023-06-06  127.910004  271.119995  127.910004  271.119995  128.880005   \n",
       "2023-06-07  122.940002  263.600006  122.940002  263.600006  129.550003   \n",
       "2023-06-08  122.669998  264.579987  122.669998  264.579987  123.730003   \n",
       "2023-06-09  122.870003  264.950012  122.870003  264.950012  124.285004   \n",
       "\n",
       "                               Low                    Open              \\\n",
       "                  META        GOOG        META        GOOG        META   \n",
       "Date                                                                     \n",
       "2023-06-05  275.570007  124.379997  269.559998  124.610001  270.299988   \n",
       "2023-06-06  276.570007  125.970001  269.690002  126.599998  270.140015   \n",
       "2023-06-07  274.250000  122.629997  262.799988  127.574997  271.670013   \n",
       "2023-06-08  267.649994  122.010002  258.880005  122.584999  260.619995   \n",
       "2023-06-09  267.950012  122.419998  261.700012  122.559998  262.480011   \n",
       "\n",
       "              Volume            \n",
       "                GOOG      META  \n",
       "Date                            \n",
       "2023-06-05  22672500  20742900  \n",
       "2023-06-06  19450100  19419000  \n",
       "2023-06-07  34179300  26163600  \n",
       "2023-06-08  24815000  20899400  \n",
       "2023-06-09  20304500  16938500  "
      ]
     },
     "execution_count": 6,
     "metadata": {},
     "output_type": "execute_result"
    }
   ],
   "source": [
    "data = yf.download(['GOOG','META'], period='1mo')\n",
    "data.head()"
   ]
  },
  {
   "cell_type": "code",
   "execution_count": 7,
   "id": "70f477be",
   "metadata": {},
   "outputs": [
    {
     "name": "stdout",
     "output_type": "stream",
     "text": [
      "[*********************100%***********************]  2 of 2 completed\n"
     ]
    },
    {
     "data": {
      "text/html": [
       "<div>\n",
       "<style scoped>\n",
       "    .dataframe tbody tr th:only-of-type {\n",
       "        vertical-align: middle;\n",
       "    }\n",
       "\n",
       "    .dataframe tbody tr th {\n",
       "        vertical-align: top;\n",
       "    }\n",
       "\n",
       "    .dataframe thead tr th {\n",
       "        text-align: left;\n",
       "    }\n",
       "\n",
       "    .dataframe thead tr:last-of-type th {\n",
       "        text-align: right;\n",
       "    }\n",
       "</style>\n",
       "<table border=\"1\" class=\"dataframe\">\n",
       "  <thead>\n",
       "    <tr>\n",
       "      <th></th>\n",
       "      <th colspan=\"6\" halign=\"left\">META</th>\n",
       "      <th colspan=\"6\" halign=\"left\">GOOG</th>\n",
       "    </tr>\n",
       "    <tr>\n",
       "      <th></th>\n",
       "      <th>Open</th>\n",
       "      <th>High</th>\n",
       "      <th>Low</th>\n",
       "      <th>Close</th>\n",
       "      <th>Adj Close</th>\n",
       "      <th>Volume</th>\n",
       "      <th>Open</th>\n",
       "      <th>High</th>\n",
       "      <th>Low</th>\n",
       "      <th>Close</th>\n",
       "      <th>Adj Close</th>\n",
       "      <th>Volume</th>\n",
       "    </tr>\n",
       "    <tr>\n",
       "      <th>Date</th>\n",
       "      <th></th>\n",
       "      <th></th>\n",
       "      <th></th>\n",
       "      <th></th>\n",
       "      <th></th>\n",
       "      <th></th>\n",
       "      <th></th>\n",
       "      <th></th>\n",
       "      <th></th>\n",
       "      <th></th>\n",
       "      <th></th>\n",
       "      <th></th>\n",
       "    </tr>\n",
       "  </thead>\n",
       "  <tbody>\n",
       "    <tr>\n",
       "      <th>2021-12-10</th>\n",
       "      <td>332.559998</td>\n",
       "      <td>335.029999</td>\n",
       "      <td>326.369995</td>\n",
       "      <td>329.750000</td>\n",
       "      <td>329.750000</td>\n",
       "      <td>14528000</td>\n",
       "      <td>149.100006</td>\n",
       "      <td>149.399994</td>\n",
       "      <td>147.357498</td>\n",
       "      <td>148.675003</td>\n",
       "      <td>148.675003</td>\n",
       "      <td>21634000</td>\n",
       "    </tr>\n",
       "    <tr>\n",
       "      <th>2021-12-13</th>\n",
       "      <td>330.950012</td>\n",
       "      <td>341.089996</td>\n",
       "      <td>329.589996</td>\n",
       "      <td>334.489990</td>\n",
       "      <td>334.489990</td>\n",
       "      <td>22948700</td>\n",
       "      <td>148.444000</td>\n",
       "      <td>148.562500</td>\n",
       "      <td>146.360001</td>\n",
       "      <td>146.704498</td>\n",
       "      <td>146.704498</td>\n",
       "      <td>24104000</td>\n",
       "    </tr>\n",
       "    <tr>\n",
       "      <th>2021-12-14</th>\n",
       "      <td>328.049988</td>\n",
       "      <td>335.700012</td>\n",
       "      <td>327.649994</td>\n",
       "      <td>333.739990</td>\n",
       "      <td>333.739990</td>\n",
       "      <td>20461000</td>\n",
       "      <td>144.770004</td>\n",
       "      <td>145.442001</td>\n",
       "      <td>142.242493</td>\n",
       "      <td>144.970505</td>\n",
       "      <td>144.970505</td>\n",
       "      <td>24778000</td>\n",
       "    </tr>\n",
       "    <tr>\n",
       "      <th>2021-12-15</th>\n",
       "      <td>332.489990</td>\n",
       "      <td>342.109985</td>\n",
       "      <td>323.980011</td>\n",
       "      <td>341.660004</td>\n",
       "      <td>341.660004</td>\n",
       "      <td>24681300</td>\n",
       "      <td>144.365997</td>\n",
       "      <td>147.517242</td>\n",
       "      <td>142.705505</td>\n",
       "      <td>147.368500</td>\n",
       "      <td>147.368500</td>\n",
       "      <td>27280000</td>\n",
       "    </tr>\n",
       "    <tr>\n",
       "      <th>2021-12-16</th>\n",
       "      <td>338.980011</td>\n",
       "      <td>344.459991</td>\n",
       "      <td>333.739990</td>\n",
       "      <td>334.899994</td>\n",
       "      <td>334.899994</td>\n",
       "      <td>22635000</td>\n",
       "      <td>148.076996</td>\n",
       "      <td>148.551498</td>\n",
       "      <td>144.092499</td>\n",
       "      <td>144.838501</td>\n",
       "      <td>144.838501</td>\n",
       "      <td>27400000</td>\n",
       "    </tr>\n",
       "  </tbody>\n",
       "</table>\n",
       "</div>"
      ],
      "text/plain": [
       "                  META                                                  \\\n",
       "                  Open        High         Low       Close   Adj Close   \n",
       "Date                                                                     \n",
       "2021-12-10  332.559998  335.029999  326.369995  329.750000  329.750000   \n",
       "2021-12-13  330.950012  341.089996  329.589996  334.489990  334.489990   \n",
       "2021-12-14  328.049988  335.700012  327.649994  333.739990  333.739990   \n",
       "2021-12-15  332.489990  342.109985  323.980011  341.660004  341.660004   \n",
       "2021-12-16  338.980011  344.459991  333.739990  334.899994  334.899994   \n",
       "\n",
       "                            GOOG                                      \\\n",
       "              Volume        Open        High         Low       Close   \n",
       "Date                                                                   \n",
       "2021-12-10  14528000  149.100006  149.399994  147.357498  148.675003   \n",
       "2021-12-13  22948700  148.444000  148.562500  146.360001  146.704498   \n",
       "2021-12-14  20461000  144.770004  145.442001  142.242493  144.970505   \n",
       "2021-12-15  24681300  144.365997  147.517242  142.705505  147.368500   \n",
       "2021-12-16  22635000  148.076996  148.551498  144.092499  144.838501   \n",
       "\n",
       "                                  \n",
       "             Adj Close    Volume  \n",
       "Date                              \n",
       "2021-12-10  148.675003  21634000  \n",
       "2021-12-13  146.704498  24104000  \n",
       "2021-12-14  144.970505  24778000  \n",
       "2021-12-15  147.368500  27280000  \n",
       "2021-12-16  144.838501  27400000  "
      ]
     },
     "execution_count": 7,
     "metadata": {},
     "output_type": "execute_result"
    }
   ],
   "source": [
    "data = yf.download(['GOOG','META'], start='2021-12-10', end='2021-12-30', group_by='ticker')\n",
    "data.head()"
   ]
  },
  {
   "attachments": {},
   "cell_type": "markdown",
   "id": "6e11844f",
   "metadata": {},
   "source": [
    "## How to Download Fundamental Data Using yfinance\n"
   ]
  },
  {
   "attachments": {},
   "cell_type": "markdown",
   "id": "750fa86d",
   "metadata": {},
   "source": [
    "We can loop through multiple tickers objects to download fundamental data for various tickers."
   ]
  },
  {
   "cell_type": "code",
   "execution_count": 8,
   "id": "60a621e7",
   "metadata": {},
   "outputs": [
    {
     "data": {
      "text/plain": [
       "dict_keys(['address1', 'city', 'state', 'zip', 'country', 'phone', 'website', 'industry', 'industryDisp', 'sector', 'longBusinessSummary', 'fullTimeEmployees', 'companyOfficers', 'auditRisk', 'boardRisk', 'compensationRisk', 'shareHolderRightsRisk', 'overallRisk', 'governanceEpochDate', 'compensationAsOfEpochDate', 'maxAge', 'priceHint', 'previousClose', 'open', 'dayLow', 'dayHigh', 'regularMarketPreviousClose', 'regularMarketOpen', 'regularMarketDayLow', 'regularMarketDayHigh', 'payoutRatio', 'beta', 'trailingPE', 'forwardPE', 'volume', 'regularMarketVolume', 'averageVolume', 'averageVolume10days', 'averageDailyVolume10Day', 'bid', 'ask', 'bidSize', 'askSize', 'marketCap', 'fiftyTwoWeekLow', 'fiftyTwoWeekHigh', 'priceToSalesTrailing12Months', 'fiftyDayAverage', 'twoHundredDayAverage', 'trailingAnnualDividendRate', 'trailingAnnualDividendYield', 'currency', 'enterpriseValue', 'profitMargins', 'floatShares', 'sharesOutstanding', 'sharesShort', 'sharesShortPriorMonth', 'sharesShortPreviousMonthDate', 'dateShortInterest', 'sharesPercentSharesOut', 'heldPercentInsiders', 'heldPercentInstitutions', 'shortRatio', 'impliedSharesOutstanding', 'bookValue', 'priceToBook', 'lastFiscalYearEnd', 'nextFiscalYearEnd', 'mostRecentQuarter', 'earningsQuarterlyGrowth', 'netIncomeToCommon', 'trailingEps', 'forwardEps', 'pegRatio', 'lastSplitFactor', 'lastSplitDate', 'enterpriseToRevenue', 'enterpriseToEbitda', '52WeekChange', 'SandP52WeekChange', 'exchange', 'quoteType', 'symbol', 'underlyingSymbol', 'shortName', 'longName', 'firstTradeDateEpochUtc', 'timeZoneFullName', 'timeZoneShortName', 'uuid', 'messageBoardId', 'gmtOffSetMilliseconds', 'currentPrice', 'targetHighPrice', 'targetLowPrice', 'targetMeanPrice', 'targetMedianPrice', 'recommendationMean', 'recommendationKey', 'numberOfAnalystOpinions', 'totalCash', 'totalCashPerShare', 'ebitda', 'totalDebt', 'quickRatio', 'currentRatio', 'totalRevenue', 'debtToEquity', 'revenuePerShare', 'returnOnAssets', 'returnOnEquity', 'grossProfits', 'freeCashflow', 'operatingCashflow', 'earningsGrowth', 'revenueGrowth', 'grossMargins', 'ebitdaMargins', 'operatingMargins', 'financialCurrency', 'trailingPegRatio'])"
      ]
     },
     "execution_count": 8,
     "metadata": {},
     "output_type": "execute_result"
    }
   ],
   "source": [
    "info = goog.info\n",
    "info.keys()"
   ]
  },
  {
   "cell_type": "code",
   "execution_count": 9,
   "id": "dac9abf9",
   "metadata": {},
   "outputs": [
    {
     "data": {
      "text/plain": [
       "'Communication Services'"
      ]
     },
     "execution_count": 9,
     "metadata": {},
     "output_type": "execute_result"
    }
   ],
   "source": [
    "info['sector']"
   ]
  },
  {
   "cell_type": "code",
   "execution_count": 10,
   "id": "df526286",
   "metadata": {},
   "outputs": [
    {
     "name": "stderr",
     "output_type": "stream",
     "text": [
      "WARNING No decryption keys could be extracted from JS file. Falling back to backup decrypt methods.\n"
     ]
    },
    {
     "ename": "Exception",
     "evalue": "yfinance failed to decrypt Yahoo data response",
     "output_type": "error",
     "traceback": [
      "\u001b[0;31m---------------------------------------------------------------------------\u001b[0m",
      "\u001b[0;31mException\u001b[0m                                 Traceback (most recent call last)",
      "Cell \u001b[0;32mIn[10], line 1\u001b[0m\n\u001b[0;32m----> 1\u001b[0m goog\u001b[39m.\u001b[39;49mget_earnings()\n",
      "File \u001b[0;32m/Library/Frameworks/Python.framework/Versions/3.11/lib/python3.11/site-packages/yfinance/base.py:1179\u001b[0m, in \u001b[0;36mTickerBase.get_earnings\u001b[0;34m(self, proxy, as_dict, freq)\u001b[0m\n\u001b[1;32m   1166\u001b[0m \u001b[39m\u001b[39m\u001b[39m\"\"\"\u001b[39;00m\n\u001b[1;32m   1167\u001b[0m \u001b[39m:Parameters:\u001b[39;00m\n\u001b[1;32m   1168\u001b[0m \u001b[39m    as_dict: bool\u001b[39;00m\n\u001b[0;32m   (...)\u001b[0m\n\u001b[1;32m   1176\u001b[0m \u001b[39m        Default is None\u001b[39;00m\n\u001b[1;32m   1177\u001b[0m \u001b[39m\"\"\"\u001b[39;00m\n\u001b[1;32m   1178\u001b[0m \u001b[39mself\u001b[39m\u001b[39m.\u001b[39m_fundamentals\u001b[39m.\u001b[39mproxy \u001b[39m=\u001b[39m proxy\n\u001b[0;32m-> 1179\u001b[0m data \u001b[39m=\u001b[39m \u001b[39mself\u001b[39;49m\u001b[39m.\u001b[39;49m_fundamentals\u001b[39m.\u001b[39;49mearnings[freq]\n\u001b[1;32m   1180\u001b[0m \u001b[39mif\u001b[39;00m as_dict:\n\u001b[1;32m   1181\u001b[0m     dict_data \u001b[39m=\u001b[39m data\u001b[39m.\u001b[39mto_dict()\n",
      "File \u001b[0;32m/Library/Frameworks/Python.framework/Versions/3.11/lib/python3.11/site-packages/yfinance/scrapers/fundamentals.py:36\u001b[0m, in \u001b[0;36mFundamentals.earnings\u001b[0;34m(self)\u001b[0m\n\u001b[1;32m     33\u001b[0m \u001b[39m@property\u001b[39m\n\u001b[1;32m     34\u001b[0m \u001b[39mdef\u001b[39;00m \u001b[39mearnings\u001b[39m(\u001b[39mself\u001b[39m) \u001b[39m-\u001b[39m\u001b[39m>\u001b[39m \u001b[39mdict\u001b[39m:\n\u001b[1;32m     35\u001b[0m     \u001b[39mif\u001b[39;00m \u001b[39mself\u001b[39m\u001b[39m.\u001b[39m_earnings \u001b[39mis\u001b[39;00m \u001b[39mNone\u001b[39;00m:\n\u001b[0;32m---> 36\u001b[0m         \u001b[39mself\u001b[39;49m\u001b[39m.\u001b[39;49m_scrape_earnings(\u001b[39mself\u001b[39;49m\u001b[39m.\u001b[39;49mproxy)\n\u001b[1;32m     37\u001b[0m     \u001b[39mreturn\u001b[39;00m \u001b[39mself\u001b[39m\u001b[39m.\u001b[39m_earnings\n",
      "File \u001b[0;32m/Library/Frameworks/Python.framework/Versions/3.11/lib/python3.11/site-packages/yfinance/scrapers/fundamentals.py:59\u001b[0m, in \u001b[0;36mFundamentals._scrape_earnings\u001b[0;34m(self, proxy)\u001b[0m\n\u001b[1;32m     58\u001b[0m \u001b[39mdef\u001b[39;00m \u001b[39m_scrape_earnings\u001b[39m(\u001b[39mself\u001b[39m, proxy):\n\u001b[0;32m---> 59\u001b[0m     \u001b[39mself\u001b[39;49m\u001b[39m.\u001b[39;49m_scrape_basics(proxy)\n\u001b[1;32m     60\u001b[0m     \u001b[39m# earnings\u001b[39;00m\n\u001b[1;32m     61\u001b[0m     \u001b[39mself\u001b[39m\u001b[39m.\u001b[39m_earnings \u001b[39m=\u001b[39m {\u001b[39m\"\u001b[39m\u001b[39myearly\u001b[39m\u001b[39m\"\u001b[39m: pd\u001b[39m.\u001b[39mDataFrame(), \u001b[39m\"\u001b[39m\u001b[39mquarterly\u001b[39m\u001b[39m\"\u001b[39m: pd\u001b[39m.\u001b[39mDataFrame()}\n",
      "File \u001b[0;32m/Library/Frameworks/Python.framework/Versions/3.11/lib/python3.11/site-packages/yfinance/scrapers/fundamentals.py:50\u001b[0m, in \u001b[0;36mFundamentals._scrape_basics\u001b[0;34m(self, proxy)\u001b[0m\n\u001b[1;32m     47\u001b[0m     \u001b[39mreturn\u001b[39;00m\n\u001b[1;32m     48\u001b[0m \u001b[39mself\u001b[39m\u001b[39m.\u001b[39m_basics_already_scraped \u001b[39m=\u001b[39m \u001b[39mTrue\u001b[39;00m\n\u001b[0;32m---> 50\u001b[0m \u001b[39mself\u001b[39m\u001b[39m.\u001b[39m_financials_data \u001b[39m=\u001b[39m \u001b[39mself\u001b[39;49m\u001b[39m.\u001b[39;49m_data\u001b[39m.\u001b[39;49mget_json_data_stores(\u001b[39m'\u001b[39;49m\u001b[39mfinancials\u001b[39;49m\u001b[39m'\u001b[39;49m, proxy)\n\u001b[1;32m     51\u001b[0m \u001b[39mtry\u001b[39;00m:\n\u001b[1;32m     52\u001b[0m     \u001b[39mself\u001b[39m\u001b[39m.\u001b[39m_fin_data_quote \u001b[39m=\u001b[39m \u001b[39mself\u001b[39m\u001b[39m.\u001b[39m_financials_data[\u001b[39m'\u001b[39m\u001b[39mQuoteSummaryStore\u001b[39m\u001b[39m'\u001b[39m]\n",
      "File \u001b[0;32m/Library/Frameworks/Python.framework/Versions/3.11/lib/python3.11/site-packages/yfinance/data.py:48\u001b[0m, in \u001b[0;36mlru_cache_freezeargs.<locals>.wrapped\u001b[0;34m(*args, **kwargs)\u001b[0m\n\u001b[1;32m     46\u001b[0m args \u001b[39m=\u001b[39m \u001b[39mtuple\u001b[39m([\u001b[39mtuple\u001b[39m(arg) \u001b[39mif\u001b[39;00m \u001b[39misinstance\u001b[39m(arg, \u001b[39mlist\u001b[39m) \u001b[39melse\u001b[39;00m arg \u001b[39mfor\u001b[39;00m arg \u001b[39min\u001b[39;00m args])\n\u001b[1;32m     47\u001b[0m kwargs \u001b[39m=\u001b[39m {k: \u001b[39mtuple\u001b[39m(v) \u001b[39mif\u001b[39;00m \u001b[39misinstance\u001b[39m(v, \u001b[39mlist\u001b[39m) \u001b[39melse\u001b[39;00m v \u001b[39mfor\u001b[39;00m k, v \u001b[39min\u001b[39;00m kwargs\u001b[39m.\u001b[39mitems()}\n\u001b[0;32m---> 48\u001b[0m \u001b[39mreturn\u001b[39;00m func(\u001b[39m*\u001b[39;49margs, \u001b[39m*\u001b[39;49m\u001b[39m*\u001b[39;49mkwargs)\n",
      "File \u001b[0;32m/Library/Frameworks/Python.framework/Versions/3.11/lib/python3.11/site-packages/yfinance/data.py:323\u001b[0m, in \u001b[0;36mTickerData.get_json_data_stores\u001b[0;34m(self, sub_page, proxy)\u001b[0m\n\u001b[1;32m    320\u001b[0m     keys \u001b[39m+\u001b[39m\u001b[39m=\u001b[39m response_gh\u001b[39m.\u001b[39mtext\u001b[39m.\u001b[39msplitlines()\n\u001b[1;32m    322\u001b[0m \u001b[39m# Decrypt!\u001b[39;00m\n\u001b[0;32m--> 323\u001b[0m stores \u001b[39m=\u001b[39m decrypt_cryptojs_aes_stores(data, keys)\n\u001b[1;32m    324\u001b[0m \u001b[39mif\u001b[39;00m stores \u001b[39mis\u001b[39;00m \u001b[39mNone\u001b[39;00m:\n\u001b[1;32m    325\u001b[0m     \u001b[39m# Maybe Yahoo returned old format, not encrypted\u001b[39;00m\n\u001b[1;32m    326\u001b[0m     \u001b[39mif\u001b[39;00m \u001b[39m\"\u001b[39m\u001b[39mcontext\u001b[39m\u001b[39m\"\u001b[39m \u001b[39min\u001b[39;00m data \u001b[39mand\u001b[39;00m \u001b[39m\"\u001b[39m\u001b[39mdispatcher\u001b[39m\u001b[39m\"\u001b[39m \u001b[39min\u001b[39;00m data[\u001b[39m\"\u001b[39m\u001b[39mcontext\u001b[39m\u001b[39m\"\u001b[39m]:\n",
      "File \u001b[0;32m/Library/Frameworks/Python.framework/Versions/3.11/lib/python3.11/site-packages/yfinance/data.py:169\u001b[0m, in \u001b[0;36mdecrypt_cryptojs_aes_stores\u001b[0;34m(data, keys)\u001b[0m\n\u001b[1;32m    167\u001b[0m             \u001b[39mpass\u001b[39;00m\n\u001b[1;32m    168\u001b[0m     \u001b[39mif\u001b[39;00m \u001b[39mnot\u001b[39;00m success:\n\u001b[0;32m--> 169\u001b[0m         \u001b[39mraise\u001b[39;00m \u001b[39mException\u001b[39;00m(\u001b[39m\"\u001b[39m\u001b[39myfinance failed to decrypt Yahoo data response\u001b[39m\u001b[39m\"\u001b[39m)\n\u001b[1;32m    171\u001b[0m decoded_stores \u001b[39m=\u001b[39m json\u001b[39m.\u001b[39mloads(plaintext)\n\u001b[1;32m    172\u001b[0m \u001b[39mreturn\u001b[39;00m decoded_stores\n",
      "\u001b[0;31mException\u001b[0m: yfinance failed to decrypt Yahoo data response"
     ]
    }
   ],
   "source": [
    "goog.get_earnings()"
   ]
  },
  {
   "cell_type": "code",
   "execution_count": 13,
   "id": "04983355",
   "metadata": {},
   "outputs": [
    {
     "name": "stderr",
     "output_type": "stream",
     "text": [
      "WARNING No decryption keys could be extracted from JS file. Falling back to backup decrypt methods.\n"
     ]
    },
    {
     "ename": "Exception",
     "evalue": "yfinance failed to decrypt Yahoo data response",
     "output_type": "error",
     "traceback": [
      "\u001b[0;31m---------------------------------------------------------------------------\u001b[0m",
      "\u001b[0;31mException\u001b[0m                                 Traceback (most recent call last)",
      "Cell \u001b[0;32mIn[13], line 1\u001b[0m\n\u001b[0;32m----> 1\u001b[0m goog\u001b[39m.\u001b[39;49mget_cashflow()\n",
      "File \u001b[0;32m/Library/Frameworks/Python.framework/Versions/3.11/lib/python3.11/site-packages/yfinance/base.py:1296\u001b[0m, in \u001b[0;36mTickerBase.get_cashflow\u001b[0;34m(self, proxy, as_dict, pretty, freq, legacy)\u001b[0m\n\u001b[1;32m   1295\u001b[0m \u001b[39mdef\u001b[39;00m \u001b[39mget_cashflow\u001b[39m(\u001b[39mself\u001b[39m, proxy\u001b[39m=\u001b[39m\u001b[39mNone\u001b[39;00m, as_dict\u001b[39m=\u001b[39m\u001b[39mFalse\u001b[39;00m, pretty\u001b[39m=\u001b[39m\u001b[39mFalse\u001b[39;00m, freq\u001b[39m=\u001b[39m\u001b[39m\"\u001b[39m\u001b[39myearly\u001b[39m\u001b[39m\"\u001b[39m, legacy\u001b[39m=\u001b[39m\u001b[39mFalse\u001b[39;00m):\n\u001b[0;32m-> 1296\u001b[0m     \u001b[39mreturn\u001b[39;00m \u001b[39mself\u001b[39;49m\u001b[39m.\u001b[39;49mget_cash_flow(proxy, as_dict, pretty, freq, legacy)\n",
      "File \u001b[0;32m/Library/Frameworks/Python.framework/Versions/3.11/lib/python3.11/site-packages/yfinance/base.py:1286\u001b[0m, in \u001b[0;36mTickerBase.get_cash_flow\u001b[0;34m(self, proxy, as_dict, pretty, freq, legacy)\u001b[0m\n\u001b[1;32m   1284\u001b[0m     data \u001b[39m=\u001b[39m \u001b[39mself\u001b[39m\u001b[39m.\u001b[39m_fundamentals\u001b[39m.\u001b[39mfinancials\u001b[39m.\u001b[39mget_cash_flow_scrape(freq\u001b[39m=\u001b[39mfreq, proxy\u001b[39m=\u001b[39mproxy)\n\u001b[1;32m   1285\u001b[0m \u001b[39melse\u001b[39;00m:\n\u001b[0;32m-> 1286\u001b[0m     data \u001b[39m=\u001b[39m \u001b[39mself\u001b[39;49m\u001b[39m.\u001b[39;49m_fundamentals\u001b[39m.\u001b[39;49mfinancials\u001b[39m.\u001b[39;49mget_cash_flow_time_series(freq\u001b[39m=\u001b[39;49mfreq, proxy\u001b[39m=\u001b[39;49mproxy)\n\u001b[1;32m   1288\u001b[0m \u001b[39mif\u001b[39;00m pretty:\n\u001b[1;32m   1289\u001b[0m     data \u001b[39m=\u001b[39m data\u001b[39m.\u001b[39mcopy()\n",
      "File \u001b[0;32m/Library/Frameworks/Python.framework/Versions/3.11/lib/python3.11/site-packages/yfinance/scrapers/fundamentals.py:127\u001b[0m, in \u001b[0;36mFinancials.get_cash_flow_time_series\u001b[0;34m(self, freq, proxy)\u001b[0m\n\u001b[1;32m    125\u001b[0m res \u001b[39m=\u001b[39m \u001b[39mself\u001b[39m\u001b[39m.\u001b[39m_cash_flow_time_series\n\u001b[1;32m    126\u001b[0m \u001b[39mif\u001b[39;00m freq \u001b[39mnot\u001b[39;00m \u001b[39min\u001b[39;00m res:\n\u001b[0;32m--> 127\u001b[0m     res[freq] \u001b[39m=\u001b[39m \u001b[39mself\u001b[39;49m\u001b[39m.\u001b[39;49m_fetch_time_series(\u001b[39m\"\u001b[39;49m\u001b[39mcash-flow\u001b[39;49m\u001b[39m\"\u001b[39;49m, freq, proxy\u001b[39m=\u001b[39;49m\u001b[39mNone\u001b[39;49;00m)\n\u001b[1;32m    128\u001b[0m \u001b[39mreturn\u001b[39;00m res[freq]\n",
      "File \u001b[0;32m/Library/Frameworks/Python.framework/Versions/3.11/lib/python3.11/site-packages/yfinance/scrapers/fundamentals.py:144\u001b[0m, in \u001b[0;36mFinancials._fetch_time_series\u001b[0;34m(self, name, timescale, proxy)\u001b[0m\n\u001b[1;32m    141\u001b[0m     \u001b[39mraise\u001b[39;00m \u001b[39mValueError\u001b[39;00m(\u001b[39m\"\u001b[39m\u001b[39mIllegal argument: timescale must be one of: \u001b[39m\u001b[39m{}\u001b[39;00m\u001b[39m\"\u001b[39m\u001b[39m.\u001b[39mformat(allowed_names))\n\u001b[1;32m    143\u001b[0m \u001b[39mtry\u001b[39;00m:\n\u001b[0;32m--> 144\u001b[0m     statement \u001b[39m=\u001b[39m \u001b[39mself\u001b[39;49m\u001b[39m.\u001b[39;49m_create_financials_table(name, timescale, proxy)\n\u001b[1;32m    146\u001b[0m     \u001b[39mif\u001b[39;00m statement \u001b[39mis\u001b[39;00m \u001b[39mnot\u001b[39;00m \u001b[39mNone\u001b[39;00m:\n\u001b[1;32m    147\u001b[0m         \u001b[39mreturn\u001b[39;00m statement\n",
      "File \u001b[0;32m/Library/Frameworks/Python.framework/Versions/3.11/lib/python3.11/site-packages/yfinance/scrapers/fundamentals.py:157\u001b[0m, in \u001b[0;36mFinancials._create_financials_table\u001b[0;34m(self, name, timescale, proxy)\u001b[0m\n\u001b[1;32m    153\u001b[0m \u001b[39mif\u001b[39;00m name \u001b[39m==\u001b[39m \u001b[39m\"\u001b[39m\u001b[39mincome\u001b[39m\u001b[39m\"\u001b[39m:\n\u001b[1;32m    154\u001b[0m     \u001b[39m# Yahoo stores the 'income' table internally under 'financials' key\u001b[39;00m\n\u001b[1;32m    155\u001b[0m     name \u001b[39m=\u001b[39m \u001b[39m\"\u001b[39m\u001b[39mfinancials\u001b[39m\u001b[39m\"\u001b[39m\n\u001b[0;32m--> 157\u001b[0m keys \u001b[39m=\u001b[39m \u001b[39mself\u001b[39;49m\u001b[39m.\u001b[39;49m_get_datastore_keys(name, proxy)\n\u001b[1;32m    158\u001b[0m \u001b[39mtry\u001b[39;00m:\n\u001b[1;32m    159\u001b[0m     \u001b[39mreturn\u001b[39;00m \u001b[39mself\u001b[39m\u001b[39m.\u001b[39mget_financials_time_series(timescale, keys, proxy)\n",
      "File \u001b[0;32m/Library/Frameworks/Python.framework/Versions/3.11/lib/python3.11/site-packages/yfinance/scrapers/fundamentals.py:164\u001b[0m, in \u001b[0;36mFinancials._get_datastore_keys\u001b[0;34m(self, sub_page, proxy)\u001b[0m\n\u001b[1;32m    163\u001b[0m \u001b[39mdef\u001b[39;00m \u001b[39m_get_datastore_keys\u001b[39m(\u001b[39mself\u001b[39m, sub_page, proxy) \u001b[39m-\u001b[39m\u001b[39m>\u001b[39m \u001b[39mlist\u001b[39m:\n\u001b[0;32m--> 164\u001b[0m     data_stores \u001b[39m=\u001b[39m \u001b[39mself\u001b[39;49m\u001b[39m.\u001b[39;49m_data\u001b[39m.\u001b[39;49mget_json_data_stores(sub_page, proxy)\n\u001b[1;32m    166\u001b[0m     \u001b[39m# Step 1: get the keys:\u001b[39;00m\n\u001b[1;32m    167\u001b[0m     \u001b[39mdef\u001b[39;00m \u001b[39m_finditem1\u001b[39m(key, obj):\n",
      "File \u001b[0;32m/Library/Frameworks/Python.framework/Versions/3.11/lib/python3.11/site-packages/yfinance/data.py:48\u001b[0m, in \u001b[0;36mlru_cache_freezeargs.<locals>.wrapped\u001b[0;34m(*args, **kwargs)\u001b[0m\n\u001b[1;32m     46\u001b[0m args \u001b[39m=\u001b[39m \u001b[39mtuple\u001b[39m([\u001b[39mtuple\u001b[39m(arg) \u001b[39mif\u001b[39;00m \u001b[39misinstance\u001b[39m(arg, \u001b[39mlist\u001b[39m) \u001b[39melse\u001b[39;00m arg \u001b[39mfor\u001b[39;00m arg \u001b[39min\u001b[39;00m args])\n\u001b[1;32m     47\u001b[0m kwargs \u001b[39m=\u001b[39m {k: \u001b[39mtuple\u001b[39m(v) \u001b[39mif\u001b[39;00m \u001b[39misinstance\u001b[39m(v, \u001b[39mlist\u001b[39m) \u001b[39melse\u001b[39;00m v \u001b[39mfor\u001b[39;00m k, v \u001b[39min\u001b[39;00m kwargs\u001b[39m.\u001b[39mitems()}\n\u001b[0;32m---> 48\u001b[0m \u001b[39mreturn\u001b[39;00m func(\u001b[39m*\u001b[39;49margs, \u001b[39m*\u001b[39;49m\u001b[39m*\u001b[39;49mkwargs)\n",
      "File \u001b[0;32m/Library/Frameworks/Python.framework/Versions/3.11/lib/python3.11/site-packages/yfinance/data.py:323\u001b[0m, in \u001b[0;36mTickerData.get_json_data_stores\u001b[0;34m(self, sub_page, proxy)\u001b[0m\n\u001b[1;32m    320\u001b[0m     keys \u001b[39m+\u001b[39m\u001b[39m=\u001b[39m response_gh\u001b[39m.\u001b[39mtext\u001b[39m.\u001b[39msplitlines()\n\u001b[1;32m    322\u001b[0m \u001b[39m# Decrypt!\u001b[39;00m\n\u001b[0;32m--> 323\u001b[0m stores \u001b[39m=\u001b[39m decrypt_cryptojs_aes_stores(data, keys)\n\u001b[1;32m    324\u001b[0m \u001b[39mif\u001b[39;00m stores \u001b[39mis\u001b[39;00m \u001b[39mNone\u001b[39;00m:\n\u001b[1;32m    325\u001b[0m     \u001b[39m# Maybe Yahoo returned old format, not encrypted\u001b[39;00m\n\u001b[1;32m    326\u001b[0m     \u001b[39mif\u001b[39;00m \u001b[39m\"\u001b[39m\u001b[39mcontext\u001b[39m\u001b[39m\"\u001b[39m \u001b[39min\u001b[39;00m data \u001b[39mand\u001b[39;00m \u001b[39m\"\u001b[39m\u001b[39mdispatcher\u001b[39m\u001b[39m\"\u001b[39m \u001b[39min\u001b[39;00m data[\u001b[39m\"\u001b[39m\u001b[39mcontext\u001b[39m\u001b[39m\"\u001b[39m]:\n",
      "File \u001b[0;32m/Library/Frameworks/Python.framework/Versions/3.11/lib/python3.11/site-packages/yfinance/data.py:169\u001b[0m, in \u001b[0;36mdecrypt_cryptojs_aes_stores\u001b[0;34m(data, keys)\u001b[0m\n\u001b[1;32m    167\u001b[0m             \u001b[39mpass\u001b[39;00m\n\u001b[1;32m    168\u001b[0m     \u001b[39mif\u001b[39;00m \u001b[39mnot\u001b[39;00m success:\n\u001b[0;32m--> 169\u001b[0m         \u001b[39mraise\u001b[39;00m \u001b[39mException\u001b[39;00m(\u001b[39m\"\u001b[39m\u001b[39myfinance failed to decrypt Yahoo data response\u001b[39m\u001b[39m\"\u001b[39m)\n\u001b[1;32m    171\u001b[0m decoded_stores \u001b[39m=\u001b[39m json\u001b[39m.\u001b[39mloads(plaintext)\n\u001b[1;32m    172\u001b[0m \u001b[39mreturn\u001b[39;00m decoded_stores\n",
      "\u001b[0;31mException\u001b[0m: yfinance failed to decrypt Yahoo data response"
     ]
    }
   ],
   "source": [
    "goog.get_cashflow()\n"
   ]
  },
  {
   "cell_type": "code",
   "execution_count": 14,
   "id": "0d709679",
   "metadata": {},
   "outputs": [
    {
     "name": "stderr",
     "output_type": "stream",
     "text": [
      "WARNING No decryption keys could be extracted from JS file. Falling back to backup decrypt methods.\n"
     ]
    },
    {
     "ename": "Exception",
     "evalue": "yfinance failed to decrypt Yahoo data response",
     "output_type": "error",
     "traceback": [
      "\u001b[0;31m---------------------------------------------------------------------------\u001b[0m",
      "\u001b[0;31mException\u001b[0m                                 Traceback (most recent call last)",
      "Cell \u001b[0;32mIn[14], line 1\u001b[0m\n\u001b[0;32m----> 1\u001b[0m pnl \u001b[39m=\u001b[39m goog\u001b[39m.\u001b[39;49mfinancials\n\u001b[1;32m      2\u001b[0m bs \u001b[39m=\u001b[39m goog\u001b[39m.\u001b[39mbalancesheet\n\u001b[1;32m      3\u001b[0m cf \u001b[39m=\u001b[39m goog\u001b[39m.\u001b[39mcashflow\n",
      "File \u001b[0;32m/Library/Frameworks/Python.framework/Versions/3.11/lib/python3.11/site-packages/yfinance/ticker.py:174\u001b[0m, in \u001b[0;36mTicker.financials\u001b[0;34m(self)\u001b[0m\n\u001b[1;32m    172\u001b[0m \u001b[39m@property\u001b[39m\n\u001b[1;32m    173\u001b[0m \u001b[39mdef\u001b[39;00m \u001b[39mfinancials\u001b[39m(\u001b[39mself\u001b[39m) \u001b[39m-\u001b[39m\u001b[39m>\u001b[39m _pd\u001b[39m.\u001b[39mDataFrame:\n\u001b[0;32m--> 174\u001b[0m     \u001b[39mreturn\u001b[39;00m \u001b[39mself\u001b[39;49m\u001b[39m.\u001b[39;49mincome_stmt\n",
      "File \u001b[0;32m/Library/Frameworks/Python.framework/Versions/3.11/lib/python3.11/site-packages/yfinance/ticker.py:158\u001b[0m, in \u001b[0;36mTicker.income_stmt\u001b[0;34m(self)\u001b[0m\n\u001b[1;32m    156\u001b[0m \u001b[39m@property\u001b[39m\n\u001b[1;32m    157\u001b[0m \u001b[39mdef\u001b[39;00m \u001b[39mincome_stmt\u001b[39m(\u001b[39mself\u001b[39m) \u001b[39m-\u001b[39m\u001b[39m>\u001b[39m _pd\u001b[39m.\u001b[39mDataFrame:\n\u001b[0;32m--> 158\u001b[0m     \u001b[39mreturn\u001b[39;00m \u001b[39mself\u001b[39;49m\u001b[39m.\u001b[39;49mget_income_stmt(pretty\u001b[39m=\u001b[39;49m\u001b[39mTrue\u001b[39;49;00m)\n",
      "File \u001b[0;32m/Library/Frameworks/Python.framework/Versions/3.11/lib/python3.11/site-packages/yfinance/base.py:1211\u001b[0m, in \u001b[0;36mTickerBase.get_income_stmt\u001b[0;34m(self, proxy, as_dict, pretty, freq, legacy)\u001b[0m\n\u001b[1;32m   1209\u001b[0m     data \u001b[39m=\u001b[39m \u001b[39mself\u001b[39m\u001b[39m.\u001b[39m_fundamentals\u001b[39m.\u001b[39mfinancials\u001b[39m.\u001b[39mget_income_scrape(freq\u001b[39m=\u001b[39mfreq, proxy\u001b[39m=\u001b[39mproxy)\n\u001b[1;32m   1210\u001b[0m \u001b[39melse\u001b[39;00m:\n\u001b[0;32m-> 1211\u001b[0m     data \u001b[39m=\u001b[39m \u001b[39mself\u001b[39;49m\u001b[39m.\u001b[39;49m_fundamentals\u001b[39m.\u001b[39;49mfinancials\u001b[39m.\u001b[39;49mget_income_time_series(freq\u001b[39m=\u001b[39;49mfreq, proxy\u001b[39m=\u001b[39;49mproxy)\n\u001b[1;32m   1213\u001b[0m \u001b[39mif\u001b[39;00m pretty:\n\u001b[1;32m   1214\u001b[0m     data \u001b[39m=\u001b[39m data\u001b[39m.\u001b[39mcopy()\n",
      "File \u001b[0;32m/Library/Frameworks/Python.framework/Versions/3.11/lib/python3.11/site-packages/yfinance/scrapers/fundamentals.py:115\u001b[0m, in \u001b[0;36mFinancials.get_income_time_series\u001b[0;34m(self, freq, proxy)\u001b[0m\n\u001b[1;32m    113\u001b[0m res \u001b[39m=\u001b[39m \u001b[39mself\u001b[39m\u001b[39m.\u001b[39m_income_time_series\n\u001b[1;32m    114\u001b[0m \u001b[39mif\u001b[39;00m freq \u001b[39mnot\u001b[39;00m \u001b[39min\u001b[39;00m res:\n\u001b[0;32m--> 115\u001b[0m     res[freq] \u001b[39m=\u001b[39m \u001b[39mself\u001b[39;49m\u001b[39m.\u001b[39;49m_fetch_time_series(\u001b[39m\"\u001b[39;49m\u001b[39mincome\u001b[39;49m\u001b[39m\"\u001b[39;49m, freq, proxy\u001b[39m=\u001b[39;49m\u001b[39mNone\u001b[39;49;00m)\n\u001b[1;32m    116\u001b[0m \u001b[39mreturn\u001b[39;00m res[freq]\n",
      "File \u001b[0;32m/Library/Frameworks/Python.framework/Versions/3.11/lib/python3.11/site-packages/yfinance/scrapers/fundamentals.py:144\u001b[0m, in \u001b[0;36mFinancials._fetch_time_series\u001b[0;34m(self, name, timescale, proxy)\u001b[0m\n\u001b[1;32m    141\u001b[0m     \u001b[39mraise\u001b[39;00m \u001b[39mValueError\u001b[39;00m(\u001b[39m\"\u001b[39m\u001b[39mIllegal argument: timescale must be one of: \u001b[39m\u001b[39m{}\u001b[39;00m\u001b[39m\"\u001b[39m\u001b[39m.\u001b[39mformat(allowed_names))\n\u001b[1;32m    143\u001b[0m \u001b[39mtry\u001b[39;00m:\n\u001b[0;32m--> 144\u001b[0m     statement \u001b[39m=\u001b[39m \u001b[39mself\u001b[39;49m\u001b[39m.\u001b[39;49m_create_financials_table(name, timescale, proxy)\n\u001b[1;32m    146\u001b[0m     \u001b[39mif\u001b[39;00m statement \u001b[39mis\u001b[39;00m \u001b[39mnot\u001b[39;00m \u001b[39mNone\u001b[39;00m:\n\u001b[1;32m    147\u001b[0m         \u001b[39mreturn\u001b[39;00m statement\n",
      "File \u001b[0;32m/Library/Frameworks/Python.framework/Versions/3.11/lib/python3.11/site-packages/yfinance/scrapers/fundamentals.py:157\u001b[0m, in \u001b[0;36mFinancials._create_financials_table\u001b[0;34m(self, name, timescale, proxy)\u001b[0m\n\u001b[1;32m    153\u001b[0m \u001b[39mif\u001b[39;00m name \u001b[39m==\u001b[39m \u001b[39m\"\u001b[39m\u001b[39mincome\u001b[39m\u001b[39m\"\u001b[39m:\n\u001b[1;32m    154\u001b[0m     \u001b[39m# Yahoo stores the 'income' table internally under 'financials' key\u001b[39;00m\n\u001b[1;32m    155\u001b[0m     name \u001b[39m=\u001b[39m \u001b[39m\"\u001b[39m\u001b[39mfinancials\u001b[39m\u001b[39m\"\u001b[39m\n\u001b[0;32m--> 157\u001b[0m keys \u001b[39m=\u001b[39m \u001b[39mself\u001b[39;49m\u001b[39m.\u001b[39;49m_get_datastore_keys(name, proxy)\n\u001b[1;32m    158\u001b[0m \u001b[39mtry\u001b[39;00m:\n\u001b[1;32m    159\u001b[0m     \u001b[39mreturn\u001b[39;00m \u001b[39mself\u001b[39m\u001b[39m.\u001b[39mget_financials_time_series(timescale, keys, proxy)\n",
      "File \u001b[0;32m/Library/Frameworks/Python.framework/Versions/3.11/lib/python3.11/site-packages/yfinance/scrapers/fundamentals.py:164\u001b[0m, in \u001b[0;36mFinancials._get_datastore_keys\u001b[0;34m(self, sub_page, proxy)\u001b[0m\n\u001b[1;32m    163\u001b[0m \u001b[39mdef\u001b[39;00m \u001b[39m_get_datastore_keys\u001b[39m(\u001b[39mself\u001b[39m, sub_page, proxy) \u001b[39m-\u001b[39m\u001b[39m>\u001b[39m \u001b[39mlist\u001b[39m:\n\u001b[0;32m--> 164\u001b[0m     data_stores \u001b[39m=\u001b[39m \u001b[39mself\u001b[39;49m\u001b[39m.\u001b[39;49m_data\u001b[39m.\u001b[39;49mget_json_data_stores(sub_page, proxy)\n\u001b[1;32m    166\u001b[0m     \u001b[39m# Step 1: get the keys:\u001b[39;00m\n\u001b[1;32m    167\u001b[0m     \u001b[39mdef\u001b[39;00m \u001b[39m_finditem1\u001b[39m(key, obj):\n",
      "File \u001b[0;32m/Library/Frameworks/Python.framework/Versions/3.11/lib/python3.11/site-packages/yfinance/data.py:48\u001b[0m, in \u001b[0;36mlru_cache_freezeargs.<locals>.wrapped\u001b[0;34m(*args, **kwargs)\u001b[0m\n\u001b[1;32m     46\u001b[0m args \u001b[39m=\u001b[39m \u001b[39mtuple\u001b[39m([\u001b[39mtuple\u001b[39m(arg) \u001b[39mif\u001b[39;00m \u001b[39misinstance\u001b[39m(arg, \u001b[39mlist\u001b[39m) \u001b[39melse\u001b[39;00m arg \u001b[39mfor\u001b[39;00m arg \u001b[39min\u001b[39;00m args])\n\u001b[1;32m     47\u001b[0m kwargs \u001b[39m=\u001b[39m {k: \u001b[39mtuple\u001b[39m(v) \u001b[39mif\u001b[39;00m \u001b[39misinstance\u001b[39m(v, \u001b[39mlist\u001b[39m) \u001b[39melse\u001b[39;00m v \u001b[39mfor\u001b[39;00m k, v \u001b[39min\u001b[39;00m kwargs\u001b[39m.\u001b[39mitems()}\n\u001b[0;32m---> 48\u001b[0m \u001b[39mreturn\u001b[39;00m func(\u001b[39m*\u001b[39;49margs, \u001b[39m*\u001b[39;49m\u001b[39m*\u001b[39;49mkwargs)\n",
      "File \u001b[0;32m/Library/Frameworks/Python.framework/Versions/3.11/lib/python3.11/site-packages/yfinance/data.py:323\u001b[0m, in \u001b[0;36mTickerData.get_json_data_stores\u001b[0;34m(self, sub_page, proxy)\u001b[0m\n\u001b[1;32m    320\u001b[0m     keys \u001b[39m+\u001b[39m\u001b[39m=\u001b[39m response_gh\u001b[39m.\u001b[39mtext\u001b[39m.\u001b[39msplitlines()\n\u001b[1;32m    322\u001b[0m \u001b[39m# Decrypt!\u001b[39;00m\n\u001b[0;32m--> 323\u001b[0m stores \u001b[39m=\u001b[39m decrypt_cryptojs_aes_stores(data, keys)\n\u001b[1;32m    324\u001b[0m \u001b[39mif\u001b[39;00m stores \u001b[39mis\u001b[39;00m \u001b[39mNone\u001b[39;00m:\n\u001b[1;32m    325\u001b[0m     \u001b[39m# Maybe Yahoo returned old format, not encrypted\u001b[39;00m\n\u001b[1;32m    326\u001b[0m     \u001b[39mif\u001b[39;00m \u001b[39m\"\u001b[39m\u001b[39mcontext\u001b[39m\u001b[39m\"\u001b[39m \u001b[39min\u001b[39;00m data \u001b[39mand\u001b[39;00m \u001b[39m\"\u001b[39m\u001b[39mdispatcher\u001b[39m\u001b[39m\"\u001b[39m \u001b[39min\u001b[39;00m data[\u001b[39m\"\u001b[39m\u001b[39mcontext\u001b[39m\u001b[39m\"\u001b[39m]:\n",
      "File \u001b[0;32m/Library/Frameworks/Python.framework/Versions/3.11/lib/python3.11/site-packages/yfinance/data.py:169\u001b[0m, in \u001b[0;36mdecrypt_cryptojs_aes_stores\u001b[0;34m(data, keys)\u001b[0m\n\u001b[1;32m    167\u001b[0m             \u001b[39mpass\u001b[39;00m\n\u001b[1;32m    168\u001b[0m     \u001b[39mif\u001b[39;00m \u001b[39mnot\u001b[39;00m success:\n\u001b[0;32m--> 169\u001b[0m         \u001b[39mraise\u001b[39;00m \u001b[39mException\u001b[39;00m(\u001b[39m\"\u001b[39m\u001b[39myfinance failed to decrypt Yahoo data response\u001b[39m\u001b[39m\"\u001b[39m)\n\u001b[1;32m    171\u001b[0m decoded_stores \u001b[39m=\u001b[39m json\u001b[39m.\u001b[39mloads(plaintext)\n\u001b[1;32m    172\u001b[0m \u001b[39mreturn\u001b[39;00m decoded_stores\n",
      "\u001b[0;31mException\u001b[0m: yfinance failed to decrypt Yahoo data response"
     ]
    }
   ],
   "source": [
    "pnl = goog.financials\n",
    "bs = goog.balancesheet\n",
    "cf = goog.cashflow\n",
    "fs = pd.concat([pnl,bs,cf])\n",
    "fs"
   ]
  },
  {
   "cell_type": "code",
   "execution_count": 15,
   "id": "35af092b",
   "metadata": {},
   "outputs": [
    {
     "ename": "NameError",
     "evalue": "name 'fs' is not defined",
     "output_type": "error",
     "traceback": [
      "\u001b[0;31m---------------------------------------------------------------------------\u001b[0m",
      "\u001b[0;31mNameError\u001b[0m                                 Traceback (most recent call last)",
      "Cell \u001b[0;32mIn[15], line 1\u001b[0m\n\u001b[0;32m----> 1\u001b[0m fs\u001b[39m.\u001b[39mT\n",
      "\u001b[0;31mNameError\u001b[0m: name 'fs' is not defined"
     ]
    }
   ],
   "source": [
    "fs.T"
   ]
  },
  {
   "attachments": {},
   "cell_type": "markdown",
   "id": "608e2327",
   "metadata": {},
   "source": [
    "### Download Fundamentals for Multiple Tickers Using yfinance"
   ]
  },
  {
   "cell_type": "code",
   "execution_count": 16,
   "id": "f2456abc",
   "metadata": {},
   "outputs": [
    {
     "data": {
      "text/plain": [
       "['FB', 'AMZN', 'NFLX', 'GOOG']"
      ]
     },
     "execution_count": 16,
     "metadata": {},
     "output_type": "execute_result"
    }
   ],
   "source": [
    "tickers = ['FB','AMZN','NFLX','GOOG']\n",
    "tickers"
   ]
  },
  {
   "cell_type": "code",
   "execution_count": 17,
   "id": "4abab80a",
   "metadata": {},
   "outputs": [
    {
     "data": {
      "text/plain": [
       "[yfinance.Ticker object <FB>,\n",
       " yfinance.Ticker object <AMZN>,\n",
       " yfinance.Ticker object <NFLX>,\n",
       " yfinance.Ticker object <GOOG>]"
      ]
     },
     "execution_count": 17,
     "metadata": {},
     "output_type": "execute_result"
    }
   ],
   "source": [
    "tickers = [yf.Ticker(ticker) for ticker in tickers]\n",
    "tickers"
   ]
  },
  {
   "cell_type": "code",
   "execution_count": 18,
   "id": "9658023b",
   "metadata": {},
   "outputs": [
    {
     "name": "stderr",
     "output_type": "stream",
     "text": [
      "WARNING No decryption keys could be extracted from JS file. Falling back to backup decrypt methods.\n"
     ]
    },
    {
     "ename": "Exception",
     "evalue": "yfinance failed to decrypt Yahoo data response",
     "output_type": "error",
     "traceback": [
      "\u001b[0;31m---------------------------------------------------------------------------\u001b[0m",
      "\u001b[0;31mException\u001b[0m                                 Traceback (most recent call last)",
      "Cell \u001b[0;32mIn[18], line 4\u001b[0m\n\u001b[1;32m      1\u001b[0m dfs \u001b[39m=\u001b[39m [] \u001b[39m# list for each ticker's dataframe\u001b[39;00m\n\u001b[1;32m      2\u001b[0m \u001b[39mfor\u001b[39;00m ticker \u001b[39min\u001b[39;00m tickers:\n\u001b[1;32m      3\u001b[0m     \u001b[39m# get each financial statement\u001b[39;00m\n\u001b[0;32m----> 4\u001b[0m     pnl \u001b[39m=\u001b[39m ticker\u001b[39m.\u001b[39;49mfinancials\n\u001b[1;32m      5\u001b[0m     bs \u001b[39m=\u001b[39m ticker\u001b[39m.\u001b[39mbalancesheet\n\u001b[1;32m      6\u001b[0m     cf \u001b[39m=\u001b[39m ticker\u001b[39m.\u001b[39mcashflow\n",
      "File \u001b[0;32m/Library/Frameworks/Python.framework/Versions/3.11/lib/python3.11/site-packages/yfinance/ticker.py:174\u001b[0m, in \u001b[0;36mTicker.financials\u001b[0;34m(self)\u001b[0m\n\u001b[1;32m    172\u001b[0m \u001b[39m@property\u001b[39m\n\u001b[1;32m    173\u001b[0m \u001b[39mdef\u001b[39;00m \u001b[39mfinancials\u001b[39m(\u001b[39mself\u001b[39m) \u001b[39m-\u001b[39m\u001b[39m>\u001b[39m _pd\u001b[39m.\u001b[39mDataFrame:\n\u001b[0;32m--> 174\u001b[0m     \u001b[39mreturn\u001b[39;00m \u001b[39mself\u001b[39;49m\u001b[39m.\u001b[39;49mincome_stmt\n",
      "File \u001b[0;32m/Library/Frameworks/Python.framework/Versions/3.11/lib/python3.11/site-packages/yfinance/ticker.py:158\u001b[0m, in \u001b[0;36mTicker.income_stmt\u001b[0;34m(self)\u001b[0m\n\u001b[1;32m    156\u001b[0m \u001b[39m@property\u001b[39m\n\u001b[1;32m    157\u001b[0m \u001b[39mdef\u001b[39;00m \u001b[39mincome_stmt\u001b[39m(\u001b[39mself\u001b[39m) \u001b[39m-\u001b[39m\u001b[39m>\u001b[39m _pd\u001b[39m.\u001b[39mDataFrame:\n\u001b[0;32m--> 158\u001b[0m     \u001b[39mreturn\u001b[39;00m \u001b[39mself\u001b[39;49m\u001b[39m.\u001b[39;49mget_income_stmt(pretty\u001b[39m=\u001b[39;49m\u001b[39mTrue\u001b[39;49;00m)\n",
      "File \u001b[0;32m/Library/Frameworks/Python.framework/Versions/3.11/lib/python3.11/site-packages/yfinance/base.py:1211\u001b[0m, in \u001b[0;36mTickerBase.get_income_stmt\u001b[0;34m(self, proxy, as_dict, pretty, freq, legacy)\u001b[0m\n\u001b[1;32m   1209\u001b[0m     data \u001b[39m=\u001b[39m \u001b[39mself\u001b[39m\u001b[39m.\u001b[39m_fundamentals\u001b[39m.\u001b[39mfinancials\u001b[39m.\u001b[39mget_income_scrape(freq\u001b[39m=\u001b[39mfreq, proxy\u001b[39m=\u001b[39mproxy)\n\u001b[1;32m   1210\u001b[0m \u001b[39melse\u001b[39;00m:\n\u001b[0;32m-> 1211\u001b[0m     data \u001b[39m=\u001b[39m \u001b[39mself\u001b[39;49m\u001b[39m.\u001b[39;49m_fundamentals\u001b[39m.\u001b[39;49mfinancials\u001b[39m.\u001b[39;49mget_income_time_series(freq\u001b[39m=\u001b[39;49mfreq, proxy\u001b[39m=\u001b[39;49mproxy)\n\u001b[1;32m   1213\u001b[0m \u001b[39mif\u001b[39;00m pretty:\n\u001b[1;32m   1214\u001b[0m     data \u001b[39m=\u001b[39m data\u001b[39m.\u001b[39mcopy()\n",
      "File \u001b[0;32m/Library/Frameworks/Python.framework/Versions/3.11/lib/python3.11/site-packages/yfinance/scrapers/fundamentals.py:115\u001b[0m, in \u001b[0;36mFinancials.get_income_time_series\u001b[0;34m(self, freq, proxy)\u001b[0m\n\u001b[1;32m    113\u001b[0m res \u001b[39m=\u001b[39m \u001b[39mself\u001b[39m\u001b[39m.\u001b[39m_income_time_series\n\u001b[1;32m    114\u001b[0m \u001b[39mif\u001b[39;00m freq \u001b[39mnot\u001b[39;00m \u001b[39min\u001b[39;00m res:\n\u001b[0;32m--> 115\u001b[0m     res[freq] \u001b[39m=\u001b[39m \u001b[39mself\u001b[39;49m\u001b[39m.\u001b[39;49m_fetch_time_series(\u001b[39m\"\u001b[39;49m\u001b[39mincome\u001b[39;49m\u001b[39m\"\u001b[39;49m, freq, proxy\u001b[39m=\u001b[39;49m\u001b[39mNone\u001b[39;49;00m)\n\u001b[1;32m    116\u001b[0m \u001b[39mreturn\u001b[39;00m res[freq]\n",
      "File \u001b[0;32m/Library/Frameworks/Python.framework/Versions/3.11/lib/python3.11/site-packages/yfinance/scrapers/fundamentals.py:144\u001b[0m, in \u001b[0;36mFinancials._fetch_time_series\u001b[0;34m(self, name, timescale, proxy)\u001b[0m\n\u001b[1;32m    141\u001b[0m     \u001b[39mraise\u001b[39;00m \u001b[39mValueError\u001b[39;00m(\u001b[39m\"\u001b[39m\u001b[39mIllegal argument: timescale must be one of: \u001b[39m\u001b[39m{}\u001b[39;00m\u001b[39m\"\u001b[39m\u001b[39m.\u001b[39mformat(allowed_names))\n\u001b[1;32m    143\u001b[0m \u001b[39mtry\u001b[39;00m:\n\u001b[0;32m--> 144\u001b[0m     statement \u001b[39m=\u001b[39m \u001b[39mself\u001b[39;49m\u001b[39m.\u001b[39;49m_create_financials_table(name, timescale, proxy)\n\u001b[1;32m    146\u001b[0m     \u001b[39mif\u001b[39;00m statement \u001b[39mis\u001b[39;00m \u001b[39mnot\u001b[39;00m \u001b[39mNone\u001b[39;00m:\n\u001b[1;32m    147\u001b[0m         \u001b[39mreturn\u001b[39;00m statement\n",
      "File \u001b[0;32m/Library/Frameworks/Python.framework/Versions/3.11/lib/python3.11/site-packages/yfinance/scrapers/fundamentals.py:157\u001b[0m, in \u001b[0;36mFinancials._create_financials_table\u001b[0;34m(self, name, timescale, proxy)\u001b[0m\n\u001b[1;32m    153\u001b[0m \u001b[39mif\u001b[39;00m name \u001b[39m==\u001b[39m \u001b[39m\"\u001b[39m\u001b[39mincome\u001b[39m\u001b[39m\"\u001b[39m:\n\u001b[1;32m    154\u001b[0m     \u001b[39m# Yahoo stores the 'income' table internally under 'financials' key\u001b[39;00m\n\u001b[1;32m    155\u001b[0m     name \u001b[39m=\u001b[39m \u001b[39m\"\u001b[39m\u001b[39mfinancials\u001b[39m\u001b[39m\"\u001b[39m\n\u001b[0;32m--> 157\u001b[0m keys \u001b[39m=\u001b[39m \u001b[39mself\u001b[39;49m\u001b[39m.\u001b[39;49m_get_datastore_keys(name, proxy)\n\u001b[1;32m    158\u001b[0m \u001b[39mtry\u001b[39;00m:\n\u001b[1;32m    159\u001b[0m     \u001b[39mreturn\u001b[39;00m \u001b[39mself\u001b[39m\u001b[39m.\u001b[39mget_financials_time_series(timescale, keys, proxy)\n",
      "File \u001b[0;32m/Library/Frameworks/Python.framework/Versions/3.11/lib/python3.11/site-packages/yfinance/scrapers/fundamentals.py:164\u001b[0m, in \u001b[0;36mFinancials._get_datastore_keys\u001b[0;34m(self, sub_page, proxy)\u001b[0m\n\u001b[1;32m    163\u001b[0m \u001b[39mdef\u001b[39;00m \u001b[39m_get_datastore_keys\u001b[39m(\u001b[39mself\u001b[39m, sub_page, proxy) \u001b[39m-\u001b[39m\u001b[39m>\u001b[39m \u001b[39mlist\u001b[39m:\n\u001b[0;32m--> 164\u001b[0m     data_stores \u001b[39m=\u001b[39m \u001b[39mself\u001b[39;49m\u001b[39m.\u001b[39;49m_data\u001b[39m.\u001b[39;49mget_json_data_stores(sub_page, proxy)\n\u001b[1;32m    166\u001b[0m     \u001b[39m# Step 1: get the keys:\u001b[39;00m\n\u001b[1;32m    167\u001b[0m     \u001b[39mdef\u001b[39;00m \u001b[39m_finditem1\u001b[39m(key, obj):\n",
      "File \u001b[0;32m/Library/Frameworks/Python.framework/Versions/3.11/lib/python3.11/site-packages/yfinance/data.py:48\u001b[0m, in \u001b[0;36mlru_cache_freezeargs.<locals>.wrapped\u001b[0;34m(*args, **kwargs)\u001b[0m\n\u001b[1;32m     46\u001b[0m args \u001b[39m=\u001b[39m \u001b[39mtuple\u001b[39m([\u001b[39mtuple\u001b[39m(arg) \u001b[39mif\u001b[39;00m \u001b[39misinstance\u001b[39m(arg, \u001b[39mlist\u001b[39m) \u001b[39melse\u001b[39;00m arg \u001b[39mfor\u001b[39;00m arg \u001b[39min\u001b[39;00m args])\n\u001b[1;32m     47\u001b[0m kwargs \u001b[39m=\u001b[39m {k: \u001b[39mtuple\u001b[39m(v) \u001b[39mif\u001b[39;00m \u001b[39misinstance\u001b[39m(v, \u001b[39mlist\u001b[39m) \u001b[39melse\u001b[39;00m v \u001b[39mfor\u001b[39;00m k, v \u001b[39min\u001b[39;00m kwargs\u001b[39m.\u001b[39mitems()}\n\u001b[0;32m---> 48\u001b[0m \u001b[39mreturn\u001b[39;00m func(\u001b[39m*\u001b[39;49margs, \u001b[39m*\u001b[39;49m\u001b[39m*\u001b[39;49mkwargs)\n",
      "File \u001b[0;32m/Library/Frameworks/Python.framework/Versions/3.11/lib/python3.11/site-packages/yfinance/data.py:323\u001b[0m, in \u001b[0;36mTickerData.get_json_data_stores\u001b[0;34m(self, sub_page, proxy)\u001b[0m\n\u001b[1;32m    320\u001b[0m     keys \u001b[39m+\u001b[39m\u001b[39m=\u001b[39m response_gh\u001b[39m.\u001b[39mtext\u001b[39m.\u001b[39msplitlines()\n\u001b[1;32m    322\u001b[0m \u001b[39m# Decrypt!\u001b[39;00m\n\u001b[0;32m--> 323\u001b[0m stores \u001b[39m=\u001b[39m decrypt_cryptojs_aes_stores(data, keys)\n\u001b[1;32m    324\u001b[0m \u001b[39mif\u001b[39;00m stores \u001b[39mis\u001b[39;00m \u001b[39mNone\u001b[39;00m:\n\u001b[1;32m    325\u001b[0m     \u001b[39m# Maybe Yahoo returned old format, not encrypted\u001b[39;00m\n\u001b[1;32m    326\u001b[0m     \u001b[39mif\u001b[39;00m \u001b[39m\"\u001b[39m\u001b[39mcontext\u001b[39m\u001b[39m\"\u001b[39m \u001b[39min\u001b[39;00m data \u001b[39mand\u001b[39;00m \u001b[39m\"\u001b[39m\u001b[39mdispatcher\u001b[39m\u001b[39m\"\u001b[39m \u001b[39min\u001b[39;00m data[\u001b[39m\"\u001b[39m\u001b[39mcontext\u001b[39m\u001b[39m\"\u001b[39m]:\n",
      "File \u001b[0;32m/Library/Frameworks/Python.framework/Versions/3.11/lib/python3.11/site-packages/yfinance/data.py:169\u001b[0m, in \u001b[0;36mdecrypt_cryptojs_aes_stores\u001b[0;34m(data, keys)\u001b[0m\n\u001b[1;32m    167\u001b[0m             \u001b[39mpass\u001b[39;00m\n\u001b[1;32m    168\u001b[0m     \u001b[39mif\u001b[39;00m \u001b[39mnot\u0